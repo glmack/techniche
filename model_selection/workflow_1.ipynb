{
 "cells": [
  {
   "cell_type": "markdown",
   "metadata": {},
   "source": [
    "## Techniche - Topic Modelling"
   ]
  },
  {
   "cell_type": "code",
   "execution_count": 1,
   "metadata": {},
   "outputs": [
    {
     "name": "stderr",
     "output_type": "stream",
     "text": [
      "/anaconda3/lib/python3.6/site-packages/smart_open/ssh.py:34: UserWarning: paramiko missing, opening SSH/SCP/SFTP paths will be disabled.  `pip install paramiko` to suppress\n",
      "  warnings.warn('paramiko missing, opening SSH/SCP/SFTP paths will be disabled.  `pip install paramiko` to suppress')\n"
     ]
    }
   ],
   "source": [
    "import pandas as pd\n",
    "import numpy as np\n",
    "\n",
    "import gensim\n",
    "import gensim.corpora as corpora\n",
    "from gensim.corpora import mmcorpus\n",
    "from gensim.utils import simple_preprocess\n",
    "from gensim.models import CoherenceModel\n",
    "from gensim.models.phrases import Phrases, Phraser\n",
    "from gensim.models.ldamodel import LdaModel\n",
    "from gensim.models import AuthorTopicModel, atmodel\n",
    "from gensim.test.utils import common_dictionary, datapath, temporary_file\n",
    "from smart_open import smart_open\n",
    "\n",
    "import spacy\n",
    "from spacy.lemmatizer import Lemmatizer\n",
    "from spacy.lang.en import LEMMA_INDEX, LEMMA_EXC, LEMMA_RULES\n",
    "\n",
    "import nltk\n",
    "from nltk.corpus import stopwords\n",
    "from nltk.tokenize import word_tokenize, punkt, RegexpTokenizer, wordpunct_tokenize\n",
    "from nltk.stem import PorterStemmer, LancasterStemmer, WordNetLemmatizer\n",
    "\n",
    "import json\n",
    "from pandas.io.json import json_normalize\n",
    "import requests\n",
    "import re\n",
    "import os\n",
    "import calendar\n",
    "import sys\n",
    "\n",
    "from test_model import tokenize_docs, clean_docs, lower_words, remove_stopwords#, (TODO) Lee convert_bytes\n",
    "\n",
    "from smart_open import smart_open\n",
    "\n",
    "import matplotlib.pyplot as plt\n",
    "import pyLDAvis\n",
    "import pyLDAvis.gensim\n",
    "\n",
    "from pprint import pprint\n",
    "\n",
    "import pyspark\n",
    "import pyspark.sql.functions as F"
   ]
  },
  {
   "cell_type": "code",
   "execution_count": 2,
   "metadata": {},
   "outputs": [],
   "source": [
    "%load_ext autoreload\n",
    "\n",
    "# pd.set_option('display.max_colwidth', -1)\n",
    "pd.options.display.max_columns = 10\n",
    "pd.set_option('display.max_rows', 10)"
   ]
  },
  {
   "cell_type": "code",
   "execution_count": null,
   "metadata": {},
   "outputs": [],
   "source": []
  },
  {
   "cell_type": "code",
   "execution_count": 2,
   "metadata": {},
   "outputs": [],
   "source": [
    "np.random.seed(3)"
   ]
  },
  {
   "cell_type": "code",
   "execution_count": null,
   "metadata": {},
   "outputs": [],
   "source": [
    "# uncomment to download stop words from nltk and language package from spacy\n",
    "# nltk.download('stopwords')\n",
    "# nltk.download('punkt')\n",
    "# !python -m spacy download en"
   ]
  },
  {
   "cell_type": "markdown",
   "metadata": {},
   "source": [
    "### Import Data"
   ]
  },
  {
   "cell_type": "markdown",
   "metadata": {},
   "source": [
    "#### Import data from PatentsView API"
   ]
  },
  {
   "cell_type": "code",
   "execution_count": 5,
   "metadata": {},
   "outputs": [],
   "source": [
    "# patents endpoint\n",
    "endpoint_url = 'http://www.patentsview.org/api/patents/query'\n",
    "\n",
    "# build list of possible fields that endpoint request will return\n",
    "df = pd.read_excel(\"/Users/lee/Documents/techniche/techniche/data/patents_view_patents_fields.xlsx\")\n",
    "df.columns = df.columns.str.strip().str.lower().str.replace(' ', '_').str.replace('(', '').str.replace(')', '')\n",
    "pat_fields = df.api_field_name.values.tolist()"
   ]
  },
  {
   "cell_type": "markdown",
   "metadata": {},
   "source": [
    "#### Import initial dataset"
   ]
  },
  {
   "cell_type": "code",
   "execution_count": 6,
   "metadata": {},
   "outputs": [
    {
     "name": "stdout",
     "output_type": "stream",
     "text": [
      "status: 200\n",
      "patents on current page: 2482 ; total patents: 2482\n"
     ]
    }
   ],
   "source": [
    "# build query - initial small dataset\n",
    "query={\"_or\":[{\"_text_phrase\":{\"patent_title\":\"natural language\"}},{\"_text_phrase\":{\"patent_abstract\":\"natural language\"}}]}\n",
    "# uncomment to use alternate query options\n",
    "# query={\"cpc_subgroup_id\":\"G06T3/4046\"}\n",
    "# query = {\"_and\":[{\"_gte\":{\"patent_date\":\"2017-01-01\"}},{\"_lte\":{\"patent_date\":\"2017-01-31\"}}]}\n",
    "# query={\"_and\":\n",
    "#         [{\"_or\":\n",
    "#             [{\"_text_phrase\":{\"patent_title\":\"natural language\"}}\n",
    "#             ,{\"_text_phrase\":{\"patent_abstract\":\"natural language\"}}]}\n",
    "#         ,{\"_and\":\n",
    "#       [{\"patent_year\":2016}]}]} \n",
    "# query = {\"_and\":[{\"_gte\":{\"patent_date\":\"2017-01-01\"}},{\"_lte\":{\"patent_date\":\"2017-01-31\"}}]}\n",
    "fields=pat_fields\n",
    "options={\"per_page\":2500}\n",
    "sort=[{\"patent_date\":\"desc\"}]\n",
    "\n",
    "params={'q': json.dumps(query),\n",
    "        'f': json.dumps(fields),\n",
    "        'o': json.dumps(options),\n",
    "        's': json.dumps(sort)}\n",
    "\n",
    "# request and results\n",
    "response = requests.get(endpoint_url, params=params)\n",
    "status = response.status_code\n",
    "print(\"status:\", status)\n",
    "results = response.json()\n",
    "count = results.get(\"count\")\n",
    "total_pats = results.get(\"total_patent_count\")\n",
    "print(\"patents on current page:\",count,';', \"total patents:\",total_pats)"
   ]
  },
  {
   "cell_type": "markdown",
   "metadata": {},
   "source": [
    "#### Structure data"
   ]
  },
  {
   "cell_type": "code",
   "execution_count": 7,
   "metadata": {
    "scrolled": true
   },
   "outputs": [
    {
     "name": "stdout",
     "output_type": "stream",
     "text": [
      "status code: 200 ; reason: OK\n",
      "total_patent_count: 2482 ; patents_per_page: 2482\n"
     ]
    },
    {
     "data": {
      "text/html": [
       "<div>\n",
       "<style scoped>\n",
       "    .dataframe tbody tr th:only-of-type {\n",
       "        vertical-align: middle;\n",
       "    }\n",
       "\n",
       "    .dataframe tbody tr th {\n",
       "        vertical-align: top;\n",
       "    }\n",
       "\n",
       "    .dataframe thead th {\n",
       "        text-align: right;\n",
       "    }\n",
       "</style>\n",
       "<table border=\"1\" class=\"dataframe\">\n",
       "  <thead>\n",
       "    <tr style=\"text-align: right;\">\n",
       "      <th></th>\n",
       "      <th>IPCs</th>\n",
       "      <th>application_citations</th>\n",
       "      <th>applications</th>\n",
       "      <th>assignees</th>\n",
       "      <th>cited_patents</th>\n",
       "      <th>...</th>\n",
       "      <th>patent_year</th>\n",
       "      <th>pct_data</th>\n",
       "      <th>rawinventors</th>\n",
       "      <th>uspcs</th>\n",
       "      <th>wipos</th>\n",
       "    </tr>\n",
       "  </thead>\n",
       "  <tbody>\n",
       "    <tr>\n",
       "      <th>0</th>\n",
       "      <td>[{'ipc_action_date': '2019-03-12', 'ipc_class'...</td>\n",
       "      <td>[{'appcit_app_number': '2002/20020077823', 'ap...</td>\n",
       "      <td>[{'app_country': 'US', 'app_date': '2013-07-26...</td>\n",
       "      <td>[{'assignee_city': 'Burlington', 'assignee_cou...</td>\n",
       "      <td>[{'cited_patent_category': 'cited by examiner'...</td>\n",
       "      <td>...</td>\n",
       "      <td>2019</td>\n",
       "      <td>[{'pct_102_date': None, 'pct_371_date': None, ...</td>\n",
       "      <td>[{'rawinventor_first_name': 'Jeffrey N.', 'raw...</td>\n",
       "      <td>[{'uspc_first_seen_date': None, 'uspc_last_see...</td>\n",
       "      <td>[{'wipo_field_id': None, 'wipo_field_title': N...</td>\n",
       "    </tr>\n",
       "    <tr>\n",
       "      <th>1</th>\n",
       "      <td>[{'ipc_action_date': '2019-03-12', 'ipc_class'...</td>\n",
       "      <td>[{'appcit_app_number': '2002/20020138265', 'ap...</td>\n",
       "      <td>[{'app_country': 'US', 'app_date': '2017-09-11...</td>\n",
       "      <td>[{'assignee_city': 'Mountain View', 'assignee_...</td>\n",
       "      <td>[{'cited_patent_category': 'cited by applicant...</td>\n",
       "      <td>...</td>\n",
       "      <td>2019</td>\n",
       "      <td>[{'pct_102_date': None, 'pct_371_date': None, ...</td>\n",
       "      <td>[{'rawinventor_first_name': 'Evgeny A.', 'rawi...</td>\n",
       "      <td>[{'uspc_first_seen_date': None, 'uspc_last_see...</td>\n",
       "      <td>[{'wipo_field_id': None, 'wipo_field_title': N...</td>\n",
       "    </tr>\n",
       "    <tr>\n",
       "      <th>2</th>\n",
       "      <td>[{'ipc_action_date': '2019-03-12', 'ipc_class'...</td>\n",
       "      <td>[{'appcit_app_number': '2001/20010029455', 'ap...</td>\n",
       "      <td>[{'app_country': 'US', 'app_date': '2016-09-28...</td>\n",
       "      <td>[{'assignee_city': 'Seattle', 'assignee_countr...</td>\n",
       "      <td>[{'cited_patent_category': 'cited by applicant...</td>\n",
       "      <td>...</td>\n",
       "      <td>2019</td>\n",
       "      <td>[{'pct_102_date': None, 'pct_371_date': None, ...</td>\n",
       "      <td>[{'rawinventor_first_name': 'Thibault Pierre',...</td>\n",
       "      <td>[{'uspc_first_seen_date': None, 'uspc_last_see...</td>\n",
       "      <td>[{'wipo_field_id': None, 'wipo_field_title': N...</td>\n",
       "    </tr>\n",
       "  </tbody>\n",
       "</table>\n",
       "<p>3 rows × 47 columns</p>\n",
       "</div>"
      ],
      "text/plain": [
       "                                                IPCs  \\\n",
       "0  [{'ipc_action_date': '2019-03-12', 'ipc_class'...   \n",
       "1  [{'ipc_action_date': '2019-03-12', 'ipc_class'...   \n",
       "2  [{'ipc_action_date': '2019-03-12', 'ipc_class'...   \n",
       "\n",
       "                               application_citations  \\\n",
       "0  [{'appcit_app_number': '2002/20020077823', 'ap...   \n",
       "1  [{'appcit_app_number': '2002/20020138265', 'ap...   \n",
       "2  [{'appcit_app_number': '2001/20010029455', 'ap...   \n",
       "\n",
       "                                        applications  \\\n",
       "0  [{'app_country': 'US', 'app_date': '2013-07-26...   \n",
       "1  [{'app_country': 'US', 'app_date': '2017-09-11...   \n",
       "2  [{'app_country': 'US', 'app_date': '2016-09-28...   \n",
       "\n",
       "                                           assignees  \\\n",
       "0  [{'assignee_city': 'Burlington', 'assignee_cou...   \n",
       "1  [{'assignee_city': 'Mountain View', 'assignee_...   \n",
       "2  [{'assignee_city': 'Seattle', 'assignee_countr...   \n",
       "\n",
       "                                       cited_patents  \\\n",
       "0  [{'cited_patent_category': 'cited by examiner'...   \n",
       "1  [{'cited_patent_category': 'cited by applicant...   \n",
       "2  [{'cited_patent_category': 'cited by applicant...   \n",
       "\n",
       "                         ...                         patent_year  \\\n",
       "0                        ...                                2019   \n",
       "1                        ...                                2019   \n",
       "2                        ...                                2019   \n",
       "\n",
       "                                            pct_data  \\\n",
       "0  [{'pct_102_date': None, 'pct_371_date': None, ...   \n",
       "1  [{'pct_102_date': None, 'pct_371_date': None, ...   \n",
       "2  [{'pct_102_date': None, 'pct_371_date': None, ...   \n",
       "\n",
       "                                        rawinventors  \\\n",
       "0  [{'rawinventor_first_name': 'Jeffrey N.', 'raw...   \n",
       "1  [{'rawinventor_first_name': 'Evgeny A.', 'rawi...   \n",
       "2  [{'rawinventor_first_name': 'Thibault Pierre',...   \n",
       "\n",
       "                                               uspcs  \\\n",
       "0  [{'uspc_first_seen_date': None, 'uspc_last_see...   \n",
       "1  [{'uspc_first_seen_date': None, 'uspc_last_see...   \n",
       "2  [{'uspc_first_seen_date': None, 'uspc_last_see...   \n",
       "\n",
       "                                               wipos  \n",
       "0  [{'wipo_field_id': None, 'wipo_field_title': N...  \n",
       "1  [{'wipo_field_id': None, 'wipo_field_title': N...  \n",
       "2  [{'wipo_field_id': None, 'wipo_field_title': N...  \n",
       "\n",
       "[3 rows x 47 columns]"
      ]
     },
     "execution_count": 7,
     "metadata": {},
     "output_type": "execute_result"
    }
   ],
   "source": [
    "# extract metadata from response\n",
    "print(\"status code:\", response.status_code,';', \"reason:\", response.reason)\n",
    "total_patent_count = results[\"total_patent_count\"]\n",
    "patents_per_page = results['count']\n",
    "print(\"total_patent_count:\",total_patent_count,';', \"patents_per_page:\", patents_per_page)\n",
    "\n",
    "# extract data from response\n",
    "data_resp = results['patents']\n",
    "# data_resp[0]\n",
    "\n",
    "raw_df = pd.DataFrame(data_resp)\n",
    "raw_df.head(3)"
   ]
  },
  {
   "cell_type": "markdown",
   "metadata": {},
   "source": [
    "#### Subset dataframe"
   ]
  },
  {
   "cell_type": "code",
   "execution_count": 8,
   "metadata": {},
   "outputs": [
    {
     "data": {
      "text/html": [
       "<div>\n",
       "<style scoped>\n",
       "    .dataframe tbody tr th:only-of-type {\n",
       "        vertical-align: middle;\n",
       "    }\n",
       "\n",
       "    .dataframe tbody tr th {\n",
       "        vertical-align: top;\n",
       "    }\n",
       "\n",
       "    .dataframe thead th {\n",
       "        text-align: right;\n",
       "    }\n",
       "</style>\n",
       "<table border=\"1\" class=\"dataframe\">\n",
       "  <thead>\n",
       "    <tr style=\"text-align: right;\">\n",
       "      <th></th>\n",
       "      <th>patent_number</th>\n",
       "      <th>patent_date</th>\n",
       "      <th>patent_title</th>\n",
       "      <th>patent_abstract</th>\n",
       "      <th>patent_firstnamed_assignee_id</th>\n",
       "      <th>...</th>\n",
       "      <th>patent_firstnamed_inventor_country</th>\n",
       "      <th>patent_year</th>\n",
       "      <th>patent_type</th>\n",
       "      <th>patent_kind</th>\n",
       "      <th>inventors</th>\n",
       "    </tr>\n",
       "  </thead>\n",
       "  <tbody>\n",
       "    <tr>\n",
       "      <th>0</th>\n",
       "      <td>10229106</td>\n",
       "      <td>2019-03-12</td>\n",
       "      <td>Initializing a workspace for building a natura...</td>\n",
       "      <td>Designing a natural language understanding (NL...</td>\n",
       "      <td>org_ID497r4tFbCIaMBjGAST</td>\n",
       "      <td>...</td>\n",
       "      <td>US</td>\n",
       "      <td>2019</td>\n",
       "      <td>utility</td>\n",
       "      <td>B2</td>\n",
       "      <td>[{'inventor_city': 'Newton', 'inventor_country...</td>\n",
       "    </tr>\n",
       "    <tr>\n",
       "      <th>1</th>\n",
       "      <td>10229109</td>\n",
       "      <td>2019-03-12</td>\n",
       "      <td>Allowing spelling of arbitrary words</td>\n",
       "      <td>Methods, systems, and apparatus, including com...</td>\n",
       "      <td>org_p6ofWD2xFNSnyYkj6wpA</td>\n",
       "      <td>...</td>\n",
       "      <td>CH</td>\n",
       "      <td>2019</td>\n",
       "      <td>utility</td>\n",
       "      <td>B1</td>\n",
       "      <td>[{'inventor_city': 'Adliswil', 'inventor_count...</td>\n",
       "    </tr>\n",
       "    <tr>\n",
       "      <th>2</th>\n",
       "      <td>10229113</td>\n",
       "      <td>2019-03-12</td>\n",
       "      <td>Leveraging content dimensions during the trans...</td>\n",
       "      <td>A content management system (CMS) and a transl...</td>\n",
       "      <td>org_Vbc6obpnxWM42d0HjlXY</td>\n",
       "      <td>...</td>\n",
       "      <td>US</td>\n",
       "      <td>2019</td>\n",
       "      <td>utility</td>\n",
       "      <td>B1</td>\n",
       "      <td>[{'inventor_city': 'Seattle', 'inventor_countr...</td>\n",
       "    </tr>\n",
       "  </tbody>\n",
       "</table>\n",
       "<p>3 rows × 22 columns</p>\n",
       "</div>"
      ],
      "text/plain": [
       "  patent_number patent_date  \\\n",
       "0      10229106  2019-03-12   \n",
       "1      10229109  2019-03-12   \n",
       "2      10229113  2019-03-12   \n",
       "\n",
       "                                        patent_title  \\\n",
       "0  Initializing a workspace for building a natura...   \n",
       "1               Allowing spelling of arbitrary words   \n",
       "2  Leveraging content dimensions during the trans...   \n",
       "\n",
       "                                     patent_abstract  \\\n",
       "0  Designing a natural language understanding (NL...   \n",
       "1  Methods, systems, and apparatus, including com...   \n",
       "2  A content management system (CMS) and a transl...   \n",
       "\n",
       "  patent_firstnamed_assignee_id  \\\n",
       "0      org_ID497r4tFbCIaMBjGAST   \n",
       "1      org_p6ofWD2xFNSnyYkj6wpA   \n",
       "2      org_Vbc6obpnxWM42d0HjlXY   \n",
       "\n",
       "                         ...                          \\\n",
       "0                        ...                           \n",
       "1                        ...                           \n",
       "2                        ...                           \n",
       "\n",
       "  patent_firstnamed_inventor_country patent_year patent_type patent_kind  \\\n",
       "0                                 US        2019     utility          B2   \n",
       "1                                 CH        2019     utility          B1   \n",
       "2                                 US        2019     utility          B1   \n",
       "\n",
       "                                           inventors  \n",
       "0  [{'inventor_city': 'Newton', 'inventor_country...  \n",
       "1  [{'inventor_city': 'Adliswil', 'inventor_count...  \n",
       "2  [{'inventor_city': 'Seattle', 'inventor_countr...  \n",
       "\n",
       "[3 rows x 22 columns]"
      ]
     },
     "execution_count": 8,
     "metadata": {},
     "output_type": "execute_result"
    }
   ],
   "source": [
    "# subset dataframe - comment/uncomment to include fields\n",
    "df = raw_df[['patent_number', \n",
    "         'patent_date', \n",
    "         'patent_title',\n",
    "         'patent_abstract', \n",
    "         'patent_firstnamed_assignee_id',\n",
    "         'patent_firstnamed_assignee_location_id',\n",
    "         'patent_firstnamed_assignee_latitude',\n",
    "         'patent_firstnamed_assignee_longitude',\n",
    "         'patent_firstnamed_assignee_city',\n",
    "         'patent_firstnamed_assignee_state',\n",
    "         'patent_firstnamed_assignee_country', \n",
    "         'patent_firstnamed_inventor_id',\n",
    "         'patent_firstnamed_inventor_location_id',\n",
    "         'patent_firstnamed_inventor_latitude',\n",
    "         'patent_firstnamed_inventor_longitude',\n",
    "         'patent_firstnamed_inventor_city',\n",
    "         'patent_firstnamed_inventor_state',\n",
    "         'patent_firstnamed_inventor_country',\n",
    "         'patent_year', \n",
    "         'patent_type', \n",
    "         'patent_kind',\n",
    "         'inventors'\n",
    "            ]]\n",
    "df.head(3)"
   ]
  },
  {
   "cell_type": "markdown",
   "metadata": {},
   "source": [
    "#### Explore data"
   ]
  },
  {
   "cell_type": "code",
   "execution_count": 11,
   "metadata": {},
   "outputs": [
    {
     "data": {
      "text/plain": [
       "561"
      ]
     },
     "execution_count": 11,
     "metadata": {},
     "output_type": "execute_result"
    }
   ],
   "source": [
    "# 561 different assignees\n",
    "len(df.patent_firstnamed_assignee_id.unique())"
   ]
  },
  {
   "cell_type": "markdown",
   "metadata": {},
   "source": [
    "#### Create new column"
   ]
  },
  {
   "cell_type": "code",
   "execution_count": 12,
   "metadata": {},
   "outputs": [
    {
     "name": "stderr",
     "output_type": "stream",
     "text": [
      "/anaconda3/lib/python3.6/site-packages/ipykernel_launcher.py:2: SettingWithCopyWarning: \n",
      "A value is trying to be set on a copy of a slice from a DataFrame.\n",
      "Try using .loc[row_indexer,col_indexer] = value instead\n",
      "\n",
      "See the caveats in the documentation: http://pandas.pydata.org/pandas-docs/stable/indexing.html#indexing-view-versus-copy\n",
      "  \n"
     ]
    },
    {
     "data": {
      "text/plain": [
       "0    Initializing a workspace for building a natura...\n",
       "1    Allowing spelling of arbitrary words Methods, ...\n",
       "2    Leveraging content dimensions during the trans...\n",
       "Name: patent_title_abstract, dtype: object"
      ]
     },
     "execution_count": 12,
     "metadata": {},
     "output_type": "execute_result"
    }
   ],
   "source": [
    "# create new column that combines the patent title and the patent abstract columns into a single string\n",
    "df['patent_title_abstract'] = df.patent_title + ' ' + df.patent_abstract\n",
    "df.patent_title_abstract.head(3)"
   ]
  },
  {
   "cell_type": "code",
   "execution_count": 13,
   "metadata": {},
   "outputs": [
    {
     "data": {
      "text/html": [
       "<div>\n",
       "<style scoped>\n",
       "    .dataframe tbody tr th:only-of-type {\n",
       "        vertical-align: middle;\n",
       "    }\n",
       "\n",
       "    .dataframe tbody tr th {\n",
       "        vertical-align: top;\n",
       "    }\n",
       "\n",
       "    .dataframe thead th {\n",
       "        text-align: right;\n",
       "    }\n",
       "</style>\n",
       "<table border=\"1\" class=\"dataframe\">\n",
       "  <thead>\n",
       "    <tr style=\"text-align: right;\">\n",
       "      <th></th>\n",
       "      <th>patent_number</th>\n",
       "      <th>patent_date</th>\n",
       "      <th>patent_title</th>\n",
       "      <th>patent_abstract</th>\n",
       "      <th>patent_firstnamed_assignee_id</th>\n",
       "      <th>...</th>\n",
       "      <th>patent_year</th>\n",
       "      <th>patent_type</th>\n",
       "      <th>patent_kind</th>\n",
       "      <th>inventors</th>\n",
       "      <th>patent_title_abstract</th>\n",
       "    </tr>\n",
       "  </thead>\n",
       "  <tbody>\n",
       "    <tr>\n",
       "      <th>2481</th>\n",
       "      <td>3980994</td>\n",
       "      <td>1976-09-14</td>\n",
       "      <td>Text editing and display system having text in...</td>\n",
       "      <td>A natural language text editing and display sy...</td>\n",
       "      <td>org_1UVZxxNbuUPJkuDfvvpa</td>\n",
       "      <td>...</td>\n",
       "      <td>1976</td>\n",
       "      <td>utility</td>\n",
       "      <td>A</td>\n",
       "      <td>[{'inventor_city': 'Andover', 'inventor_countr...</td>\n",
       "      <td>Text editing and display system having text in...</td>\n",
       "    </tr>\n",
       "    <tr>\n",
       "      <th>2480</th>\n",
       "      <td>4057849</td>\n",
       "      <td>1977-11-08</td>\n",
       "      <td>Text editing and display system</td>\n",
       "      <td>A text-editing and display system for editing ...</td>\n",
       "      <td>org_1UVZxxNbuUPJkuDfvvpa</td>\n",
       "      <td>...</td>\n",
       "      <td>1977</td>\n",
       "      <td>utility</td>\n",
       "      <td>A</td>\n",
       "      <td>[{'inventor_city': 'Andover', 'inventor_countr...</td>\n",
       "      <td>Text editing and display system A text-editing...</td>\n",
       "    </tr>\n",
       "    <tr>\n",
       "      <th>2479</th>\n",
       "      <td>4502128</td>\n",
       "      <td>1985-02-26</td>\n",
       "      <td>Translation between natural languages</td>\n",
       "      <td>An input sentence described by a first natural...</td>\n",
       "      <td>org_70D1lR89kQnFiCFdJ6s5</td>\n",
       "      <td>...</td>\n",
       "      <td>1985</td>\n",
       "      <td>utility</td>\n",
       "      <td>A</td>\n",
       "      <td>[{'inventor_city': 'Yokohama', 'inventor_count...</td>\n",
       "      <td>Translation between natural languages An input...</td>\n",
       "    </tr>\n",
       "    <tr>\n",
       "      <th>2478</th>\n",
       "      <td>4586160</td>\n",
       "      <td>1986-04-29</td>\n",
       "      <td>Method and apparatus for analyzing the syntact...</td>\n",
       "      <td>An automatic syntax analyzing method is applie...</td>\n",
       "      <td>org_hDziASDpeFilN1JsnVK0</td>\n",
       "      <td>...</td>\n",
       "      <td>1986</td>\n",
       "      <td>utility</td>\n",
       "      <td>A</td>\n",
       "      <td>[{'inventor_city': 'Yokohama', 'inventor_count...</td>\n",
       "      <td>Method and apparatus for analyzing the syntact...</td>\n",
       "    </tr>\n",
       "    <tr>\n",
       "      <th>2477</th>\n",
       "      <td>4599612</td>\n",
       "      <td>1986-07-08</td>\n",
       "      <td>Displaying and correcting method for machine t...</td>\n",
       "      <td>In a system wherein a first text in a first na...</td>\n",
       "      <td>org_70D1lR89kQnFiCFdJ6s5</td>\n",
       "      <td>...</td>\n",
       "      <td>1986</td>\n",
       "      <td>utility</td>\n",
       "      <td>A</td>\n",
       "      <td>[{'inventor_city': 'Fujisawa', 'inventor_count...</td>\n",
       "      <td>Displaying and correcting method for machine t...</td>\n",
       "    </tr>\n",
       "    <tr>\n",
       "      <th>...</th>\n",
       "      <td>...</td>\n",
       "      <td>...</td>\n",
       "      <td>...</td>\n",
       "      <td>...</td>\n",
       "      <td>...</td>\n",
       "      <td>...</td>\n",
       "      <td>...</td>\n",
       "      <td>...</td>\n",
       "      <td>...</td>\n",
       "      <td>...</td>\n",
       "      <td>...</td>\n",
       "    </tr>\n",
       "    <tr>\n",
       "      <th>11</th>\n",
       "      <td>10229687</td>\n",
       "      <td>2019-03-12</td>\n",
       "      <td>Scalable endpoint-dependent natural language u...</td>\n",
       "      <td>A computer-implemented technique is described ...</td>\n",
       "      <td>org_EilEWQcC6UiqHcSGx9mb</td>\n",
       "      <td>...</td>\n",
       "      <td>2019</td>\n",
       "      <td>utility</td>\n",
       "      <td>B2</td>\n",
       "      <td>[{'inventor_city': 'Sammamish', 'inventor_coun...</td>\n",
       "      <td>Scalable endpoint-dependent natural language u...</td>\n",
       "    </tr>\n",
       "    <tr>\n",
       "      <th>12</th>\n",
       "      <td>10230677</td>\n",
       "      <td>2019-03-12</td>\n",
       "      <td>Identifying an entity associated with an onlin...</td>\n",
       "      <td>An approach is described for identifying an en...</td>\n",
       "      <td>org_q9Bn28RHhpYrQjKvraAH</td>\n",
       "      <td>...</td>\n",
       "      <td>2019</td>\n",
       "      <td>utility</td>\n",
       "      <td>B2</td>\n",
       "      <td>[{'inventor_city': 'Sewickley', 'inventor_coun...</td>\n",
       "      <td>Identifying an entity associated with an onlin...</td>\n",
       "    </tr>\n",
       "    <tr>\n",
       "      <th>13</th>\n",
       "      <td>10230680</td>\n",
       "      <td>2019-03-12</td>\n",
       "      <td>Intelligently splitting text in messages poste...</td>\n",
       "      <td>A method, system and computer program product ...</td>\n",
       "      <td>org_q9Bn28RHhpYrQjKvraAH</td>\n",
       "      <td>...</td>\n",
       "      <td>2019</td>\n",
       "      <td>utility</td>\n",
       "      <td>B2</td>\n",
       "      <td>[{'inventor_city': 'Shanghai', 'inventor_count...</td>\n",
       "      <td>Intelligently splitting text in messages poste...</td>\n",
       "    </tr>\n",
       "    <tr>\n",
       "      <th>7</th>\n",
       "      <td>10229673</td>\n",
       "      <td>2019-03-12</td>\n",
       "      <td>System and method for providing follow-up resp...</td>\n",
       "      <td>In certain implementations, follow-up response...</td>\n",
       "      <td>org_9D8x1qL3IRASp6GG7Glu</td>\n",
       "      <td>...</td>\n",
       "      <td>2019</td>\n",
       "      <td>utility</td>\n",
       "      <td>B2</td>\n",
       "      <td>[{'inventor_city': 'Bellevue', 'inventor_count...</td>\n",
       "      <td>System and method for providing follow-up resp...</td>\n",
       "    </tr>\n",
       "    <tr>\n",
       "      <th>0</th>\n",
       "      <td>10229106</td>\n",
       "      <td>2019-03-12</td>\n",
       "      <td>Initializing a workspace for building a natura...</td>\n",
       "      <td>Designing a natural language understanding (NL...</td>\n",
       "      <td>org_ID497r4tFbCIaMBjGAST</td>\n",
       "      <td>...</td>\n",
       "      <td>2019</td>\n",
       "      <td>utility</td>\n",
       "      <td>B2</td>\n",
       "      <td>[{'inventor_city': 'Newton', 'inventor_country...</td>\n",
       "      <td>Initializing a workspace for building a natura...</td>\n",
       "    </tr>\n",
       "  </tbody>\n",
       "</table>\n",
       "<p>2482 rows × 23 columns</p>\n",
       "</div>"
      ],
      "text/plain": [
       "     patent_number patent_date  \\\n",
       "2481       3980994  1976-09-14   \n",
       "2480       4057849  1977-11-08   \n",
       "2479       4502128  1985-02-26   \n",
       "2478       4586160  1986-04-29   \n",
       "2477       4599612  1986-07-08   \n",
       "...            ...         ...   \n",
       "11        10229687  2019-03-12   \n",
       "12        10230677  2019-03-12   \n",
       "13        10230680  2019-03-12   \n",
       "7         10229673  2019-03-12   \n",
       "0         10229106  2019-03-12   \n",
       "\n",
       "                                           patent_title  \\\n",
       "2481  Text editing and display system having text in...   \n",
       "2480                    Text editing and display system   \n",
       "2479              Translation between natural languages   \n",
       "2478  Method and apparatus for analyzing the syntact...   \n",
       "2477  Displaying and correcting method for machine t...   \n",
       "...                                                 ...   \n",
       "11    Scalable endpoint-dependent natural language u...   \n",
       "12    Identifying an entity associated with an onlin...   \n",
       "13    Intelligently splitting text in messages poste...   \n",
       "7     System and method for providing follow-up resp...   \n",
       "0     Initializing a workspace for building a natura...   \n",
       "\n",
       "                                        patent_abstract  \\\n",
       "2481  A natural language text editing and display sy...   \n",
       "2480  A text-editing and display system for editing ...   \n",
       "2479  An input sentence described by a first natural...   \n",
       "2478  An automatic syntax analyzing method is applie...   \n",
       "2477  In a system wherein a first text in a first na...   \n",
       "...                                                 ...   \n",
       "11    A computer-implemented technique is described ...   \n",
       "12    An approach is described for identifying an en...   \n",
       "13    A method, system and computer program product ...   \n",
       "7     In certain implementations, follow-up response...   \n",
       "0     Designing a natural language understanding (NL...   \n",
       "\n",
       "     patent_firstnamed_assignee_id  \\\n",
       "2481      org_1UVZxxNbuUPJkuDfvvpa   \n",
       "2480      org_1UVZxxNbuUPJkuDfvvpa   \n",
       "2479      org_70D1lR89kQnFiCFdJ6s5   \n",
       "2478      org_hDziASDpeFilN1JsnVK0   \n",
       "2477      org_70D1lR89kQnFiCFdJ6s5   \n",
       "...                            ...   \n",
       "11        org_EilEWQcC6UiqHcSGx9mb   \n",
       "12        org_q9Bn28RHhpYrQjKvraAH   \n",
       "13        org_q9Bn28RHhpYrQjKvraAH   \n",
       "7         org_9D8x1qL3IRASp6GG7Glu   \n",
       "0         org_ID497r4tFbCIaMBjGAST   \n",
       "\n",
       "                            ...                         patent_year  \\\n",
       "2481                        ...                                1976   \n",
       "2480                        ...                                1977   \n",
       "2479                        ...                                1985   \n",
       "2478                        ...                                1986   \n",
       "2477                        ...                                1986   \n",
       "...                         ...                                 ...   \n",
       "11                          ...                                2019   \n",
       "12                          ...                                2019   \n",
       "13                          ...                                2019   \n",
       "7                           ...                                2019   \n",
       "0                           ...                                2019   \n",
       "\n",
       "     patent_type patent_kind  \\\n",
       "2481     utility           A   \n",
       "2480     utility           A   \n",
       "2479     utility           A   \n",
       "2478     utility           A   \n",
       "2477     utility           A   \n",
       "...          ...         ...   \n",
       "11       utility          B2   \n",
       "12       utility          B2   \n",
       "13       utility          B2   \n",
       "7        utility          B2   \n",
       "0        utility          B2   \n",
       "\n",
       "                                              inventors  \\\n",
       "2481  [{'inventor_city': 'Andover', 'inventor_countr...   \n",
       "2480  [{'inventor_city': 'Andover', 'inventor_countr...   \n",
       "2479  [{'inventor_city': 'Yokohama', 'inventor_count...   \n",
       "2478  [{'inventor_city': 'Yokohama', 'inventor_count...   \n",
       "2477  [{'inventor_city': 'Fujisawa', 'inventor_count...   \n",
       "...                                                 ...   \n",
       "11    [{'inventor_city': 'Sammamish', 'inventor_coun...   \n",
       "12    [{'inventor_city': 'Sewickley', 'inventor_coun...   \n",
       "13    [{'inventor_city': 'Shanghai', 'inventor_count...   \n",
       "7     [{'inventor_city': 'Bellevue', 'inventor_count...   \n",
       "0     [{'inventor_city': 'Newton', 'inventor_country...   \n",
       "\n",
       "                                  patent_title_abstract  \n",
       "2481  Text editing and display system having text in...  \n",
       "2480  Text editing and display system A text-editing...  \n",
       "2479  Translation between natural languages An input...  \n",
       "2478  Method and apparatus for analyzing the syntact...  \n",
       "2477  Displaying and correcting method for machine t...  \n",
       "...                                                 ...  \n",
       "11    Scalable endpoint-dependent natural language u...  \n",
       "12    Identifying an entity associated with an onlin...  \n",
       "13    Intelligently splitting text in messages poste...  \n",
       "7     System and method for providing follow-up resp...  \n",
       "0     Initializing a workspace for building a natura...  \n",
       "\n",
       "[2482 rows x 23 columns]"
      ]
     },
     "execution_count": 13,
     "metadata": {},
     "output_type": "execute_result"
    }
   ],
   "source": [
    "df.sort_values(by=['patent_date'])"
   ]
  },
  {
   "cell_type": "code",
   "execution_count": 14,
   "metadata": {},
   "outputs": [
    {
     "data": {
      "text/plain": [
       "['Initializing a workspace for building a natural language understanding system Designing a natural language understanding (NLU) model for an application from scratch can be difficult for non-experts. A system can simplify the design process by providing an interface allowing a designer to input example usage sentences and build an NLU model based on presented matches to those example sentences. In one embodiment, a method for initializing a workspace for building an NLU system includes parsing a sample sentence to select at least one candidate stub grammar from among multiple candidate stub grammars. The method can include presenting, to a user, respective representations of the candidate stub grammars selected by the parsing of the sample sentence. The method can include enabling the user to choose one of the respective representations of the candidate stub grammars. The method can include adding to the workspace a stub grammar corresponding to the representation of the candidate stub grammar chosen by the user.',\n",
       " 'Allowing spelling of arbitrary words Methods, systems, and apparatus, including computer programs encoded on computer storage media, for natural language processing. One of the methods includes receiving a first voice input from a user device; generating a first recognition output; receiving a user selection of one or more terms in the first recognition output; receiving a second voice input spelling a correction of the user selection; determining a corrected recognition output for the selected portion; and providing a second recognition output that merges the first recognition output and the corrected recognition output.',\n",
       " 'Leveraging content dimensions during the translation of human-readable languages A content management system (CMS) and a translation management system (TMS) can utilize content dimensions for content items to manage and translate the content items between languages. Machine and human translations of complex dynamic content can also be improved by pre-rendering the content to remove localization-related syntax prior to machine or human translation. Content items can also be scored as to their suitability for localization prior to translation, and translation can be skipped for content items that do not have a sufficiently high score. Semantic and natural language processing (NLP) techniques can also be utilized for content categorization and routing. Translations of content items can also be continuously refined and higher quality re-translated content can be provided in an automated fashion.']"
      ]
     },
     "execution_count": 14,
     "metadata": {},
     "output_type": "execute_result"
    }
   ],
   "source": [
    "text_data = df.patent_title_abstract.tolist()\n",
    "text_data[:3]"
   ]
  },
  {
   "cell_type": "code",
   "execution_count": 15,
   "metadata": {},
   "outputs": [
    {
     "name": "stdout",
     "output_type": "stream",
     "text": [
      "2482 1986 496 2482\n"
     ]
    }
   ],
   "source": [
    "# partition data\n",
    "len(text_data)\n",
    "text_train = text_data[:round(len(text_data)*.8)]\n",
    "text_test = text_data[round(len(text_data)*.8):]\n",
    "print(len(text_data), len(text_train), len(text_test), len(text_train)+len(text_test))"
   ]
  },
  {
   "cell_type": "markdown",
   "metadata": {},
   "source": [
    "### Pre-process text data"
   ]
  },
  {
   "cell_type": "code",
   "execution_count": null,
   "metadata": {},
   "outputs": [],
   "source": [
    "# uncomment to download stop words from nltk and language package from spacy\n",
    "# nltk.download('stopwords')\n",
    "# nltk.download('punkt')\n",
    "# !python -m spacy download en"
   ]
  },
  {
   "cell_type": "markdown",
   "metadata": {},
   "source": [
    "#### Tokenize"
   ]
  },
  {
   "cell_type": "code",
   "execution_count": 12,
   "metadata": {},
   "outputs": [],
   "source": [
    "# tokenize documents\n",
    "\n",
    "def tokenize_docs(docs):\n",
    "    tokenized_docs = []\n",
    "    for doc in docs:\n",
    "        tokenized_docs.append(word_tokenize(doc))\n",
    "    return tokenized_docs\n",
    "\n",
    "tokenized_docs = tokenize_docs(text_train)"
   ]
  },
  {
   "cell_type": "markdown",
   "metadata": {},
   "source": [
    "#### Clean punctuation"
   ]
  },
  {
   "cell_type": "code",
   "execution_count": 13,
   "metadata": {},
   "outputs": [],
   "source": [
    "# clean punctuation\n",
    "def clean_docs(tokenized_docs):\n",
    "    clean_docs = []\n",
    "    for doc in tokenized_docs:\n",
    "       clean_docs.append([word for word in doc if word.isalpha()])  \n",
    "    return clean_docs"
   ]
  },
  {
   "cell_type": "code",
   "execution_count": null,
   "metadata": {},
   "outputs": [],
   "source": [
    "cleaned_data = clean_docs(tokenized_docs)\n",
    "cleaned_data[0]"
   ]
  },
  {
   "cell_type": "markdown",
   "metadata": {},
   "source": [
    "#### Convert to lowercase"
   ]
  },
  {
   "cell_type": "code",
   "execution_count": 14,
   "metadata": {},
   "outputs": [
    {
     "ename": "NameError",
     "evalue": "name 'cleaned_data' is not defined",
     "output_type": "error",
     "traceback": [
      "\u001b[0;31m---------------------------------------------------------------------------\u001b[0m",
      "\u001b[0;31mNameError\u001b[0m                                 Traceback (most recent call last)",
      "\u001b[0;32m<ipython-input-14-7e21644956e4>\u001b[0m in \u001b[0;36m<module>\u001b[0;34m()\u001b[0m\n\u001b[1;32m      6\u001b[0m     \u001b[0;32mreturn\u001b[0m \u001b[0mlowered_words\u001b[0m\u001b[0;34m\u001b[0m\u001b[0m\n\u001b[1;32m      7\u001b[0m \u001b[0;34m\u001b[0m\u001b[0m\n\u001b[0;32m----> 8\u001b[0;31m \u001b[0mlowered_data\u001b[0m \u001b[0;34m=\u001b[0m \u001b[0mlower_words\u001b[0m\u001b[0;34m(\u001b[0m\u001b[0mcleaned_data\u001b[0m\u001b[0;34m)\u001b[0m\u001b[0;34m\u001b[0m\u001b[0m\n\u001b[0m\u001b[1;32m      9\u001b[0m \u001b[0mlowered_data\u001b[0m\u001b[0;34m[\u001b[0m\u001b[0;36m0\u001b[0m\u001b[0;34m]\u001b[0m\u001b[0;34m\u001b[0m\u001b[0m\n",
      "\u001b[0;31mNameError\u001b[0m: name 'cleaned_data' is not defined"
     ]
    }
   ],
   "source": [
    "# convert to lowercase\n",
    "def lower_words(docs):\n",
    "    lowered_words = []\n",
    "    for doc in docs:\n",
    "        lowered_words.append([word.lower() for word in doc])\n",
    "    return lowered_words\n",
    "\n",
    "lowered_data = lower_words(cleaned_data)\n",
    "lowered_data[0]"
   ]
  },
  {
   "cell_type": "markdown",
   "metadata": {},
   "source": [
    "#### Clean stopwords"
   ]
  },
  {
   "cell_type": "code",
   "execution_count": null,
   "metadata": {},
   "outputs": [],
   "source": [
    "# clean stopwords\n",
    "\n",
    "stop_words = stopwords.words('english')"
   ]
  },
  {
   "cell_type": "code",
   "execution_count": null,
   "metadata": {},
   "outputs": [],
   "source": [
    "def filter_stopwords(docs):\n",
    "    filtered_docs = []\n",
    "    for doc in docs:\n",
    "       filtered_docs.append([word for word in doc if word not in stop_words])\n",
    "    return filtered_docs\n",
    "\n",
    "# remove stopwords\n",
    "filtered_data = filter_stopwords(lowered_data)\n",
    "filtered_data\n",
    "# TODO (Lee) - resolve un-lowered stopwords \"A\" and \"An\", 'By', 'The'"
   ]
  },
  {
   "cell_type": "markdown",
   "metadata": {},
   "source": [
    "#### Construct bigrams and trigrams"
   ]
  },
  {
   "cell_type": "code",
   "execution_count": null,
   "metadata": {},
   "outputs": [],
   "source": [
    "# train bigram phrases model\n",
    "bigram_model = Phrases(filtered_data, min_count=1, threshold=1)\n",
    "\n",
    "# train trigram phrases model\n",
    "trigram_model = Phrases(bigram_model[filtered_data], threshold=100)  "
   ]
  },
  {
   "cell_type": "code",
   "execution_count": null,
   "metadata": {},
   "outputs": [],
   "source": [
    "# bigrams\n",
    "def bigrams(docs):\n",
    "    \"\"\"create bigrams\"\"\"\n",
    "    return [bigram_model[doc] for doc in docs]"
   ]
  },
  {
   "cell_type": "code",
   "execution_count": null,
   "metadata": {},
   "outputs": [],
   "source": [
    "# initialize bigram and trigram models\n",
    "bigram_model = gensim.models.phrases.Phraser(bigram_model)\n",
    "trigram_model = gensim.models.phrases.Phraser(trigram_model)"
   ]
  },
  {
   "cell_type": "code",
   "execution_count": null,
   "metadata": {},
   "outputs": [],
   "source": [
    "bigrams(filtered_data)[0]"
   ]
  },
  {
   "cell_type": "code",
   "execution_count": null,
   "metadata": {},
   "outputs": [],
   "source": [
    "# def trigrams(docs):\n",
    "#     \"\"\"create trigrams\"\"\"\n",
    "#     return [trigram_model[bigram_model[doc]] for doc in docs]"
   ]
  },
  {
   "cell_type": "code",
   "execution_count": null,
   "metadata": {},
   "outputs": [],
   "source": [
    "# trigrams(filtered_data)[0]"
   ]
  },
  {
   "cell_type": "markdown",
   "metadata": {},
   "source": [
    "#### Stem and Lemmatize"
   ]
  },
  {
   "cell_type": "code",
   "execution_count": null,
   "metadata": {},
   "outputs": [],
   "source": [
    "# def lemmatize_docs(docs, allowed_postags=['NOUN', 'ADJ', 'VERB', 'ADV']):\n",
    "#     \"\"\"lemmatize documents\"\"\"\n",
    "#     lemmatized_docs = []\n",
    "#     for doc in docs: \n",
    "#         lemmatized_docs.append([token.lemma_ for token in doc if token.pos_ in allowed_postags])\n",
    "#     return lemmatized_docs"
   ]
  },
  {
   "cell_type": "code",
   "execution_count": null,
   "metadata": {},
   "outputs": [],
   "source": [
    "# # TODO (Lee)\n",
    "# # TODO (Lee) - lemmatize_docs(cleaned_data)\n",
    "\n",
    "# lemmatizer = Lemmatizer(LEMMA_INDEX, LEMMA_EXC, LEMMA_RULES)\n",
    "# # for doc in cleaned_data:\n",
    "# #     for token in doc:\n",
    "# #         token.lemma_\n",
    "\n",
    "# # uncomment to use\n",
    "# # download english model with \"python -m spacy download en\"\n",
    "\n",
    "# # for token in doc:\n",
    "# #     print(token, token.lemma, token.lemma_)\n",
    "\n"
   ]
  },
  {
   "cell_type": "code",
   "execution_count": null,
   "metadata": {},
   "outputs": [],
   "source": [
    "len(texts)"
   ]
  },
  {
   "cell_type": "markdown",
   "metadata": {},
   "source": [
    "#### Create dictionary and convert tokens into frequency counts by document"
   ]
  },
  {
   "cell_type": "code",
   "execution_count": 18,
   "metadata": {},
   "outputs": [
    {
     "ename": "NameError",
     "evalue": "name 'filtered_data' is not defined",
     "output_type": "error",
     "traceback": [
      "\u001b[0;31m---------------------------------------------------------------------------\u001b[0m",
      "\u001b[0;31mNameError\u001b[0m                                 Traceback (most recent call last)",
      "\u001b[0;32m<ipython-input-18-12afc4c014b2>\u001b[0m in \u001b[0;36m<module>\u001b[0;34m()\u001b[0m\n\u001b[1;32m      1\u001b[0m \u001b[0;31m# specify corpus - list of patent-list of tokenized words\u001b[0m\u001b[0;34m\u001b[0m\u001b[0;34m\u001b[0m\u001b[0m\n\u001b[0;32m----> 2\u001b[0;31m \u001b[0mtexts\u001b[0m \u001b[0;34m=\u001b[0m \u001b[0mfiltered_data\u001b[0m\u001b[0;34m\u001b[0m\u001b[0m\n\u001b[0m",
      "\u001b[0;31mNameError\u001b[0m: name 'filtered_data' is not defined"
     ]
    }
   ],
   "source": [
    "# specify corpus - list of patent-list of tokenized words\n",
    "texts = filtered_data"
   ]
  },
  {
   "cell_type": "code",
   "execution_count": null,
   "metadata": {},
   "outputs": [],
   "source": [
    "# build dictionary – a mapping between words and their integer ids\n",
    "id_to_word = corpora.Dictionary(filtered_data)"
   ]
  },
  {
   "cell_type": "code",
   "execution_count": null,
   "metadata": {},
   "outputs": [],
   "source": [
    "# .dfs returns frequency of documents containing given token in tuple (token_id, count of documents that contain this token)\n",
    "id_to_word.dfs.items()"
   ]
  },
  {
   "cell_type": "code",
   "execution_count": null,
   "metadata": {},
   "outputs": [],
   "source": [
    "# apply term document frequency - convert docs in corpus to bag-of-words format, a list of (token_id, token_count) tuples\n",
    "corpus = [id_to_word.doc2bow(text) for text in texts]\n",
    "corpus"
   ]
  },
  {
   "cell_type": "code",
   "execution_count": null,
   "metadata": {},
   "outputs": [],
   "source": [
    "corpus[0]"
   ]
  },
  {
   "cell_type": "code",
   "execution_count": null,
   "metadata": {},
   "outputs": [],
   "source": [
    "# view formatted corpus (term-doc-frequency)\n",
    "[[(id_to_word[id], freq) for id, freq in text] for text in corpus]"
   ]
  },
  {
   "cell_type": "markdown",
   "metadata": {},
   "source": [
    "### Model - model #1"
   ]
  },
  {
   "cell_type": "code",
   "execution_count": 17,
   "metadata": {},
   "outputs": [
    {
     "ename": "NameError",
     "evalue": "name 'corpus' is not defined",
     "output_type": "error",
     "traceback": [
      "\u001b[0;31m---------------------------------------------------------------------------\u001b[0m",
      "\u001b[0;31mNameError\u001b[0m                                 Traceback (most recent call last)",
      "\u001b[0;32m<ipython-input-17-ab5252eb8c99>\u001b[0m in \u001b[0;36m<module>\u001b[0;34m()\u001b[0m\n\u001b[1;32m      1\u001b[0m \u001b[0;31m# TODO (Lee) - deprecation warnings\u001b[0m\u001b[0;34m\u001b[0m\u001b[0;34m\u001b[0m\u001b[0m\n\u001b[1;32m      2\u001b[0m \u001b[0;31m# construct LDA model\u001b[0m\u001b[0;34m\u001b[0m\u001b[0;34m\u001b[0m\u001b[0m\n\u001b[0;32m----> 3\u001b[0;31m model_lda = LdaModel(corpus=corpus,\n\u001b[0m\u001b[1;32m      4\u001b[0m                      \u001b[0mid2word\u001b[0m\u001b[0;34m=\u001b[0m\u001b[0mid_to_word\u001b[0m\u001b[0;34m,\u001b[0m\u001b[0;34m\u001b[0m\u001b[0m\n\u001b[1;32m      5\u001b[0m                      \u001b[0mnum_topics\u001b[0m\u001b[0;34m=\u001b[0m\u001b[0;36m25\u001b[0m\u001b[0;34m,\u001b[0m\u001b[0;34m\u001b[0m\u001b[0m\n",
      "\u001b[0;31mNameError\u001b[0m: name 'corpus' is not defined"
     ]
    }
   ],
   "source": [
    "# TODO (Lee) - deprecation warnings\n",
    "# construct LDA model\n",
    "model_lda = LdaModel(corpus=corpus,\n",
    "                     id2word=id_to_word,\n",
    "                     num_topics=25, \n",
    "                     random_state=100,\n",
    "                     update_every=1,\n",
    "                     chunksize=100,\n",
    "                     passes=10,\n",
    "                     alpha='auto',\n",
    "                     per_word_topics=True)"
   ]
  },
  {
   "cell_type": "code",
   "execution_count": null,
   "metadata": {},
   "outputs": [],
   "source": [
    "doc = corpus[0]"
   ]
  },
  {
   "cell_type": "code",
   "execution_count": 16,
   "metadata": {},
   "outputs": [
    {
     "ename": "NameError",
     "evalue": "name 'model_lda' is not defined",
     "output_type": "error",
     "traceback": [
      "\u001b[0;31m---------------------------------------------------------------------------\u001b[0m",
      "\u001b[0;31mNameError\u001b[0m                                 Traceback (most recent call last)",
      "\u001b[0;32m<ipython-input-16-6ff1cf05d853>\u001b[0m in \u001b[0;36m<module>\u001b[0;34m()\u001b[0m\n\u001b[0;32m----> 1\u001b[0;31m \u001b[0;32mdef\u001b[0m \u001b[0mget_topics\u001b[0m\u001b[0;34m(\u001b[0m\u001b[0mdoc\u001b[0m\u001b[0;34m,\u001b[0m \u001b[0mk\u001b[0m\u001b[0;34m=\u001b[0m\u001b[0;36m3\u001b[0m\u001b[0;34m,\u001b[0m \u001b[0mmodel_lda\u001b[0m\u001b[0;34m=\u001b[0m\u001b[0mmodel_lda\u001b[0m\u001b[0;34m)\u001b[0m\u001b[0;34m:\u001b[0m\u001b[0;34m\u001b[0m\u001b[0m\n\u001b[0m\u001b[1;32m      2\u001b[0m     \u001b[0mtopic_id\u001b[0m \u001b[0;34m=\u001b[0m \u001b[0msorted\u001b[0m\u001b[0;34m(\u001b[0m\u001b[0mmodel_lda\u001b[0m\u001b[0;34m[\u001b[0m\u001b[0mdoc\u001b[0m\u001b[0;34m]\u001b[0m\u001b[0;34m[\u001b[0m\u001b[0;36m0\u001b[0m\u001b[0;34m]\u001b[0m\u001b[0;34m,\u001b[0m \u001b[0mkey\u001b[0m\u001b[0;34m=\u001b[0m\u001b[0;32mlambda\u001b[0m \u001b[0mx\u001b[0m\u001b[0;34m:\u001b[0m \u001b[0;34m-\u001b[0m\u001b[0mx\u001b[0m\u001b[0;34m[\u001b[0m\u001b[0;36m1\u001b[0m\u001b[0;34m]\u001b[0m\u001b[0;34m)\u001b[0m\u001b[0;34m\u001b[0m\u001b[0m\n\u001b[1;32m      3\u001b[0m     \u001b[0mtop_k_topics\u001b[0m \u001b[0;34m=\u001b[0m \u001b[0;34m[\u001b[0m\u001b[0mx\u001b[0m\u001b[0;34m[\u001b[0m\u001b[0;36m0\u001b[0m\u001b[0;34m]\u001b[0m \u001b[0;32mfor\u001b[0m \u001b[0mx\u001b[0m \u001b[0;32min\u001b[0m \u001b[0mtopic_id\u001b[0m\u001b[0;34m[\u001b[0m\u001b[0;34m:\u001b[0m\u001b[0mk\u001b[0m\u001b[0;34m]\u001b[0m\u001b[0;34m]\u001b[0m\u001b[0;34m\u001b[0m\u001b[0m\n\u001b[1;32m      4\u001b[0m     \u001b[0;32mreturn\u001b[0m \u001b[0;34m[\u001b[0m\u001b[0;34m(\u001b[0m\u001b[0mi\u001b[0m\u001b[0;34m,\u001b[0m \u001b[0mmodel_lda\u001b[0m\u001b[0;34m.\u001b[0m\u001b[0mprint_topic\u001b[0m\u001b[0;34m(\u001b[0m\u001b[0mi\u001b[0m\u001b[0;34m)\u001b[0m\u001b[0;34m)\u001b[0m \u001b[0;32mfor\u001b[0m \u001b[0mi\u001b[0m \u001b[0;32min\u001b[0m \u001b[0mtop_k_topics\u001b[0m\u001b[0;34m]\u001b[0m\u001b[0;34m\u001b[0m\u001b[0m\n",
      "\u001b[0;31mNameError\u001b[0m: name 'model_lda' is not defined"
     ]
    }
   ],
   "source": [
    "def get_topics(doc, k=3, model_lda=model_lda):\n",
    "    topic_id = sorted(model_lda[doc][0], key=lambda x: -x[1])\n",
    "    top_k_topics = [x[0] for x in topic_id[:k]]\n",
    "    return [(i, model_lda.print_topic(i)) for i in top_k_topics]"
   ]
  },
  {
   "cell_type": "code",
   "execution_count": null,
   "metadata": {},
   "outputs": [],
   "source": [
    "topic_id"
   ]
  },
  {
   "cell_type": "code",
   "execution_count": null,
   "metadata": {},
   "outputs": [],
   "source": [
    "doc_id = 675\n",
    "get_topics(corpus[doc_id], k=5), text_train[doc_id]"
   ]
  },
  {
   "cell_type": "code",
   "execution_count": null,
   "metadata": {},
   "outputs": [],
   "source": [
    "# text = 'virtual dictionary lexicon enablement voice'.split()\n",
    "text = 'smart assistant transformer model translation'.split()"
   ]
  },
  {
   "cell_type": "code",
   "execution_count": null,
   "metadata": {},
   "outputs": [],
   "source": [
    "def keywords_string(keywords):\n",
    "    keyword_string = str(keywords)\n",
    "    return keyword_string"
   ]
  },
  {
   "cell_type": "code",
   "execution_count": 50,
   "metadata": {},
   "outputs": [],
   "source": [
    "# clean punctuation\n",
    "def clean_doc(tokenized_doc):\n",
    "    clean_doc = []\n",
    "    clean_doc.append([word for word in tokenized_doc if word.isalpha()])  \n",
    "    return clean_docs"
   ]
  },
  {
   "cell_type": "code",
   "execution_count": 60,
   "metadata": {},
   "outputs": [],
   "source": [
    "def lower_doc(doc):\n",
    "    lowered_words = []\n",
    "    lowered_words.append([word.lower() for word in doc])\n",
    "    return lowered_words"
   ]
  },
  {
   "cell_type": "code",
   "execution_count": 67,
   "metadata": {},
   "outputs": [],
   "source": [
    "def process_keywords(keywords):\n",
    "    from test_model import tokenize_docs, clean_docs, lower_words, remove_stopwords\n",
    "    tokenized_text = str(keywords).split()\n",
    "    #cleaned_text = clean_doc(tokenized_text)\n",
    "    #lowered_text = lower_doc(cleaned_text)\n",
    "    return tokenized_text"
   ]
  },
  {
   "cell_type": "code",
   "execution_count": 68,
   "metadata": {},
   "outputs": [],
   "source": [
    "text = process_keywords(\"smart assistant multilingual\")"
   ]
  },
  {
   "cell_type": "code",
   "execution_count": 69,
   "metadata": {},
   "outputs": [
    {
     "data": {
      "text/plain": [
       "['smart', 'assistant', 'multilingual']"
      ]
     },
     "execution_count": 69,
     "metadata": {},
     "output_type": "execute_result"
    }
   ],
   "source": [
    "text\n"
   ]
  },
  {
   "cell_type": "code",
   "execution_count": 28,
   "metadata": {},
   "outputs": [
    {
     "ename": "NameError",
     "evalue": "name 'tokenized_test' is not defined",
     "output_type": "error",
     "traceback": [
      "\u001b[0;31m---------------------------------------------------------------------------\u001b[0m",
      "\u001b[0;31mNameError\u001b[0m                                 Traceback (most recent call last)",
      "\u001b[0;32m<ipython-input-28-4116e3d31b8d>\u001b[0m in \u001b[0;36m<module>\u001b[0;34m()\u001b[0m\n\u001b[0;32m----> 1\u001b[0;31m \u001b[0mtokenized_test\u001b[0m\u001b[0;34m\u001b[0m\u001b[0m\n\u001b[0m",
      "\u001b[0;31mNameError\u001b[0m: name 'tokenized_test' is not defined"
     ]
    }
   ],
   "source": [
    "tokenized_test"
   ]
  },
  {
   "cell_type": "code",
   "execution_count": 26,
   "metadata": {},
   "outputs": [
    {
     "data": {
      "text/plain": [
       "[['s', 'm', 'a', 'r', 't'],\n",
       " ['a', 's', 's', 'i', 's', 't', 'a', 'n', 't'],\n",
       " ['t', 'r', 'a', 'n', 's', 'f', 'o', 'r', 'm', 'e', 'r'],\n",
       " ['m', 'o', 'd', 'e', 'l'],\n",
       " ['t', 'r', 'a', 'n', 's', 'l', 'a', 't', 'i', 'o', 'n']]"
      ]
     },
     "execution_count": 26,
     "metadata": {},
     "output_type": "execute_result"
    }
   ],
   "source": [
    "text"
   ]
  },
  {
   "cell_type": "code",
   "execution_count": null,
   "metadata": {
    "scrolled": true
   },
   "outputs": [],
   "source": [
    "get_topics(id_to_word.doc2bow(text))"
   ]
  },
  {
   "cell_type": "code",
   "execution_count": null,
   "metadata": {},
   "outputs": [],
   "source": [
    "def get_documents()"
   ]
  },
  {
   "cell_type": "code",
   "execution_count": null,
   "metadata": {},
   "outputs": [],
   "source": []
  },
  {
   "cell_type": "code",
   "execution_count": null,
   "metadata": {},
   "outputs": [],
   "source": [
    "text_train[0]"
   ]
  },
  {
   "cell_type": "code",
   "execution_count": null,
   "metadata": {},
   "outputs": [],
   "source": [
    "model_lda[doc]"
   ]
  },
  {
   "cell_type": "code",
   "execution_count": null,
   "metadata": {},
   "outputs": [],
   "source": [
    "# print keywords in n topics\n",
    "sorted(model_lda.print_topics(), key=lambda x: x[0])"
   ]
  },
  {
   "cell_type": "code",
   "execution_count": null,
   "metadata": {},
   "outputs": [],
   "source": [
    "# print keywords in n topics\n",
    "pprint(model_lda.print_topics())"
   ]
  },
  {
   "cell_type": "code",
   "execution_count": null,
   "metadata": {},
   "outputs": [],
   "source": [
    "# print top 10 keywords that comprise topic with index of 0\n",
    "pprint(model_lda.print_topic(24))\n",
    "# the most import keywords, and the respective weight, that form topic 0 are"
   ]
  },
  {
   "cell_type": "code",
   "execution_count": null,
   "metadata": {},
   "outputs": [],
   "source": [
    "# print top 10 keywords that comprise topic with index of 1\n",
    "pprint(model_lda.print_topic(1))"
   ]
  },
  {
   "cell_type": "code",
   "execution_count": null,
   "metadata": {},
   "outputs": [],
   "source": [
    "# TODO (Lee) - infer topic from keywords?"
   ]
  },
  {
   "cell_type": "markdown",
   "metadata": {},
   "source": [
    "### Evaluate - model #1"
   ]
  },
  {
   "cell_type": "code",
   "execution_count": null,
   "metadata": {},
   "outputs": [],
   "source": [
    "# calculate perplexity metrics\n",
    "perplexity = model_lda.log_perplexity(corpus)\n",
    "perplexity"
   ]
  },
  {
   "cell_type": "code",
   "execution_count": null,
   "metadata": {},
   "outputs": [],
   "source": [
    "# TODO (Lee) - confirm that filtered_data is indeed the correct dataset to pass to texts param\n",
    "# calculate coherence metric\n",
    "coherence = CoherenceModel(model=model_lda, texts=filtered_data, dictionary=id_to_word, coherence='c_v')\n",
    "coherence_1 = coherence.get_coherence()\n",
    "coherence_1"
   ]
  },
  {
   "cell_type": "code",
   "execution_count": null,
   "metadata": {},
   "outputs": [],
   "source": [
    "model_lda."
   ]
  },
  {
   "cell_type": "code",
   "execution_count": null,
   "metadata": {},
   "outputs": [],
   "source": [
    "# calculate coherence metric or each of the n topicss\n",
    "coherence_1 = coherence.get_coherence_per_topic()\n",
    "coherence_1"
   ]
  },
  {
   "cell_type": "code",
   "execution_count": null,
   "metadata": {},
   "outputs": [],
   "source": [
    "# explore topics\n",
    "pyLDAvis.enable_notebook()\n",
    "viz_topics_1 = pyLDAvis.gensim.prepare(model_lda, corpus, id_to_word)\n",
    "viz_topics_1\n",
    "# TODO (Lee) - salient vs relevant terms in pyLDA ?"
   ]
  },
  {
   "cell_type": "markdown",
   "metadata": {},
   "source": [
    "### Model 2-  Mallet model"
   ]
  },
  {
   "cell_type": "code",
   "execution_count": null,
   "metadata": {},
   "outputs": [],
   "source": [
    "# uncomment to download Mallet topic model\n",
    "# !wget http://mallet.cs.umass.edu/dist/mallet-2.0.8.zip\n",
    "# update this path\n",
    "path_mallet = 'data/mallet-2.0.8/bin/mallet'"
   ]
  },
  {
   "cell_type": "code",
   "execution_count": null,
   "metadata": {},
   "outputs": [],
   "source": [
    "model_2 = gensim.models.wrappers.LdaMallet(path_mallet, corpus=corpus, num_topics=25, id2word=id_to_word)"
   ]
  },
  {
   "cell_type": "code",
   "execution_count": null,
   "metadata": {},
   "outputs": [],
   "source": [
    "# topics\n",
    "pprint(model_2.show_topics(formatted=False))"
   ]
  },
  {
   "cell_type": "code",
   "execution_count": null,
   "metadata": {},
   "outputs": [],
   "source": [
    "# calculate coherence metric\n",
    "coherence_model_2 = CoherenceModel(model=model_2, texts=filtered_data, dictionary=id_to_word, coherence='c_v')\n",
    "coherence_model_2 = coherence_model_2.get_coherence()\n",
    "coherence_model_2"
   ]
  },
  {
   "cell_type": "markdown",
   "metadata": {},
   "source": [
    "### Model 3 - Author topic model"
   ]
  },
  {
   "cell_type": "markdown",
   "metadata": {},
   "source": [
    "#### pre-process"
   ]
  },
  {
   "cell_type": "code",
   "execution_count": null,
   "metadata": {},
   "outputs": [],
   "source": [
    "tokenized_docs_at = tokenize_docs(text_data)\n",
    "cleaned_data_at = clean_docs(tokenized_docs_at)\n",
    "lowered_data_at = lower_words(cleaned_data_at)\n",
    "filtered_data_at = filter_stopwords(lowered_data_at)"
   ]
  },
  {
   "cell_type": "code",
   "execution_count": null,
   "metadata": {},
   "outputs": [],
   "source": [
    "len(filtered_data_at)"
   ]
  },
  {
   "cell_type": "markdown",
   "metadata": {},
   "source": [
    "#### build dictionary and corpus from processed text"
   ]
  },
  {
   "cell_type": "code",
   "execution_count": null,
   "metadata": {},
   "outputs": [],
   "source": [
    "# build dictionary\n",
    "id_to_word_at = corpora.Dictionary(filtered_data_at)\n",
    "\n",
    "# build corpus\n",
    "texts_at = filtered_data_at\n",
    "\n",
    "# apply term document frequency - converts docs in corpus to bag-of-words format via list of (token_id, token_count) tuples\n",
    "corpus_at = [id_to_word_at.doc2bow(text) for text in texts_at]"
   ]
  },
  {
   "cell_type": "code",
   "execution_count": null,
   "metadata": {},
   "outputs": [],
   "source": [
    "(next(iter(id_to_word_at.items())))"
   ]
  },
  {
   "cell_type": "code",
   "execution_count": null,
   "metadata": {},
   "outputs": [],
   "source": [
    "type(id_to_word_at.keys()[0])"
   ]
  },
  {
   "cell_type": "code",
   "execution_count": null,
   "metadata": {},
   "outputs": [],
   "source": [
    "type(id_to_word_at.values())"
   ]
  },
  {
   "cell_type": "markdown",
   "metadata": {},
   "source": [
    "#### construct inventor-doc mapping from nested inventors column in json api response"
   ]
  },
  {
   "cell_type": "code",
   "execution_count": null,
   "metadata": {},
   "outputs": [],
   "source": [
    "# extract nested inventors table from api response\n",
    "df_inventors = json_normalize(results['patents'], record_path=['inventors'], meta=['patent_number', 'patent_date'])\n",
    "df_inventors = df_inventors[['inventor_id', 'patent_number', 'patent_date']]\n",
    "df_inventors.sort_values(by=['patent_date'])\n",
    "df_inventors.pop(\"patent_date\")\n",
    "df_inventors.head(3)"
   ]
  },
  {
   "cell_type": "code",
   "execution_count": null,
   "metadata": {},
   "outputs": [],
   "source": [
    "# TODO (Lee) - resolve workaround\n",
    "# df_idx = df\n",
    "# df_idx['idx'] = df.index\n",
    "# df_idx\n",
    "# # df_idx_1 = df_idx[['patent_number', 'idx', 'inventors']]\n",
    "# df_idx_2 = df_idx_1.set_index('patent_number')\n",
    "# df_idx_2.pop('inventors')\n",
    "# df_idx_2\n",
    "# df_pat_idx = df_idx_2.T.to_dict('records')\n",
    "# for i in df_pat_idx:\n",
    "#     df_pat_idx = dict(i)\n",
    "# df_pat_idx\n",
    "\n",
    "# df_pat_idx = df_idx_2.T.to_dict('records')\n",
    "# for i in df_pat_idx:\n",
    "#     df_pat_idx = dict(i)\n",
    "# df_pat_idx"
   ]
  },
  {
   "cell_type": "code",
   "execution_count": null,
   "metadata": {
    "scrolled": false
   },
   "outputs": [],
   "source": [
    "dict_pat2inv =df_inventors.set_index('patent_number').T.to_dict('list')\n",
    "# dict_pat2inv"
   ]
  },
  {
   "cell_type": "code",
   "execution_count": null,
   "metadata": {},
   "outputs": [],
   "source": [
    "# for k, v in pat2inv.items():\n",
    "#     name_dict[new_key] = name_dict.pop(k)\n",
    "#     time.sleep(4)\n",
    "\n",
    "# pprint.pprint(name_dict)\n",
    "\n",
    "# d = {'x':1, 'y':2, 'z':3}\n",
    "# d1 = {'x':'a', 'y':'b', 'z':'c'}\n",
    "\n",
    "# dict((d1[key], value) for (key, value) in d.items())\n",
    "# {'a': 1, 'b': 2, 'c': 3}\n",
    "\n",
    "# idx_pat_map = df.patent_number.to_dict()\n",
    "# idx_pat_map = {str(key): value for key, value in idx_pat_map.items()}\n",
    "# import itertools\n",
    "# x = list(itertools.islice(idx_pat_map.items(), 0, 4))\n",
    "# x[:4]"
   ]
  },
  {
   "cell_type": "code",
   "execution_count": null,
   "metadata": {},
   "outputs": [],
   "source": [
    "pat2inv_dict = {k: list(v) for k,v in df_inventors.groupby(\"patent_number\")[\"inventor_id\"]}"
   ]
  },
  {
   "cell_type": "code",
   "execution_count": null,
   "metadata": {},
   "outputs": [],
   "source": [
    "# {k: list(v) for k,v in df_pat2inv.groupby(\"patent_number\")[\"inventor_id\"]}"
   ]
  },
  {
   "cell_type": "code",
   "execution_count": null,
   "metadata": {},
   "outputs": [],
   "source": [
    "# df2 = df_inventors.groupby(\"patent_number\")[\"inventor_id\"]"
   ]
  },
  {
   "cell_type": "code",
   "execution_count": null,
   "metadata": {},
   "outputs": [],
   "source": [
    "# df3 = df_idx_pat_inv_map.groupby(\"patent_number\")[\"inventor_id\"]"
   ]
  },
  {
   "cell_type": "code",
   "execution_count": null,
   "metadata": {},
   "outputs": [],
   "source": [
    "pat2inv = {k: list(str(v)) for k,v in df_inventors.groupby(\"patent_number\")[\"inventor_id\"]}\n",
    "len(pat2inv.items())"
   ]
  },
  {
   "cell_type": "code",
   "execution_count": null,
   "metadata": {},
   "outputs": [],
   "source": [
    "pat2inv.items()\n",
    "type(next(iter(pat2inv)))"
   ]
  },
  {
   "cell_type": "code",
   "execution_count": null,
   "metadata": {},
   "outputs": [],
   "source": [
    "pat2inv_2 = {str(k): list(v) for k,v in df_inventors.groupby(\"patent_number\")[\"inventor_id\"]}\n",
    "len(pat2inv_2)"
   ]
  },
  {
   "cell_type": "code",
   "execution_count": null,
   "metadata": {},
   "outputs": [],
   "source": [
    "patdf2inv_2 = dict((df_inventors[key], value) for (key, value) in pat2inv.items())\n",
    "patdf2inv_2"
   ]
  },
  {
   "cell_type": "code",
   "execution_count": null,
   "metadata": {},
   "outputs": [],
   "source": [
    "patdf2inv = dict((df_pat_idx[key], value) for (key, value) in pat2inv.items())\n",
    "patdf2inv"
   ]
  },
  {
   "cell_type": "markdown",
   "metadata": {},
   "source": [
    "#### Construct author-topic model"
   ]
  },
  {
   "cell_type": "code",
   "execution_count": null,
   "metadata": {},
   "outputs": [],
   "source": [
    "# construct author-topic model\n",
    "model_at = AuthorTopicModel(corpus=corpus_at,\n",
    "                         doc2author=patdf2inv,\n",
    "                         id2word=id_to_word_at, \n",
    "                         num_topics=25)"
   ]
  },
  {
   "cell_type": "code",
   "execution_count": null,
   "metadata": {},
   "outputs": [],
   "source": [
    "# construct vectors for authors\n",
    "author_vecs = [model_at.get_author_topics(author) for author in model_at.id2author.values()]\n",
    "author_vecs"
   ]
  },
  {
   "cell_type": "code",
   "execution_count": null,
   "metadata": {},
   "outputs": [],
   "source": [
    "# inspect topic distribution for author with id# 7788103-1\n",
    "# each topic has a probability of being expressed given the particular inventor, but only the ones above a certain threshold are shown.\n",
    "\n",
    "model_at['7788103-1']"
   ]
  },
  {
   "cell_type": "code",
   "execution_count": null,
   "metadata": {},
   "outputs": [],
   "source": [
    "# def show_author(name):\n",
    "#     print('\\n%s' % name)\n",
    "#     print('Docs:', model.author2doc[name])\n",
    "#     print('Topics:')\n",
    "#     pprint([(topic_labels[topic[0]], topic[1]) for topic in model[name]])"
   ]
  },
  {
   "cell_type": "code",
   "execution_count": null,
   "metadata": {},
   "outputs": [],
   "source": [
    "# calculate per-word bound, which is a measure of the model's predictive performance (reconstruction error?)\n",
    "\n",
    "build doc2author dictionary\n",
    "\n",
    "doc2author = atmodel.construct_doc2author(model.corpus, model.author2doc)"
   ]
  },
  {
   "cell_type": "code",
   "execution_count": null,
   "metadata": {},
   "outputs": [],
   "source": [
    "\n",
    "doc2author = atmodel.construct_doc2author(model.corpus, model.author2doc)"
   ]
  },
  {
   "cell_type": "code",
   "execution_count": null,
   "metadata": {},
   "outputs": [],
   "source": [
    "gensim.models.atmodel.construct_author2doc(doc2author)\n",
    "# construct mapping from author IDs to document IDs\n",
    "\n",
    "Parameters:\tdoc2author (dict of (int, list of str)) – Mapping of document id to authors.\n",
    "Returns:\tMapping of authors to document ids.\n",
    "Return type:\tdict of (str, list of int)"
   ]
  },
  {
   "cell_type": "code",
   "execution_count": null,
   "metadata": {},
   "outputs": [],
   "source": [
    "gensim.models.atmodel.construct_doc2author(corpus, author2doc)\n",
    "construct mapping from document IDs to author IDs\n",
    "\n",
    "Parameters:\t\n",
    "corpus (iterable of list of (int, float)) – Corpus in BoW format.\n",
    "author2doc (dict of (str, list of int)) – Mapping of authors to documents.\n",
    "Returns:\t\n",
    "Document to Author mapping.\n",
    "\n",
    "Return type:\t\n",
    "dict of (int, list of str)"
   ]
  }
 ],
 "metadata": {
  "kernelspec": {
   "display_name": "Python 3",
   "language": "python",
   "name": "python3"
  },
  "language_info": {
   "codemirror_mode": {
    "name": "ipython",
    "version": 3
   },
   "file_extension": ".py",
   "mimetype": "text/x-python",
   "name": "python",
   "nbconvert_exporter": "python",
   "pygments_lexer": "ipython3",
   "version": "3.6.5"
  }
 },
 "nbformat": 4,
 "nbformat_minor": 2
}
