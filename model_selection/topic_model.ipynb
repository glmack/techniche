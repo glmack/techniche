{
 "cells": [
  {
   "cell_type": "markdown",
   "metadata": {},
   "source": [
    "## Topic model"
   ]
  },
  {
   "cell_type": "code",
   "execution_count": 3,
   "metadata": {},
   "outputs": [],
   "source": [
    "import pandas as pd\n",
    "import numpy as np\n",
    "\n",
    "from test_model import (get_patent_fields_list, get_ml_patents, \n",
    "                        create_title_abstract_col,trim_data, \n",
    "                        structure_dataframe, partition_dataframe, \n",
    "                        build_pipeline, process_docs, pat_inv_map, get_topics)\n",
    "import gensim\n",
    "import gensim.corpora as corpora\n",
    "from gensim.corpora import Dictionary, mmcorpus\n",
    "from gensim.utils import simple_preprocess\n",
    "from gensim.models import CoherenceModel\n",
    "from gensim.models.phrases import Phrases, Phraser\n",
    "from gensim.models.ldamodel import LdaModel\n",
    "from gensim.models import AuthorTopicModel\n",
    "from gensim.test.utils import common_dictionary, datapath, temporary_file\n",
    "from smart_open import smart_open\n",
    "\n",
    "import spacy\n",
    "from spacy.lemmatizer import Lemmatizer\n",
    "from spacy.lang.en import LEMMA_INDEX, LEMMA_EXC, LEMMA_RULES\n",
    "\n",
    "import nltk\n",
    "from nltk.corpus import stopwords\n",
    "from nltk.tokenize import word_tokenize, punkt, RegexpTokenizer, wordpunct_tokenize\n",
    "from nltk.stem import PorterStemmer, LancasterStemmer, WordNetLemmatizer\n",
    "\n",
    "import json\n",
    "from pandas.io.json import json_normalize\n",
    "import requests\n",
    "import re\n",
    "import os\n",
    "import calendar\n",
    "import requests\n",
    "from bs4 import BeautifulSoup\n",
    "import pickle\n",
    "\n",
    "import matplotlib.pyplot as plt\n",
    "import pyLDAvis\n",
    "import pyLDAvis.gensim\n",
    "\n",
    "from pprint import pprint\n",
    "\n",
    "%load_ext autoreload\n",
    "%autoreload 2"
   ]
  },
  {
   "cell_type": "code",
   "execution_count": 4,
   "metadata": {},
   "outputs": [],
   "source": [
    "# TODO (Lee) - resolve deprecation warnings\n",
    "import warnings; warnings.simplefilter('ignore')"
   ]
  },
  {
   "cell_type": "code",
   "execution_count": 5,
   "metadata": {},
   "outputs": [],
   "source": [
    "np.random.seed(3)"
   ]
  },
  {
   "cell_type": "markdown",
   "metadata": {},
   "source": [
    "### Acquire data"
   ]
  },
  {
   "cell_type": "code",
   "execution_count": 6,
   "metadata": {},
   "outputs": [],
   "source": [
    "%%capture\n",
    "# above '%%capture' supresses output of large output of json response\n",
    "\n",
    "# query PatentsView API to acquire ML patent dataset as list of dictionaries \n",
    "raw_data_1000 = get_ml_patents(pats_per_page=1000)\n",
    "raw_data_2000 = get_ml_patents(pats_per_page=2000)"
   ]
  },
  {
   "cell_type": "code",
   "execution_count": 7,
   "metadata": {},
   "outputs": [],
   "source": [
    "# pickle raw_data_1000 and raw_data_2000\n",
    "with open('/Users/lee/Documents/techniche/techniche/data/raw_data_1000', 'wb') as f:\n",
    "    pickle.dump(raw_data_1000, f)   \n",
    "with open('/Users/lee/Documents/techniche/techniche/data/raw_data_2000', 'wb') as f:\n",
    "    pickle.dump(raw_data_2000, f)\n",
    "\n",
    "# uncomment below to de-serialize pickled list of dictionaries\n",
    "# with open('/Users/lee/Documents/techniche/techniche/data/raw_data_1000', 'rb') as f:\n",
    "#     raw_data_1000 = pickle.load(f) \n",
    "# with open('/Users/lee/Documents/techniche/techniche/data/raw_data_2000', 'rb') as f:\n",
    "#     raw_data_2000 = pickle.load(f)\n",
    "\n",
    "# uncomment to view first dictionary in raw_data_1000\n",
    "# raw_data_1000[0]"
   ]
  },
  {
   "cell_type": "markdown",
   "metadata": {},
   "source": [
    "#### Acquire data - Structure data - 1000 patent documents"
   ]
  },
  {
   "cell_type": "code",
   "execution_count": 8,
   "metadata": {},
   "outputs": [],
   "source": [
    "# define desired keys/columns as criteria to subset dataset\n",
    "retained_keys = ['patent_number', 'patent_date', 'patent_title',\n",
    "                 'patent_abstract', 'inventors']"
   ]
  },
  {
   "cell_type": "code",
   "execution_count": 9,
   "metadata": {},
   "outputs": [],
   "source": [
    "# subset JSON dict dataset of full api response by desired keys/columns\n",
    "data_1000 = trim_data(data=raw_data_1000, keys=retained_keys)\n",
    "\n",
    "# TODO (Lee) review naming conv duplication - create item in dict by concatenating patent_title and patent_abstract\n",
    "data_1000 = create_title_abstract_col(data=data_1000)\n",
    "\n",
    "# convert dataframe from subsetted dict, organize columns and sort by patent_date\n",
    "df_1000 = structure_dataframe(data=data_1000)\n",
    "\n",
    "# partition df_1000 into train and test dataframes\n",
    "data_train_1000, data_test_1000 = partition_dataframe(df_1000, .8)\n",
    "\n",
    "# convert dataframes (full, train, test) to list format required by model\n",
    "text_data_1000 = df_1000.patent_title_abstract.tolist()\n",
    "text_train_1000 = data_train_1000.patent_title_abstract.tolist()\n",
    "text_test_1000 = data_test_1000.patent_title_abstract.tolist()\n",
    "\n",
    "# TODO (Lee) - convert text target in JSON response to list w/o dataframe step\n",
    "text_list_1000 = []\n",
    "for i in data_1000:\n",
    "    text_list_1000.append(i['patent_title_abstract'])\n",
    "# text_list"
   ]
  },
  {
   "cell_type": "code",
   "execution_count": 10,
   "metadata": {},
   "outputs": [
    {
     "data": {
      "text/plain": [
       "list"
      ]
     },
     "execution_count": 10,
     "metadata": {},
     "output_type": "execute_result"
    }
   ],
   "source": [
    "type(raw_data_1000)"
   ]
  },
  {
   "cell_type": "markdown",
   "metadata": {},
   "source": [
    "#### Acquire data - Structure data - 2000 patent documents"
   ]
  },
  {
   "cell_type": "code",
   "execution_count": 11,
   "metadata": {},
   "outputs": [],
   "source": [
    "# subset dataset of full api response by desired keys/columns\n",
    "data_2000 = trim_data(data=raw_data_2000, keys=retained_keys)\n",
    "\n",
    "# create dict item by concatenating patent_title and patent_abstract\n",
    "data_2000 = create_title_abstract_col(data=data_2000)\n",
    "\n",
    "# create dataframe, organize columns and sort by patent_date\n",
    "df_2000 = structure_dataframe(data=data_2000)\n",
    "\n",
    "# partition dataframe\n",
    "data_train_2000, data_test_2000 = partition_dataframe(df_2000, .8)\n",
    "\n",
    "# convert dataframe to list format required by model\n",
    "text_data_2000 = df_2000.patent_title_abstract.tolist()\n",
    "text_train_2000 = data_train_2000.patent_title_abstract.tolist()\n",
    "text_test_2000 = data_test_2000.patent_title_abstract.tolist()\n",
    "\n",
    "# TODO (Lee) - convert json response to list, w/o dataframe step\n",
    "text_list_2000 = []\n",
    "for i in data_2000:\n",
    "    text_list_2000.append(i['patent_title_abstract'])\n",
    "# text_list"
   ]
  },
  {
   "cell_type": "markdown",
   "metadata": {},
   "source": [
    "### Pre-process text data"
   ]
  },
  {
   "cell_type": "code",
   "execution_count": 12,
   "metadata": {},
   "outputs": [
    {
     "name": "stdout",
     "output_type": "stream",
     "text": [
      "['tagger', 'parser', 'ner']\n"
     ]
    }
   ],
   "source": [
    "# uncomment to download standard stop words from Spacy\n",
    "# !python -m spacy download en\n",
    "\n",
    "# update path with location to save stopwords\n",
    "path_stopwords = '/Users/lee/Documents/techniche/techniche/data/stopwords/english'\n",
    "stop_words = stopwords.words(path_stopwords)\n",
    "\n",
    "# create text pre-processing pipeline to tokenize, clean and lower text\n",
    "nlp = build_pipeline()\n",
    "print(nlp.pipe_names)\n",
    "\n",
    "# TODO (Lee) # pre-process documents via json-to-list workflow above\n",
    "# processed_docs_1 = process_docs(text_list)\n",
    "\n",
    "# pre-process documents via json-to-df-to-list workflow above\n",
    "processed_docs_1000train = process_docs(text_train_1000)\n",
    "\n",
    "### Build corpus and dictionary\n",
    "\n",
    "# build dictionary\n",
    "id_to_word_1000train = Dictionary(processed_docs_1000train)\n",
    "\n",
    "# save/pickle dictionary for subsequent use\n",
    "# update path with location to save pickled model\n",
    "path_pickle_id_to_word = '/Users/lee/Documents/techniche/techniche/data/id_to_word_1000train.pkl'\n",
    "pickle.dump(id_to_word_1000train, open(path_pickle_id_to_word,'wb'))\n",
    "\n",
    "# apply term-doc freq (list of (token_id, token_count) tuples) to docs\n",
    "corpus_1000train = [id_to_word_1000train.doc2bow(doc) for doc in processed_docs_1000train]\n",
    "\n",
    "# uncomment below to create/view formatted corpus\n",
    "# formatted_corpus_1000 = [[(id_to_word[id], freq) for id, freq in text] for text in corpus_1000train]\n",
    "# formatted_corpus_1000\n",
    "# id_to_word_1000train.token2id"
   ]
  },
  {
   "cell_type": "code",
   "execution_count": 13,
   "metadata": {},
   "outputs": [
    {
     "data": {
      "text/plain": [
       "<gensim.corpora.dictionary.Dictionary at 0x1a1c7ea6a0>"
      ]
     },
     "execution_count": 13,
     "metadata": {},
     "output_type": "execute_result"
    }
   ],
   "source": [
    "id_to_word_1000train"
   ]
  },
  {
   "cell_type": "markdown",
   "metadata": {},
   "source": [
    "## Train model #1: Genism LDA model\n",
    "Model #1: implementation: Gensim LDAmodel; k_topics=5; n_docs=1000, partition = 80/20"
   ]
  },
  {
   "cell_type": "code",
   "execution_count": 14,
   "metadata": {},
   "outputs": [],
   "source": [
    "# construct model #1\n",
    "# TODO (Lee) - resolve deprecation warnings\n",
    "model_1 = LdaModel(corpus=corpus_1000train,\n",
    "                   id2word=id_to_word_1000train,\n",
    "                   num_topics=5, \n",
    "                   random_state=100,\n",
    "                   update_every=1,\n",
    "                   chunksize=100,\n",
    "                   passes=10,\n",
    "                   alpha='auto',\n",
    "                   per_word_topics=True)"
   ]
  },
  {
   "cell_type": "markdown",
   "metadata": {},
   "source": [
    "### Model #1 - Explore and visualize"
   ]
  },
  {
   "cell_type": "code",
   "execution_count": 15,
   "metadata": {},
   "outputs": [],
   "source": [
    "# explore topics visually\n",
    "pyLDAvis.enable_notebook()\n",
    "viz_topics_model_1 = pyLDAvis.gensim.prepare(model_1, corpus_1000train, id_to_word_1000train)\n",
    "# viz_topics_model_1"
   ]
  },
  {
   "cell_type": "code",
   "execution_count": 16,
   "metadata": {},
   "outputs": [],
   "source": [
    "# uncomment below to view keywords in n topics in corpus\n",
    "# pprint(model_1.print_topics())"
   ]
  },
  {
   "cell_type": "code",
   "execution_count": 17,
   "metadata": {},
   "outputs": [],
   "source": [
    "# uncomment below to view most important keywords and weight of given topic w/ idx 0\n",
    "# pprint(model_1.print_topic(4))"
   ]
  },
  {
   "cell_type": "markdown",
   "metadata": {},
   "source": [
    "### Model #1 - Evaluate\n",
    "We evaluate models using coherence and perplexity metrics. As unsupervised learning task, no labels with which to evaluate the \"expected\" prediction. There is an open research agenda on LDA evaluation approaches (intrinsic vs extrinsic; machine vs human-interpretable, etc., task-specific). "
   ]
  },
  {
   "cell_type": "markdown",
   "metadata": {},
   "source": [
    "#### Model #1 - Evaluate - Pre-process test set"
   ]
  },
  {
   "cell_type": "code",
   "execution_count": 18,
   "metadata": {},
   "outputs": [],
   "source": [
    "# TODO (Lee) pre-process 1000 patents from df-to-list worfklow above\n",
    "processed_docs_1000test = process_docs(text_test_1000)\n",
    "\n",
    "# build dictionary with dataset of 1000 patents\n",
    "id_to_word_1000test = Dictionary(processed_docs_1000test)\n",
    "\n",
    "# apply term-doc frequency (list of (token_id, token_count) tuples) to 1000 patents\n",
    "corpus_1000test = [id_to_word_1000test.doc2bow(doc) for doc in processed_docs_1000test]"
   ]
  },
  {
   "cell_type": "markdown",
   "metadata": {},
   "source": [
    "#### Model #1 - Evaluate - Coherence\n",
    "Calculate topic coherence for topic models with 4-step coherence pipeline (segmentation, probability estimation, confirmation measure, aggregation) from Roeder et al., 2015. \"Exploring the space of topic coherence measures\", WSDM '15 Proceedings of the Eighth ACM International Conference on Web Search and Data Mining (WSDM) 2015, 399-408."
   ]
  },
  {
   "cell_type": "code",
   "execution_count": 19,
   "metadata": {},
   "outputs": [
    {
     "name": "stdout",
     "output_type": "stream",
     "text": [
      "0.3557055926610265\n"
     ]
    }
   ],
   "source": [
    "# calculate coherence metric for train set ((n = 800 docs/1000 docs total in dataset))\n",
    "coherence_model_1train = CoherenceModel(model=model_1, \n",
    "                                        texts=processed_docs_1000train,\n",
    "                                        dictionary=id_to_word_1000train,\n",
    "                                        coherence='c_v')\n",
    "coherence_model_1train_get = coherence_model_1train.get_coherence()\n",
    "print(coherence_model_1train_get)"
   ]
  },
  {
   "cell_type": "code",
   "execution_count": 20,
   "metadata": {},
   "outputs": [
    {
     "name": "stdout",
     "output_type": "stream",
     "text": [
      "0.6020573135746659\n"
     ]
    }
   ],
   "source": [
    "# calculate coherence metric for test_set (n = 200 docs/1000 docs total in dataset)\n",
    "coherence_model_1test = CoherenceModel(model=model_1, \n",
    "                                       texts=processed_docs_1000test, \n",
    "                                       dictionary=id_to_word_1000test, \n",
    "                                       coherence='c_v')\n",
    "coherence_model_1test_get = coherence_model_1test.get_coherence()\n",
    "print(coherence_model_1test_get)"
   ]
  },
  {
   "cell_type": "code",
   "execution_count": 21,
   "metadata": {},
   "outputs": [],
   "source": [
    "# calculate coherence metric for each of the n topics in the test set\n",
    "coherence_model_1_per_topic = coherence_model_1test.get_coherence_per_topic()\n",
    "\n",
    "# uncomment below to print coherence_model_1_per_topic\n",
    "# print(coherence_model_1_per_topic)"
   ]
  },
  {
   "cell_type": "markdown",
   "metadata": {},
   "source": [
    "#### Model #1 - Evaluate - Perplexity\n",
    "Calculate perplexity metric. Metric calculates and returns per-word likelihood bound using a chunk of documents as evaluation corpus. Output calculated statistics, including the perplexity=2^(-bound), to log at INFO level. Returns the variational bound score calculated for each word"
   ]
  },
  {
   "cell_type": "code",
   "execution_count": 22,
   "metadata": {},
   "outputs": [
    {
     "name": "stdout",
     "output_type": "stream",
     "text": [
      "-7.091984309948656\n"
     ]
    }
   ],
   "source": [
    "# calculate perplexity metric for model_1 train set (1000 patents)\n",
    "perplexity_model_1train = model_1.log_perplexity(corpus_1000train)\n",
    "print(perplexity_model_1train)"
   ]
  },
  {
   "cell_type": "code",
   "execution_count": 23,
   "metadata": {},
   "outputs": [
    {
     "name": "stdout",
     "output_type": "stream",
     "text": [
      "-9.661613601356644\n"
     ]
    }
   ],
   "source": [
    "# calculate perplexity metric for model_1 test set (1000 patents)\n",
    "perplexity_model_1test = model_1.log_perplexity(corpus_1000test)\n",
    "print(perplexity_model_1test)"
   ]
  },
  {
   "cell_type": "markdown",
   "metadata": {},
   "source": [
    "### Model #1 - Predict"
   ]
  },
  {
   "cell_type": "markdown",
   "metadata": {},
   "source": [
    "#### Model #1 - Predict - Pickle model"
   ]
  },
  {
   "cell_type": "code",
   "execution_count": 24,
   "metadata": {},
   "outputs": [],
   "source": [
    "# save/pickle model #1 for subsequent use\n",
    "# update path with location to save pickled model\n",
    "path_pickle_model_1 = '/Users/lee/Documents/techniche/techniche/data/model_lda_1.pkl'\n",
    "pickle.dump(model_1, open(path_pickle_model_1,'wb'))"
   ]
  },
  {
   "cell_type": "code",
   "execution_count": 25,
   "metadata": {},
   "outputs": [],
   "source": [
    "# uncommment below to load pickled model #1\n",
    "# model_1 = pickle.load(open(path_pickle_model_1"
   ]
  },
  {
   "cell_type": "markdown",
   "metadata": {},
   "source": [
    "#### Model #1 - inference"
   ]
  },
  {
   "cell_type": "code",
   "execution_count": 26,
   "metadata": {},
   "outputs": [],
   "source": [
    "## Test model #1 on 2 new text w/ two strings\n",
    "\n",
    "# define example text_input #1, expressing keyword-type search\n",
    "text_input_1 = 'smart assistant transformer model translation'.split()\n",
    "\n",
    "# define example text_input #1, expressing technical details in job post\n",
    "text_input_2 = \"\"\"At the Siri International team within Apple we bring the\n",
    "Siri intelligent assistant to our customers worldwide in over 40 languages\n",
    "and dialects. Join us, and tackle some of the most challenging problems in\n",
    "natural language processing and large scale applied machine learning. You \n",
    "will build cutting edge natural language understanding technologies and \n",
    "deploy them on a global scale. Your work will advance and shape the future\n",
    "vision of our multi-lingual, multi-cultural Siri assistant, and Search \n",
    "applications used by millions across the world Key Qualifications Extensive\n",
    "track record of scientific research in NLP and Machine Learning, or similar\n",
    "experience in developing language technologies for shipping products.\n",
    "Strong coding and software engineering skills in a mainstream programming \n",
    "language, such as Python, Java, C/C++. Familiarity with NLP/ML tools and \n",
    "packages like Caffe, pyTorch, TensorFlow, Weka, scikit-learn, nltk, etc.\n",
    "Practical experience building production quality applications related to \n",
    "natural language processing and machine learning. In-depth knowledge of \n",
    "machine learning algorithms and ability to apply them in data driven natural\n",
    "language processing systems. Ability to quickly prototype ideas / solutions,\n",
    "perform critical analysis, and use creative approaches for solving complex \n",
    "problems. Attention to detail and excellent communication skills. Description\n",
    "We are looking for a highly motivated technologist with a strong background \n",
    "in Natural Language Processing and Machine Learning research. The ideal \n",
    "candidate will have a strong track record of taking research ideas to \n",
    "real-world applications. In this position you will apply your problem solving\n",
    "skills to challenges and opportunities within Siri International, which \n",
    "involves development of large-scale language technologies for many natural\n",
    "languages worldwide. The primary responsibility of this role is to conduct\n",
    "research and develop innovative machine learning, artificial intelligence \n",
    "and NLP solutions for multi-lingual conversational agents. You will have \n",
    "the opportunity to investigate cutting edge research methods that will \n",
    "improve customer experience of our products and enable our engineers to \n",
    "scale these technologies across a variety of natural languages. You will \n",
    "also provide technical leadership and experiment-driven insights for \n",
    "engineering teams on their machine learning modeling and data decisions. \n",
    "You will play a central role in defining the future technical directions \n",
    "of Siri International through quick prototyping, critical analysis and \n",
    "development of core multi-lingual NLP technologies. Education & Experience\n",
    "PhD in Machine Learning, Statistics, Computer Science, Mathematics or \n",
    "related field with specialization in natural language processing and/or \n",
    "machine learning, OR * Masters degree in a related field with a strong \n",
    "academic/industrial track record. * Hands-on research experience in an \n",
    "academic or industrial setting.\"\"\".split()"
   ]
  },
  {
   "cell_type": "code",
   "execution_count": 27,
   "metadata": {},
   "outputs": [],
   "source": [
    "%%capture\n",
    "# pass text through pre-process pipeline\n",
    "id_to_word_1000train.doc2bow(text_input_1)\n",
    "id_to_word_1000train.doc2bow(text_input_2)"
   ]
  },
  {
   "cell_type": "code",
   "execution_count": 28,
   "metadata": {},
   "outputs": [],
   "source": [
    "predict_input_1 = get_topics(id_to_word_1000train.doc2bow(text_input_1), model_1, k=10)\n",
    "# uncomment below to view predict_input_1\n",
    "# predict_input_1"
   ]
  },
  {
   "cell_type": "code",
   "execution_count": 29,
   "metadata": {},
   "outputs": [],
   "source": [
    "predict_input_2 = get_topics(id_to_word_1000train.doc2bow(text_input_2), model_1, k=10)\n",
    "# uncomment below to view predict_input_2\n",
    "# predict_input_2"
   ]
  },
  {
   "cell_type": "markdown",
   "metadata": {},
   "source": [
    "## Train model #2: Genism LDAMallet model\n",
    "Model #2: implementation: Gensim LDAMallet wrapper around LDA Mallet model; \n",
    "          k_topics=5; \n",
    "          n_docs=1000; \n",
    "          partition = 80/20"
   ]
  },
  {
   "cell_type": "code",
   "execution_count": 30,
   "metadata": {},
   "outputs": [],
   "source": [
    "# uncomment to download Mallet topic model\n",
    "# !wget http://mallet.cs.umass.edu/dist/mallet-2.0.8.zip\n",
    "# update path\n",
    "path_mallet = '/Users/lee/Documents/techniche/techniche/data/mallet-2.0.8/bin/mallet'"
   ]
  },
  {
   "cell_type": "code",
   "execution_count": 31,
   "metadata": {},
   "outputs": [],
   "source": [
    "# construct model #2\n",
    "# TODO (Lee) - resolve deprecation warnings\n",
    "model_2 = gensim.models.wrappers.LdaMallet(path_mallet, \n",
    "                                           corpus=corpus_1000train, \n",
    "                                           num_topics=5, \n",
    "                                           id2word=id_to_word_1000train)"
   ]
  },
  {
   "cell_type": "markdown",
   "metadata": {},
   "source": [
    "### Model #2 - Explore and visualize"
   ]
  },
  {
   "cell_type": "code",
   "execution_count": 32,
   "metadata": {},
   "outputs": [],
   "source": [
    "# TODO (Lee) - visualization with LDA Mallet\n",
    "# explore topics visually\n",
    "# pyLDAvis.enable_notebook()\n",
    "# viz_topics_model_2 = pyLDAvis.prepare(model_2, corpus_1000train, id_to_word_1000train)\n",
    "# viz_topics_model_2"
   ]
  },
  {
   "cell_type": "code",
   "execution_count": 33,
   "metadata": {},
   "outputs": [],
   "source": [
    "# uncomment below to view keywords in n topics in corpus\n",
    "# pprint(model_2.print_topics())"
   ]
  },
  {
   "cell_type": "code",
   "execution_count": 34,
   "metadata": {},
   "outputs": [],
   "source": [
    "# uncomment below to view most important keywords and weight for given topic (idx 0)\n",
    "# uncomment below to view\n",
    "# pprint(model_2.print_topic(4))"
   ]
  },
  {
   "cell_type": "markdown",
   "metadata": {},
   "source": [
    "### Model #2- Evaluate"
   ]
  },
  {
   "cell_type": "markdown",
   "metadata": {},
   "source": [
    "#### Model #2 - Evaluate - Coherence"
   ]
  },
  {
   "cell_type": "code",
   "execution_count": 35,
   "metadata": {},
   "outputs": [
    {
     "name": "stdout",
     "output_type": "stream",
     "text": [
      "0.37918464892359377\n"
     ]
    }
   ],
   "source": [
    "# calculate coherence metric for train set ((n = 800 docs/1000 docs total in dataset))\n",
    "coherence_model_2train = CoherenceModel(model=model_2, \n",
    "                                        texts=processed_docs_1000train,\n",
    "                                        dictionary=id_to_word_1000train,\n",
    "                                        coherence='c_v')\n",
    "coherence_model_2train_get = coherence_model_2train.get_coherence()\n",
    "print(coherence_model_2train_get)"
   ]
  },
  {
   "cell_type": "code",
   "execution_count": 36,
   "metadata": {},
   "outputs": [
    {
     "name": "stdout",
     "output_type": "stream",
     "text": [
      "0.6205180192789347\n"
     ]
    }
   ],
   "source": [
    "# calculate coherence metric for test_set (n = 200 docs/1000 docs total in dataset)\n",
    "coherence_model_2test = CoherenceModel(model=model_2, \n",
    "                                       texts=processed_docs_1000test, \n",
    "                                       dictionary=id_to_word_1000test, \n",
    "                                       coherence='c_v')\n",
    "coherence_model_2test_get = coherence_model_2test.get_coherence()\n",
    "print(coherence_model_2test_get)"
   ]
  },
  {
   "cell_type": "code",
   "execution_count": 37,
   "metadata": {},
   "outputs": [],
   "source": [
    "# calculate coherence metric for each of the n topics in the test set\n",
    "coherence_model_2_per_topic = coherence_model_2test.get_coherence_per_topic()\n",
    "# print(coherence_model_2_per_topic)"
   ]
  },
  {
   "cell_type": "markdown",
   "metadata": {},
   "source": [
    "## Train Model #3: Gensim LDA model\n",
    "Model #1: implementation: Gensim LDAmodel; k_topics=10; n_docs=1000, partition = 80/20\n",
    "This model increases the k_topics from 5 to 10, relative to model #1 above"
   ]
  },
  {
   "cell_type": "code",
   "execution_count": 38,
   "metadata": {},
   "outputs": [],
   "source": [
    "# construct model #3\n",
    "# TODO (Lee) - resolve deprecation warnings\n",
    "model_3 = LdaModel(corpus=corpus_1000train,\n",
    "                   id2word=id_to_word_1000train,\n",
    "                   num_topics=10, \n",
    "                   random_state=100,\n",
    "                   update_every=1,\n",
    "                   chunksize=100,\n",
    "                   passes=10,\n",
    "                   alpha='auto',\n",
    "                   per_word_topics=True)"
   ]
  },
  {
   "cell_type": "markdown",
   "metadata": {},
   "source": [
    "### Model #3 - Explore and visualize"
   ]
  },
  {
   "cell_type": "code",
   "execution_count": 39,
   "metadata": {},
   "outputs": [],
   "source": [
    "# explore topics visually\n",
    "pyLDAvis.enable_notebook()\n",
    "viz_topics_model_3 = pyLDAvis.gensim.prepare(model_3, corpus_1000train, id_to_word_1000train)\n",
    "# viz_topics_model_3"
   ]
  },
  {
   "cell_type": "code",
   "execution_count": 40,
   "metadata": {},
   "outputs": [],
   "source": [
    "# keywords in n topics in corpus\n",
    "# uncomment below to view\n",
    "# pprint(model_3.print_topics())"
   ]
  },
  {
   "cell_type": "code",
   "execution_count": 41,
   "metadata": {},
   "outputs": [],
   "source": [
    "# most important keywords, and the respective weight, that form topic with index 0\n",
    "# uncomment below to view\n",
    "# pprint(model_3.print_topic(4))"
   ]
  },
  {
   "cell_type": "markdown",
   "metadata": {},
   "source": [
    "### Model #3 - Evaluate"
   ]
  },
  {
   "cell_type": "markdown",
   "metadata": {},
   "source": [
    "#### Model #3 - Evaluate - Coherence"
   ]
  },
  {
   "cell_type": "code",
   "execution_count": 42,
   "metadata": {},
   "outputs": [
    {
     "name": "stdout",
     "output_type": "stream",
     "text": [
      "0.3628245805478861\n"
     ]
    }
   ],
   "source": [
    "# calculate coherence metric for train set ((n = 800 docs/1000 docs total in dataset))\n",
    "coherence_model_3train = CoherenceModel(model=model_3, \n",
    "                                        texts=processed_docs_1000train,\n",
    "                                        dictionary=id_to_word_1000train,\n",
    "                                        coherence='c_v')\n",
    "coherence_model_3train_get = coherence_model_3train.get_coherence()\n",
    "print(coherence_model_3train_get)"
   ]
  },
  {
   "cell_type": "code",
   "execution_count": 43,
   "metadata": {},
   "outputs": [
    {
     "name": "stdout",
     "output_type": "stream",
     "text": [
      "0.6081902191345155\n"
     ]
    }
   ],
   "source": [
    "# calculate coherence metric for test_set (n = 200 docs/1000 docs total in dataset)\n",
    "coherence_model_3test = CoherenceModel(model=model_3, \n",
    "                                       texts=processed_docs_1000test, \n",
    "                                       dictionary=id_to_word_1000test, \n",
    "                                       coherence='c_v')\n",
    "coherence_model_3test_get = coherence_model_3test.get_coherence()\n",
    "print(coherence_model_3test_get)"
   ]
  },
  {
   "cell_type": "code",
   "execution_count": 44,
   "metadata": {},
   "outputs": [],
   "source": [
    "# calculate coherence metric for each of the n topics in the test set\n",
    "coherence_model_3_per_topic = coherence_model_3test.get_coherence_per_topic()\n",
    "# print(coherence_model_1_per_topic)"
   ]
  },
  {
   "cell_type": "markdown",
   "metadata": {},
   "source": [
    "#### Model #3 - Evaluate - Perplexity"
   ]
  },
  {
   "cell_type": "code",
   "execution_count": 45,
   "metadata": {},
   "outputs": [
    {
     "name": "stdout",
     "output_type": "stream",
     "text": [
      "-7.0676967060500635\n"
     ]
    }
   ],
   "source": [
    "# calculate perplexity metric for model_1 train set\n",
    "perplexity_model_3train = model_3.log_perplexity(corpus_1000train)\n",
    "print(perplexity_model_3train)"
   ]
  },
  {
   "cell_type": "code",
   "execution_count": 46,
   "metadata": {},
   "outputs": [
    {
     "name": "stdout",
     "output_type": "stream",
     "text": [
      "-9.945866263106378\n"
     ]
    }
   ],
   "source": [
    "# calculate perplexity metric for model_1 test set\n",
    "perplexity_model_3test = model_3.log_perplexity(corpus_1000test)\n",
    "print(perplexity_model_3test)"
   ]
  },
  {
   "cell_type": "markdown",
   "metadata": {},
   "source": [
    "### Model #3 - Predict"
   ]
  },
  {
   "cell_type": "markdown",
   "metadata": {},
   "source": [
    "#### Model #3 - Predict - Pickle model"
   ]
  },
  {
   "cell_type": "code",
   "execution_count": 47,
   "metadata": {},
   "outputs": [],
   "source": [
    "# pickle model #3\n",
    "# # update path with location to save pickled model\n",
    "path_pickle_model_3 = '/Users/lee/Documents/techniche/techniche/data/model_3.pkl'\n",
    "pickle.dump(model_3, open(path_pickle_model_3,'wb'))"
   ]
  },
  {
   "cell_type": "code",
   "execution_count": 48,
   "metadata": {},
   "outputs": [],
   "source": [
    "model_3 = pickle.load(open(path_pickle_model_3,'rb'))"
   ]
  },
  {
   "cell_type": "markdown",
   "metadata": {},
   "source": [
    "#### Model #3 - inference"
   ]
  },
  {
   "cell_type": "code",
   "execution_count": 49,
   "metadata": {},
   "outputs": [],
   "source": [
    "predict_input_1_model_3 = get_topics(id_to_word_1000train.doc2bow(text_input_1), model_3, k=10)\n",
    "# uncomment below to view predict_input_1_model_3\n",
    "# predict_input_1_model_3"
   ]
  },
  {
   "cell_type": "code",
   "execution_count": 50,
   "metadata": {},
   "outputs": [],
   "source": [
    "predict_input_2_model_3 = get_topics(id_to_word_1000train.doc2bow(text_input_2), model_3, k=10)\n",
    "# uncomment below to view predict_input_2_model_3\n",
    "# predict_input_2_model_3"
   ]
  },
  {
   "cell_type": "markdown",
   "metadata": {},
   "source": [
    "## Train Model #4: Gensim LDA model\n",
    "Model #4: implementation: Gensim LDAmodel; k_topics=15; n_docs=1000, partition = 80/20\n",
    "This model increases the k_topics to 15, relative to model #1 and model #3 above"
   ]
  },
  {
   "cell_type": "code",
   "execution_count": 51,
   "metadata": {},
   "outputs": [],
   "source": [
    "# construct model #4\n",
    "# TODO (Lee) - resolve deprecation warnings\n",
    "model_4 = LdaModel(corpus=corpus_1000train,\n",
    "                   id2word=id_to_word_1000train,\n",
    "                   num_topics=15, \n",
    "                   random_state=100,\n",
    "                   update_every=1,\n",
    "                   chunksize=100,\n",
    "                   passes=10,\n",
    "                   alpha='auto',\n",
    "                   per_word_topics=True)"
   ]
  },
  {
   "cell_type": "markdown",
   "metadata": {},
   "source": [
    "### Model #4 - Explore and visualize"
   ]
  },
  {
   "cell_type": "code",
   "execution_count": 52,
   "metadata": {},
   "outputs": [],
   "source": [
    "# explore topics visually\n",
    "pyLDAvis.enable_notebook()\n",
    "viz_topics_model_4 = pyLDAvis.gensim.prepare(model_4, corpus_1000train, id_to_word_1000train)\n",
    "# viz_topics_model_1"
   ]
  },
  {
   "cell_type": "code",
   "execution_count": 53,
   "metadata": {},
   "outputs": [],
   "source": [
    "# uncomment below to view keywords in n topics in corpus\n",
    "# pprint(model_4.print_topics())"
   ]
  },
  {
   "cell_type": "code",
   "execution_count": 54,
   "metadata": {},
   "outputs": [],
   "source": [
    "# uncomment below to view most important keywords and weight for given topic (idx 0)\n",
    "# pprint(model_4.print_topic(4))"
   ]
  },
  {
   "cell_type": "markdown",
   "metadata": {},
   "source": [
    "### Model #4 - Evaluate"
   ]
  },
  {
   "cell_type": "markdown",
   "metadata": {},
   "source": [
    "#### Model #4 - Evaluate - Coherence"
   ]
  },
  {
   "cell_type": "code",
   "execution_count": 55,
   "metadata": {},
   "outputs": [
    {
     "name": "stdout",
     "output_type": "stream",
     "text": [
      "0.37342906623443217\n"
     ]
    }
   ],
   "source": [
    "# calculate coherence metric for train set ((n = 800 docs/1000 docs total in dataset))\n",
    "coherence_model_4train = CoherenceModel(model=model_4,\n",
    "                                        texts=processed_docs_1000train,\n",
    "                                        dictionary=id_to_word_1000train,\n",
    "                                        coherence='c_v')\n",
    "coherence_model_4train_get = coherence_model_4train.get_coherence()\n",
    "print(coherence_model_4train_get)"
   ]
  },
  {
   "cell_type": "code",
   "execution_count": 56,
   "metadata": {},
   "outputs": [],
   "source": [
    "#TODO (Lee)\n",
    "# calculate coherence metric for test_set (n = 200 docs/1000 docs total in dataset)\n",
    "# coherence_model_4test = CoherenceModel(model=model_4,\n",
    "#                                        texts=processed_docs_1000test,\n",
    "#                                        dictionary=id_to_word_1000test,\n",
    "#                                        coherence='c_v')\n",
    "# coherence_model_4test_get = coherence_model_4test.get_coherence()\n",
    "# print(coherence_model_4test_get)"
   ]
  },
  {
   "cell_type": "code",
   "execution_count": 57,
   "metadata": {},
   "outputs": [],
   "source": [
    "#TODO (Lee)\n",
    "# calculate coherence metric for each of the n topics in the test set\n",
    "# coherence_model_4_per_topic = coherence_model_4test.get_coherence_per_topic()\n",
    "# print(coherence_model_1_per_topic)"
   ]
  },
  {
   "cell_type": "markdown",
   "metadata": {},
   "source": [
    "#### Model #4 - Evaluate - Perplexity"
   ]
  },
  {
   "cell_type": "code",
   "execution_count": 58,
   "metadata": {},
   "outputs": [
    {
     "name": "stdout",
     "output_type": "stream",
     "text": [
      "-7.067692260355805\n"
     ]
    }
   ],
   "source": [
    "# calculate perplexity metric for model_1 train set\n",
    "perplexity_model_3train = model_3.log_perplexity(corpus_1000train)\n",
    "print(perplexity_model_3train)"
   ]
  },
  {
   "cell_type": "code",
   "execution_count": 59,
   "metadata": {},
   "outputs": [
    {
     "name": "stdout",
     "output_type": "stream",
     "text": [
      "-9.945866293005516\n"
     ]
    }
   ],
   "source": [
    "# calculate perplexity metric for model_1 test set\n",
    "perplexity_model_3test = model_3.log_perplexity(corpus_1000test)\n",
    "print(perplexity_model_3test)"
   ]
  },
  {
   "cell_type": "markdown",
   "metadata": {},
   "source": [
    "### Model #4 - Predict"
   ]
  },
  {
   "cell_type": "markdown",
   "metadata": {},
   "source": [
    "#### Model #4 - Predict - Pickle model"
   ]
  },
  {
   "cell_type": "code",
   "execution_count": 60,
   "metadata": {},
   "outputs": [],
   "source": [
    "# pickle model\n",
    "# # update path with location to save pickled model\n",
    "path_pickle_model_4 = '/Users/lee/Documents/techniche/techniche/data/model_4.pkl'\n",
    "pickle.dump(model_4, open(path_pickle_model_4,'wb'))"
   ]
  },
  {
   "cell_type": "code",
   "execution_count": 61,
   "metadata": {},
   "outputs": [],
   "source": [
    "model_4 = pickle.load(open(path_pickle_model_4,'rb'))"
   ]
  },
  {
   "cell_type": "markdown",
   "metadata": {},
   "source": [
    "#### Model #4 - inference"
   ]
  },
  {
   "cell_type": "code",
   "execution_count": 62,
   "metadata": {},
   "outputs": [],
   "source": [
    "predict_input_1_model_4 = get_topics(id_to_word_1000train.doc2bow(text_input_1), model_4, k=10)\n",
    "# uncomment below to view predict_input_1_model_4\n",
    "# predict_input_1_model_4"
   ]
  },
  {
   "cell_type": "code",
   "execution_count": 63,
   "metadata": {},
   "outputs": [],
   "source": [
    "predict_input_2_model_4 = get_topics(id_to_word_1000train.doc2bow(text_input_2), model_4, k=10)\n",
    "# uncomment below to view predict_input_2_model_4\n",
    "# predict_input_2_model_4"
   ]
  },
  {
   "cell_type": "markdown",
   "metadata": {},
   "source": [
    "## Train Model #5: Author-topic model\n",
    "Model #4: implementation: Gensim AuthorTopicModel; k_topics=15; n_docs=1000, partition = 80/20\n",
    "This model increases the k_topics to 15, relative to model #1 and model #3 above"
   ]
  },
  {
   "cell_type": "code",
   "execution_count": 64,
   "metadata": {},
   "outputs": [],
   "source": [
    "# uncomment to view quick visual index to patent number mapping\n",
    "# for i in raw_data_1000:\n",
    "#     print(raw_data_1000.index(i), i['patent_number'])"
   ]
  },
  {
   "cell_type": "code",
   "execution_count": 65,
   "metadata": {
    "scrolled": true
   },
   "outputs": [],
   "source": [
    "# TODO (Lee) review pat_inv_map workflow\n",
    "# partitions data_1000 to size of training set (80/20 split so grabs first 800 rows)\n",
    "data_800 = data_1000[:800]\n",
    "\n",
    "# create inventor-to-doc mapping from original list of dicts in json api response\n",
    "pat2inv = pat_inv_map(data_800)"
   ]
  },
  {
   "cell_type": "markdown",
   "metadata": {},
   "source": [
    "#### Construct author-topic model"
   ]
  },
  {
   "cell_type": "code",
   "execution_count": 66,
   "metadata": {},
   "outputs": [],
   "source": [
    "# construct author-topic model\n",
    "model_at = AuthorTopicModel(corpus=corpus_1000train,\n",
    "                            doc2author=pat2inv,\n",
    "                            id2word=id_to_word_1000train)"
   ]
  },
  {
   "cell_type": "code",
   "execution_count": 67,
   "metadata": {},
   "outputs": [
    {
     "data": {
      "text/plain": [
       "[[(46, 0.9643839432941929)],\n",
       " [(65, 0.9639355662340786)],\n",
       " [(57, 0.9155596112480439)],\n",
       " [(48, 0.9106047601892854)],\n",
       " [(84, 0.9136289757853294)],\n",
       " [(25, 0.913399447892555)],\n",
       " [],\n",
       " [(55, 0.9223575854488589)],\n",
       " [(15, 0.9237006044025423)],\n",
       " [(23, 0.9232493512012585)],\n",
       " [(4, 0.913219716362475)],\n",
       " [(17, 0.46472217075139427), (21, 0.4447310778409392)],\n",
       " [(15, 0.31823650809958015), (73, 0.5926160784000312)],\n",
       " [(68, 0.9095887391735005)],\n",
       " [(99, 0.9122984850435393)],\n",
       " [(33, 0.9109323195414232)],\n",
       " [(82, 0.8669217446428301)],\n",
       " [(92, 0.8696849365356564)],\n",
       " [(64, 0.8710193865525495)],\n",
       " [(45, 0.8637760143693869)],\n",
       " [(43, 0.8714637378257775)],\n",
       " [(20, 0.8657615275181453)],\n",
       " [(26, 0.8700237345562354)],\n",
       " [(60, 0.8571555715609285)],\n",
       " [(8, 0.30676073627275546), (39, 0.5288994175189405)],\n",
       " [(66, 0.8507292367745055)],\n",
       " [(34, 0.8522793561659548)],\n",
       " [(50, 0.8555332190378276)],\n",
       " [(62, 0.8543287019381355)],\n",
       " [(0, 0.8539629604031524)],\n",
       " [(18, 0.8558094991278395)],\n",
       " [(81, 0.8502098634803396)],\n",
       " [(51, 0.8296610700128976)],\n",
       " [(28, 0.30705875135115296), (64, 0.49872113271622054)],\n",
       " [(54, 0.8302051772847758)],\n",
       " [(56, 0.8262111294366875)],\n",
       " [(16, 0.39930887608223975), (92, 0.40972563819271485)],\n",
       " [(8, 0.8531898316803939)],\n",
       " [(88, 0.9315326253077352)],\n",
       " [(72, 0.9339766909871635)],\n",
       " [(44, 0.9327235702617506)],\n",
       " [(39, 0.9315531541197227)],\n",
       " [(29, 0.33032178645133425), (52, 0.6339007781363524)],\n",
       " [(9, 0.42843840088633495), (63, 0.5356317546368903)],\n",
       " [(58, 0.8065380731604841), (59, 0.18394735120172148)],\n",
       " [(74, 0.9438396142245178)],\n",
       " [(58, 0.937320039966193)],\n",
       " [(82, 0.9181007855868512)],\n",
       " [(49, 0.9246182697229831)],\n",
       " [(17, 0.9769121709630901)],\n",
       " [(29, 0.4709349499097752), (82, 0.5057983396542163)],\n",
       " [(3, 0.9094448689912408), (18, 0.06022949783719391)],\n",
       " [(14, 0.5271728024551621), (69, 0.4408888365001785)],\n",
       " [(36, 0.8942781459750554)],\n",
       " [(71, 0.896900986297732)],\n",
       " [(67, 0.8959737263378617)],\n",
       " [(70, 0.8972418899961391)],\n",
       " [(3, 0.8976169628448505)],\n",
       " [(76, 0.898025636323956)],\n",
       " [(90, 0.8964179374251106)],\n",
       " [(6, 0.897642133533916)],\n",
       " [(95, 0.892222745052732)],\n",
       " [(3, 0.8976169628448505)],\n",
       " [(22, 0.8813668275019053)],\n",
       " [(91, 0.9575775532776799)],\n",
       " [(42, 0.9150051450250185)],\n",
       " [(28, 0.6969535310140769), (57, 0.20976379213044835)],\n",
       " [(37, 0.9118813392497562)],\n",
       " [(89, 0.912028933423962)],\n",
       " [(77, 0.9757739403593234)],\n",
       " [(1, 0.9480951251562082)],\n",
       " [],\n",
       " [],\n",
       " [(67, 0.03820992231646229),\n",
       "  (72, 0.6447013194485599),\n",
       "  (82, 0.2980154797502598)],\n",
       " [(6, 0.8350746109714425), (40, 0.14613110372970306)],\n",
       " [(16, 0.49405574740191915), (79, 0.4911010462603825)],\n",
       " [(52, 0.9481004143616476)],\n",
       " [(63, 0.9499555656689)],\n",
       " [(61, 0.9455715128878517)],\n",
       " [(79, 0.941307909364171)],\n",
       " [(88, 0.9452673675128495)],\n",
       " [(26, 0.969721061103853)],\n",
       " [(24, 0.9706970664885669)],\n",
       " [(6, 0.5180085596830523), (46, 0.45248668662099145)],\n",
       " [(45, 0.9817607849171059)],\n",
       " [],\n",
       " [(98, 0.9296579649566389)],\n",
       " [(3, 0.9319273039505765)],\n",
       " [(86, 0.928952903684527)],\n",
       " [(20, 0.9668794823140077)],\n",
       " [(82, 0.9233006774597948)],\n",
       " [(34, 0.01629662270565398), (97, 0.9435680891567628)],\n",
       " [(54, 0.2579942055044341), (67, 0.7007863728362884)],\n",
       " [(31, 0.13909446162484182),\n",
       "  (46, 0.32777120395623455),\n",
       "  (96, 0.514196409101342)],\n",
       " [(9, 0.5829820628824376),\n",
       "  (40, 0.1229193926282609),\n",
       "  (84, 0.06342112071123572),\n",
       "  (89, 0.08899191319252184),\n",
       "  (91, 0.1318916961525519)],\n",
       " [],\n",
       " [(93, 0.9230271016520339)],\n",
       " [(72, 0.9287161549700222)],\n",
       " [],\n",
       " [(35, 0.9354597642109912)],\n",
       " [(21, 0.9354671100307277)],\n",
       " [(80, 0.9477682839675521)],\n",
       " [(19, 0.9490874142823856)],\n",
       " [],\n",
       " [(82, 0.9427372030519414)],\n",
       " [],\n",
       " [(2, 0.19205883878759844),\n",
       "  (31, 0.02810770038037174),\n",
       "  (38, 0.08795192751506552),\n",
       "  (91, 0.6841395978330934)],\n",
       " [(46, 0.5077432582958058), (93, 0.4765200326556636)],\n",
       " [(65, 0.9516785755886773)],\n",
       " [(17, 0.4772947238460899), (31, 0.4737162963268864)],\n",
       " [(19, 0.9213859032568512), (49, 0.03575141862512697)],\n",
       " [(10, 0.9579369292984551)],\n",
       " [(77, 0.9894725319052822)],\n",
       " [],\n",
       " [(1, 0.8460825504545675), (59, 0.1290307637185429)],\n",
       " [(29, 0.3041290578742901), (90, 0.6586062859513537)],\n",
       " [(22, 0.953551714898991)],\n",
       " [(29, 0.9768746939024446)],\n",
       " [(23, 0.9762772325918816)],\n",
       " [(81, 0.9770126963726458)],\n",
       " [(39, 0.9224317467967578), (60, 0.0447619474771366)],\n",
       " [(19, 0.08411620761443654),\n",
       "  (54, 0.6366796226466213),\n",
       "  (56, 0.24567819406738817)],\n",
       " [],\n",
       " [],\n",
       " [],\n",
       " [],\n",
       " [(72, 0.9822988920530588)],\n",
       " [(44, 0.9810247341667446)],\n",
       " [(28, 0.7920444437380884), (45, 0.17671048640724696)],\n",
       " [(75, 0.9776359894600442)],\n",
       " [(23, 0.9695123508306541)],\n",
       " [(81, 0.9690971518933135)],\n",
       " [(6, 0.6088941320320689), (76, 0.3563840167843139)],\n",
       " [],\n",
       " [],\n",
       " [],\n",
       " [],\n",
       " [(38, 0.6092356776720611),\n",
       "  (58, 0.21938686614783956),\n",
       "  (89, 0.1616774561800976)],\n",
       " [(11, 0.18328451777164548),\n",
       "  (79, 0.5092874420793478),\n",
       "  (84, 0.27956063421126304)],\n",
       " [(70, 0.9433317218715198)],\n",
       " [(31, 0.9393557245545843)],\n",
       " [(83, 0.9417412362471219)],\n",
       " [(33, 0.9421216088701158)],\n",
       " [(87, 0.9405419620225477)],\n",
       " [(93, 0.943288650460897)],\n",
       " [(1, 0.904956864666029)],\n",
       " [],\n",
       " [],\n",
       " [],\n",
       " [],\n",
       " [(10, 0.5551702403471537), (24, 0.43394087076395355)],\n",
       " [(11, 0.47915446799929534), (24, 0.4179269204839751)],\n",
       " [(24, 0.9020376173404386)],\n",
       " [(5, 0.272654775563435), (69, 0.684973431077046)],\n",
       " [(34, 0.9212147151068527)],\n",
       " [(57, 0.7468384027875031), (74, 0.24661949066940386)],\n",
       " [(2, 0.9492276873768257)],\n",
       " [(16, 0.9497048095907823)],\n",
       " [(38, 0.8209610866376683), (39, 0.1469878953524467)],\n",
       " [],\n",
       " [],\n",
       " [(19, 0.4925407871015916), (39, 0.4742617664975635)],\n",
       " [(15, 0.0791430126901462),\n",
       "  (37, 0.43709772923640994),\n",
       "  (53, 0.3378524615317586),\n",
       "  (89, 0.13310679654168253)],\n",
       " [(98, 0.9419397184752986)],\n",
       " [(17, 0.957653011342632)],\n",
       " [(29, 0.9500412370264995)],\n",
       " [(13, 0.22638853872671177), (15, 0.7184109293766239)],\n",
       " [(20, 0.9476798124298399)],\n",
       " [(72, 0.9829501613158889)],\n",
       " [(74, 0.9653035569696612)],\n",
       " [(1, 0.5483097402545428), (78, 0.4151606444671967)],\n",
       " [(16, 0.16793817169854108),\n",
       "  (50, 0.31009971329619335),\n",
       "  (75, 0.5113027743459241)],\n",
       " [(37, 0.5120722061032232), (83, 0.4755755183036686)],\n",
       " [(48, 0.9500414436105283)],\n",
       " [(4, 0.931002925395744)],\n",
       " [(60, 0.3875458876751779), (81, 0.608019723184551)],\n",
       " [(21, 0.6061385928504225),\n",
       "  (63, 0.21580424580568),\n",
       "  (82, 0.025843801230372034),\n",
       "  (93, 0.14117887735490375)],\n",
       " [(92, 0.975279133763918)],\n",
       " [(26, 0.5491768234451843), (49, 0.4381228377697055)],\n",
       " [(60, 0.8839358144164858)],\n",
       " [],\n",
       " [],\n",
       " [(25, 0.7314471176013793), (53, 0.22716636634768886)],\n",
       " [(4, 0.7602307109779676), (39, 0.21108350561572206)],\n",
       " [(93, 0.8873923417472556)],\n",
       " [(61, 0.8886759568576165)],\n",
       " [(44, 0.9411336909696918)],\n",
       " [(29, 0.9673632664582739)],\n",
       " [(4, 0.7646511476831895), (11, 0.20342449818483463)],\n",
       " [(17, 0.9587174806291032)],\n",
       " [(21, 0.9597352199638798)],\n",
       " [(96, 0.8836582934246238)],\n",
       " [(76, 0.881033752794485)],\n",
       " [(45, 0.9137928188630876)],\n",
       " [(29, 0.9090747577230197)],\n",
       " [(41, 0.926743317039313), (43, 0.03175611150559253)],\n",
       " [(17, 0.8570538856303448), (68, 0.10231926972413696)],\n",
       " [(33, 0.9585003101293291)],\n",
       " [(70, 0.025638385958765608), (99, 0.9299428750747383)],\n",
       " [(41, 0.9645459302806579)],\n",
       " [(70, 0.968135489279398)],\n",
       " [(18, 0.9384193251545382), (31, 0.02937519267543331)],\n",
       " [(9, 0.42682345151972034), (41, 0.5240634019661278)],\n",
       " [(30, 0.7407994691780583), (91, 0.20883840701067827)],\n",
       " [(70, 0.9527977080449858)],\n",
       " [(70, 0.9527977080438421)],\n",
       " [(14, 0.9520346328242031)],\n",
       " [(54, 0.9395325068908054)],\n",
       " [(52, 0.46137663430903225), (67, 0.47467161516860445)],\n",
       " [(81, 0.9391299096047175)],\n",
       " [(69, 0.9397299423226753)],\n",
       " [(93, 0.9132054656865525)],\n",
       " [(47, 0.5187048350183852), (89, 0.38737599137203954)],\n",
       " [(89, 0.9141790316889553)],\n",
       " [(65, 0.9113665863957289)],\n",
       " [(72, 0.9152735502721356)],\n",
       " [(38, 0.3196032683079243),\n",
       "  (51, 0.45651315864204733),\n",
       "  (59, 0.12931123621997126)],\n",
       " [(72, 0.915273595713673)],\n",
       " [(77, 0.9131312193493332)],\n",
       " [(13, 0.9139150342439682)],\n",
       " [(87, 0.9131231569720716)],\n",
       " [(10, 0.782624493921313), (75, 0.19792235862305496)],\n",
       " [(10, 0.6708442325502515),\n",
       "  (27, 0.2731555853894742),\n",
       "  (51, 0.036452616751979784)],\n",
       " [(79, 0.9755175690896403)],\n",
       " [(52, 0.9407763828908258)],\n",
       " [(19, 0.9377536185286189)],\n",
       " [(20, 0.9394110619717675)],\n",
       " [(3, 0.38487340460521796), (10, 0.6022318585526708)],\n",
       " [(99, 0.9464421092461981)],\n",
       " [(75, 0.9471091630313311)],\n",
       " [(29, 0.9664595041632372)],\n",
       " [(20, 0.5609401188540942), (96, 0.4034020472446147)],\n",
       " [(20, 0.023663481477133024), (37, 0.9365884346343855)],\n",
       " [],\n",
       " [(11, 0.5590798203095926), (32, 0.41481320248240555)],\n",
       " [(75, 0.9536815086191021)],\n",
       " [(15, 0.8708248947405094)],\n",
       " [(83, 0.8731768666829235)],\n",
       " [(60, 0.8745413589159483)],\n",
       " [(56, 0.8724915397071332)],\n",
       " [],\n",
       " [(17, 0.8695340789611683)],\n",
       " [(21, 0.8706856819638104)],\n",
       " [(35, 0.8695545385122856)],\n",
       " [(52, 0.8665133946011662)],\n",
       " [(28, 0.601187917398039), (31, 0.2557506324514184)],\n",
       " [(46, 0.9842459639920924)],\n",
       " [(82, 0.14301808596095492), (83, 0.8381874557985776)],\n",
       " [(82, 0.9579346137364503)],\n",
       " [(62, 0.7687601888067984),\n",
       "  (68, 0.026567753520344635),\n",
       "  (78, 0.16551948693069335)],\n",
       " [(80, 0.9628312875542084)],\n",
       " [(9, 0.9102657635132846), (57, 0.07879287850582767)],\n",
       " [(19, 0.9889249125308474)],\n",
       " [(69, 0.9513869919843025)],\n",
       " [(42, 0.6533726239849378), (46, 0.2990794497883682)],\n",
       " [(83, 0.9702699638745784)],\n",
       " [(76, 0.9713506981763909)],\n",
       " [(36, 0.7295054499156576), (53, 0.2400072453002876)],\n",
       " [(15, 0.6974812614009195),\n",
       "  (26, 0.09862664025681908),\n",
       "  (30, 0.07413352605136919),\n",
       "  (76, 0.03590916316307543),\n",
       "  (81, 0.08267293853957754)],\n",
       " [(52, 0.269503240787211), (71, 0.7147064299400311)],\n",
       " [(61, 0.9845473948210435)],\n",
       " [],\n",
       " [(24, 0.4471236142099982), (55, 0.5264081905221611)],\n",
       " [(46, 0.5997038060614185), (58, 0.3737913909351614)],\n",
       " [(72, 0.9502031387255933)],\n",
       " [(35, 0.5543961375120202), (37, 0.4267083624386022)],\n",
       " [(51, 0.9681469396827099)],\n",
       " [(75, 0.9589442626474012)],\n",
       " [],\n",
       " [(15, 0.01374593300790855),\n",
       "  (24, 0.5265035581724912),\n",
       "  (44, 0.3476639830870728),\n",
       "  (59, 0.09453362807696204)],\n",
       " [(89, 0.8789173421361958)],\n",
       " [(54, 0.8685218972669787)],\n",
       " [(7, 0.8711229270840238)],\n",
       " [(89, 0.8785471423739855)],\n",
       " [(12, 0.9286887878520848)],\n",
       " [(61, 0.95627901355872), (79, 0.010123420877449349)],\n",
       " [],\n",
       " [(18, 0.9662684149100019)],\n",
       " [(6, 0.9700277826397349)],\n",
       " [(44, 0.4487134579979775), (69, 0.5213887641721485)],\n",
       " [(4, 0.6412724505711627), (91, 0.3250136679562573)],\n",
       " [],\n",
       " [],\n",
       " [(11, 0.9540213161630668)],\n",
       " [(20, 0.030607486186689715),\n",
       "  (38, 0.23137385800344829),\n",
       "  (91, 0.17418863410279148),\n",
       "  (98, 0.5545096333575552)],\n",
       " [(91, 0.935005080068649)],\n",
       " [(3, 0.39763673832458807), (76, 0.5394463562773051)],\n",
       " [(7, 0.9348338679054099)],\n",
       " [(84, 0.9852913608243208)],\n",
       " [],\n",
       " [],\n",
       " [(72, 0.9609227752292028)],\n",
       " [(24, 0.6024170852999939), (86, 0.37138722220623016)],\n",
       " [(39, 0.8973513139187325)],\n",
       " [(61, 0.8997589318982038)],\n",
       " [(99, 0.9008640246366563)],\n",
       " [(69, 0.8947985033734981)],\n",
       " [(3, 0.019932506107851813), (48, 0.9521200702370844)],\n",
       " [(2, 0.5075921413160083),\n",
       "  (15, 0.25677823244839226),\n",
       "  (76, 0.22097357439064372)],\n",
       " [(93, 0.7960760230361574), (98, 0.14419216132842352)],\n",
       " [],\n",
       " [],\n",
       " [],\n",
       " [],\n",
       " [(8, 0.9566407296726444)],\n",
       " [(82, 0.9568496535304336)],\n",
       " [(55, 0.9553502106754267)],\n",
       " [(38, 0.9570534657363007)],\n",
       " [(22, 0.22725542412267546),\n",
       "  (26, 0.1050551471962482),\n",
       "  (70, 0.6545813205729653)],\n",
       " [(19, 0.5958214342269093), (67, 0.385998379037779)],\n",
       " [(48, 0.4234915552089969),\n",
       "  (65, 0.1011867276840497),\n",
       "  (74, 0.45633753268839206)],\n",
       " [(38, 0.9090732554367378), (44, 0.070873105562548)],\n",
       " [(55, 0.9280666867845286)],\n",
       " [(37, 0.9582650859241881)],\n",
       " [(18, 0.9579427942595306)],\n",
       " [(14, 0.95780165014824)],\n",
       " [(90, 0.9446135524110184)],\n",
       " [(27, 0.941752182520942)],\n",
       " [(24, 0.9448667154866076)],\n",
       " [(97, 0.9687936948458764)],\n",
       " [(6, 0.05436330690368615),\n",
       "  (46, 0.0385325388129247),\n",
       "  (52, 0.3353061202174073),\n",
       "  (99, 0.5584647007326476)],\n",
       " [(19, 0.9312872957509228)],\n",
       " [(36, 0.9350691895638227)],\n",
       " [],\n",
       " [(25, 0.9399711692313298)],\n",
       " [(6, 0.9581279649044381)],\n",
       " [(83, 0.9623552926236453)],\n",
       " [(29, 0.9624773000230533)],\n",
       " [(58, 0.9287047847603576)],\n",
       " [(63, 0.9282817005695992)],\n",
       " [(90, 0.9308179333579494)],\n",
       " [(41, 0.5638752844179354), (79, 0.36429863425721)],\n",
       " [(71, 0.9300727081239155)],\n",
       " [],\n",
       " [],\n",
       " [],\n",
       " [],\n",
       " [],\n",
       " [],\n",
       " [],\n",
       " [(7, 0.9260841647006196)],\n",
       " [(75, 0.9227946309823556)],\n",
       " [(4, 0.9037245585393)],\n",
       " [(21, 0.9041899261276602)],\n",
       " [(18, 0.9031630636727113)],\n",
       " [(93, 0.9611197366876665)],\n",
       " [(82, 0.9708311411928501)],\n",
       " [(0, 0.9688782118490689)],\n",
       " [(36, 0.7906408949945274), (88, 0.17896557854310535)],\n",
       " [(88, 0.9605710433105761)],\n",
       " [(99, 0.959646461064457)],\n",
       " [(76, 0.960464903295805)],\n",
       " [(82, 0.9376821274749327), (95, 0.048114973974341405)],\n",
       " [(9, 0.9028083805847467)],\n",
       " [(81, 0.9047167447329114)],\n",
       " [(33, 0.9035497540916559)],\n",
       " [(79, 0.9079199498224271)],\n",
       " [(98, 0.9041320225539845)],\n",
       " [(17, 0.9639188330065112)],\n",
       " [(84, 0.9538903308440425)],\n",
       " [(60, 0.9549376024148266)],\n",
       " [(84, 0.9538903308450696)],\n",
       " [(69, 0.9525053343426274)],\n",
       " [],\n",
       " [],\n",
       " [(20, 0.2183446193035814), (26, 0.7412085102064134)],\n",
       " [(36, 0.9606554888714504)],\n",
       " [(20, 0.491224019080829), (31, 0.4997851552310945)],\n",
       " [],\n",
       " [],\n",
       " [],\n",
       " [],\n",
       " [(0, 0.9232460645287024)],\n",
       " [(10, 0.9243769540845983)],\n",
       " [(61, 0.9226189927073806)],\n",
       " [(36, 0.9414186154760448)],\n",
       " [(19, 0.9277323985880355)],\n",
       " [(91, 0.9220042477102731)],\n",
       " [(34, 0.9235392793744412)],\n",
       " [(98, 0.9133275740018767)],\n",
       " [(74, 0.4468988051120258),\n",
       "  (79, 0.31729177828031513),\n",
       "  (99, 0.21325556748200777)],\n",
       " [],\n",
       " [(40, 0.9629505660442188)],\n",
       " [(41, 0.9609319644007739)],\n",
       " [(26, 0.9618328483229807)],\n",
       " [(15, 0.971187467723167)],\n",
       " [(3, 0.9735051839949032)],\n",
       " [(17, 0.2030489718258488), (43, 0.7700860098641248)],\n",
       " [(41, 0.9711131536180906)],\n",
       " [(41, 0.9711131536390039)],\n",
       " [(68, 0.8566854462504689)],\n",
       " [(81, 0.8493261392106392)],\n",
       " [(94, 0.8473536330474498)],\n",
       " [(17, 0.7853128007654536), (59, 0.05267392671459808)],\n",
       " [(51, 0.661885509233892), (90, 0.3248712475228652)],\n",
       " [(39, 0.959335442952587)],\n",
       " [(44, 0.9472100149849564)],\n",
       " [(78, 0.9468656851094023)],\n",
       " [(20, 0.9687689457894632), (90, 0.010594696633704737)],\n",
       " [(5, 0.9815852190971427)],\n",
       " [(60, 0.9607524332806362), (92, 0.020121450316398466)],\n",
       " [(16, 0.9246567975930553)],\n",
       " [(88, 0.9221901856973357)],\n",
       " [(17, 0.09156557892538726),\n",
       "  (24, 0.6251487508834511),\n",
       "  (25, 0.2599342455305518)],\n",
       " [(82, 0.7870476235964745), (84, 0.18931557955307363)],\n",
       " [(11, 0.4045418354830234), (86, 0.551039841717911)],\n",
       " [(35, 0.9222813721088015)],\n",
       " [(81, 0.922536950171901)],\n",
       " [(96, 0.9213462193330781)],\n",
       " [(58, 0.9789538260890314)],\n",
       " [],\n",
       " [(62, 0.9081590638262333)],\n",
       " [(94, 0.906249584549844)],\n",
       " [(63, 0.9060039544982557)],\n",
       " [],\n",
       " [],\n",
       " [(59, 0.9646191278265843)],\n",
       " [(4, 0.9241915987007693), (18, 0.04101463364638591)],\n",
       " [(3, 0.91324784396531), (59, 0.05286338664037404)],\n",
       " [(27, 0.9657850032821277)],\n",
       " [(32, 0.9705221158550094)],\n",
       " [(22, 0.1546171461130247), (94, 0.8163380807879965)],\n",
       " [(4, 0.9695697809640608)],\n",
       " [(42, 0.7710740520578827), (97, 0.19929026437080674)],\n",
       " [(31, 0.9586793811866086)],\n",
       " [(12, 0.95788935268683)],\n",
       " [(98, 0.9575688371582695)],\n",
       " [(77, 0.9708701540036281)],\n",
       " [(23, 0.25943331602732134), (44, 0.7105542349585793)],\n",
       " [],\n",
       " [],\n",
       " [(77, 0.9742171328319038)],\n",
       " [],\n",
       " [(70, 0.9719277498602525)],\n",
       " [],\n",
       " [],\n",
       " [(6, 0.3958123909426485), (92, 0.5694372844424734)],\n",
       " [(24, 0.039683148258716876), (39, 0.9126584680114659)],\n",
       " [(40, 0.33326954769156014), (41, 0.6314920911245742)],\n",
       " [],\n",
       " [(25, 0.9673526360064559)],\n",
       " [(34, 0.8145493210826888), (89, 0.16266084592688704)],\n",
       " [(85, 0.9565294265325891)],\n",
       " [(1, 0.9515725044052916)],\n",
       " [(93, 0.9798234905692893)],\n",
       " [(22, 0.9583543405410827)],\n",
       " [(88, 0.9225978775692166)],\n",
       " [(69, 0.9259067338472079)],\n",
       " [(84, 0.927746798442287)],\n",
       " [(62, 0.961173385136795)],\n",
       " [(40, 0.9656325918663764)],\n",
       " [(14, 0.9649688176279734)],\n",
       " [(84, 0.9555119886998992)],\n",
       " [(91, 0.9571456226856552)],\n",
       " [(91, 0.9571466313599167)],\n",
       " [(55, 0.9748546206657396)],\n",
       " [(62, 0.9422163781098909)],\n",
       " [(44, 0.9440360316284402)],\n",
       " [(16, 0.11110975524328641), (31, 0.876220566582435)],\n",
       " [(46, 0.9874755181750593)],\n",
       " [(82, 0.9872219106533485)],\n",
       " [(24, 0.282395363345169), (46, 0.7052197045040329)],\n",
       " [(23, 0.9485404752658443)],\n",
       " [(31, 0.9494497015064108)],\n",
       " [(10, 0.028141514143579013),\n",
       "  (35, 0.725132413887121),\n",
       "  (59, 0.21927577197416845)],\n",
       " [(49, 0.657534118171675), (89, 0.2979914091688639)],\n",
       " [(20, 0.9355937625121982)],\n",
       " [(58, 0.9758245221413736)],\n",
       " [(38, 0.07620854749714569), (54, 0.9123752073654898)],\n",
       " [(10, 0.9482318222125631)],\n",
       " [(58, 0.9521981802685419)],\n",
       " [(76, 0.9509069178702082)],\n",
       " [(3, 0.9489946144320445), (18, 0.014314508150415456)],\n",
       " [(43, 0.9581004656266484)],\n",
       " [(69, 0.954944133157823)],\n",
       " [(33, 0.8603550112048253), (81, 0.11027801884406496)],\n",
       " [(14, 0.1720867756176148), (81, 0.798994908116653)],\n",
       " [(66, 0.9706100453552701)],\n",
       " [(27, 0.9501045998061375)],\n",
       " [(64, 0.471124639381698), (70, 0.48828222733133986)],\n",
       " [],\n",
       " [],\n",
       " [],\n",
       " [(77, 0.8624684102084018)],\n",
       " [(22, 0.8799672999030502)],\n",
       " [(64, 0.9431055115683782)],\n",
       " [(44, 0.9303092042679586)],\n",
       " [(48, 0.9280630516277963)],\n",
       " [(58, 0.9354146677899865)],\n",
       " [(73, 0.9361330285484786)],\n",
       " [(24, 0.9356845330897456)],\n",
       " [(50, 0.9799661973566464)],\n",
       " [(24, 0.9545808623622122)],\n",
       " [(8, 0.9540018506302329)],\n",
       " [(33, 0.9547603047128723)],\n",
       " [(41, 0.9234409912087174)],\n",
       " [(11, 0.9279629821098531)],\n",
       " [],\n",
       " [(12, 0.9672086558940549)],\n",
       " [],\n",
       " [],\n",
       " [(19, 0.9469794839679225)],\n",
       " [(53, 0.945889801702559)],\n",
       " [(61, 0.9629943625144338)],\n",
       " [(94, 0.9530224518002759)],\n",
       " [(86, 0.528989172862928), (90, 0.44744189736017764)],\n",
       " [(2, 0.2642606519478963), (46, 0.7166868311276859)],\n",
       " [(37, 0.8979530474924905)],\n",
       " [(12, 0.4431391722482608), (72, 0.4521484882234973)],\n",
       " [(24, 0.9019588189088652)],\n",
       " [],\n",
       " [(9, 0.261322960383098), (81, 0.6856161025975195)],\n",
       " [(27, 0.9461462593103629)],\n",
       " [(70, 0.9481323629611125)],\n",
       " [(19, 0.947965808152622)],\n",
       " [(5, 0.9479893066242585)],\n",
       " [(63, 0.972430486576016)],\n",
       " [(96, 0.9717874528970356)],\n",
       " [(12, 0.9630830150759665)],\n",
       " [(98, 0.9318002424307621)],\n",
       " [(39, 0.9318001525532879)],\n",
       " [(45, 0.9516456277680703)],\n",
       " [(59, 0.9524085847006886)],\n",
       " [],\n",
       " [],\n",
       " [],\n",
       " [],\n",
       " [(52, 0.9765492994982204)],\n",
       " [(79, 0.9763065938703679)],\n",
       " [(18, 0.9610912782103234)],\n",
       " [(86, 0.9615987201432996)],\n",
       " [(37, 0.7317284747614752), (39, 0.23824246297714247)],\n",
       " [(90, 0.9586764392227279)],\n",
       " [(45, 0.9375587928245515)],\n",
       " [(9, 0.9361276309139881)],\n",
       " [(24, 0.935796830574581)],\n",
       " [(96, 0.9349780432799597)],\n",
       " [(29, 0.5324968964315123), (85, 0.4291191480909415)],\n",
       " [(14, 0.9514055472648414)],\n",
       " [(24, 0.21010195546025848),\n",
       "  (31, 0.16750779602869018),\n",
       "  (82, 0.6040870403089736)],\n",
       " [(11, 0.952380799290043)],\n",
       " [(16, 0.9391787549793379)],\n",
       " [(34, 0.9400864311350945)],\n",
       " [(31, 0.7283105659342957), (49, 0.2140247379874936)],\n",
       " [(16, 0.9417604740661711)],\n",
       " [(60, 0.9446182204123937)],\n",
       " [(60, 0.9446173888676017)],\n",
       " [(91, 0.9437257130714609)],\n",
       " [],\n",
       " [],\n",
       " [],\n",
       " [(55, 0.9584998443568237)],\n",
       " [(36, 0.9566969861436501)],\n",
       " [(32, 0.3950698652178777), (93, 0.5712380193496586)],\n",
       " [(85, 0.9496112554065583)],\n",
       " [(96, 0.9480870812812862)],\n",
       " [(42, 0.9475009205065421)],\n",
       " [(41, 0.9329816615874815)],\n",
       " [(22, 0.9325316184889626)],\n",
       " [(5, 0.9339299136729391)],\n",
       " [(83, 0.9319279649655196)],\n",
       " [],\n",
       " [],\n",
       " [(89, 0.9774468442314076)],\n",
       " [],\n",
       " [(50, 0.9673413633026199)],\n",
       " [(34, 0.47141468584875573), (98, 0.509550129614435)],\n",
       " [(18, 0.2315319326680382),\n",
       "  (32, 0.41875034843989845),\n",
       "  (43, 0.33051603043252775)],\n",
       " [(59, 0.9561772667990691)],\n",
       " [(43, 0.7088915141190844), (54, 0.24446190369350712)],\n",
       " [(60, 0.9111614399434184)],\n",
       " [(58, 0.9126964351034794)],\n",
       " [(41, 0.9144112251986222)],\n",
       " [(34, 0.9169225344417784)],\n",
       " [(73, 0.9047354112634489)],\n",
       " [(53, 0.7476782022209801), (77, 0.16022356230707935)],\n",
       " [(24, 0.964101137012245)],\n",
       " [(44, 0.9592197650050956)],\n",
       " [(26, 0.991900215533829)],\n",
       " [(48, 0.9614086147449294)],\n",
       " [],\n",
       " [(22, 0.027978082461823404), (61, 0.9436665758563219)],\n",
       " [(27, 0.5691863395910535),\n",
       "  (67, 0.29810061253483366),\n",
       "  (77, 0.11267401635682818)],\n",
       " [(29, 0.2856870720110944), (46, 0.690863900588815)],\n",
       " [(37, 0.12812274934899157),\n",
       "  (52, 0.19736677026084778),\n",
       "  (69, 0.6503854611671386)],\n",
       " [(9, 0.46058635309495655), (98, 0.5128396045677819)],\n",
       " [(42, 0.9270638148942986)],\n",
       " [(66, 0.9267769062767246)],\n",
       " [(74, 0.9288085579991315)],\n",
       " [(44, 0.8809957860878781)],\n",
       " [(71, 0.6151996267628075), (91, 0.2618160210452449)],\n",
       " [(0, 0.9667186802160963)],\n",
       " [(5, 0.7341102999910644), (58, 0.23183218758878213)],\n",
       " [(17, 0.9684354985267539)],\n",
       " [(39, 0.7318077172816536), (63, 0.2369974110248452)],\n",
       " [(48, 0.3852132856811056), (54, 0.583740218316408)],\n",
       " [(0, 0.9694390955691635)],\n",
       " [(1, 0.9806746435560905)],\n",
       " [],\n",
       " [],\n",
       " [],\n",
       " [],\n",
       " [(7, 0.2148932829010552),\n",
       "  (46, 0.6254237613425121),\n",
       "  (72, 0.12895254914184284)],\n",
       " [(69, 0.9484635379852788)],\n",
       " [(16, 0.9482292568095219)],\n",
       " [(86, 0.9487212837169057)],\n",
       " [],\n",
       " [(24, 0.9726529082257628)],\n",
       " [(10, 0.9728735467775363)],\n",
       " [(18, 0.9586998164437692)],\n",
       " [(23, 0.9641104618616613), (39, 0.016865702532143777)],\n",
       " [(19, 0.2561309089179362),\n",
       "  (39, 0.4663889847310949),\n",
       "  (53, 0.2582667364329507)],\n",
       " [],\n",
       " [(50, 0.9814676467563345)],\n",
       " [(72, 0.2436211226833187), (76, 0.7444276578044847)],\n",
       " [(84, 0.9574949052468313)],\n",
       " [(84, 0.9794137843235955)],\n",
       " [(6, 0.4254779873756114), (36, 0.5379822789667051)],\n",
       " [(3, 0.25056890812537724), (72, 0.6827510385048973)],\n",
       " [(79, 0.9616099248545603)],\n",
       " [(5, 0.9563780753774398)],\n",
       " [(3, 0.8529782765410915),\n",
       "  (39, 0.05088976647134924),\n",
       "  (82, 0.08498253170019743)],\n",
       " [(69, 0.954944133157823)],\n",
       " [(77, 0.9696502398050575)],\n",
       " [(97, 0.9554448305970976)],\n",
       " [(98, 0.9615938380466276)],\n",
       " [(44, 0.9202703613994974)],\n",
       " [(9, 0.8015484551920242), (82, 0.1622658268811579)],\n",
       " [(82, 0.9831342706236532)],\n",
       " [(5, 0.9943969457869137)],\n",
       " [(98, 0.9415871307119243)],\n",
       " [(1, 0.5857899106810399), (31, 0.36329952251161995)],\n",
       " [(35, 0.20347169965436543),\n",
       "  (64, 0.6493275213161287),\n",
       "  (74, 0.1263126794328888)],\n",
       " [(7, 0.21628930011390352),\n",
       "  (30, 0.18797836704266233),\n",
       "  (48, 0.5752372944655348)],\n",
       " [(83, 0.9401518132361547)],\n",
       " [(62, 0.9636780999320098)],\n",
       " [(24, 0.9936642329742452)],\n",
       " [(3, 0.8727835098280223),\n",
       "  (24, 0.07391546320445555),\n",
       "  (40, 0.04406293172942239)],\n",
       " [],\n",
       " [(16, 0.1546201215937057),\n",
       "  (50, 0.5941883603192853),\n",
       "  (75, 0.23010456156527206)],\n",
       " [(30, 0.9594044916527386)],\n",
       " [(37, 0.9779645641953401)],\n",
       " [(44, 0.0832436035994099), (46, 0.9036897297339199)],\n",
       " [],\n",
       " [(52, 0.974421141230996)],\n",
       " [(69, 0.9574492387831297)],\n",
       " [(74, 0.9857217169254404)],\n",
       " [(81, 0.9551014279436558)],\n",
       " [(18, 0.9831395502510969)],\n",
       " [(19, 0.9620787398491037)],\n",
       " [],\n",
       " [(37, 0.03776280017350043),\n",
       "  (61, 0.7493113272894196),\n",
       "  (81, 0.1946239857446286)],\n",
       " [(38, 0.9587202404409029)],\n",
       " [(37, 0.9271408305260934)],\n",
       " [(69, 0.9824159697049768)],\n",
       " [(61, 0.18369513374290075), (67, 0.7977234407038879)],\n",
       " [],\n",
       " [(6, 0.9450311894921184)],\n",
       " [(13, 0.03198701329086104),\n",
       "  (94, 0.2453584944747621),\n",
       "  (98, 0.7136454045731601)],\n",
       " [],\n",
       " [(62, 0.9710346992375789)],\n",
       " [(58, 0.9537036915459758), (92, 0.010421807929278312)],\n",
       " [(58, 0.7352006482095974), (65, 0.24368211087595107)],\n",
       " [],\n",
       " [],\n",
       " [(73, 0.9891258716888031)],\n",
       " [],\n",
       " [(28, 0.9706462519821198)],\n",
       " [(87, 0.9566564005412996)],\n",
       " [(93, 0.9594716291037715)],\n",
       " [(70, 0.9661073651137501)],\n",
       " [],\n",
       " [(3, 0.8731521055738465)],\n",
       " [(70, 0.8772863169163255)],\n",
       " [(58, 0.9806908190092893)],\n",
       " [(95, 0.9835701302690555)],\n",
       " [(3, 0.8362333134623131), (46, 0.1396910373167257)],\n",
       " [(7, 0.04675355117692224),\n",
       "  (16, 0.06233961332683462),\n",
       "  (38, 0.22723753244879685),\n",
       "  (46, 0.5903882094965078),\n",
       "  (58, 0.06368513395497649)],\n",
       " [(85, 0.9669075598654042)],\n",
       " [(63, 0.9428416599208782)],\n",
       " [(2, 0.47353828544230214), (51, 0.4006802628275114)],\n",
       " [(3, 0.3693489191967887), (25, 0.6099504957479912)],\n",
       " [],\n",
       " [(4, 0.7905957473972456), (96, 0.1794412472347256)],\n",
       " [(17, 0.9302703630293828)],\n",
       " [],\n",
       " [(23, 0.9706585108860353)],\n",
       " [(76, 0.9704962891487701)],\n",
       " [(84, 0.2959849413669469), (86, 0.6704481037022749)],\n",
       " [(23, 0.34477813692159254), (52, 0.62384598400261)],\n",
       " [],\n",
       " [],\n",
       " [(15, 0.4257377227098945), (82, 0.5628669284528967)],\n",
       " [(93, 0.9312622346677756)],\n",
       " [(41, 0.9614264951221047)],\n",
       " [],\n",
       " [(39, 0.4347229688989996), (71, 0.5286989532077793)],\n",
       " [(57, 0.9499114215529882), (62, 0.021986594382145605)],\n",
       " [],\n",
       " [(41, 0.9514959944376451)],\n",
       " [(64, 0.35963377162664517), (85, 0.6195741403254951)],\n",
       " [(13, 0.9617050747637155)],\n",
       " [(46, 0.9112238470101912)],\n",
       " [(70, 0.6509047357794001), (76, 0.31770536310386016)],\n",
       " [(18, 0.9350522630759973)],\n",
       " [(41, 0.09593915275151399), (62, 0.790452723385205)],\n",
       " [],\n",
       " [(26, 0.4928109049327035), (48, 0.4779115420112578)],\n",
       " [(11, 0.9392493353906236)],\n",
       " [(88, 0.9655959696852168)],\n",
       " [],\n",
       " [(17, 0.9104989989018694)],\n",
       " [(40, 0.9308553606838071)],\n",
       " [(66, 0.9507640028482339)],\n",
       " [],\n",
       " [(95, 0.9537749898519395)],\n",
       " [(43, 0.9583061013013979)],\n",
       " [],\n",
       " [(13, 0.9158422251598178), (34, 0.04221841559449459)],\n",
       " [(47, 0.2511885769133977), (72, 0.7140847728092136)],\n",
       " [(2, 0.8109122858291388), (16, 0.15284341098201099)],\n",
       " [(46, 0.5448820941557648),\n",
       "  (49, 0.37882314359245556),\n",
       "  (98, 0.05677627113012972)],\n",
       " [(55, 0.960238534936318)],\n",
       " [(71, 0.5835767915883335), (99, 0.4065711363128669)],\n",
       " [],\n",
       " [(50, 0.9587169732674705)],\n",
       " [],\n",
       " [(30, 0.9683317241229371)],\n",
       " [(45, 0.8226339421924893), (93, 0.16768910981327534)],\n",
       " [(14, 0.14097233966532122),\n",
       "  (30, 0.2034293749755926),\n",
       "  (95, 0.6419363135280988)],\n",
       " [(24, 0.9517926141979058)],\n",
       " [(6, 0.5861224367826433), (29, 0.39771750760064695)],\n",
       " [(3, 0.14727949097302076), (31, 0.8310900501959209)],\n",
       " [(18, 0.920724747858094)],\n",
       " [(34, 0.988964404489913)],\n",
       " [(81, 0.9775756627417665)],\n",
       " [(27, 0.9475625193449343)],\n",
       " [(55, 0.6594324183850726), (95, 0.30744563296136695)],\n",
       " [(61, 0.36804913805411144), (71, 0.5785776599315445)],\n",
       " [(97, 0.9648135081893567)],\n",
       " [(14, 0.8265139670240185), (76, 0.13543517248690273)],\n",
       " [(82, 0.6754517140274698), (94, 0.2676204762472143)],\n",
       " [(40, 0.9421649776580019)],\n",
       " [],\n",
       " [(9, 0.9331505817545593),\n",
       "  (18, 0.029987681073458443),\n",
       "  (60, 0.030078520388770926)],\n",
       " [(27, 0.9515229850122842)],\n",
       " [(24, 0.4643156877467501),\n",
       "  (31, 0.0733188384481909),\n",
       "  (39, 0.0802663923784038),\n",
       "  (44, 0.3771760045035804)],\n",
       " [(79, 0.939028032003896)],\n",
       " [(59, 0.9895789473684189)],\n",
       " [(25, 0.47571220839772593), (34, 0.5156152252305899)],\n",
       " [(38, 0.9529286149365184)],\n",
       " [],\n",
       " [(55, 0.6889266139557892), (71, 0.28846810967600156)],\n",
       " [(24, 0.9977942134684826)],\n",
       " [(3, 0.5536710704925397), (61, 0.417693133083181)],\n",
       " [(77, 0.9743700259429342)],\n",
       " [(70, 0.9467188001273175), (79, 0.021151169912656573)],\n",
       " [(10, 0.7903387271187206), (51, 0.194545989291649)],\n",
       " [(5, 0.7842848273269409), (57, 0.18550265692959858)],\n",
       " [(33, 0.34012431080812905), (51, 0.6471484164645948)],\n",
       " [(8, 0.8249478019790584), (69, 0.16601516714670572)],\n",
       " [(77, 0.9632485700635085)],\n",
       " [],\n",
       " [(46, 0.9528013279419062)],\n",
       " [],\n",
       " [(46, 0.2569186120824391),\n",
       "  (72, 0.19207821440557718),\n",
       "  (76, 0.5431169946501947)],\n",
       " [(52, 0.9528509602970651)],\n",
       " [(67, 0.9616095793176263)],\n",
       " [(36, 0.949872510628006)],\n",
       " [(50, 0.15525440196708837), (76, 0.8150558353575684)],\n",
       " [(51, 0.30797883008553734), (74, 0.6415371910872075)],\n",
       " [(28, 0.9146040745188597)],\n",
       " [(67, 0.9661669086165775)],\n",
       " [(11, 0.9623735072416675)],\n",
       " [(44, 0.9767237789442399)],\n",
       " [(29, 0.9862180439145466)],\n",
       " [],\n",
       " [(69, 0.9813793362230372)],\n",
       " [(12, 0.05840728383676105), (71, 0.9107356629931199)],\n",
       " [(72, 0.9421374470097226)],\n",
       " [],\n",
       " [(14, 0.9861097458362993)],\n",
       " [(51, 0.958545742166722)],\n",
       " [(35, 0.8871159742906313)],\n",
       " [],\n",
       " [],\n",
       " [(10, 0.27930735281088753), (87, 0.7023856399606289)],\n",
       " [(35, 0.9146161615247879)],\n",
       " [(13, 0.33329637914415455), (21, 0.6365618195889446)],\n",
       " [(25, 0.9019549309396564)],\n",
       " [(77, 0.9008418644830078)],\n",
       " [(55, 0.8892766719215336)],\n",
       " [(3, 0.9682640477492923)],\n",
       " [(79, 0.9833003571905605)],\n",
       " [(90, 0.9354965388646727)],\n",
       " [],\n",
       " [],\n",
       " [(4, 0.30841374039510194), (50, 0.6320992465505147)],\n",
       " [],\n",
       " [],\n",
       " [(44, 0.9639411679167026)],\n",
       " [(10, 0.9769057722934967)],\n",
       " [],\n",
       " [(27, 0.9731197985275541)],\n",
       " [(30, 0.9903051491319522)],\n",
       " [(68, 0.9583603966832676)],\n",
       " [(16, 0.9667591732602162)],\n",
       " [(3, 0.9042780940567527)],\n",
       " [(15, 0.46565311186087416),\n",
       "  (34, 0.16342585705479326),\n",
       "  (38, 0.19184113791945584),\n",
       "  (86, 0.17010793054805154)],\n",
       " [(15, 0.9806994805464295)],\n",
       " [(31, 0.9233092661463919)],\n",
       " [(36, 0.9087323091902496)],\n",
       " [(79, 0.5191015094996464),\n",
       "  (86, 0.12269107569530585),\n",
       "  (96, 0.34714050359298826)],\n",
       " [(10, 0.12018904913019043),\n",
       "  (91, 0.741661052553305),\n",
       "  (93, 0.11655093760896831)],\n",
       " [(95, 0.9366720340457008)],\n",
       " [(44, 0.5784223830889389), (88, 0.3917468116887878)],\n",
       " [(64, 0.9482831324012436)],\n",
       " [(9, 0.5142614926753254), (67, 0.4354861683806951)],\n",
       " [],\n",
       " [(74, 0.9115124666448047)],\n",
       " [(68, 0.9353773967609798)],\n",
       " [(17, 0.5680743564715657), (86, 0.41814512361791234)],\n",
       " [],\n",
       " [(19, 0.9405717673784393)],\n",
       " [(58, 0.6634488050667214), (92, 0.3080178055127797)],\n",
       " [(27, 0.9135963261323901)],\n",
       " [(16, 0.9677060999701287)],\n",
       " [],\n",
       " [(82, 0.9978008821087507)],\n",
       " [(33, 0.9034190753349957)],\n",
       " [],\n",
       " [(31, 0.06334169025045998), (75, 0.9171337967414361)],\n",
       " [(40, 0.5405008457267544), (42, 0.4137046410997397)],\n",
       " [(20, 0.059503456338000076), (42, 0.9213372212275015)],\n",
       " [],\n",
       " [(3, 0.9006849240777622)],\n",
       " [],\n",
       " [(97, 0.9700324569835665)],\n",
       " [(0, 0.9338790178156006), (8, 0.025959995083087956)],\n",
       " [(24, 0.017803799378249736), (27, 0.951609540810888)],\n",
       " [(26, 0.9554805889426576)],\n",
       " [(70, 0.9808618063389487)],\n",
       " [(11, 0.1323839975516893), (86, 0.8423424384225477)],\n",
       " [(22, 0.912022985513822)],\n",
       " [(21, 0.9443222501847672)],\n",
       " [(24, 0.9682980554051659)],\n",
       " [],\n",
       " [],\n",
       " [(40, 0.9529330719031378)],\n",
       " [(10, 0.8148758288459304), (38, 0.17212449377743722)],\n",
       " [(31, 0.9785101057092634)],\n",
       " [(15, 0.9623688826289629)],\n",
       " [(17, 0.6906439781079723),\n",
       "  (24, 0.1370399200015908),\n",
       "  (62, 0.1560801326113624)],\n",
       " [(20, 0.6644576569101027),\n",
       "  (46, 0.11899077259068461),\n",
       "  (89, 0.19572128410498912)],\n",
       " [],\n",
       " [],\n",
       " [(47, 0.9027848948520657)],\n",
       " [(21, 0.9739150090555881)],\n",
       " [],\n",
       " [(85, 0.9737567914729759)],\n",
       " [(26, 0.18883736746052124), (79, 0.7855404858862839)],\n",
       " [(37, 0.9565276733445998)],\n",
       " [(34, 0.6790245507718661),\n",
       "  (48, 0.03139343961583101),\n",
       "  (78, 0.2696944971545833)],\n",
       " [],\n",
       " [],\n",
       " [(6, 0.951262747944849)],\n",
       " [(40, 0.8835418637425028)],\n",
       " [(8, 0.9226374498718041)],\n",
       " [(40, 0.9246431070014399), (41, 0.039567761499202714)],\n",
       " [],\n",
       " [(49, 0.9513244216817517)],\n",
       " [(14, 0.9395097539172349), (72, 0.012619470594656741)],\n",
       " [(65, 0.9307230850339772)],\n",
       " [(11, 0.8558715592267935)],\n",
       " [],\n",
       " [(3, 0.013870211257160063), (18, 0.9773816339294885)],\n",
       " [],\n",
       " [(96, 0.9498325285222606)],\n",
       " [(57, 0.979232862742302)],\n",
       " [],\n",
       " [(6, 0.948999538762482)],\n",
       " [(47, 0.2890230567102396), (89, 0.6920678140012242)],\n",
       " [],\n",
       " [(76, 0.992110072125556)],\n",
       " [(40, 0.5864112949602031), (91, 0.34128054917120754)],\n",
       " [(2, 0.3307642650359259), (20, 0.6379625728170938)],\n",
       " [(54, 0.9435744893642668)],\n",
       " [(11, 0.014244042792460299),\n",
       "  (18, 0.278488989078518),\n",
       "  (75, 0.701786742140323)],\n",
       " [(84, 0.9428916051060761)],\n",
       " [(74, 0.2678475359301374), (85, 0.6949693536205438)],\n",
       " [],\n",
       " [(98, 0.9487280160696708)],\n",
       " [(70, 0.0642123701449362), (84, 0.9252499954464609)],\n",
       " [],\n",
       " [(46, 0.5968932550866572), (60, 0.37553460253493814)],\n",
       " [(24, 0.49593658222415843), (99, 0.46349623495334125)],\n",
       " [(71, 0.9014675318630814)],\n",
       " [(20, 0.9776450216277695)],\n",
       " [(5, 0.5725644556591326), (65, 0.3925364878012374)],\n",
       " [(44, 0.9328329903236142)],\n",
       " [(3, 0.9690044775445121)],\n",
       " [(3, 0.5739533364066437),\n",
       "  (41, 0.2341105959774827),\n",
       "  (75, 0.18010679932318804)],\n",
       " [],\n",
       " [(85, 0.9105357011832865)],\n",
       " [(28, 0.8926465368479208)],\n",
       " [],\n",
       " [(67, 0.36856965527995705), (99, 0.5990956791016532)],\n",
       " [(39, 0.9212854845218055)],\n",
       " [],\n",
       " [(26, 0.31311757371248716),\n",
       "  (46, 0.3933346170679144),\n",
       "  (59, 0.2741985291177803)],\n",
       " [],\n",
       " [(71, 0.9872339899677729)],\n",
       " [(18, 0.9686333854501077)],\n",
       " [(57, 0.01968619502640253),\n",
       "  (61, 0.6359095207275032),\n",
       "  (81, 0.32165957973625314)],\n",
       " [(24, 0.9079112000526425)],\n",
       " [(73, 0.913133127324753)],\n",
       " [(81, 0.957148563814847)],\n",
       " [(73, 0.9309990556174509)],\n",
       " [(93, 0.9798234905692893)],\n",
       " [],\n",
       " [(24, 0.10674400301053533),\n",
       "  (34, 0.04477526652863747),\n",
       "  (46, 0.03365396048360553),\n",
       "  (81, 0.6016221820474764),\n",
       "  (88, 0.19480978927301779)],\n",
       " [(20, 0.9625461553590922)],\n",
       " [],\n",
       " [(5, 0.16024097363439993),\n",
       "  (59, 0.03809824793225344),\n",
       "  (67, 0.7901131593857256)],\n",
       " [(4, 0.9635106122485615)],\n",
       " [(77, 0.9414088517807271)],\n",
       " [(26, 0.9790572673611802)],\n",
       " [(95, 0.9612679433625371)],\n",
       " [(25, 0.03109630558728422), (72, 0.949070780070307)],\n",
       " [(45, 0.9264253341643651)],\n",
       " [(51, 0.6779380049889251), (77, 0.2998659939660461)],\n",
       " [(76, 0.9900370587857668)],\n",
       " [(27, 0.8531880394203181)],\n",
       " [(16, 0.9715646588469129)],\n",
       " [(65, 0.9505773379119393)],\n",
       " [(22, 0.3451012224279513), (37, 0.46428009059493136)],\n",
       " [(34, 0.9488834722796731)],\n",
       " [(38, 0.9436638336404588)],\n",
       " [(46, 0.9551330747230208)],\n",
       " [(61, 0.9654326645593795)],\n",
       " [],\n",
       " [(90, 0.9389448036522995)],\n",
       " [(45, 0.9647554920908297)],\n",
       " [(46, 0.9587056576441005)],\n",
       " [(39, 0.968017107757846)],\n",
       " [],\n",
       " [(24, 0.9513437987562593)],\n",
       " [(93, 0.9744718866800952)],\n",
       " [],\n",
       " [(4, 0.546584403476079), (86, 0.41701570954187467)],\n",
       " [(37, 0.9717278110444402)],\n",
       " [(34, 0.15318238417038593), (79, 0.824890498648877)],\n",
       " [(20, 0.9905353396095824)],\n",
       " [(37, 0.970324738859554)],\n",
       " [(3, 0.9349375808510166)],\n",
       " [(71, 0.4476233664336124),\n",
       "  (80, 0.32465521485170656),\n",
       "  (82, 0.2164423489472383)],\n",
       " [],\n",
       " [(40, 0.6601641213577613), (58, 0.3226709947098879)],\n",
       " [(42, 0.9574226480976823)],\n",
       " [(67, 0.9796137212506109)],\n",
       " [(9, 0.8998298992049943)],\n",
       " [(3, 0.9504453101739097), (4, 0.04359374299754693)],\n",
       " [(10, 0.684114457994533), (35, 0.30696077324546245)],\n",
       " [(20, 0.9481973380849201)],\n",
       " [(82, 0.965237789976742)],\n",
       " [(37, 0.014414407183330258), (74, 0.9649587902861683)],\n",
       " [(2, 0.9518969774808106)],\n",
       " [(51, 0.061031495114134214), (96, 0.9173840102751599)],\n",
       " [(4, 0.6052448739341976),\n",
       "  (45, 0.056891160615777446),\n",
       "  (98, 0.32406148649440547)],\n",
       " [(46, 0.8794532124807579)],\n",
       " [(20, 0.8509403516335624)],\n",
       " [(98, 0.9570538799100021)],\n",
       " [(20, 0.07748979064920299), (87, 0.9158885877291763)],\n",
       " [(10, 0.3128382378072404), (82, 0.6574659109426815)],\n",
       " [(55, 0.946167802080497)],\n",
       " [(80, 0.887162384080085)],\n",
       " [(35, 0.9723747160419111)],\n",
       " [(38, 0.966415372760494)],\n",
       " [(99, 0.8869182712349962)],\n",
       " [(69, 0.8935098595538185), (76, 0.08780124614471072)],\n",
       " [(35, 0.9533253023361247)],\n",
       " [(44, 0.994584868918021)],\n",
       " [(3, 0.01531795336311502),\n",
       "  (32, 0.09249628704437189),\n",
       "  (70, 0.23253698688181723),\n",
       "  (71, 0.3858235980464458),\n",
       "  (99, 0.26526661610569047)],\n",
       " [(44, 0.9561554129297343)],\n",
       " [(27, 0.278569025533768), (67, 0.7009574454329215)],\n",
       " [(28, 0.8255586975700662)],\n",
       " [],\n",
       " [(8, 0.5229249521801888), (44, 0.4268149549036718)],\n",
       " [(24, 0.9880983923020221)],\n",
       " [(61, 0.9831705645290604)],\n",
       " [(24, 0.6558891411932535), (40, 0.3394282532210486)],\n",
       " [(51, 0.5258164852531534), (71, 0.45055844870082196)],\n",
       " [(46, 0.9883226017860863)],\n",
       " [(4, 0.8341215646993647)],\n",
       " [(41, 0.9108941044794981)],\n",
       " [(43, 0.13470635653005797), (96, 0.8255086740244791)],\n",
       " [(66, 0.9422025088687964)],\n",
       " [(78, 0.3717355179670329),\n",
       "  (81, 0.2745421412099787),\n",
       "  (82, 0.33404829536086705)],\n",
       " [(24, 0.9510988320853869)],\n",
       " [(23, 0.3123746989357663),\n",
       "  (32, 0.0634216868533636),\n",
       "  (39, 0.11963683905118351),\n",
       "  (58, 0.11801393537675288),\n",
       "  (82, 0.3734046214597992)],\n",
       " ...]"
      ]
     },
     "execution_count": 67,
     "metadata": {},
     "output_type": "execute_result"
    }
   ],
   "source": [
    "# construct vectors for authors\n",
    "author_vecs = [model_at.get_author_topics(author) for author in model_at.id2author.values()]\n",
    "author_vecs"
   ]
  },
  {
   "cell_type": "code",
   "execution_count": 68,
   "metadata": {},
   "outputs": [
    {
     "data": {
      "text/plain": [
       "[(3, 0.8530755969508286), (86, 0.13368115980592937)]"
      ]
     },
     "execution_count": 68,
     "metadata": {},
     "output_type": "execute_result"
    }
   ],
   "source": [
    "# retrieve topic distribution for author using use model[name] syntax\n",
    "# each topic has a probability of being expressed given the particular author, \n",
    "# but only the ones above a certain threshold are displayed\n",
    "\n",
    "model_at['7788103-1']"
   ]
  },
  {
   "cell_type": "code",
   "execution_count": 69,
   "metadata": {},
   "outputs": [],
   "source": [
    "# def show_author(name):\n",
    "#     print('\\n%s' % name)\n",
    "#     print('Docs:', model.author2doc[name])\n",
    "#     print('Topics:')\n",
    "#     pprint([(topic_labels[topic[0]], topic[1]) for topic in model[name]])"
   ]
  },
  {
   "cell_type": "code",
   "execution_count": 70,
   "metadata": {},
   "outputs": [],
   "source": [
    "# build mapping from inventor to patent\n",
    "inv2pat = gensim.models.atmodel.construct_author2doc(pat2inv)"
   ]
  },
  {
   "cell_type": "markdown",
   "metadata": {},
   "source": [
    "### Model #X - Predict"
   ]
  },
  {
   "cell_type": "code",
   "execution_count": 71,
   "metadata": {},
   "outputs": [],
   "source": [
    "# prediction functions that take input of new text string, and predict topic distribution"
   ]
  },
  {
   "cell_type": "markdown",
   "metadata": {},
   "source": [
    "## Train Model #6: Gensim LDA model\n",
    "Model #6: implementation: Gensim LDAmodel; k_topics=5; n_docs=1000, partition = 80/20\n",
    "This model decreases the k_topics to 5 for human interpretability in webapp"
   ]
  },
  {
   "cell_type": "code",
   "execution_count": 72,
   "metadata": {},
   "outputs": [],
   "source": [
    "# construct model #6\n",
    "# TODO (Lee) - resolve deprecation warnings\n",
    "model_6 = LdaModel(corpus=corpus_1000train,\n",
    "                   id2word=id_to_word_1000train,\n",
    "                   num_topics=5, \n",
    "                   random_state=100,\n",
    "                   update_every=1,\n",
    "                   chunksize=100,\n",
    "                   passes=10,\n",
    "                   alpha='auto',\n",
    "                   per_word_topics=True)"
   ]
  },
  {
   "cell_type": "markdown",
   "metadata": {},
   "source": [
    "#### Model #6 - Evaluate - Coherence"
   ]
  },
  {
   "cell_type": "code",
   "execution_count": 73,
   "metadata": {},
   "outputs": [
    {
     "name": "stdout",
     "output_type": "stream",
     "text": [
      "0.3557055926610265\n"
     ]
    }
   ],
   "source": [
    "# calculate coherence metric for train set ((n = 800 docs/1000 docs total in dataset))\n",
    "coherence_model_6train = CoherenceModel(model=model_6,\n",
    "                                        texts=processed_docs_1000train,\n",
    "                                        dictionary=id_to_word_1000train,\n",
    "                                        coherence='c_v')\n",
    "coherence_model_6train_get = coherence_model_6train.get_coherence()\n",
    "print(coherence_model_6train_get)"
   ]
  },
  {
   "cell_type": "markdown",
   "metadata": {},
   "source": [
    "#### Model #6 - Evaluate - Perplexity"
   ]
  },
  {
   "cell_type": "code",
   "execution_count": 74,
   "metadata": {},
   "outputs": [
    {
     "name": "stdout",
     "output_type": "stream",
     "text": [
      "-7.091984285741993\n"
     ]
    }
   ],
   "source": [
    "# calculate perplexity metric for model_6 train set\n",
    "perplexity_model_6train = model_6.log_perplexity(corpus_1000train)\n",
    "print(perplexity_model_6train)"
   ]
  },
  {
   "cell_type": "code",
   "execution_count": 75,
   "metadata": {},
   "outputs": [
    {
     "name": "stdout",
     "output_type": "stream",
     "text": [
      "-9.661613613602723\n"
     ]
    }
   ],
   "source": [
    "# calculate perplexity metric for model_6 test set\n",
    "perplexity_model_6test = model_6.log_perplexity(corpus_1000test)\n",
    "print(perplexity_model_6test)"
   ]
  },
  {
   "cell_type": "markdown",
   "metadata": {},
   "source": [
    "#### Model #6 - Predict - Pickle model"
   ]
  },
  {
   "cell_type": "code",
   "execution_count": 76,
   "metadata": {},
   "outputs": [],
   "source": [
    "# pickle model\n",
    "# # update path with location to save pickled model\n",
    "path_pickle_model_6 = '/Users/lee/Documents/techniche/techniche/data/model_6.pkl'\n",
    "pickle.dump(model_6, open(path_pickle_model_6,'wb'))"
   ]
  },
  {
   "cell_type": "code",
   "execution_count": 77,
   "metadata": {},
   "outputs": [],
   "source": [
    "model_6 = pickle.load(open(path_pickle_model_6,'rb'))"
   ]
  },
  {
   "cell_type": "markdown",
   "metadata": {},
   "source": [
    "#### Model #6 - inference"
   ]
  },
  {
   "cell_type": "code",
   "execution_count": 80,
   "metadata": {},
   "outputs": [
    {
     "data": {
      "text/plain": [
       "[(0,\n",
       "  '0.027*\"language\" + 0.026*\"one\" + 0.025*\"natural\" + 0.024*\"user\" + 0.020*\"first\" + 0.020*\"may\" + 0.017*\"data\" + 0.015*\"based\" + 0.015*\"processing\" + 0.014*\"system\"'),\n",
       " (4,\n",
       "  '0.025*\"machine\" + 0.024*\"learning\" + 0.023*\"data\" + 0.020*\"image\" + 0.019*\"system\" + 0.014*\"network\" + 0.012*\"based\" + 0.011*\"may\" + 0.011*\"using\" + 0.011*\"security\"'),\n",
       " (1,\n",
       "  '0.029*\"learning\" + 0.029*\"machine\" + 0.028*\"data\" + 0.011*\"system\" + 0.011*\"training\" + 0.009*\"based\" + 0.008*\"model\" + 0.008*\"apparatus\" + 0.008*\"methods\" + 0.007*\"systems\"')]"
      ]
     },
     "execution_count": 80,
     "metadata": {},
     "output_type": "execute_result"
    }
   ],
   "source": [
    "predict_input_1_model_6 = get_topics(id_to_word_1000train.doc2bow(text_input_1), model_6, k=3)\n",
    "# uncomment below to view predict_input_1_model_6\n",
    "predict_input_1_model_6"
   ]
  },
  {
   "cell_type": "code",
   "execution_count": 79,
   "metadata": {},
   "outputs": [],
   "source": [
    "predict_input_2_model_6 = get_topics(id_to_word_1000train.doc2bow(text_input_2), model_6, k=10)\n",
    "# uncomment below to view predict_input_2_model_6\n",
    "# predict_input_2_model_6"
   ]
  },
  {
   "cell_type": "code",
   "execution_count": null,
   "metadata": {},
   "outputs": [],
   "source": []
  }
 ],
 "metadata": {
  "kernelspec": {
   "display_name": "Python 3",
   "language": "python",
   "name": "python3"
  },
  "language_info": {
   "codemirror_mode": {
    "name": "ipython",
    "version": 3
   },
   "file_extension": ".py",
   "mimetype": "text/x-python",
   "name": "python",
   "nbconvert_exporter": "python",
   "pygments_lexer": "ipython3",
   "version": "3.6.5"
  }
 },
 "nbformat": 4,
 "nbformat_minor": 2
}
