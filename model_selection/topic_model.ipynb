{
 "cells": [
  {
   "cell_type": "markdown",
   "metadata": {},
   "source": [
    "## Techniche - Topic model"
   ]
  },
  {
   "cell_type": "code",
   "execution_count": 50,
   "metadata": {},
   "outputs": [
    {
     "name": "stdout",
     "output_type": "stream",
     "text": [
      "The autoreload extension is already loaded. To reload it, use:\n",
      "  %reload_ext autoreload\n"
     ]
    }
   ],
   "source": [
    "import pandas as pd\n",
    "import numpy as np\n",
    "\n",
    "from test_model import (get_patent_fields_list, get_ml_patents, \n",
    "                        create_title_abstract_col,trim_data, \n",
    "                        structure_dataframe, partition_dataframe, \n",
    "                        build_pipeline, process_docs)# TODO (Lee) resolve\n",
    "\n",
    "import gensim\n",
    "import gensim.corpora as corpora\n",
    "from gensim.corpora import mmcorpus\n",
    "from gensim.utils import simple_preprocess\n",
    "from gensim.models import CoherenceModel\n",
    "from gensim.models.phrases import Phrases, Phraser\n",
    "from gensim.models.ldamodel import LdaModel\n",
    "from gensim.models import AuthorTopicModel\n",
    "from gensim.test.utils import common_dictionary, datapath, temporary_file\n",
    "from smart_open import smart_open\n",
    "\n",
    "import spacy\n",
    "from spacy.lemmatizer import Lemmatizer\n",
    "from spacy.lang.en import LEMMA_INDEX, LEMMA_EXC, LEMMA_RULES\n",
    "\n",
    "import nltk\n",
    "from nltk.corpus import stopwords\n",
    "from nltk.tokenize import word_tokenize, punkt, RegexpTokenizer, wordpunct_tokenize\n",
    "from nltk.stem import PorterStemmer, LancasterStemmer, WordNetLemmatizer\n",
    "\n",
    "import json\n",
    "from pandas.io.json import json_normalize\n",
    "import requests\n",
    "import re\n",
    "import os\n",
    "import calendar\n",
    "import requests\n",
    "from bs4 import BeautifulSoup\n",
    "\n",
    "import matplotlib.pyplot as plt\n",
    "import pyLDAvis\n",
    "import pyLDAvis.gensim\n",
    "\n",
    "from pprint import pprint\n",
    "\n",
    "%load_ext autoreload\n",
    "%autoreload 2"
   ]
  },
  {
   "cell_type": "code",
   "execution_count": 51,
   "metadata": {},
   "outputs": [],
   "source": [
    "np.random.seed(3)"
   ]
  },
  {
   "cell_type": "markdown",
   "metadata": {},
   "source": [
    "### Acquire data"
   ]
  },
  {
   "cell_type": "code",
   "execution_count": 70,
   "metadata": {},
   "outputs": [],
   "source": [
    "%%capture\n",
    "# acquire dataset of ML patents by making api call from PatentsView API \n",
    "data = get_ml_patents()"
   ]
  },
  {
   "cell_type": "markdown",
   "metadata": {},
   "source": [
    "### Structure data"
   ]
  },
  {
   "cell_type": "code",
   "execution_count": 4,
   "metadata": {},
   "outputs": [],
   "source": [
    "# specify fields (key:val pairs) to retain from full set of returned fields from api call\n",
    "retained_keys = ['patent_number', 'patent_date', 'patent_title', 'patent_abstract']\n",
    "data = trim_data(data=data, keys=retained_keys)\n",
    "\n",
    "# create new key:value pair from combined values of patent_title and patent_abstract keys\n",
    "data = create_title_abstract_col(data=data)\n",
    "\n",
    "# create dataframe, organize columns and sort by patent_date\n",
    "df = structure_dataframe(data=data)\n",
    "\n",
    "#### Partition data\n",
    "\n",
    "# partition data\n",
    "data_train, data_test = partition_dataframe(df, .8)\n",
    "\n",
    "# convert dataframe to list\n",
    "text_data = df.patent_title_abstract.tolist()\n",
    "text_train = data_train.patent_title_abstract.tolist()\n",
    "text_train = data_test.patent_title_abstract.tolist()\n",
    "\n",
    "### Pre-process text data"
   ]
  },
  {
   "cell_type": "markdown",
   "metadata": {},
   "source": [
    "### Pre-process text data"
   ]
  },
  {
   "cell_type": "code",
   "execution_count": 56,
   "metadata": {},
   "outputs": [],
   "source": [
    "# construct pipeline\n",
    "# uncomment to download stop words\n",
    "# !python -m spacy download en\n",
    "stop_words = stopwords.words('/Users/lee/Documents/techniche/techniche/data/stopwords/english')\n",
    "\n",
    "nlp = build_pipeline()\n",
    "print(nlp.pipe_names)\n",
    "\n",
    "# pre-process documents\n",
    "processed_docs = process_docs(text_train)"
   ]
  },
  {
   "cell_type": "markdown",
   "metadata": {},
   "source": [
    "### Build corpus and dictionary"
   ]
  },
  {
   "cell_type": "code",
   "execution_count": 66,
   "metadata": {},
   "outputs": [],
   "source": [
    "# build dictionary\n",
    "id_to_word = corpora.Dictionary(processed_docs)\n",
    "\n",
    "# build corpus\n",
    "texts = processed_docs\n",
    "\n",
    "# apply term document frequency\n",
    "# converts documents in corpus to bag-of-words format, a list of (token_id, token_count) tuples\n",
    "corpus = [id_to_word.doc2bow(doc) for doc in processed_docs]"
   ]
  },
  {
   "cell_type": "code",
   "execution_count": 68,
   "metadata": {},
   "outputs": [],
   "source": [
    "# view formatted corpus (term-doc-frequency)\n",
    "# [[(id_to_word[id], freq) for id, freq in text] for text in corpus][:1]"
   ]
  },
  {
   "cell_type": "markdown",
   "metadata": {},
   "source": [
    "### Train model - model #1"
   ]
  },
  {
   "cell_type": "code",
   "execution_count": 71,
   "metadata": {},
   "outputs": [
    {
     "name": "stderr",
     "output_type": "stream",
     "text": [
      "/anaconda3/lib/python3.6/site-packages/gensim/models/ldamodel.py:826: DeprecationWarning: Calling np.sum(generator) is deprecated, and in the future will give a different result. Use np.sum(np.fromiter(generator)) or the python sum builtin instead.\n",
      "  score += np.sum(cnt * logsumexp(Elogthetad + Elogbeta[:, int(id)]) for id, cnt in doc)\n",
      "/anaconda3/lib/python3.6/site-packages/gensim/models/ldamodel.py:826: DeprecationWarning: Calling np.sum(generator) is deprecated, and in the future will give a different result. Use np.sum(np.fromiter(generator)) or the python sum builtin instead.\n",
      "  score += np.sum(cnt * logsumexp(Elogthetad + Elogbeta[:, int(id)]) for id, cnt in doc)\n",
      "/anaconda3/lib/python3.6/site-packages/gensim/models/ldamodel.py:826: DeprecationWarning: Calling np.sum(generator) is deprecated, and in the future will give a different result. Use np.sum(np.fromiter(generator)) or the python sum builtin instead.\n",
      "  score += np.sum(cnt * logsumexp(Elogthetad + Elogbeta[:, int(id)]) for id, cnt in doc)\n",
      "/anaconda3/lib/python3.6/site-packages/gensim/models/ldamodel.py:826: DeprecationWarning: Calling np.sum(generator) is deprecated, and in the future will give a different result. Use np.sum(np.fromiter(generator)) or the python sum builtin instead.\n",
      "  score += np.sum(cnt * logsumexp(Elogthetad + Elogbeta[:, int(id)]) for id, cnt in doc)\n",
      "/anaconda3/lib/python3.6/site-packages/gensim/models/ldamodel.py:826: DeprecationWarning: Calling np.sum(generator) is deprecated, and in the future will give a different result. Use np.sum(np.fromiter(generator)) or the python sum builtin instead.\n",
      "  score += np.sum(cnt * logsumexp(Elogthetad + Elogbeta[:, int(id)]) for id, cnt in doc)\n",
      "/anaconda3/lib/python3.6/site-packages/gensim/models/ldamodel.py:826: DeprecationWarning: Calling np.sum(generator) is deprecated, and in the future will give a different result. Use np.sum(np.fromiter(generator)) or the python sum builtin instead.\n",
      "  score += np.sum(cnt * logsumexp(Elogthetad + Elogbeta[:, int(id)]) for id, cnt in doc)\n",
      "/anaconda3/lib/python3.6/site-packages/gensim/models/ldamodel.py:826: DeprecationWarning: Calling np.sum(generator) is deprecated, and in the future will give a different result. Use np.sum(np.fromiter(generator)) or the python sum builtin instead.\n",
      "  score += np.sum(cnt * logsumexp(Elogthetad + Elogbeta[:, int(id)]) for id, cnt in doc)\n",
      "/anaconda3/lib/python3.6/site-packages/gensim/models/ldamodel.py:826: DeprecationWarning: Calling np.sum(generator) is deprecated, and in the future will give a different result. Use np.sum(np.fromiter(generator)) or the python sum builtin instead.\n",
      "  score += np.sum(cnt * logsumexp(Elogthetad + Elogbeta[:, int(id)]) for id, cnt in doc)\n",
      "/anaconda3/lib/python3.6/site-packages/gensim/models/ldamodel.py:826: DeprecationWarning: Calling np.sum(generator) is deprecated, and in the future will give a different result. Use np.sum(np.fromiter(generator)) or the python sum builtin instead.\n",
      "  score += np.sum(cnt * logsumexp(Elogthetad + Elogbeta[:, int(id)]) for id, cnt in doc)\n",
      "/anaconda3/lib/python3.6/site-packages/gensim/models/ldamodel.py:826: DeprecationWarning: Calling np.sum(generator) is deprecated, and in the future will give a different result. Use np.sum(np.fromiter(generator)) or the python sum builtin instead.\n",
      "  score += np.sum(cnt * logsumexp(Elogthetad + Elogbeta[:, int(id)]) for id, cnt in doc)\n",
      "/anaconda3/lib/python3.6/site-packages/gensim/models/ldamodel.py:826: DeprecationWarning: Calling np.sum(generator) is deprecated, and in the future will give a different result. Use np.sum(np.fromiter(generator)) or the python sum builtin instead.\n",
      "  score += np.sum(cnt * logsumexp(Elogthetad + Elogbeta[:, int(id)]) for id, cnt in doc)\n",
      "/anaconda3/lib/python3.6/site-packages/gensim/models/ldamodel.py:826: DeprecationWarning: Calling np.sum(generator) is deprecated, and in the future will give a different result. Use np.sum(np.fromiter(generator)) or the python sum builtin instead.\n",
      "  score += np.sum(cnt * logsumexp(Elogthetad + Elogbeta[:, int(id)]) for id, cnt in doc)\n",
      "/anaconda3/lib/python3.6/site-packages/gensim/models/ldamodel.py:826: DeprecationWarning: Calling np.sum(generator) is deprecated, and in the future will give a different result. Use np.sum(np.fromiter(generator)) or the python sum builtin instead.\n",
      "  score += np.sum(cnt * logsumexp(Elogthetad + Elogbeta[:, int(id)]) for id, cnt in doc)\n",
      "/anaconda3/lib/python3.6/site-packages/gensim/models/ldamodel.py:826: DeprecationWarning: Calling np.sum(generator) is deprecated, and in the future will give a different result. Use np.sum(np.fromiter(generator)) or the python sum builtin instead.\n",
      "  score += np.sum(cnt * logsumexp(Elogthetad + Elogbeta[:, int(id)]) for id, cnt in doc)\n",
      "/anaconda3/lib/python3.6/site-packages/gensim/models/ldamodel.py:826: DeprecationWarning: Calling np.sum(generator) is deprecated, and in the future will give a different result. Use np.sum(np.fromiter(generator)) or the python sum builtin instead.\n",
      "  score += np.sum(cnt * logsumexp(Elogthetad + Elogbeta[:, int(id)]) for id, cnt in doc)\n",
      "/anaconda3/lib/python3.6/site-packages/gensim/models/ldamodel.py:826: DeprecationWarning: Calling np.sum(generator) is deprecated, and in the future will give a different result. Use np.sum(np.fromiter(generator)) or the python sum builtin instead.\n",
      "  score += np.sum(cnt * logsumexp(Elogthetad + Elogbeta[:, int(id)]) for id, cnt in doc)\n",
      "/anaconda3/lib/python3.6/site-packages/gensim/models/ldamodel.py:826: DeprecationWarning: Calling np.sum(generator) is deprecated, and in the future will give a different result. Use np.sum(np.fromiter(generator)) or the python sum builtin instead.\n",
      "  score += np.sum(cnt * logsumexp(Elogthetad + Elogbeta[:, int(id)]) for id, cnt in doc)\n",
      "/anaconda3/lib/python3.6/site-packages/gensim/models/ldamodel.py:826: DeprecationWarning: Calling np.sum(generator) is deprecated, and in the future will give a different result. Use np.sum(np.fromiter(generator)) or the python sum builtin instead.\n",
      "  score += np.sum(cnt * logsumexp(Elogthetad + Elogbeta[:, int(id)]) for id, cnt in doc)\n",
      "/anaconda3/lib/python3.6/site-packages/gensim/models/ldamodel.py:826: DeprecationWarning: Calling np.sum(generator) is deprecated, and in the future will give a different result. Use np.sum(np.fromiter(generator)) or the python sum builtin instead.\n",
      "  score += np.sum(cnt * logsumexp(Elogthetad + Elogbeta[:, int(id)]) for id, cnt in doc)\n",
      "/anaconda3/lib/python3.6/site-packages/gensim/models/ldamodel.py:826: DeprecationWarning: Calling np.sum(generator) is deprecated, and in the future will give a different result. Use np.sum(np.fromiter(generator)) or the python sum builtin instead.\n",
      "  score += np.sum(cnt * logsumexp(Elogthetad + Elogbeta[:, int(id)]) for id, cnt in doc)\n",
      "/anaconda3/lib/python3.6/site-packages/gensim/models/ldamodel.py:826: DeprecationWarning: Calling np.sum(generator) is deprecated, and in the future will give a different result. Use np.sum(np.fromiter(generator)) or the python sum builtin instead.\n",
      "  score += np.sum(cnt * logsumexp(Elogthetad + Elogbeta[:, int(id)]) for id, cnt in doc)\n",
      "/anaconda3/lib/python3.6/site-packages/gensim/models/ldamodel.py:826: DeprecationWarning: Calling np.sum(generator) is deprecated, and in the future will give a different result. Use np.sum(np.fromiter(generator)) or the python sum builtin instead.\n",
      "  score += np.sum(cnt * logsumexp(Elogthetad + Elogbeta[:, int(id)]) for id, cnt in doc)\n",
      "/anaconda3/lib/python3.6/site-packages/gensim/models/ldamodel.py:826: DeprecationWarning: Calling np.sum(generator) is deprecated, and in the future will give a different result. Use np.sum(np.fromiter(generator)) or the python sum builtin instead.\n",
      "  score += np.sum(cnt * logsumexp(Elogthetad + Elogbeta[:, int(id)]) for id, cnt in doc)\n",
      "/anaconda3/lib/python3.6/site-packages/gensim/models/ldamodel.py:826: DeprecationWarning: Calling np.sum(generator) is deprecated, and in the future will give a different result. Use np.sum(np.fromiter(generator)) or the python sum builtin instead.\n",
      "  score += np.sum(cnt * logsumexp(Elogthetad + Elogbeta[:, int(id)]) for id, cnt in doc)\n",
      "/anaconda3/lib/python3.6/site-packages/gensim/models/ldamodel.py:826: DeprecationWarning: Calling np.sum(generator) is deprecated, and in the future will give a different result. Use np.sum(np.fromiter(generator)) or the python sum builtin instead.\n",
      "  score += np.sum(cnt * logsumexp(Elogthetad + Elogbeta[:, int(id)]) for id, cnt in doc)\n",
      "/anaconda3/lib/python3.6/site-packages/gensim/models/ldamodel.py:826: DeprecationWarning: Calling np.sum(generator) is deprecated, and in the future will give a different result. Use np.sum(np.fromiter(generator)) or the python sum builtin instead.\n",
      "  score += np.sum(cnt * logsumexp(Elogthetad + Elogbeta[:, int(id)]) for id, cnt in doc)\n",
      "/anaconda3/lib/python3.6/site-packages/gensim/models/ldamodel.py:826: DeprecationWarning: Calling np.sum(generator) is deprecated, and in the future will give a different result. Use np.sum(np.fromiter(generator)) or the python sum builtin instead.\n",
      "  score += np.sum(cnt * logsumexp(Elogthetad + Elogbeta[:, int(id)]) for id, cnt in doc)\n",
      "/anaconda3/lib/python3.6/site-packages/gensim/models/ldamodel.py:826: DeprecationWarning: Calling np.sum(generator) is deprecated, and in the future will give a different result. Use np.sum(np.fromiter(generator)) or the python sum builtin instead.\n",
      "  score += np.sum(cnt * logsumexp(Elogthetad + Elogbeta[:, int(id)]) for id, cnt in doc)\n",
      "/anaconda3/lib/python3.6/site-packages/gensim/models/ldamodel.py:826: DeprecationWarning: Calling np.sum(generator) is deprecated, and in the future will give a different result. Use np.sum(np.fromiter(generator)) or the python sum builtin instead.\n",
      "  score += np.sum(cnt * logsumexp(Elogthetad + Elogbeta[:, int(id)]) for id, cnt in doc)\n",
      "/anaconda3/lib/python3.6/site-packages/gensim/models/ldamodel.py:826: DeprecationWarning: Calling np.sum(generator) is deprecated, and in the future will give a different result. Use np.sum(np.fromiter(generator)) or the python sum builtin instead.\n",
      "  score += np.sum(cnt * logsumexp(Elogthetad + Elogbeta[:, int(id)]) for id, cnt in doc)\n",
      "/anaconda3/lib/python3.6/site-packages/gensim/models/ldamodel.py:826: DeprecationWarning: Calling np.sum(generator) is deprecated, and in the future will give a different result. Use np.sum(np.fromiter(generator)) or the python sum builtin instead.\n",
      "  score += np.sum(cnt * logsumexp(Elogthetad + Elogbeta[:, int(id)]) for id, cnt in doc)\n",
      "/anaconda3/lib/python3.6/site-packages/gensim/models/ldamodel.py:826: DeprecationWarning: Calling np.sum(generator) is deprecated, and in the future will give a different result. Use np.sum(np.fromiter(generator)) or the python sum builtin instead.\n",
      "  score += np.sum(cnt * logsumexp(Elogthetad + Elogbeta[:, int(id)]) for id, cnt in doc)\n",
      "/anaconda3/lib/python3.6/site-packages/gensim/models/ldamodel.py:826: DeprecationWarning: Calling np.sum(generator) is deprecated, and in the future will give a different result. Use np.sum(np.fromiter(generator)) or the python sum builtin instead.\n",
      "  score += np.sum(cnt * logsumexp(Elogthetad + Elogbeta[:, int(id)]) for id, cnt in doc)\n",
      "/anaconda3/lib/python3.6/site-packages/gensim/models/ldamodel.py:826: DeprecationWarning: Calling np.sum(generator) is deprecated, and in the future will give a different result. Use np.sum(np.fromiter(generator)) or the python sum builtin instead.\n",
      "  score += np.sum(cnt * logsumexp(Elogthetad + Elogbeta[:, int(id)]) for id, cnt in doc)\n",
      "/anaconda3/lib/python3.6/site-packages/gensim/models/ldamodel.py:826: DeprecationWarning: Calling np.sum(generator) is deprecated, and in the future will give a different result. Use np.sum(np.fromiter(generator)) or the python sum builtin instead.\n",
      "  score += np.sum(cnt * logsumexp(Elogthetad + Elogbeta[:, int(id)]) for id, cnt in doc)\n",
      "/anaconda3/lib/python3.6/site-packages/gensim/models/ldamodel.py:826: DeprecationWarning: Calling np.sum(generator) is deprecated, and in the future will give a different result. Use np.sum(np.fromiter(generator)) or the python sum builtin instead.\n",
      "  score += np.sum(cnt * logsumexp(Elogthetad + Elogbeta[:, int(id)]) for id, cnt in doc)\n",
      "/anaconda3/lib/python3.6/site-packages/gensim/models/ldamodel.py:826: DeprecationWarning: Calling np.sum(generator) is deprecated, and in the future will give a different result. Use np.sum(np.fromiter(generator)) or the python sum builtin instead.\n",
      "  score += np.sum(cnt * logsumexp(Elogthetad + Elogbeta[:, int(id)]) for id, cnt in doc)\n",
      "/anaconda3/lib/python3.6/site-packages/gensim/models/ldamodel.py:826: DeprecationWarning: Calling np.sum(generator) is deprecated, and in the future will give a different result. Use np.sum(np.fromiter(generator)) or the python sum builtin instead.\n",
      "  score += np.sum(cnt * logsumexp(Elogthetad + Elogbeta[:, int(id)]) for id, cnt in doc)\n",
      "/anaconda3/lib/python3.6/site-packages/gensim/models/ldamodel.py:826: DeprecationWarning: Calling np.sum(generator) is deprecated, and in the future will give a different result. Use np.sum(np.fromiter(generator)) or the python sum builtin instead.\n",
      "  score += np.sum(cnt * logsumexp(Elogthetad + Elogbeta[:, int(id)]) for id, cnt in doc)\n",
      "/anaconda3/lib/python3.6/site-packages/gensim/models/ldamodel.py:826: DeprecationWarning: Calling np.sum(generator) is deprecated, and in the future will give a different result. Use np.sum(np.fromiter(generator)) or the python sum builtin instead.\n",
      "  score += np.sum(cnt * logsumexp(Elogthetad + Elogbeta[:, int(id)]) for id, cnt in doc)\n",
      "/anaconda3/lib/python3.6/site-packages/gensim/models/ldamodel.py:826: DeprecationWarning: Calling np.sum(generator) is deprecated, and in the future will give a different result. Use np.sum(np.fromiter(generator)) or the python sum builtin instead.\n",
      "  score += np.sum(cnt * logsumexp(Elogthetad + Elogbeta[:, int(id)]) for id, cnt in doc)\n",
      "/anaconda3/lib/python3.6/site-packages/gensim/models/ldamodel.py:826: DeprecationWarning: Calling np.sum(generator) is deprecated, and in the future will give a different result. Use np.sum(np.fromiter(generator)) or the python sum builtin instead.\n",
      "  score += np.sum(cnt * logsumexp(Elogthetad + Elogbeta[:, int(id)]) for id, cnt in doc)\n",
      "/anaconda3/lib/python3.6/site-packages/gensim/models/ldamodel.py:826: DeprecationWarning: Calling np.sum(generator) is deprecated, and in the future will give a different result. Use np.sum(np.fromiter(generator)) or the python sum builtin instead.\n",
      "  score += np.sum(cnt * logsumexp(Elogthetad + Elogbeta[:, int(id)]) for id, cnt in doc)\n",
      "/anaconda3/lib/python3.6/site-packages/gensim/models/ldamodel.py:826: DeprecationWarning: Calling np.sum(generator) is deprecated, and in the future will give a different result. Use np.sum(np.fromiter(generator)) or the python sum builtin instead.\n",
      "  score += np.sum(cnt * logsumexp(Elogthetad + Elogbeta[:, int(id)]) for id, cnt in doc)\n",
      "/anaconda3/lib/python3.6/site-packages/gensim/models/ldamodel.py:826: DeprecationWarning: Calling np.sum(generator) is deprecated, and in the future will give a different result. Use np.sum(np.fromiter(generator)) or the python sum builtin instead.\n",
      "  score += np.sum(cnt * logsumexp(Elogthetad + Elogbeta[:, int(id)]) for id, cnt in doc)\n",
      "/anaconda3/lib/python3.6/site-packages/gensim/models/ldamodel.py:826: DeprecationWarning: Calling np.sum(generator) is deprecated, and in the future will give a different result. Use np.sum(np.fromiter(generator)) or the python sum builtin instead.\n",
      "  score += np.sum(cnt * logsumexp(Elogthetad + Elogbeta[:, int(id)]) for id, cnt in doc)\n",
      "/anaconda3/lib/python3.6/site-packages/gensim/models/ldamodel.py:826: DeprecationWarning: Calling np.sum(generator) is deprecated, and in the future will give a different result. Use np.sum(np.fromiter(generator)) or the python sum builtin instead.\n",
      "  score += np.sum(cnt * logsumexp(Elogthetad + Elogbeta[:, int(id)]) for id, cnt in doc)\n",
      "/anaconda3/lib/python3.6/site-packages/gensim/models/ldamodel.py:826: DeprecationWarning: Calling np.sum(generator) is deprecated, and in the future will give a different result. Use np.sum(np.fromiter(generator)) or the python sum builtin instead.\n",
      "  score += np.sum(cnt * logsumexp(Elogthetad + Elogbeta[:, int(id)]) for id, cnt in doc)\n",
      "/anaconda3/lib/python3.6/site-packages/gensim/models/ldamodel.py:826: DeprecationWarning: Calling np.sum(generator) is deprecated, and in the future will give a different result. Use np.sum(np.fromiter(generator)) or the python sum builtin instead.\n",
      "  score += np.sum(cnt * logsumexp(Elogthetad + Elogbeta[:, int(id)]) for id, cnt in doc)\n",
      "/anaconda3/lib/python3.6/site-packages/gensim/models/ldamodel.py:826: DeprecationWarning: Calling np.sum(generator) is deprecated, and in the future will give a different result. Use np.sum(np.fromiter(generator)) or the python sum builtin instead.\n",
      "  score += np.sum(cnt * logsumexp(Elogthetad + Elogbeta[:, int(id)]) for id, cnt in doc)\n",
      "/anaconda3/lib/python3.6/site-packages/gensim/models/ldamodel.py:826: DeprecationWarning: Calling np.sum(generator) is deprecated, and in the future will give a different result. Use np.sum(np.fromiter(generator)) or the python sum builtin instead.\n",
      "  score += np.sum(cnt * logsumexp(Elogthetad + Elogbeta[:, int(id)]) for id, cnt in doc)\n",
      "/anaconda3/lib/python3.6/site-packages/gensim/models/ldamodel.py:826: DeprecationWarning: Calling np.sum(generator) is deprecated, and in the future will give a different result. Use np.sum(np.fromiter(generator)) or the python sum builtin instead.\n",
      "  score += np.sum(cnt * logsumexp(Elogthetad + Elogbeta[:, int(id)]) for id, cnt in doc)\n",
      "/anaconda3/lib/python3.6/site-packages/gensim/models/ldamodel.py:826: DeprecationWarning: Calling np.sum(generator) is deprecated, and in the future will give a different result. Use np.sum(np.fromiter(generator)) or the python sum builtin instead.\n",
      "  score += np.sum(cnt * logsumexp(Elogthetad + Elogbeta[:, int(id)]) for id, cnt in doc)\n",
      "/anaconda3/lib/python3.6/site-packages/gensim/models/ldamodel.py:826: DeprecationWarning: Calling np.sum(generator) is deprecated, and in the future will give a different result. Use np.sum(np.fromiter(generator)) or the python sum builtin instead.\n",
      "  score += np.sum(cnt * logsumexp(Elogthetad + Elogbeta[:, int(id)]) for id, cnt in doc)\n",
      "/anaconda3/lib/python3.6/site-packages/gensim/models/ldamodel.py:826: DeprecationWarning: Calling np.sum(generator) is deprecated, and in the future will give a different result. Use np.sum(np.fromiter(generator)) or the python sum builtin instead.\n",
      "  score += np.sum(cnt * logsumexp(Elogthetad + Elogbeta[:, int(id)]) for id, cnt in doc)\n",
      "/anaconda3/lib/python3.6/site-packages/gensim/models/ldamodel.py:826: DeprecationWarning: Calling np.sum(generator) is deprecated, and in the future will give a different result. Use np.sum(np.fromiter(generator)) or the python sum builtin instead.\n",
      "  score += np.sum(cnt * logsumexp(Elogthetad + Elogbeta[:, int(id)]) for id, cnt in doc)\n",
      "/anaconda3/lib/python3.6/site-packages/gensim/models/ldamodel.py:826: DeprecationWarning: Calling np.sum(generator) is deprecated, and in the future will give a different result. Use np.sum(np.fromiter(generator)) or the python sum builtin instead.\n",
      "  score += np.sum(cnt * logsumexp(Elogthetad + Elogbeta[:, int(id)]) for id, cnt in doc)\n",
      "/anaconda3/lib/python3.6/site-packages/gensim/models/ldamodel.py:826: DeprecationWarning: Calling np.sum(generator) is deprecated, and in the future will give a different result. Use np.sum(np.fromiter(generator)) or the python sum builtin instead.\n",
      "  score += np.sum(cnt * logsumexp(Elogthetad + Elogbeta[:, int(id)]) for id, cnt in doc)\n",
      "/anaconda3/lib/python3.6/site-packages/gensim/models/ldamodel.py:826: DeprecationWarning: Calling np.sum(generator) is deprecated, and in the future will give a different result. Use np.sum(np.fromiter(generator)) or the python sum builtin instead.\n",
      "  score += np.sum(cnt * logsumexp(Elogthetad + Elogbeta[:, int(id)]) for id, cnt in doc)\n",
      "/anaconda3/lib/python3.6/site-packages/gensim/models/ldamodel.py:826: DeprecationWarning: Calling np.sum(generator) is deprecated, and in the future will give a different result. Use np.sum(np.fromiter(generator)) or the python sum builtin instead.\n",
      "  score += np.sum(cnt * logsumexp(Elogthetad + Elogbeta[:, int(id)]) for id, cnt in doc)\n",
      "/anaconda3/lib/python3.6/site-packages/gensim/models/ldamodel.py:826: DeprecationWarning: Calling np.sum(generator) is deprecated, and in the future will give a different result. Use np.sum(np.fromiter(generator)) or the python sum builtin instead.\n",
      "  score += np.sum(cnt * logsumexp(Elogthetad + Elogbeta[:, int(id)]) for id, cnt in doc)\n",
      "/anaconda3/lib/python3.6/site-packages/gensim/models/ldamodel.py:826: DeprecationWarning: Calling np.sum(generator) is deprecated, and in the future will give a different result. Use np.sum(np.fromiter(generator)) or the python sum builtin instead.\n",
      "  score += np.sum(cnt * logsumexp(Elogthetad + Elogbeta[:, int(id)]) for id, cnt in doc)\n",
      "/anaconda3/lib/python3.6/site-packages/gensim/models/ldamodel.py:826: DeprecationWarning: Calling np.sum(generator) is deprecated, and in the future will give a different result. Use np.sum(np.fromiter(generator)) or the python sum builtin instead.\n",
      "  score += np.sum(cnt * logsumexp(Elogthetad + Elogbeta[:, int(id)]) for id, cnt in doc)\n",
      "/anaconda3/lib/python3.6/site-packages/gensim/models/ldamodel.py:826: DeprecationWarning: Calling np.sum(generator) is deprecated, and in the future will give a different result. Use np.sum(np.fromiter(generator)) or the python sum builtin instead.\n",
      "  score += np.sum(cnt * logsumexp(Elogthetad + Elogbeta[:, int(id)]) for id, cnt in doc)\n",
      "/anaconda3/lib/python3.6/site-packages/gensim/models/ldamodel.py:826: DeprecationWarning: Calling np.sum(generator) is deprecated, and in the future will give a different result. Use np.sum(np.fromiter(generator)) or the python sum builtin instead.\n",
      "  score += np.sum(cnt * logsumexp(Elogthetad + Elogbeta[:, int(id)]) for id, cnt in doc)\n",
      "/anaconda3/lib/python3.6/site-packages/gensim/models/ldamodel.py:826: DeprecationWarning: Calling np.sum(generator) is deprecated, and in the future will give a different result. Use np.sum(np.fromiter(generator)) or the python sum builtin instead.\n",
      "  score += np.sum(cnt * logsumexp(Elogthetad + Elogbeta[:, int(id)]) for id, cnt in doc)\n",
      "/anaconda3/lib/python3.6/site-packages/gensim/models/ldamodel.py:826: DeprecationWarning: Calling np.sum(generator) is deprecated, and in the future will give a different result. Use np.sum(np.fromiter(generator)) or the python sum builtin instead.\n",
      "  score += np.sum(cnt * logsumexp(Elogthetad + Elogbeta[:, int(id)]) for id, cnt in doc)\n",
      "/anaconda3/lib/python3.6/site-packages/gensim/models/ldamodel.py:826: DeprecationWarning: Calling np.sum(generator) is deprecated, and in the future will give a different result. Use np.sum(np.fromiter(generator)) or the python sum builtin instead.\n",
      "  score += np.sum(cnt * logsumexp(Elogthetad + Elogbeta[:, int(id)]) for id, cnt in doc)\n",
      "/anaconda3/lib/python3.6/site-packages/gensim/models/ldamodel.py:826: DeprecationWarning: Calling np.sum(generator) is deprecated, and in the future will give a different result. Use np.sum(np.fromiter(generator)) or the python sum builtin instead.\n",
      "  score += np.sum(cnt * logsumexp(Elogthetad + Elogbeta[:, int(id)]) for id, cnt in doc)\n",
      "/anaconda3/lib/python3.6/site-packages/gensim/models/ldamodel.py:826: DeprecationWarning: Calling np.sum(generator) is deprecated, and in the future will give a different result. Use np.sum(np.fromiter(generator)) or the python sum builtin instead.\n",
      "  score += np.sum(cnt * logsumexp(Elogthetad + Elogbeta[:, int(id)]) for id, cnt in doc)\n",
      "/anaconda3/lib/python3.6/site-packages/gensim/models/ldamodel.py:826: DeprecationWarning: Calling np.sum(generator) is deprecated, and in the future will give a different result. Use np.sum(np.fromiter(generator)) or the python sum builtin instead.\n",
      "  score += np.sum(cnt * logsumexp(Elogthetad + Elogbeta[:, int(id)]) for id, cnt in doc)\n",
      "/anaconda3/lib/python3.6/site-packages/gensim/models/ldamodel.py:826: DeprecationWarning: Calling np.sum(generator) is deprecated, and in the future will give a different result. Use np.sum(np.fromiter(generator)) or the python sum builtin instead.\n",
      "  score += np.sum(cnt * logsumexp(Elogthetad + Elogbeta[:, int(id)]) for id, cnt in doc)\n",
      "/anaconda3/lib/python3.6/site-packages/gensim/models/ldamodel.py:826: DeprecationWarning: Calling np.sum(generator) is deprecated, and in the future will give a different result. Use np.sum(np.fromiter(generator)) or the python sum builtin instead.\n",
      "  score += np.sum(cnt * logsumexp(Elogthetad + Elogbeta[:, int(id)]) for id, cnt in doc)\n",
      "/anaconda3/lib/python3.6/site-packages/gensim/models/ldamodel.py:826: DeprecationWarning: Calling np.sum(generator) is deprecated, and in the future will give a different result. Use np.sum(np.fromiter(generator)) or the python sum builtin instead.\n",
      "  score += np.sum(cnt * logsumexp(Elogthetad + Elogbeta[:, int(id)]) for id, cnt in doc)\n",
      "/anaconda3/lib/python3.6/site-packages/gensim/models/ldamodel.py:826: DeprecationWarning: Calling np.sum(generator) is deprecated, and in the future will give a different result. Use np.sum(np.fromiter(generator)) or the python sum builtin instead.\n",
      "  score += np.sum(cnt * logsumexp(Elogthetad + Elogbeta[:, int(id)]) for id, cnt in doc)\n",
      "/anaconda3/lib/python3.6/site-packages/gensim/models/ldamodel.py:826: DeprecationWarning: Calling np.sum(generator) is deprecated, and in the future will give a different result. Use np.sum(np.fromiter(generator)) or the python sum builtin instead.\n",
      "  score += np.sum(cnt * logsumexp(Elogthetad + Elogbeta[:, int(id)]) for id, cnt in doc)\n",
      "/anaconda3/lib/python3.6/site-packages/gensim/models/ldamodel.py:826: DeprecationWarning: Calling np.sum(generator) is deprecated, and in the future will give a different result. Use np.sum(np.fromiter(generator)) or the python sum builtin instead.\n",
      "  score += np.sum(cnt * logsumexp(Elogthetad + Elogbeta[:, int(id)]) for id, cnt in doc)\n",
      "/anaconda3/lib/python3.6/site-packages/gensim/models/ldamodel.py:826: DeprecationWarning: Calling np.sum(generator) is deprecated, and in the future will give a different result. Use np.sum(np.fromiter(generator)) or the python sum builtin instead.\n",
      "  score += np.sum(cnt * logsumexp(Elogthetad + Elogbeta[:, int(id)]) for id, cnt in doc)\n",
      "/anaconda3/lib/python3.6/site-packages/gensim/models/ldamodel.py:826: DeprecationWarning: Calling np.sum(generator) is deprecated, and in the future will give a different result. Use np.sum(np.fromiter(generator)) or the python sum builtin instead.\n",
      "  score += np.sum(cnt * logsumexp(Elogthetad + Elogbeta[:, int(id)]) for id, cnt in doc)\n",
      "/anaconda3/lib/python3.6/site-packages/gensim/models/ldamodel.py:826: DeprecationWarning: Calling np.sum(generator) is deprecated, and in the future will give a different result. Use np.sum(np.fromiter(generator)) or the python sum builtin instead.\n",
      "  score += np.sum(cnt * logsumexp(Elogthetad + Elogbeta[:, int(id)]) for id, cnt in doc)\n",
      "/anaconda3/lib/python3.6/site-packages/gensim/models/ldamodel.py:826: DeprecationWarning: Calling np.sum(generator) is deprecated, and in the future will give a different result. Use np.sum(np.fromiter(generator)) or the python sum builtin instead.\n",
      "  score += np.sum(cnt * logsumexp(Elogthetad + Elogbeta[:, int(id)]) for id, cnt in doc)\n",
      "/anaconda3/lib/python3.6/site-packages/gensim/models/ldamodel.py:826: DeprecationWarning: Calling np.sum(generator) is deprecated, and in the future will give a different result. Use np.sum(np.fromiter(generator)) or the python sum builtin instead.\n",
      "  score += np.sum(cnt * logsumexp(Elogthetad + Elogbeta[:, int(id)]) for id, cnt in doc)\n",
      "/anaconda3/lib/python3.6/site-packages/gensim/models/ldamodel.py:826: DeprecationWarning: Calling np.sum(generator) is deprecated, and in the future will give a different result. Use np.sum(np.fromiter(generator)) or the python sum builtin instead.\n",
      "  score += np.sum(cnt * logsumexp(Elogthetad + Elogbeta[:, int(id)]) for id, cnt in doc)\n",
      "/anaconda3/lib/python3.6/site-packages/gensim/models/ldamodel.py:826: DeprecationWarning: Calling np.sum(generator) is deprecated, and in the future will give a different result. Use np.sum(np.fromiter(generator)) or the python sum builtin instead.\n",
      "  score += np.sum(cnt * logsumexp(Elogthetad + Elogbeta[:, int(id)]) for id, cnt in doc)\n",
      "/anaconda3/lib/python3.6/site-packages/gensim/models/ldamodel.py:826: DeprecationWarning: Calling np.sum(generator) is deprecated, and in the future will give a different result. Use np.sum(np.fromiter(generator)) or the python sum builtin instead.\n",
      "  score += np.sum(cnt * logsumexp(Elogthetad + Elogbeta[:, int(id)]) for id, cnt in doc)\n",
      "/anaconda3/lib/python3.6/site-packages/gensim/models/ldamodel.py:826: DeprecationWarning: Calling np.sum(generator) is deprecated, and in the future will give a different result. Use np.sum(np.fromiter(generator)) or the python sum builtin instead.\n",
      "  score += np.sum(cnt * logsumexp(Elogthetad + Elogbeta[:, int(id)]) for id, cnt in doc)\n",
      "/anaconda3/lib/python3.6/site-packages/gensim/models/ldamodel.py:826: DeprecationWarning: Calling np.sum(generator) is deprecated, and in the future will give a different result. Use np.sum(np.fromiter(generator)) or the python sum builtin instead.\n",
      "  score += np.sum(cnt * logsumexp(Elogthetad + Elogbeta[:, int(id)]) for id, cnt in doc)\n",
      "/anaconda3/lib/python3.6/site-packages/gensim/models/ldamodel.py:826: DeprecationWarning: Calling np.sum(generator) is deprecated, and in the future will give a different result. Use np.sum(np.fromiter(generator)) or the python sum builtin instead.\n",
      "  score += np.sum(cnt * logsumexp(Elogthetad + Elogbeta[:, int(id)]) for id, cnt in doc)\n",
      "/anaconda3/lib/python3.6/site-packages/gensim/models/ldamodel.py:826: DeprecationWarning: Calling np.sum(generator) is deprecated, and in the future will give a different result. Use np.sum(np.fromiter(generator)) or the python sum builtin instead.\n",
      "  score += np.sum(cnt * logsumexp(Elogthetad + Elogbeta[:, int(id)]) for id, cnt in doc)\n",
      "/anaconda3/lib/python3.6/site-packages/gensim/models/ldamodel.py:826: DeprecationWarning: Calling np.sum(generator) is deprecated, and in the future will give a different result. Use np.sum(np.fromiter(generator)) or the python sum builtin instead.\n",
      "  score += np.sum(cnt * logsumexp(Elogthetad + Elogbeta[:, int(id)]) for id, cnt in doc)\n",
      "/anaconda3/lib/python3.6/site-packages/gensim/models/ldamodel.py:826: DeprecationWarning: Calling np.sum(generator) is deprecated, and in the future will give a different result. Use np.sum(np.fromiter(generator)) or the python sum builtin instead.\n",
      "  score += np.sum(cnt * logsumexp(Elogthetad + Elogbeta[:, int(id)]) for id, cnt in doc)\n",
      "/anaconda3/lib/python3.6/site-packages/gensim/models/ldamodel.py:826: DeprecationWarning: Calling np.sum(generator) is deprecated, and in the future will give a different result. Use np.sum(np.fromiter(generator)) or the python sum builtin instead.\n",
      "  score += np.sum(cnt * logsumexp(Elogthetad + Elogbeta[:, int(id)]) for id, cnt in doc)\n",
      "/anaconda3/lib/python3.6/site-packages/gensim/models/ldamodel.py:826: DeprecationWarning: Calling np.sum(generator) is deprecated, and in the future will give a different result. Use np.sum(np.fromiter(generator)) or the python sum builtin instead.\n",
      "  score += np.sum(cnt * logsumexp(Elogthetad + Elogbeta[:, int(id)]) for id, cnt in doc)\n",
      "/anaconda3/lib/python3.6/site-packages/gensim/models/ldamodel.py:826: DeprecationWarning: Calling np.sum(generator) is deprecated, and in the future will give a different result. Use np.sum(np.fromiter(generator)) or the python sum builtin instead.\n",
      "  score += np.sum(cnt * logsumexp(Elogthetad + Elogbeta[:, int(id)]) for id, cnt in doc)\n",
      "/anaconda3/lib/python3.6/site-packages/gensim/models/ldamodel.py:826: DeprecationWarning: Calling np.sum(generator) is deprecated, and in the future will give a different result. Use np.sum(np.fromiter(generator)) or the python sum builtin instead.\n",
      "  score += np.sum(cnt * logsumexp(Elogthetad + Elogbeta[:, int(id)]) for id, cnt in doc)\n",
      "/anaconda3/lib/python3.6/site-packages/gensim/models/ldamodel.py:826: DeprecationWarning: Calling np.sum(generator) is deprecated, and in the future will give a different result. Use np.sum(np.fromiter(generator)) or the python sum builtin instead.\n",
      "  score += np.sum(cnt * logsumexp(Elogthetad + Elogbeta[:, int(id)]) for id, cnt in doc)\n",
      "/anaconda3/lib/python3.6/site-packages/gensim/models/ldamodel.py:826: DeprecationWarning: Calling np.sum(generator) is deprecated, and in the future will give a different result. Use np.sum(np.fromiter(generator)) or the python sum builtin instead.\n",
      "  score += np.sum(cnt * logsumexp(Elogthetad + Elogbeta[:, int(id)]) for id, cnt in doc)\n",
      "/anaconda3/lib/python3.6/site-packages/gensim/models/ldamodel.py:826: DeprecationWarning: Calling np.sum(generator) is deprecated, and in the future will give a different result. Use np.sum(np.fromiter(generator)) or the python sum builtin instead.\n",
      "  score += np.sum(cnt * logsumexp(Elogthetad + Elogbeta[:, int(id)]) for id, cnt in doc)\n",
      "/anaconda3/lib/python3.6/site-packages/gensim/models/ldamodel.py:826: DeprecationWarning: Calling np.sum(generator) is deprecated, and in the future will give a different result. Use np.sum(np.fromiter(generator)) or the python sum builtin instead.\n",
      "  score += np.sum(cnt * logsumexp(Elogthetad + Elogbeta[:, int(id)]) for id, cnt in doc)\n",
      "/anaconda3/lib/python3.6/site-packages/gensim/models/ldamodel.py:826: DeprecationWarning: Calling np.sum(generator) is deprecated, and in the future will give a different result. Use np.sum(np.fromiter(generator)) or the python sum builtin instead.\n",
      "  score += np.sum(cnt * logsumexp(Elogthetad + Elogbeta[:, int(id)]) for id, cnt in doc)\n"
     ]
    }
   ],
   "source": [
    "# TODO (Lee) - deprecation warnings\n",
    "# construct LDA model\n",
    "model_lda = LdaModel(corpus=corpus,\n",
    "                     id2word=id_to_word,\n",
    "                     num_topics=25, \n",
    "                     random_state=100,\n",
    "                     update_every=1,\n",
    "                     chunksize=100,\n",
    "                     passes=10,\n",
    "                     alpha='auto',\n",
    "                     per_word_topics=True)"
   ]
  },
  {
   "cell_type": "code",
   "execution_count": 76,
   "metadata": {},
   "outputs": [],
   "source": [
    "# keywords in n topics in corpus\n",
    "# pprint(model_lda.print_topics())"
   ]
  },
  {
   "cell_type": "code",
   "execution_count": 77,
   "metadata": {},
   "outputs": [],
   "source": [
    "# most important keywords, and the respective weight, that form topic with index 0\n",
    "# pprint(model_lda.print_topic(24))"
   ]
  },
  {
   "cell_type": "markdown",
   "metadata": {},
   "source": [
    "### Evaluate - model #1"
   ]
  },
  {
   "cell_type": "code",
   "execution_count": 81,
   "metadata": {},
   "outputs": [
    {
     "name": "stdout",
     "output_type": "stream",
     "text": [
      "-5.409331488170752\n"
     ]
    },
    {
     "name": "stderr",
     "output_type": "stream",
     "text": [
      "/anaconda3/lib/python3.6/site-packages/gensim/models/ldamodel.py:826: DeprecationWarning: Calling np.sum(generator) is deprecated, and in the future will give a different result. Use np.sum(np.fromiter(generator)) or the python sum builtin instead.\n",
      "  score += np.sum(cnt * logsumexp(Elogthetad + Elogbeta[:, int(id)]) for id, cnt in doc)\n",
      "/anaconda3/lib/python3.6/site-packages/gensim/models/ldamodel.py:826: DeprecationWarning: Calling np.sum(generator) is deprecated, and in the future will give a different result. Use np.sum(np.fromiter(generator)) or the python sum builtin instead.\n",
      "  score += np.sum(cnt * logsumexp(Elogthetad + Elogbeta[:, int(id)]) for id, cnt in doc)\n",
      "/anaconda3/lib/python3.6/site-packages/gensim/models/ldamodel.py:826: DeprecationWarning: Calling np.sum(generator) is deprecated, and in the future will give a different result. Use np.sum(np.fromiter(generator)) or the python sum builtin instead.\n",
      "  score += np.sum(cnt * logsumexp(Elogthetad + Elogbeta[:, int(id)]) for id, cnt in doc)\n",
      "/anaconda3/lib/python3.6/site-packages/gensim/models/ldamodel.py:826: DeprecationWarning: Calling np.sum(generator) is deprecated, and in the future will give a different result. Use np.sum(np.fromiter(generator)) or the python sum builtin instead.\n",
      "  score += np.sum(cnt * logsumexp(Elogthetad + Elogbeta[:, int(id)]) for id, cnt in doc)\n",
      "/anaconda3/lib/python3.6/site-packages/gensim/models/ldamodel.py:826: DeprecationWarning: Calling np.sum(generator) is deprecated, and in the future will give a different result. Use np.sum(np.fromiter(generator)) or the python sum builtin instead.\n",
      "  score += np.sum(cnt * logsumexp(Elogthetad + Elogbeta[:, int(id)]) for id, cnt in doc)\n",
      "/anaconda3/lib/python3.6/site-packages/gensim/models/ldamodel.py:826: DeprecationWarning: Calling np.sum(generator) is deprecated, and in the future will give a different result. Use np.sum(np.fromiter(generator)) or the python sum builtin instead.\n",
      "  score += np.sum(cnt * logsumexp(Elogthetad + Elogbeta[:, int(id)]) for id, cnt in doc)\n",
      "/anaconda3/lib/python3.6/site-packages/gensim/models/ldamodel.py:826: DeprecationWarning: Calling np.sum(generator) is deprecated, and in the future will give a different result. Use np.sum(np.fromiter(generator)) or the python sum builtin instead.\n",
      "  score += np.sum(cnt * logsumexp(Elogthetad + Elogbeta[:, int(id)]) for id, cnt in doc)\n",
      "/anaconda3/lib/python3.6/site-packages/gensim/models/ldamodel.py:826: DeprecationWarning: Calling np.sum(generator) is deprecated, and in the future will give a different result. Use np.sum(np.fromiter(generator)) or the python sum builtin instead.\n",
      "  score += np.sum(cnt * logsumexp(Elogthetad + Elogbeta[:, int(id)]) for id, cnt in doc)\n",
      "/anaconda3/lib/python3.6/site-packages/gensim/models/ldamodel.py:826: DeprecationWarning: Calling np.sum(generator) is deprecated, and in the future will give a different result. Use np.sum(np.fromiter(generator)) or the python sum builtin instead.\n",
      "  score += np.sum(cnt * logsumexp(Elogthetad + Elogbeta[:, int(id)]) for id, cnt in doc)\n",
      "/anaconda3/lib/python3.6/site-packages/gensim/models/ldamodel.py:826: DeprecationWarning: Calling np.sum(generator) is deprecated, and in the future will give a different result. Use np.sum(np.fromiter(generator)) or the python sum builtin instead.\n",
      "  score += np.sum(cnt * logsumexp(Elogthetad + Elogbeta[:, int(id)]) for id, cnt in doc)\n"
     ]
    }
   ],
   "source": [
    "# calculate perplexity metrics\n",
    "perplexity = model_lda.log_perplexity(corpus)\n",
    "print(perplexity)"
   ]
  },
  {
   "cell_type": "code",
   "execution_count": 83,
   "metadata": {},
   "outputs": [
    {
     "name": "stdout",
     "output_type": "stream",
     "text": [
      "0.8246017876742046\n"
     ]
    }
   ],
   "source": [
    "# calculate coherence metric\n",
    "coherence = CoherenceModel(model=model_lda, texts=processed_docs, dictionary=id_to_word, coherence='c_v')\n",
    "coherence_1 = coherence.get_coherence()\n",
    "print(coherence_1)"
   ]
  },
  {
   "cell_type": "code",
   "execution_count": 84,
   "metadata": {},
   "outputs": [
    {
     "data": {
      "text/plain": [
       "[0.9357145773844756,\n",
       " 0.9994613403704132,\n",
       " 0.9138137295660194,\n",
       " 0.297304697943577,\n",
       " 0.8764059594314315,\n",
       " 0.9994613403704132,\n",
       " 0.8242014874534215,\n",
       " 0.957409697371036,\n",
       " 0.9952506968788706,\n",
       " 0.9661640808841557,\n",
       " 0.8702955201314587,\n",
       " 0.9994613403704132,\n",
       " 0.9084723551468945,\n",
       " 0.7210634511922711,\n",
       " 0.8050818306878359,\n",
       " 0.33760164940811865,\n",
       " 0.28648942965597374,\n",
       " 0.35312834226704537,\n",
       " 0.9994613403704132,\n",
       " 0.8129572343683117,\n",
       " 0.9994613403704132,\n",
       " 0.9994613403704132,\n",
       " 0.949781565047193,\n",
       " 0.9941831104462331,\n",
       " 0.8129572343683116]"
      ]
     },
     "execution_count": 84,
     "metadata": {},
     "output_type": "execute_result"
    }
   ],
   "source": [
    "# calculate coherence metric or each of the n topicss\n",
    "coherence_1 = coherence.get_coherence_per_topic()\n",
    "coherence_1"
   ]
  },
  {
   "cell_type": "code",
   "execution_count": 85,
   "metadata": {},
   "outputs": [
    {
     "name": "stderr",
     "output_type": "stream",
     "text": [
      "/anaconda3/lib/python3.6/site-packages/pyLDAvis/_prepare.py:257: FutureWarning: Sorting because non-concatenation axis is not aligned. A future version\n",
      "of pandas will change to not sort by default.\n",
      "\n",
      "To accept the future behavior, pass 'sort=True'.\n",
      "\n",
      "To retain the current behavior and silence the warning, pass sort=False\n",
      "\n",
      "  return pd.concat([default_term_info] + list(topic_dfs))\n"
     ]
    },
    {
     "data": {
      "text/html": [
       "\n",
       "<link rel=\"stylesheet\" type=\"text/css\" href=\"https://cdn.rawgit.com/bmabey/pyLDAvis/files/ldavis.v1.0.0.css\">\n",
       "\n",
       "\n",
       "<div id=\"ldavis_el349511124591560001107834946\"></div>\n",
       "<script type=\"text/javascript\">\n",
       "\n",
       "var ldavis_el349511124591560001107834946_data = {\"mdsDat\": {\"x\": [-0.2243648427933872, -0.1375690162822975, 0.09274480103255747, -0.004663318186968308, -0.184914607661304, -0.08953826079180693, -0.06951847430104793, 0.2692427421280615, -0.11860334771398909, 0.022358905128457184, 0.032977901443720224, 0.028122748257000164, 0.026406042621706705, 0.030018446184456968, 0.027452396911594283, 0.025019257791616, 0.03217262893002196, 0.028497418032859212, 0.030951417813150386, 0.030534526909266266, 0.030534526909266273, 0.03053452690926628, 0.030534526909266287, 0.03053452690926628, 0.03053452690926633], \"y\": [0.00829482098164992, 0.05435569915389466, -0.24832780700170265, 0.16087835790807237, 0.0803897296675912, -0.1828123570195395, -0.12280825244264817, 0.09125345021346534, 0.041201893492495985, 0.009751804485460466, -7.031010867122597e-05, 0.0027241617753764125, 0.00791201396724917, 0.01294567544219001, 0.007791037549028474, 0.008006276730496684, 0.008316214025561184, 0.007728066698428517, 0.006082844627556236, 0.007731113309007411, 0.0077311133090074485, 0.007731113309007449, 0.007731113309007444, 0.007731113309007468, 0.007731113309007432], \"topics\": [1, 2, 3, 4, 5, 6, 7, 8, 9, 10, 11, 12, 13, 14, 15, 16, 17, 18, 19, 20, 21, 22, 23, 24, 25], \"cluster\": [1, 1, 1, 1, 1, 1, 1, 1, 1, 1, 1, 1, 1, 1, 1, 1, 1, 1, 1, 1, 1, 1, 1, 1, 1], \"Freq\": [19.980911254882812, 12.342147827148438, 11.225811004638672, 11.004402160644531, 10.783061981201172, 10.55694580078125, 9.328747749328613, 8.661731719970703, 5.76258659362793, 0.02566404640674591, 0.023601701483130455, 0.023554125800728798, 0.023486221209168434, 0.022232558578252792, 0.022204045206308365, 0.022202901542186737, 0.02216464653611183, 0.0221536997705698, 0.022141555324196815, 0.020966148003935814, 0.020655939355492592, 0.020655939355492592, 0.020655939355492592, 0.020655939355492592, 0.020655939355492592]}, \"tinfo\": {\"Category\": [\"Default\", \"Default\", \"Default\", \"Default\", \"Default\", \"Default\", \"Default\", \"Default\", \"Default\", \"Default\", \"Default\", \"Default\", \"Default\", \"Default\", \"Default\", \"Default\", \"Default\", \"Default\", \"Default\", \"Default\", \"Default\", \"Default\", \"Default\", \"Default\", \"Default\", \"Default\", \"Default\", \"Default\", \"Default\", \"Default\", \"Topic1\", \"Topic1\", \"Topic1\", \"Topic1\", \"Topic1\", \"Topic1\", \"Topic1\", \"Topic1\", \"Topic1\", \"Topic1\", \"Topic1\", \"Topic1\", \"Topic1\", \"Topic1\", \"Topic1\", \"Topic1\", \"Topic1\", \"Topic1\", \"Topic1\", \"Topic1\", \"Topic1\", \"Topic1\", \"Topic1\", \"Topic1\", \"Topic1\", \"Topic1\", \"Topic1\", \"Topic1\", \"Topic1\", \"Topic1\", \"Topic1\", \"Topic1\", \"Topic1\", \"Topic1\", \"Topic1\", \"Topic1\", \"Topic1\", \"Topic1\", \"Topic1\", \"Topic1\", \"Topic1\", \"Topic1\", \"Topic1\", \"Topic1\", \"Topic1\", \"Topic2\", \"Topic2\", \"Topic2\", \"Topic2\", \"Topic2\", \"Topic2\", \"Topic2\", \"Topic2\", \"Topic2\", \"Topic2\", \"Topic2\", \"Topic2\", \"Topic2\", \"Topic2\", \"Topic2\", \"Topic2\", \"Topic2\", \"Topic2\", \"Topic2\", \"Topic2\", \"Topic2\", \"Topic2\", \"Topic2\", \"Topic2\", \"Topic2\", \"Topic2\", \"Topic2\", \"Topic2\", \"Topic2\", \"Topic2\", \"Topic2\", \"Topic2\", \"Topic2\", \"Topic2\", \"Topic2\", \"Topic2\", \"Topic2\", \"Topic2\", \"Topic2\", \"Topic2\", \"Topic2\", \"Topic2\", \"Topic2\", \"Topic2\", \"Topic2\", \"Topic2\", \"Topic2\", \"Topic2\", \"Topic3\", \"Topic3\", \"Topic3\", \"Topic3\", \"Topic3\", \"Topic3\", \"Topic3\", \"Topic3\", \"Topic3\", \"Topic3\", \"Topic3\", \"Topic3\", \"Topic3\", \"Topic3\", \"Topic3\", \"Topic3\", \"Topic3\", \"Topic3\", \"Topic3\", \"Topic3\", \"Topic3\", \"Topic3\", \"Topic3\", \"Topic3\", \"Topic3\", \"Topic3\", \"Topic3\", \"Topic3\", \"Topic3\", \"Topic3\", \"Topic3\", \"Topic3\", \"Topic3\", \"Topic3\", \"Topic3\", \"Topic3\", \"Topic3\", \"Topic3\", \"Topic3\", \"Topic3\", \"Topic3\", \"Topic4\", \"Topic4\", \"Topic4\", \"Topic4\", \"Topic4\", \"Topic4\", \"Topic4\", \"Topic4\", \"Topic4\", \"Topic4\", \"Topic4\", \"Topic4\", \"Topic4\", \"Topic4\", \"Topic4\", \"Topic4\", \"Topic4\", \"Topic4\", \"Topic4\", \"Topic4\", \"Topic4\", \"Topic4\", \"Topic4\", \"Topic4\", \"Topic4\", \"Topic4\", \"Topic4\", \"Topic4\", \"Topic4\", \"Topic4\", \"Topic4\", \"Topic4\", \"Topic4\", \"Topic4\", \"Topic4\", \"Topic4\", \"Topic5\", \"Topic5\", \"Topic5\", \"Topic5\", \"Topic5\", \"Topic5\", \"Topic5\", \"Topic5\", \"Topic5\", \"Topic5\", \"Topic5\", \"Topic5\", \"Topic5\", \"Topic5\", \"Topic5\", \"Topic5\", \"Topic5\", \"Topic5\", \"Topic5\", \"Topic5\", \"Topic5\", \"Topic5\", \"Topic5\", \"Topic5\", \"Topic5\", \"Topic5\", \"Topic5\", \"Topic5\", \"Topic5\", \"Topic5\", \"Topic5\", \"Topic5\", \"Topic5\", \"Topic5\", \"Topic5\", \"Topic5\", \"Topic5\", \"Topic6\", \"Topic6\", \"Topic6\", \"Topic6\", \"Topic6\", \"Topic6\", \"Topic6\", \"Topic6\", \"Topic6\", \"Topic6\", \"Topic6\", \"Topic6\", \"Topic6\", \"Topic6\", \"Topic6\", \"Topic6\", \"Topic6\", \"Topic6\", \"Topic6\", \"Topic6\", \"Topic6\", \"Topic6\", \"Topic6\", \"Topic6\", \"Topic6\", \"Topic6\", \"Topic6\", \"Topic6\", \"Topic6\", \"Topic6\", \"Topic6\", \"Topic6\", \"Topic6\", \"Topic6\", \"Topic6\", \"Topic6\", \"Topic6\", \"Topic6\", \"Topic6\", \"Topic6\", \"Topic6\", \"Topic7\", \"Topic7\", \"Topic7\", \"Topic7\", \"Topic7\", \"Topic7\", \"Topic7\", \"Topic7\", \"Topic7\", \"Topic7\", \"Topic7\", \"Topic7\", \"Topic7\", \"Topic7\", \"Topic7\", \"Topic7\", \"Topic7\", \"Topic7\", \"Topic7\", \"Topic7\", \"Topic7\", \"Topic7\", \"Topic7\", \"Topic7\", \"Topic7\", \"Topic7\", \"Topic7\", \"Topic7\", \"Topic7\", \"Topic7\", \"Topic7\", \"Topic7\", \"Topic7\", \"Topic7\", \"Topic7\", \"Topic7\", \"Topic7\", \"Topic7\", \"Topic7\", \"Topic7\", \"Topic7\", \"Topic7\", \"Topic7\", \"Topic7\", \"Topic8\", \"Topic8\", \"Topic8\", \"Topic8\", \"Topic8\", \"Topic8\", \"Topic8\", \"Topic8\", \"Topic8\", \"Topic8\", \"Topic8\", \"Topic8\", \"Topic8\", \"Topic8\", \"Topic8\", \"Topic8\", \"Topic8\", \"Topic8\", \"Topic8\", \"Topic8\", \"Topic8\", \"Topic8\", \"Topic8\", \"Topic8\", \"Topic8\", \"Topic8\", \"Topic8\", \"Topic8\", \"Topic8\", \"Topic8\", \"Topic8\", \"Topic8\", \"Topic8\", \"Topic8\", \"Topic9\", \"Topic9\", \"Topic9\", \"Topic9\", \"Topic9\", \"Topic9\", \"Topic9\", \"Topic9\", \"Topic9\", \"Topic9\", \"Topic9\", \"Topic9\", \"Topic9\", \"Topic9\", \"Topic9\", \"Topic9\", \"Topic9\", \"Topic9\", \"Topic9\", \"Topic9\", \"Topic9\", \"Topic9\", \"Topic9\", \"Topic9\", \"Topic9\", \"Topic9\", \"Topic9\", \"Topic9\", \"Topic9\", \"Topic9\", \"Topic9\", \"Topic9\", \"Topic9\", \"Topic9\", \"Topic9\", \"Topic9\", \"Topic9\", \"Topic10\", \"Topic10\", \"Topic10\", \"Topic10\", \"Topic10\", \"Topic10\", \"Topic10\", \"Topic10\", \"Topic10\", \"Topic10\", \"Topic10\", \"Topic10\", \"Topic10\", \"Topic10\", \"Topic10\", \"Topic10\", \"Topic10\", \"Topic10\", \"Topic10\", \"Topic10\", \"Topic10\", \"Topic10\", \"Topic10\", \"Topic10\", \"Topic10\", \"Topic10\", \"Topic10\", \"Topic10\", \"Topic10\", \"Topic10\", \"Topic10\", \"Topic10\", \"Topic10\", \"Topic10\", \"Topic10\", \"Topic10\", \"Topic10\", \"Topic10\", \"Topic10\", \"Topic10\", \"Topic10\", \"Topic10\", \"Topic10\", \"Topic10\", \"Topic10\", \"Topic10\", \"Topic10\", \"Topic10\", \"Topic10\", \"Topic10\", \"Topic10\", \"Topic10\", \"Topic10\", \"Topic10\", \"Topic10\", \"Topic10\", \"Topic10\", \"Topic10\", \"Topic10\", \"Topic10\", \"Topic10\", \"Topic10\", \"Topic10\", \"Topic10\", \"Topic10\", \"Topic10\", \"Topic10\", \"Topic10\", \"Topic10\", \"Topic10\", \"Topic11\", \"Topic11\", \"Topic11\", \"Topic11\", \"Topic11\", \"Topic11\", \"Topic11\", \"Topic11\", \"Topic11\", \"Topic11\", \"Topic11\", \"Topic11\", \"Topic11\", \"Topic11\", \"Topic11\", \"Topic11\", \"Topic11\", \"Topic11\", \"Topic11\", \"Topic11\", \"Topic11\", \"Topic11\", \"Topic11\", \"Topic11\", \"Topic11\", \"Topic11\", \"Topic11\", \"Topic11\", \"Topic11\", \"Topic11\", \"Topic11\", \"Topic11\", \"Topic11\", \"Topic11\", \"Topic11\", \"Topic11\", \"Topic11\", \"Topic11\", \"Topic11\", \"Topic11\", \"Topic11\", \"Topic11\", \"Topic11\", \"Topic11\", \"Topic11\", \"Topic11\", \"Topic11\", \"Topic11\", \"Topic11\", \"Topic11\", \"Topic11\", \"Topic11\", \"Topic11\", \"Topic11\", \"Topic11\", \"Topic11\", \"Topic11\", \"Topic11\", \"Topic11\", \"Topic11\", \"Topic11\", \"Topic11\", \"Topic11\", \"Topic11\", \"Topic12\", \"Topic12\", \"Topic12\", \"Topic12\", \"Topic12\", \"Topic12\", \"Topic12\", \"Topic12\", \"Topic12\", \"Topic12\", \"Topic12\", \"Topic12\", \"Topic12\", \"Topic12\", \"Topic12\", \"Topic12\", \"Topic12\", \"Topic12\", \"Topic12\", \"Topic12\", \"Topic12\", \"Topic12\", \"Topic12\", \"Topic12\", \"Topic12\", \"Topic12\", \"Topic12\", \"Topic12\", \"Topic12\", \"Topic12\", \"Topic12\", \"Topic12\", \"Topic12\", \"Topic12\", \"Topic12\", \"Topic12\", \"Topic12\", \"Topic12\", \"Topic12\", \"Topic12\", \"Topic12\", \"Topic12\", \"Topic12\", \"Topic12\", \"Topic12\", \"Topic12\", \"Topic12\", \"Topic12\", \"Topic12\", \"Topic12\", \"Topic12\", \"Topic12\", \"Topic12\", \"Topic12\", \"Topic12\", \"Topic12\", \"Topic12\", \"Topic12\", \"Topic12\", \"Topic12\", \"Topic12\", \"Topic12\", \"Topic12\", \"Topic13\", \"Topic13\", \"Topic13\", \"Topic13\", \"Topic13\", \"Topic13\", \"Topic13\", \"Topic13\", \"Topic13\", \"Topic13\", \"Topic13\", \"Topic13\", \"Topic13\", \"Topic13\", \"Topic13\", \"Topic13\", \"Topic13\", \"Topic13\", \"Topic13\", \"Topic13\", \"Topic13\", \"Topic13\", \"Topic13\", \"Topic13\", \"Topic13\", \"Topic13\", \"Topic13\", \"Topic13\", \"Topic13\", \"Topic13\", \"Topic13\", \"Topic13\", \"Topic13\", \"Topic13\", \"Topic13\", \"Topic13\", \"Topic13\", \"Topic13\", \"Topic13\", \"Topic13\", \"Topic13\", \"Topic13\", \"Topic13\", \"Topic13\", \"Topic13\", \"Topic13\", \"Topic13\", \"Topic13\", \"Topic13\", \"Topic13\", \"Topic13\", \"Topic13\", \"Topic13\", \"Topic13\", \"Topic13\", \"Topic13\", \"Topic13\", \"Topic13\", \"Topic13\", \"Topic13\", \"Topic13\", \"Topic13\", \"Topic13\", \"Topic13\", \"Topic13\", \"Topic13\", \"Topic13\", \"Topic13\", \"Topic13\", \"Topic13\", \"Topic13\", \"Topic13\", \"Topic13\", \"Topic14\", \"Topic14\", \"Topic14\", \"Topic14\", \"Topic14\", \"Topic14\", \"Topic14\", \"Topic14\", \"Topic14\", \"Topic14\", \"Topic14\", \"Topic14\", \"Topic14\", \"Topic14\", \"Topic14\", \"Topic14\", \"Topic14\", \"Topic14\", \"Topic14\", \"Topic14\", \"Topic14\", \"Topic14\", \"Topic14\", \"Topic14\", \"Topic14\", \"Topic14\", \"Topic14\", \"Topic14\", \"Topic14\", \"Topic14\", \"Topic14\", \"Topic14\", \"Topic14\", \"Topic14\", \"Topic14\", \"Topic14\", \"Topic14\", \"Topic14\", \"Topic14\", \"Topic14\", \"Topic14\", \"Topic14\", \"Topic14\", \"Topic14\", \"Topic14\", \"Topic14\", \"Topic14\", \"Topic14\", \"Topic14\", \"Topic14\", \"Topic14\", \"Topic15\", \"Topic15\", \"Topic15\", \"Topic15\", \"Topic15\", \"Topic15\", \"Topic15\", \"Topic15\", \"Topic15\", \"Topic15\", \"Topic15\", \"Topic15\", \"Topic15\", \"Topic15\", \"Topic15\", \"Topic15\", \"Topic15\", \"Topic15\", \"Topic15\", \"Topic15\", \"Topic15\", \"Topic15\", \"Topic15\", \"Topic15\", \"Topic15\", \"Topic15\", \"Topic15\", \"Topic15\", \"Topic15\", \"Topic15\", \"Topic15\", \"Topic15\", \"Topic15\", \"Topic15\", \"Topic15\", \"Topic15\", \"Topic15\", \"Topic15\", \"Topic15\", \"Topic15\", \"Topic15\", \"Topic15\", \"Topic15\", \"Topic15\", \"Topic15\", \"Topic15\", \"Topic15\", \"Topic15\", \"Topic15\", \"Topic15\", \"Topic15\", \"Topic15\", \"Topic15\", \"Topic15\", \"Topic15\", \"Topic15\", \"Topic15\", \"Topic15\", \"Topic15\", \"Topic15\", \"Topic15\", \"Topic15\", \"Topic15\", \"Topic15\", \"Topic16\", \"Topic16\", \"Topic16\", \"Topic16\", \"Topic16\", \"Topic16\", \"Topic16\", \"Topic16\", \"Topic16\", \"Topic16\", \"Topic16\", \"Topic16\", \"Topic16\", \"Topic16\", \"Topic16\", \"Topic16\", \"Topic16\", \"Topic16\", \"Topic16\", \"Topic16\", \"Topic16\", \"Topic16\", \"Topic16\", \"Topic16\", \"Topic16\", \"Topic16\", \"Topic16\", \"Topic16\", \"Topic16\", \"Topic16\", \"Topic16\", \"Topic16\", \"Topic16\", \"Topic16\", \"Topic16\", \"Topic16\", \"Topic16\", \"Topic16\", \"Topic16\", \"Topic16\", \"Topic16\", \"Topic16\", \"Topic16\", \"Topic16\", \"Topic16\", \"Topic16\", \"Topic16\", \"Topic16\", \"Topic16\", \"Topic16\", \"Topic16\", \"Topic16\", \"Topic16\", \"Topic16\", \"Topic16\", \"Topic16\", \"Topic16\", \"Topic16\", \"Topic16\", \"Topic16\", \"Topic16\", \"Topic17\", \"Topic17\", \"Topic17\", \"Topic17\", \"Topic17\", \"Topic17\", \"Topic17\", \"Topic17\", \"Topic17\", \"Topic17\", \"Topic17\", \"Topic17\", \"Topic17\", \"Topic17\", \"Topic17\", \"Topic17\", \"Topic17\", \"Topic17\", \"Topic17\", \"Topic17\", \"Topic17\", \"Topic17\", \"Topic17\", \"Topic17\", \"Topic17\", \"Topic17\", \"Topic17\", \"Topic17\", \"Topic17\", \"Topic17\", \"Topic17\", \"Topic17\", \"Topic17\", \"Topic17\", \"Topic17\", \"Topic17\", \"Topic17\", \"Topic17\", \"Topic17\", \"Topic17\", \"Topic17\", \"Topic17\", \"Topic17\", \"Topic17\", \"Topic17\", \"Topic17\", \"Topic17\", \"Topic17\", \"Topic18\", \"Topic18\", \"Topic18\", \"Topic18\", \"Topic18\", \"Topic18\", \"Topic18\", \"Topic18\", \"Topic18\", \"Topic18\", \"Topic18\", \"Topic18\", \"Topic18\", \"Topic18\", \"Topic18\", \"Topic18\", \"Topic18\", \"Topic18\", \"Topic18\", \"Topic18\", \"Topic18\", \"Topic18\", \"Topic18\", \"Topic18\", \"Topic18\", \"Topic18\", \"Topic18\", \"Topic18\", \"Topic18\", \"Topic18\", \"Topic18\", \"Topic18\", \"Topic18\", \"Topic18\", \"Topic18\", \"Topic18\", \"Topic18\", \"Topic18\", \"Topic18\", \"Topic18\", \"Topic18\", \"Topic18\", \"Topic18\", \"Topic18\", \"Topic18\", \"Topic18\", \"Topic18\", \"Topic18\", \"Topic18\", \"Topic18\", \"Topic18\", \"Topic18\", \"Topic18\", \"Topic18\", \"Topic18\", \"Topic18\", \"Topic18\", \"Topic18\", \"Topic18\", \"Topic18\", \"Topic18\", \"Topic19\", \"Topic19\", \"Topic19\", \"Topic19\", \"Topic19\", \"Topic19\", \"Topic19\", \"Topic19\", \"Topic19\", \"Topic19\", \"Topic19\", \"Topic19\", \"Topic19\", \"Topic19\", \"Topic19\", \"Topic19\", \"Topic19\", \"Topic19\", \"Topic19\", \"Topic19\", \"Topic19\", \"Topic19\", \"Topic19\", \"Topic19\", \"Topic19\", \"Topic19\", \"Topic19\", \"Topic19\", \"Topic19\", \"Topic19\", \"Topic19\", \"Topic19\", \"Topic19\", \"Topic19\", \"Topic19\", \"Topic19\", \"Topic19\", \"Topic19\", \"Topic19\", \"Topic19\", \"Topic19\", \"Topic19\", \"Topic19\", \"Topic19\", \"Topic19\", \"Topic19\", \"Topic19\", \"Topic19\", \"Topic19\", \"Topic19\", \"Topic19\", \"Topic19\", \"Topic19\", \"Topic19\", \"Topic19\", \"Topic19\", \"Topic19\", \"Topic19\", \"Topic19\", \"Topic19\", \"Topic19\", \"Topic19\", \"Topic19\", \"Topic19\", \"Topic19\", \"Topic19\", \"Topic19\", \"Topic19\", \"Topic19\", \"Topic19\", \"Topic20\", \"Topic20\", \"Topic20\", \"Topic20\", \"Topic20\", \"Topic20\", \"Topic20\", \"Topic20\", \"Topic20\", \"Topic20\", \"Topic20\", \"Topic20\", \"Topic20\", \"Topic20\", \"Topic20\", \"Topic20\", \"Topic20\", \"Topic20\", \"Topic20\", \"Topic20\", \"Topic20\", \"Topic20\", \"Topic20\", \"Topic20\", \"Topic20\", \"Topic20\", \"Topic20\", \"Topic20\", \"Topic20\", \"Topic20\", \"Topic20\", \"Topic20\", \"Topic20\", \"Topic20\", \"Topic20\", \"Topic20\", \"Topic20\", \"Topic20\", \"Topic20\", \"Topic20\", \"Topic20\", \"Topic20\", \"Topic20\", \"Topic20\", \"Topic20\", \"Topic20\", \"Topic20\", \"Topic20\", \"Topic20\", \"Topic20\", \"Topic20\", \"Topic20\", \"Topic20\", \"Topic20\", \"Topic20\", \"Topic20\", \"Topic20\", \"Topic20\", \"Topic20\", \"Topic20\", \"Topic21\", \"Topic21\", \"Topic21\", \"Topic21\", \"Topic21\", \"Topic21\", \"Topic21\", \"Topic21\", \"Topic21\", \"Topic21\", \"Topic21\", \"Topic21\", \"Topic21\", \"Topic21\", \"Topic21\", \"Topic21\", \"Topic21\", \"Topic21\", \"Topic21\", \"Topic21\", \"Topic21\", \"Topic21\", \"Topic21\", \"Topic21\", \"Topic21\", \"Topic21\", \"Topic21\", \"Topic21\", \"Topic21\", \"Topic21\", \"Topic21\", \"Topic21\", \"Topic21\", \"Topic21\", \"Topic21\", \"Topic21\", \"Topic21\", \"Topic21\", \"Topic21\", \"Topic21\", \"Topic21\", \"Topic21\", \"Topic21\", \"Topic21\", \"Topic21\", \"Topic21\", \"Topic21\", \"Topic21\", \"Topic21\", \"Topic21\", \"Topic21\", \"Topic21\", \"Topic21\", \"Topic21\", \"Topic21\", \"Topic21\", \"Topic21\", \"Topic21\", \"Topic21\", \"Topic21\", \"Topic22\", \"Topic22\", \"Topic22\", \"Topic22\", \"Topic22\", \"Topic22\", \"Topic22\", \"Topic22\", \"Topic22\", \"Topic22\", \"Topic22\", \"Topic22\", \"Topic22\", \"Topic22\", \"Topic22\", \"Topic22\", \"Topic22\", \"Topic22\", \"Topic22\", \"Topic22\", \"Topic22\", \"Topic22\", \"Topic22\", \"Topic22\", \"Topic22\", \"Topic22\", \"Topic22\", \"Topic22\", \"Topic22\", \"Topic22\", \"Topic22\", \"Topic22\", \"Topic22\", \"Topic22\", \"Topic22\", \"Topic22\", \"Topic22\", \"Topic22\", \"Topic22\", \"Topic22\", \"Topic22\", \"Topic22\", \"Topic22\", \"Topic22\", \"Topic22\", \"Topic22\", \"Topic22\", \"Topic22\", \"Topic22\", \"Topic22\", \"Topic22\", \"Topic22\", \"Topic22\", \"Topic22\", \"Topic22\", \"Topic22\", \"Topic22\", \"Topic22\", \"Topic22\", \"Topic22\", \"Topic23\", \"Topic23\", \"Topic23\", \"Topic23\", \"Topic23\", \"Topic23\", \"Topic23\", \"Topic23\", \"Topic23\", \"Topic23\", \"Topic23\", \"Topic23\", \"Topic23\", \"Topic23\", \"Topic23\", \"Topic23\", \"Topic23\", \"Topic23\", \"Topic23\", \"Topic23\", \"Topic23\", \"Topic23\", \"Topic23\", \"Topic23\", \"Topic23\", \"Topic23\", \"Topic23\", \"Topic23\", \"Topic23\", \"Topic23\", \"Topic23\", \"Topic23\", \"Topic23\", \"Topic23\", \"Topic23\", \"Topic23\", \"Topic23\", \"Topic23\", \"Topic23\", \"Topic23\", \"Topic23\", \"Topic23\", \"Topic23\", \"Topic23\", \"Topic23\", \"Topic23\", \"Topic23\", \"Topic23\", \"Topic23\", \"Topic23\", \"Topic23\", \"Topic23\", \"Topic23\", \"Topic23\", \"Topic23\", \"Topic23\", \"Topic23\", \"Topic23\", \"Topic23\", \"Topic23\", \"Topic24\", \"Topic24\", \"Topic24\", \"Topic24\", \"Topic24\", \"Topic24\", \"Topic24\", \"Topic24\", \"Topic24\", \"Topic24\", \"Topic24\", \"Topic24\", \"Topic24\", \"Topic24\", \"Topic24\", \"Topic24\", \"Topic24\", \"Topic24\", \"Topic24\", \"Topic24\", \"Topic24\", \"Topic24\", \"Topic24\", \"Topic24\", \"Topic24\", \"Topic24\", \"Topic24\", \"Topic24\", \"Topic24\", \"Topic24\", \"Topic24\", \"Topic24\", \"Topic24\", \"Topic24\", \"Topic24\", \"Topic24\", \"Topic24\", \"Topic24\", \"Topic24\", \"Topic24\", \"Topic24\", \"Topic24\", \"Topic24\", \"Topic24\", \"Topic24\", \"Topic24\", \"Topic24\", \"Topic24\", \"Topic24\", \"Topic24\", \"Topic24\", \"Topic24\", \"Topic24\", \"Topic24\", \"Topic24\", \"Topic24\", \"Topic24\", \"Topic24\", \"Topic24\", \"Topic24\", \"Topic25\", \"Topic25\", \"Topic25\", \"Topic25\", \"Topic25\", \"Topic25\", \"Topic25\", \"Topic25\", \"Topic25\", \"Topic25\", \"Topic25\", \"Topic25\", \"Topic25\", \"Topic25\", \"Topic25\", \"Topic25\", \"Topic25\", \"Topic25\", \"Topic25\", \"Topic25\", \"Topic25\", \"Topic25\", \"Topic25\", \"Topic25\", \"Topic25\", \"Topic25\", \"Topic25\", \"Topic25\", \"Topic25\", \"Topic25\", \"Topic25\", \"Topic25\", \"Topic25\", \"Topic25\", \"Topic25\", \"Topic25\", \"Topic25\", \"Topic25\", \"Topic25\", \"Topic25\", \"Topic25\", \"Topic25\", \"Topic25\", \"Topic25\", \"Topic25\", \"Topic25\", \"Topic25\", \"Topic25\", \"Topic25\", \"Topic25\", \"Topic25\", \"Topic25\", \"Topic25\", \"Topic25\", \"Topic25\", \"Topic25\", \"Topic25\", \"Topic25\", \"Topic25\", \"Topic25\"], \"Freq\": [13.0, 29.0, 32.0, 9.0, 9.0, 21.0, 9.0, 9.0, 8.0, 8.0, 8.0, 10.0, 6.0, 9.0, 6.0, 10.0, 5.0, 5.0, 5.0, 6.0, 6.0, 6.0, 10.0, 5.0, 5.0, 4.0, 6.0, 6.0, 6.0, 6.0, 9.270578384399414, 5.57996940612793, 5.5798187255859375, 5.5785441398620605, 4.653790473937988, 3.7304840087890625, 3.719977378845215, 3.7206897735595703, 2.808669090270996, 2.8076982498168945, 2.8016841411590576, 1.8846080303192139, 1.8844890594482422, 1.884382724761963, 1.8840513229370117, 1.8838205337524414, 1.883113145828247, 1.8830353021621704, 1.8813456296920776, 1.8789124488830566, 1.8804653882980347, 1.8799786567687988, 1.8799047470092773, 5.562386989593506, 0.9610254168510437, 0.9608272910118103, 0.9607168436050415, 0.9601544141769409, 0.9600434899330139, 0.9599608182907104, 3.7244396209716797, 3.731182813644409, 3.7239928245544434, 2.7992613315582275, 2.807288885116577, 1.8798863887786865, 4.645650386810303, 5.552278518676758, 9.255925178527832, 8.329957008361816, 6.487242698669434, 3.7259063720703125, 2.800447702407837, 2.790468454360962, 2.8012235164642334, 7.997055530548096, 3.5737385749816895, 2.689822196960449, 1.8051254749298096, 1.8049252033233643, 1.8044853210449219, 1.8044824600219727, 1.8039442300796509, 1.8036644458770752, 1.8036580085754395, 1.8031396865844727, 0.9204862117767334, 0.9203885793685913, 0.9203459024429321, 0.9203440546989441, 0.920205295085907, 0.9201171398162842, 0.9200013279914856, 0.9199957847595215, 0.9199814200401306, 0.919886589050293, 0.91988605260849, 0.9198501706123352, 0.9198477268218994, 0.9198204874992371, 0.9197878837585449, 0.919781506061554, 0.9197328686714172, 0.9196463227272034, 0.9196176528930664, 2.688951253890991, 1.8052752017974854, 1.8040962219238281, 1.80294930934906, 1.8043769598007202, 1.8042181730270386, 2.68942928314209, 2.6886744499206543, 1.8056195974349976, 1.804093837738037, 6.2338643074035645, 4.458665370941162, 1.8026766777038574, 1.8053131103515625, 1.8044923543930054, 0.9208419322967529, 0.9207862615585327, 0.9204840660095215, 8.771322250366211, 7.889027118682861, 6.149099349975586, 4.402806282043457, 3.527712345123291, 2.65690541267395, 1.7823898792266846, 1.7821186780929565, 1.78109610080719, 1.7812936305999756, 0.9089901447296143, 0.9089281558990479, 0.9086973071098328, 0.9086798429489136, 0.9086927175521851, 0.9086626172065735, 0.9086718559265137, 0.9088286757469177, 0.9085951447486877, 0.9085332751274109, 0.9083182215690613, 0.9085121750831604, 0.9083419442176819, 0.9084158539772034, 0.9081336855888367, 0.9080384969711304, 0.9077619314193726, 0.907954752445221, 4.400166034698486, 1.781266212463379, 1.7820041179656982, 1.7817696332931519, 1.7813211679458618, 3.529423952102661, 0.9130260944366455, 0.9130215644836426, 0.9124833941459656, 0.9103178381919861, 0.9087933301925659, 0.9087279438972473, 0.9086755514144897, 5.2673845291137695, 5.265566825866699, 4.3916425704956055, 3.521671772003174, 3.5214269161224365, 3.5212602615356445, 2.6497974395751953, 2.647996425628662, 2.6474175453186035, 1.7791370153427124, 1.7781752347946167, 1.778076171875, 1.7779146432876587, 1.777482271194458, 5.262265682220459, 0.9072234630584717, 0.9072034358978271, 0.9070258736610413, 0.9069907665252686, 0.9068573117256165, 0.9067541360855103, 0.9067381620407104, 0.9067224264144897, 0.9066576957702637, 0.9066200256347656, 0.9066154956817627, 0.9065941572189331, 0.9065372943878174, 0.9063692092895508, 0.9063478112220764, 4.394059658050537, 2.648704767227173, 0.9197818040847778, 0.9179428219795227, 0.9069250226020813, 0.90678870677948, 9.538141250610352, 3.4893696308135986, 3.489074468612671, 2.627794027328491, 2.6248722076416016, 2.625814914703369, 2.623302459716797, 1.7631505727767944, 1.7634096145629883, 1.761689305305481, 1.7621742486953735, 1.7616287469863892, 0.8992426991462708, 0.8989365696907043, 0.8986902236938477, 0.8985447287559509, 0.898485541343689, 0.8985639810562134, 0.8984052538871765, 0.8984596133232117, 0.8984385132789612, 0.8983287811279297, 0.8979753255844116, 0.8982231020927429, 4.360771179199219, 2.634568214416504, 1.7662290334701538, 0.8987047672271729, 0.9015964865684509, 11.293941497802734, 11.295531272888184, 0.9074803590774536, 0.9059343338012695, 0.9027236700057983, 0.9024710059165955, 0.9006555080413818, 0.8997411131858826, 4.371722221374512, 2.636911630630493, 2.636911630630493, 2.636911630630493, 7.841341495513916, 1.7695063352584839, 1.7695063352584839, 1.7695063352584839, 5.239126682281494, 0.9021013379096985, 0.9021013379096985, 0.9021013379096985, 0.9021013379096985, 0.9021013379096985, 0.9021013379096985, 0.9021013379096985, 0.9021013379096985, 0.9021013379096985, 0.9021013379096985, 0.9021013379096985, 0.9021013379096985, 0.9021013379096985, 0.9021013379096985, 0.9021013379096985, 0.9021013379096985, 0.9021013379096985, 3.504316806793213, 2.637810707092285, 2.636911630630493, 6.106532573699951, 3.505571126937866, 6.113413333892822, 1.7695063352584839, 1.7757658958435059, 0.9091975688934326, 0.9045978784561157, 0.9036110043525696, 0.9021013379096985, 0.9021013379096985, 0.9021013379096985, 0.9021013379096985, 2.593787670135498, 2.590458393096924, 1.7396234273910522, 1.7395306825637817, 1.7394338846206665, 1.7390605211257935, 1.7389519214630127, 1.7381354570388794, 0.8873492479324341, 0.8873043656349182, 0.8872440457344055, 0.8872255086898804, 0.8872260451316833, 0.8871621489524841, 0.8871514797210693, 0.8869928121566772, 0.8869497179985046, 0.8869651556015015, 0.8869149088859558, 0.8869053721427917, 0.8868935108184814, 0.8868100643157959, 0.8868390321731567, 0.886808454990387, 0.8867352604866028, 0.8867303133010864, 0.8866795301437378, 0.8865538239479065, 0.8864526748657227, 0.8863957524299622, 2.591737747192383, 2.591850757598877, 1.7385956048965454, 4.298689842224121, 1.7389063835144043, 1.7378884553909302, 1.7388018369674683, 1.7404751777648926, 2.592442274093628, 2.5922420024871826, 0.8874898552894592, 0.8871846199035645, 0.8871748447418213, 0.8869739770889282, 2.559457302093506, 2.5588624477386475, 2.5567216873168945, 1.718377947807312, 1.7178069353103638, 1.7175331115722656, 1.717545509338379, 1.7163915634155273, 0.8760784864425659, 0.8758130669593811, 0.8758504390716553, 0.8760334253311157, 0.8758288025856018, 0.8758029937744141, 0.8757227659225464, 0.8757404088973999, 0.8759106397628784, 0.8756956458091736, 0.8756763935089111, 0.8757146000862122, 0.8757091760635376, 0.8757608532905579, 0.8756210803985596, 0.8757117986679077, 0.8757268786430359, 0.8756226301193237, 0.875676155090332, 0.8757165670394897, 0.875703752040863, 0.8755955696105957, 2.558746099472046, 1.717491626739502, 1.7163110971450806, 1.7157515287399292, 1.5949300527572632, 1.5949300527572632, 1.5949300527572632, 1.5949300527572632, 0.8131015300750732, 0.8131015300750732, 0.8131015300750732, 0.8131015300750732, 6.294961452484131, 7.860719680786133, 3.1585869789123535, 0.8131015300750732, 0.8131015300750732, 3.9432425498962402, 0.8131015300750732, 0.8131015300750732, 0.8142005801200867, 0.8131015300750732, 0.8131015300750732, 1.5958075523376465, 0.8131015300750732, 0.8140044212341309, 0.8138014078140259, 0.03127313405275345, 0.03127313405275345, 0.03127313405275345, 0.03127313405275345, 0.03127313405275345, 0.03127313405275345, 0.03127313405275345, 0.8136594891548157, 0.03127313405275345, 0.03127313405275345, 0.03127313405275345, 0.03127313405275345, 0.03127313405275345, 0.03127313405275345, 0.000643143430352211, 0.000643143430352211, 0.000643143430352211, 0.000643143430352211, 0.0006736090290360153, 0.0006732249166816473, 0.0006723275291733444, 0.0006698277429677546, 0.0006680550868622959, 0.0006677161436527967, 0.0006676707998849452, 0.0006669795839115977, 0.0006657146732322872, 0.000665145053062588, 0.0006646009860560298, 0.0006623014342039824, 0.0006496132118627429, 0.0006495536072179675, 0.000643143430352211, 0.000643143430352211, 0.000643143430352211, 0.000643143430352211, 0.000643143430352211, 0.0006492661195807159, 0.000643143430352211, 0.000643143430352211, 0.000643143430352211, 0.000643143430352211, 0.000643143430352211, 0.000643143430352211, 0.0006491805543191731, 0.0006489998777396977, 0.000648965360596776, 0.0006485577905550599, 0.0006484259502030909, 0.000648415822070092, 0.0006483751931227744, 0.0006483344477601349, 0.0006480865995399654, 0.0006479377625510097, 0.0006479087169282138, 0.0009993334533646703, 0.0007469250704161823, 0.0007080915966071188, 0.0010315185645595193, 0.0010050851851701736, 0.0007511438452638686, 0.0007507067639380693, 0.0006959859165363014, 0.0007238882244564593, 0.0006884999456815422, 0.0007107351557351649, 0.0007095307810232043, 0.000685429316945374, 0.0007414036081172526, 0.0006757875089533627, 0.0006891717785038054, 0.0007090109866112471, 0.0006956926081329584, 0.0007254047086462379, 0.000689879001583904, 0.0006815199740231037, 0.0006812882493250072, 0.0006788068567402661, 0.0006776732625439763, 0.0006870445213280618, 0.0006789056933484972, 0.0006740838289260864, 0.0006738711381331086, 0.0006735646165907383, 0.0006341752596199512, 0.0006327696028165519, 0.0006320577813312411, 0.0005835159681737423, 0.0005835159681737423, 0.0005835159681737423, 0.0005835159681737423, 0.0006283393013291061, 0.000628133537247777, 0.0006268094875849783, 0.0006241351366043091, 0.0006238733185455203, 0.0006218474009074271, 0.0006208888371475041, 0.0006203111261129379, 0.0006188689731061459, 0.0006185349193401635, 0.0006177559844218194, 0.0006161192432045937, 0.000616741250269115, 0.0006166105740703642, 0.0006163895013742149, 0.0006139014731161296, 0.0006128965760581195, 0.0006141545018181205, 0.000611430499702692, 0.0006104057538323104, 0.0006089839735068381, 0.0006092097610235214, 0.0006091088871471584, 0.0006087184883654118, 0.0006080579478293657, 0.0006074399570934474, 0.0006067291833460331, 0.0010261267889291048, 0.0009912893874570727, 0.0009036260889843106, 0.0006775064393877983, 0.0007905298843979836, 0.0006727040163241327, 0.0007478312472812831, 0.000797336339019239, 0.000665487430524081, 0.0006530182436108589, 0.0007223340799100697, 0.0006716673960909247, 0.0006711127352900803, 0.0007077513146214187, 0.0006981646874919534, 0.0006445646286010742, 0.000660558114759624, 0.0006589386030100286, 0.0007531862356700003, 0.0006691220332868397, 0.0006646717665717006, 0.0006637697224505246, 0.0006993358256295323, 0.0006675455952063203, 0.0006607149844057858, 0.0006861447473056614, 0.0006519830203615129, 0.0006627687835134566, 0.0006501912139356136, 0.0006472797249443829, 0.0005897425580769777, 0.0005897425580769777, 0.0005897425580769777, 0.0005897425580769777, 0.000621714279986918, 0.0006180430646054447, 0.0006175808375701308, 0.0006171029526740313, 0.0006168877589516342, 0.0006157408352009952, 0.0006150393164716661, 0.0006144923390820622, 0.0006143698701635003, 0.0006145262741483748, 0.0006135914009064436, 0.000612994481343776, 0.0006130307447165251, 0.000612011004704982, 0.0006121169426478446, 0.0006105495267547667, 0.0006102572660893202, 0.0006093300762586296, 0.0006043888279236853, 0.0006040940643288195, 0.0006037679850123823, 0.0006028416682966053, 0.0006021806038916111, 0.0006018818239681423, 0.0006019177380949259, 0.0006018425337970257, 0.0006014381069689989, 0.0006009786739014089, 0.0006002917652949691, 0.0005981812719255686, 0.0008479961543343961, 0.0006995314615778625, 0.000736823829356581, 0.0007598196971230209, 0.0007303376914933324, 0.0006408555782400072, 0.0006648876005783677, 0.0008315549348481, 0.0006376090459525585, 0.0006375400698743761, 0.0006836203392595053, 0.0006505149649456143, 0.000764126714784652, 0.0006462688324972987, 0.0006860957946628332, 0.0006308247684501112, 0.0006466084741987288, 0.0006445098551921546, 0.0006382848368957639, 0.0006413901573978364, 0.0006472089444287121, 0.0006655878969468176, 0.0006394957890734076, 0.0006302543333731592, 0.0006292659672908485, 0.0006281971582211554, 0.0006243324023671448, 0.0006239524809643626, 0.0006202601944096386, 0.0005934466025792062, 0.0005934466025792062, 0.0005934466025792062, 0.0005934466025792062, 0.0005934466025792062, 0.0005934466025792062, 0.0005934466025792062, 0.0005934466025792062, 0.0005934466025792062, 0.0005934466025792062, 0.0005934466025792062, 0.0005934466025792062, 0.0005934466025792062, 0.0005934466025792062, 0.0005934466025792062, 0.0005934466025792062, 0.0005934466025792062, 0.0005934466025792062, 0.0005934466025792062, 0.0005934466025792062, 0.0005934466025792062, 0.0005934466025792062, 0.0005934466025792062, 0.0005934466025792062, 0.0005934466025792062, 0.0005934466025792062, 0.0005934466025792062, 0.0005934466025792062, 0.0005934466025792062, 0.0005934466025792062, 0.0006092257681302726, 0.0006072063697502017, 0.0006067498470656574, 0.0006048366194590926, 0.0006035061087459326, 0.0006030584336258471, 0.0006012911908328533, 0.0006010947981849313, 0.0006009727949276567, 0.0006001663277857006, 0.0005998148117214441, 0.000598644488491118, 0.0006856219843029976, 0.000643872597720474, 0.0006557917804457247, 0.0006225506076589227, 0.0006208571139723063, 0.0007300074794329703, 0.0006422870792448521, 0.0006175513844937086, 0.0006709765293635428, 0.0006774294888600707, 0.000615349446889013, 0.000638062076177448, 0.0006355844670906663, 0.000638904923107475, 0.000632493058219552, 0.0006366758607327938, 0.0006191213033162057, 0.0006106209475547075, 0.0006689304718747735, 0.0006753730121999979, 0.0006360882543958724, 0.0006181218777783215, 0.0006280238158069551, 0.000627010187599808, 0.00062164495466277, 0.0006340802065096796, 0.0006323922425508499, 0.0006290620658546686, 0.0006270442972891033, 0.0006206994294188917, 0.0006166519015096128, 0.000557330553419888, 0.000557330553419888, 0.000557330553419888, 0.000557330553419888, 0.0005965317832306027, 0.0005954910302534699, 0.0005955570959486067, 0.0005949055193923414, 0.0005936339148320258, 0.0005933700012974441, 0.0005923262797296047, 0.0005919069517403841, 0.0005916020600125194, 0.0005911221960559487, 0.0005910096224397421, 0.0005909025785513222, 0.0005902205593883991, 0.0005894294590689242, 0.000589468574617058, 0.0005880634416826069, 0.0005876359064131975, 0.0005865009152330458, 0.0005851927562616765, 0.0005850329762324691, 0.0005848865257576108, 0.0005838889046572149, 0.0005827457061968744, 0.0005828863941133022, 0.000581704662181437, 0.0005804190877825022, 0.0007631382904946804, 0.000687489053234458, 0.0006310786120593548, 0.0007737951818853617, 0.0006699116784147918, 0.0007351547828875482, 0.0006881435983814299, 0.0006856744876131415, 0.0006833774386905134, 0.0007153504993766546, 0.0006238191272132099, 0.0006478711147792637, 0.0006212585722096264, 0.0006195945898070931, 0.0006188218831084669, 0.0007023162906989455, 0.0006635238532908261, 0.000596142141148448, 0.0005936797242611647, 0.0005921873380430043, 0.0005918617825955153, 0.0005603995523415506, 0.0005603995523415506, 0.0005603995523415506, 0.0005603995523415506, 0.0005603995523415506, 0.0005603995523415506, 0.0005603995523415506, 0.0005603995523415506, 0.0005603995523415506, 0.0005603995523415506, 0.0005603995523415506, 0.0005603995523415506, 0.0005603995523415506, 0.0005603995523415506, 0.0005603995523415506, 0.0005603995523415506, 0.0005603995523415506, 0.0005603995523415506, 0.0005603995523415506, 0.0005603995523415506, 0.0005603995523415506, 0.0005603995523415506, 0.0005603995523415506, 0.0005603995523415506, 0.0005603995523415506, 0.0005603995523415506, 0.0005603995523415506, 0.0005603995523415506, 0.0005603995523415506, 0.0005603995523415506, 0.0005922225536778569, 0.0005895389476791024, 0.0005866931169293821, 0.0005864736740477383, 0.0005807208362966776, 0.0005777563201263547, 0.0005759733030572534, 0.0007791997632011771, 0.0006161986384540796, 0.0006112991832196712, 0.0006790786283090711, 0.0006531918770633638, 0.0006055518751963973, 0.0006812869105488062, 0.000604125380050391, 0.0006715391064062715, 0.0006015338585712016, 0.0006701956153847277, 0.0005994695238769054, 0.0006210468127392232, 0.0005980587447993457, 0.0006463195313699543, 0.0006143517675809562, 0.0006234247703105211, 0.0005829603178426623, 0.0006056746933609247, 0.0005802004598081112, 0.0005944819422438741, 0.0006030641379766166, 0.0005893114139325917, 0.0005972046055831015, 0.0006004025344736874, 0.0005846581188961864, 0.0005834851763211191, 0.000560448388569057, 0.000560448388569057, 0.000560448388569057, 0.000560448388569057, 0.000560448388569057, 0.000560448388569057, 0.000560448388569057, 0.000560448388569057, 0.000560448388569057, 0.000560448388569057, 0.000560448388569057, 0.000560448388569057, 0.000560448388569057, 0.000560448388569057, 0.000560448388569057, 0.000560448388569057, 0.000560448388569057, 0.000560448388569057, 0.000560448388569057, 0.000560448388569057, 0.000560448388569057, 0.000560448388569057, 0.000560448388569057, 0.000560448388569057, 0.000560448388569057, 0.000560448388569057, 0.000560448388569057, 0.000560448388569057, 0.000560448388569057, 0.000560448388569057, 0.0005870998720638454, 0.0005811130977235734, 0.0005811400478705764, 0.000579829968046397, 0.0005786645924672484, 0.0006133253336884081, 0.0006649878923781216, 0.0006928473594598472, 0.0006029661744832993, 0.0005983677692711353, 0.0005978818517178297, 0.0006354703800752759, 0.000763791031204164, 0.0005937914247624576, 0.0006341211847029626, 0.0005894477944821119, 0.000607181980740279, 0.0006775104557164013, 0.0006432929076254368, 0.0006227547419257462, 0.000705129757989198, 0.000600518484134227, 0.000676170049700886, 0.0006321830442175269, 0.0006219119532033801, 0.0006190615240484476, 0.0006003098096698523, 0.0005833067116327584, 0.0006031718803569674, 0.0005786195979453623, 0.0005800937651656568, 0.00056227802997455, 0.00056227802997455, 0.00056227802997455, 0.00056227802997455, 0.0005786670953966677, 0.000577912200242281, 0.0005765456589870155, 0.0005764344823546708, 0.0005763232475146651, 0.0005759753403253853, 0.0005759276100434363, 0.0005757790640927851, 0.0005753867444582283, 0.0005752751021645963, 0.0005750682321377099, 0.000574974634218961, 0.0005749267875216901, 0.0005748888943344355, 0.0005748072871938348, 0.0005747198010794818, 0.0005747051327489316, 0.0005745099624618888, 0.0005744987865909934, 0.0005744004738517106, 0.0005743682850152254, 0.0005743062938563526, 0.0005742514040321112, 0.0005741691566072404, 0.0005741318454965949, 0.0005740617052651942, 0.0005739337066188455, 0.0005737527390010655, 0.0005734361475333571, 0.0005733914440497756, 0.0005988791235722601, 0.0005966689786873758, 0.0005955210654065013, 0.0005951362545602024, 0.0005838744691573083, 0.0005873424233868718, 0.0005829568835906684, 0.0005858811200596392, 0.0005814663600176573, 0.0005806811968795955, 0.0005829435540363193, 0.0005807037814520299, 0.0005779414204880595, 0.0005753881996497512, 0.0005624628392979503, 0.0005624628392979503, 0.0005624628392979503, 0.0005624628392979503, 0.0005624628392979503, 0.0005624628392979503, 0.0005624628392979503, 0.0005624628392979503, 0.0005624628392979503, 0.0005624628392979503, 0.0005624628392979503, 0.0005624628392979503, 0.0005624628392979503, 0.0005624628392979503, 0.0005624628392979503, 0.0005624628392979503, 0.0005624628392979503, 0.0005624628392979503, 0.0005624628392979503, 0.0005624628392979503, 0.0005624628392979503, 0.0005624628392979503, 0.0005624628392979503, 0.0005624628392979503, 0.0005624628392979503, 0.0005624628392979503, 0.0005624628392979503, 0.0005624628392979503, 0.0005624628392979503, 0.0005624628392979503, 0.0005715151783078909, 0.0005703821661882102, 0.0005699145258404315, 0.0005690965917892754, 0.0005688904202543199, 0.0005845479317940772, 0.0006209698622114956, 0.0006021976587362587, 0.0006014960235916078, 0.0005815912736579776, 0.0005804523825645447, 0.0005860853707417846, 0.0005771968280896544, 0.0005768963019363582, 0.0006150325643830001, 0.0006219479255378246, 0.0005904552526772022, 0.0005802494124509394, 0.0006196729373186827, 0.000607210851740092, 0.0005851057940162718, 0.0005857351934537292, 0.0005809066351503134, 0.0005865762359462678, 0.0005865246057510376, 0.0005835923948325217, 0.0005782768130302429, 0.0005688517703674734, 0.0005707282107323408, 0.0005712843267247081, 0.0005691251717507839, 0.0005626071942970157, 0.0005626071942970157, 0.0005626071942970157, 0.0005626071942970157, 0.0005626071942970157, 0.0005626071942970157, 0.0005626071942970157, 0.0005626071942970157, 0.0005626071942970157, 0.0005626071942970157, 0.0005626071942970157, 0.0005626071942970157, 0.0005626071942970157, 0.0005626071942970157, 0.0005626071942970157, 0.0005626071942970157, 0.0005626071942970157, 0.0005626071942970157, 0.0005626071942970157, 0.0005626071942970157, 0.0005626071942970157, 0.0005626071942970157, 0.0005626071942970157, 0.0005626071942970157, 0.0005626071942970157, 0.0005626071942970157, 0.0005626071942970157, 0.0005626071942970157, 0.0005626071942970157, 0.0005626071942970157, 0.0005710525438189507, 0.0005696791340596974, 0.0005696230218745768, 0.0005692918202839792, 0.0005692047416232526, 0.0005691972328349948, 0.0005690723191946745, 0.0005687265074811876, 0.0005686174263246357, 0.0005685596261173487, 0.0005684407078661025, 0.0005684092757292092, 0.0005676663713529706, 0.0005675863940268755, 0.0005675001302734017, 0.0005672434344887733, 0.0005671297549270093, 0.0005671875551342964, 0.0006242459639906883, 0.0006146712694317102, 0.0005914539215154946, 0.0005960561684332788, 0.000575156242121011, 0.0005850467714481056, 0.0005729495896957815, 0.0005727667012251914, 0.0005787434638477862, 0.0005876775248907506, 0.0005725549417547882, 0.0005760895437560976, 0.0005706719239242375, 0.0005753234727308154, 0.0005838162614963949, 0.0005731894634664059, 0.0005721804918721318, 0.0005703230272047222, 0.0005699250614270568, 0.0005696199368685484, 0.0005695607978850603, 0.0005691275000572205, 0.0005342795047909021, 0.0005342795047909021, 0.0005342795047909021, 0.0005342795047909021, 0.0005342795047909021, 0.0005342795047909021, 0.0005342795047909021, 0.0005342795047909021, 0.0005342795047909021, 0.0005342795047909021, 0.0005342795047909021, 0.0005342795047909021, 0.0005342795047909021, 0.0005342795047909021, 0.0005342795047909021, 0.0005342795047909021, 0.0005342795047909021, 0.0005342795047909021, 0.0005342795047909021, 0.0005342795047909021, 0.0005342795047909021, 0.0005342795047909021, 0.0005342795047909021, 0.0005342795047909021, 0.0005342795047909021, 0.0005342795047909021, 0.0005342795047909021, 0.0005342795047909021, 0.0005342795047909021, 0.0005342795047909021, 0.0005342795047909021, 0.0005342795047909021, 0.0005342795047909021, 0.0005342795047909021, 0.0005342795047909021, 0.0005342795047909021, 0.0005342795047909021, 0.0005342795047909021, 0.0005342795047909021, 0.0005342795047909021, 0.0005342795047909021, 0.0005342795047909021, 0.0005342795047909021, 0.0005342795047909021, 0.0005342795047909021, 0.0005342795047909021, 0.0005342795047909021, 0.0005342795047909021, 0.0005342795047909021, 0.0005342795047909021, 0.0005342795047909021, 0.0005342795047909021, 0.0005342795047909021, 0.0005342795047909021, 0.0005342795047909021, 0.0005342795047909021, 0.0005342795047909021, 0.0005342795047909021, 0.0005342795047909021, 0.0005342795047909021, 0.0005263744969852269, 0.0005263744969852269, 0.0005263744969852269, 0.0005263744969852269, 0.0005263744969852269, 0.0005263744969852269, 0.0005263744969852269, 0.0005263744969852269, 0.0005263744969852269, 0.0005263744969852269, 0.0005263744969852269, 0.0005263744969852269, 0.0005263744969852269, 0.0005263744969852269, 0.0005263744969852269, 0.0005263744969852269, 0.0005263744969852269, 0.0005263744969852269, 0.0005263744969852269, 0.0005263744969852269, 0.0005263744969852269, 0.0005263744969852269, 0.0005263744969852269, 0.0005263744969852269, 0.0005263744969852269, 0.0005263744969852269, 0.0005263744969852269, 0.0005263744969852269, 0.0005263744969852269, 0.0005263744969852269, 0.0005263744969852269, 0.0005263744969852269, 0.0005263744969852269, 0.0005263744969852269, 0.0005263744969852269, 0.0005263744969852269, 0.0005263744969852269, 0.0005263744969852269, 0.0005263744969852269, 0.0005263744969852269, 0.0005263744969852269, 0.0005263744969852269, 0.0005263744969852269, 0.0005263744969852269, 0.0005263744969852269, 0.0005263744969852269, 0.0005263744969852269, 0.0005263744969852269, 0.0005263744969852269, 0.0005263744969852269, 0.0005263744969852269, 0.0005263744969852269, 0.0005263744969852269, 0.0005263744969852269, 0.0005263744969852269, 0.0005263744969852269, 0.0005263744969852269, 0.0005263744969852269, 0.0005263744969852269, 0.0005263744969852269, 0.0005263744969852269, 0.0005263744969852269, 0.0005263744969852269, 0.0005263744969852269, 0.0005263744969852269, 0.0005263744969852269, 0.0005263744969852269, 0.0005263744969852269, 0.0005263744969852269, 0.0005263744969852269, 0.0005263744969852269, 0.0005263744969852269, 0.0005263744969852269, 0.0005263744969852269, 0.0005263744969852269, 0.0005263744969852269, 0.0005263744969852269, 0.0005263744969852269, 0.0005263744969852269, 0.0005263744969852269, 0.0005263744969852269, 0.0005263744969852269, 0.0005263744969852269, 0.0005263744969852269, 0.0005263744969852269, 0.0005263744969852269, 0.0005263744969852269, 0.0005263744969852269, 0.0005263744969852269, 0.0005263744969852269, 0.0005263744969852269, 0.0005263744969852269, 0.0005263744969852269, 0.0005263744969852269, 0.0005263744969852269, 0.0005263744969852269, 0.0005263744969852269, 0.0005263744969852269, 0.0005263744969852269, 0.0005263744969852269, 0.0005263744969852269, 0.0005263744969852269, 0.0005263744969852269, 0.0005263744969852269, 0.0005263744969852269, 0.0005263744969852269, 0.0005263744969852269, 0.0005263744969852269, 0.0005263744969852269, 0.0005263744969852269, 0.0005263744969852269, 0.0005263744969852269, 0.0005263744969852269, 0.0005263744969852269, 0.0005263744969852269, 0.0005263744969852269, 0.0005263744969852269, 0.0005263744969852269, 0.0005263744969852269, 0.0005263744969852269, 0.0005263744969852269, 0.0005263744969852269, 0.0005263744969852269, 0.0005263744969852269, 0.0005263744969852269, 0.0005263744969852269, 0.0005263744969852269, 0.0005263744969852269, 0.0005263744969852269, 0.0005263744969852269, 0.0005263744969852269, 0.0005263744969852269, 0.0005263744969852269, 0.0005263744969852269, 0.0005263744969852269, 0.0005263744969852269, 0.0005263744969852269, 0.0005263744969852269, 0.0005263744969852269, 0.0005263744969852269, 0.0005263744969852269, 0.0005263744969852269, 0.0005263744969852269, 0.0005263744969852269, 0.0005263744969852269, 0.0005263744969852269, 0.0005263744969852269, 0.0005263744969852269, 0.0005263744969852269, 0.0005263744969852269, 0.0005263744969852269, 0.0005263744969852269, 0.0005263744969852269, 0.0005263744969852269, 0.0005263744969852269, 0.0005263744969852269, 0.0005263744969852269, 0.0005263744969852269, 0.0005263744969852269, 0.0005263744969852269, 0.0005263744969852269, 0.0005263744969852269, 0.0005263744969852269, 0.0005263744969852269, 0.0005263744969852269, 0.0005263744969852269, 0.0005263744969852269, 0.0005263744969852269, 0.0005263744969852269, 0.0005263744969852269, 0.0005263744969852269, 0.0005263744969852269, 0.0005263744969852269, 0.0005263744969852269, 0.0005263744969852269, 0.0005263744969852269, 0.0005263744969852269, 0.0005263744969852269, 0.0005263744969852269, 0.0005263744969852269, 0.0005263744969852269, 0.0005263744969852269, 0.0005263744969852269, 0.0005263744969852269, 0.0005263744969852269, 0.0005263744969852269, 0.0005263744969852269, 0.0005263744969852269, 0.0005263744969852269, 0.0005263744969852269, 0.0005263744969852269, 0.0005263744969852269, 0.0005263744969852269, 0.0005263744969852269, 0.0005263744969852269, 0.0005263744969852269, 0.0005263744969852269, 0.0005263744969852269, 0.0005263744969852269, 0.0005263744969852269, 0.0005263744969852269, 0.0005263744969852269, 0.0005263744969852269, 0.0005263744969852269, 0.0005263744969852269, 0.0005263744969852269, 0.0005263744969852269, 0.0005263744969852269, 0.0005263744969852269, 0.0005263744969852269, 0.0005263744969852269, 0.0005263744969852269, 0.0005263744969852269, 0.0005263744969852269, 0.0005263744969852269, 0.0005263744969852269, 0.0005263744969852269, 0.0005263744969852269, 0.0005263744969852269, 0.0005263744969852269, 0.0005263744969852269, 0.0005263744969852269, 0.0005263744969852269, 0.0005263744969852269, 0.0005263744969852269, 0.0005263744969852269, 0.0005263744969852269, 0.0005263744969852269, 0.0005263744969852269, 0.0005263744969852269, 0.0005263744969852269, 0.0005263744969852269, 0.0005263744969852269, 0.0005263744969852269, 0.0005263744969852269, 0.0005263744969852269, 0.0005263744969852269, 0.0005263744969852269, 0.0005263744969852269, 0.0005263744969852269, 0.0005263744969852269, 0.0005263744969852269, 0.0005263744969852269, 0.0005263744969852269, 0.0005263744969852269, 0.0005263744969852269, 0.0005263744969852269, 0.0005263744969852269, 0.0005263744969852269, 0.0005263744969852269, 0.0005263744969852269, 0.0005263744969852269, 0.0005263744969852269, 0.0005263744969852269, 0.0005263744969852269, 0.0005263744969852269, 0.0005263744969852269, 0.0005263744969852269, 0.0005263744969852269, 0.0005263744969852269, 0.0005263744969852269, 0.0005263744969852269, 0.0005263744969852269, 0.0005263744969852269, 0.0005263744969852269, 0.0005263744969852269, 0.0005263744969852269, 0.0005263744969852269, 0.0005263744969852269, 0.0005263744969852269, 0.0005263744969852269, 0.0005263744969852269, 0.0005263744969852269, 0.0005263744969852269, 0.0005263744969852269, 0.0005263744969852269, 0.0005263744969852269, 0.0005263744969852269, 0.0005263744969852269, 0.0005263744969852269, 0.0005263744969852269, 0.0005263744969852269, 0.0005263744969852269, 0.0005263744969852269, 0.0005263744969852269, 0.0005263744969852269, 0.0005263744969852269, 0.0005263744969852269, 0.0005263744969852269, 0.0005263744969852269, 0.0005263744969852269, 0.0005263744969852269, 0.0005263744969852269, 0.0005263744969852269, 0.0005263744969852269, 0.0005263744969852269, 0.0005263744969852269, 0.0005263744969852269, 0.0005263744969852269, 0.0005263744969852269], \"Term\": [\"response\", \"natural\", \"language\", \"device\", \"endpoint\", \"may\", \"metrics\", \"follow\", \"service\", \"cad\", \"entity\", \"system\", \"compound\", \"include\", \"input\", \"user\", \"item\", \"linguistic\", \"subsystem\", \"information\", \"messages\", \"communication\", \"based\", \"segments\", \"message\", \"dependent\", \"command\", \"data\", \"one\", \"associated\", \"endpoint\", \"subsystem\", \"linguistic\", \"item\", \"dependent\", \"independent\", \"providing\", \"sufficient\", \"interprets\", \"mechanism\", \"adequate\", \"component\", \"technique\", \"results\", \"scalable\", \"ranking\", \"interpretation\", \"lu\", \"accessible\", \"prior\", \"responses\", \"determination\", \"currently\", \"input\", \"generated\", \"efficient\", \"final\", \"originated\", \"intermediate\", \"implemented\", \"provided\", \"manner\", \"information\", \"received\", \"particular\", \"inputs\", \"system\", \"response\", \"language\", \"natural\", \"may\", \"based\", \"computer\", \"follow\", \"user\", \"cad\", \"database\", \"model\", \"party\", \"third\", \"parser\", \"analyzer\", \"related\", \"server\", \"aided\", \"design\", \"respond\", \"capability\", \"parsed\", \"suppliers\", \"cloud\", \"places\", \"supplied\", \"necessary\", \"retrieval\", \"generator\", \"also\", \"generate\", \"artificial\", \"preferably\", \"comprises\", \"increased\", \"larger\", \"facilitate\", \"providers\", \"specific\", \"interface\", \"context\", \"systems\", \"including\", \"second\", \"module\", \"information\", \"commands\", \"voice\", \"language\", \"natural\", \"computer\", \"command\", \"user\", \"associated\", \"may\", \"analyzes\", \"metrics\", \"service\", \"compound\", \"customer\", \"performance\", \"different\", \"combinations\", \"metric\", \"defined\", \"services\", \"internet\", \"video\", \"analytics\", \"offered\", \"provider\", \"stored\", \"sentiment\", \"correlations\", \"etc\", \"usage\", \"weighting\", \"sms\", \"value\", \"applying\", \"relationships\", \"maintaining\", \"framework\", \"factors\", \"data\", \"actions\", \"example\", \"plurality\", \"specific\", \"may\", \"learning\", \"techniques\", \"cases\", \"machine\", \"order\", \"include\", \"received\", \"message\", \"segments\", \"social\", \"media\", \"website\", \"posted\", \"meaning\", \"scanned\", \"tenses\", \"readable\", \"text\", \"ordered\", \"topics\", \"understandable\", \"messages\", \"product\", \"hashtags\", \"group\", \"intelligently\", \"punctuation\", \"displayed\", \"symbols\", \"identifiers\", \"view\", \"topic\", \"splitting\", \"split\", \"analyzed\", \"networking\", \"readability\", \"user\", \"based\", \"language\", \"natural\", \"processing\", \"using\", \"device\", \"control\", \"remote\", \"description\", \"computing\", \"includes\", \"strings\", \"names\", \"name\", \"assistant\", \"record\", \"correspond\", \"corresponds\", \"communicates\", \"matches\", \"obtains\", \"string\", \"supported\", \"functions\", \"monitors\", \"words\", \"notifies\", \"uses\", \"phrases\", \"command\", \"module\", \"commands\", \"determine\", \"provides\", \"natural\", \"language\", \"matching\", \"one\", \"input\", \"described\", \"associated\", \"inputs\", \"operation\", \"identifiable\", \"unambiguously\", \"online\", \"entity\", \"processor\", \"environment\", \"upon\", \"communication\", \"sentiments\", \"approach\", \"bayesian\", \"embodiment\", \"executed\", \"facilitating\", \"inference\", \"receiving\", \"memory\", \"storing\", \"according\", \"participants\", \"performs\", \"sequential\", \"among\", \"within\", \"via\", \"determining\", \"whether\", \"identifying\", \"include\", \"associated\", \"may\", \"plurality\", \"language\", \"natural\", \"system\", \"based\", \"parsing\", \"messages\", \"corresponding\", \"application\", \"intent\", \"entities\", \"slots\", \"metadata\", \"display\", \"content\", \"output\", \"screen\", \"embodiments\", \"capable\", \"file\", \"describe\", \"similar\", \"functionality\", \"declared\", \"included\", \"selected\", \"resolving\", \"rendered\", \"multi\", \"identified\", \"attributes\", \"placed\", \"causing\", \"resolve\", \"modal\", \"representing\", \"activated\", \"devices\", \"electronic\", \"contextual\", \"understanding\", \"matching\", \"may\", \"processing\", \"using\", \"data\", \"one\", \"natural\", \"language\", \"application\", \"herein\", \"provided\", \"displaying\", \"state\", \"tools\", \"patient\", \"technology\", \"statistical\", \"physiological\", \"measurement\", \"noninvasive\", \"therapeutic\", \"cardiovascular\", \"pressure\", \"art\", \"administer\", \"volume\", \"feature\", \"build\", \"intracranial\", \"long\", \"collapse\", \"dehydration\", \"loss\", \"speed\", \"extremely\", \"treatment\", \"another\", \"conditions\", \"models\", \"extraction\", \"blood\", \"real\", \"techniques\", \"aspect\", \"learning\", \"cases\", \"terms\", \"questions\", \"generation\", \"automated\", \"aspects\", \"question\", \"modifies\", \"identify\", \"follow\", \"response\", \"one\", \"analyzes\", \"generates\", \"system\", \"aspect\", \"interface\", \"received\", \"processing\", \"using\", \"based\", \"include\", \"user\", \"natural\", \"relevant\", \"changing\", \"therapeutic\", \"cardiovascular\", \"datasets\", \"apply\", \"rapid\", \"language\", \"voice\", \"actions\", \"activated\", \"corresponding\", \"third\", \"application\", \"identify\", \"modifies\", \"question\", \"aspects\", \"uses\", \"functions\", \"obtains\", \"string\", \"notifies\", \"communicates\", \"supported\", \"matches\", \"monitors\", \"phrases\", \"words\", \"corresponds\", \"attributes\", \"selected\", \"relevant\", \"changing\", \"therapeutic\", \"cardiovascular\", \"datasets\", \"included\", \"apply\", \"rapid\", \"utilizes\", \"pressure\", \"prediction\", \"feature\", \"rendered\", \"resolving\", \"resolve\", \"devices\", \"declared\", \"functionality\", \"electronic\", \"capable\", \"modal\", \"embodiments\", \"file\", \"device\", \"computing\", \"assistant\", \"language\", \"natural\", \"control\", \"remote\", \"record\", \"includes\", \"correspond\", \"strings\", \"description\", \"names\", \"command\", \"name\", \"matching\", \"module\", \"commands\", \"endpoint\", \"input\", \"item\", \"subsystem\", \"described\", \"understanding\", \"may\", \"associated\", \"particular\", \"inputs\", \"dependent\", \"framework\", \"factors\", \"maintaining\", \"question\", \"modifies\", \"identify\", \"aspects\", \"relationships\", \"weighting\", \"etc\", \"applying\", \"analytics\", \"provider\", \"sms\", \"offered\", \"correlations\", \"usage\", \"value\", \"understandability\", \"stored\", \"sentiment\", \"video\", \"custom\", \"readability\", \"internet\", \"separate\", \"logical\", \"able\", \"identifiers\", \"split\", \"timestamps\", \"groupings\", \"feed\", \"analyzed\", \"metrics\", \"service\", \"compound\", \"defined\", \"customer\", \"services\", \"performance\", \"data\", \"metric\", \"combinations\", \"messages\", \"different\", \"example\", \"segments\", \"message\", \"order\", \"actions\", \"scanned\", \"may\", \"posted\", \"media\", \"website\", \"based\", \"specific\", \"plurality\", \"user\", \"meaning\", \"social\", \"tenses\", \"using\", \"modifies\", \"question\", \"aspects\", \"identify\", \"value\", \"usage\", \"framework\", \"sentiment\", \"stored\", \"internet\", \"video\", \"weighting\", \"relationships\", \"applying\", \"maintaining\", \"sms\", \"offered\", \"factors\", \"provider\", \"correlations\", \"analytics\", \"etc\", \"phrases\", \"matches\", \"communicates\", \"uses\", \"corresponds\", \"supported\", \"monitors\", \"words\", \"string\", \"notifies\", \"obtains\", \"functions\", \"service\", \"performance\", \"data\", \"metrics\", \"compound\", \"combinations\", \"different\", \"natural\", \"services\", \"defined\", \"customer\", \"strings\", \"language\", \"actions\", \"device\", \"metric\", \"control\", \"plurality\", \"remote\", \"described\", \"command\", \"may\", \"specific\", \"includes\", \"example\", \"computing\", \"description\", \"module\", \"determining\", \"question\", \"modifies\", \"aspects\", \"identify\", \"relevant\", \"changing\", \"therapeutic\", \"cardiovascular\", \"datasets\", \"apply\", \"rapid\", \"utilizes\", \"pressure\", \"prediction\", \"feature\", \"long\", \"autonomously\", \"extremely\", \"term\", \"collapse\", \"amount\", \"build\", \"estimate\", \"real\", \"high\", \"conditions\", \"invasive\", \"software\", \"employ\", \"large\", \"implementations\", \"effectuated\", \"indicates\", \"first\", \"certain\", \"intermediate\", \"originated\", \"implemented\", \"likely\", \"final\", \"efficient\", \"generated\", \"input\", \"adequate\", \"providing\", \"prior\", \"determination\", \"natural\", \"sufficient\", \"currently\", \"endpoint\", \"response\", \"responses\", \"provided\", \"received\", \"item\", \"dependent\", \"linguistic\", \"inputs\", \"interpretation\", \"may\", \"language\", \"information\", \"mechanism\", \"subsystem\", \"computer\", \"independent\", \"based\", \"system\", \"follow\", \"user\", \"manner\", \"particular\", \"modifies\", \"identify\", \"question\", \"aspects\", \"relatedness\", \"logical\", \"grouped\", \"feed\", \"networking\", \"improving\", \"able\", \"punctuation\", \"groupings\", \"displayed\", \"splitting\", \"topic\", \"symbols\", \"separate\", \"timestamps\", \"analyzed\", \"view\", \"understandability\", \"readability\", \"custom\", \"split\", \"intelligently\", \"identifiers\", \"group\", \"hashtags\", \"product\", \"social\", \"tenses\", \"understandable\", \"messages\", \"scanned\", \"segments\", \"website\", \"posted\", \"media\", \"message\", \"text\", \"meaning\", \"topics\", \"readable\", \"ordered\", \"user\", \"based\", \"order\", \"manner\", \"method\", \"displaying\", \"aspects\", \"identify\", \"modifies\", \"question\", \"relevant\", \"changing\", \"therapeutic\", \"cardiovascular\", \"datasets\", \"apply\", \"rapid\", \"utilizes\", \"pressure\", \"prediction\", \"feature\", \"long\", \"autonomously\", \"extremely\", \"term\", \"collapse\", \"amount\", \"build\", \"estimate\", \"real\", \"high\", \"conditions\", \"invasive\", \"software\", \"employ\", \"large\", \"likely\", \"implemented\", \"originated\", \"intermediate\", \"final\", \"efficient\", \"generated\", \"endpoint\", \"lu\", \"interpretation\", \"dependent\", \"independent\", \"results\", \"item\", \"ranking\", \"linguistic\", \"scalable\", \"subsystem\", \"component\", \"mechanism\", \"technique\", \"manner\", \"interprets\", \"particular\", \"generates\", \"understanding\", \"query\", \"identifying\", \"based\", \"computer\", \"system\", \"language\", \"described\", \"natural\", \"question\", \"modifies\", \"aspects\", \"identify\", \"relevant\", \"changing\", \"therapeutic\", \"cardiovascular\", \"datasets\", \"apply\", \"rapid\", \"utilizes\", \"pressure\", \"prediction\", \"feature\", \"long\", \"autonomously\", \"extremely\", \"term\", \"collapse\", \"amount\", \"build\", \"estimate\", \"real\", \"high\", \"conditions\", \"invasive\", \"software\", \"employ\", \"large\", \"first\", \"implementations\", \"indicates\", \"certain\", \"effectuated\", \"prior\", \"providing\", \"input\", \"currently\", \"responses\", \"accessible\", \"sufficient\", \"language\", \"determination\", \"provided\", \"method\", \"adequate\", \"response\", \"information\", \"received\", \"natural\", \"inputs\", \"may\", \"system\", \"follow\", \"user\", \"computer\", \"example\", \"based\", \"second\", \"whether\", \"identify\", \"aspects\", \"question\", \"modifies\", \"relevant\", \"changing\", \"datasets\", \"therapeutic\", \"rapid\", \"utilizes\", \"cardiovascular\", \"apply\", \"prediction\", \"pressure\", \"autonomously\", \"extremely\", \"amount\", \"collapse\", \"feature\", \"long\", \"term\", \"invasive\", \"software\", \"estimate\", \"active\", \"build\", \"large\", \"high\", \"real\", \"employ\", \"conditions\", \"time\", \"dehydration\", \"continually\", \"tools\", \"state\", \"patient\", \"techniques\", \"statistical\", \"cases\", \"physiological\", \"aspect\", \"measurement\", \"noninvasive\", \"learning\", \"methods\", \"technology\", \"machine\", \"question\", \"modifies\", \"aspects\", \"identify\", \"relevant\", \"changing\", \"therapeutic\", \"cardiovascular\", \"datasets\", \"apply\", \"rapid\", \"utilizes\", \"pressure\", \"prediction\", \"feature\", \"long\", \"autonomously\", \"extremely\", \"term\", \"collapse\", \"amount\", \"build\", \"estimate\", \"real\", \"high\", \"conditions\", \"invasive\", \"software\", \"employ\", \"large\", \"certain\", \"implementations\", \"first\", \"effectuated\", \"indicates\", \"prior\", \"input\", \"providing\", \"sufficient\", \"determination\", \"accessible\", \"adequate\", \"responses\", \"currently\", \"response\", \"may\", \"provided\", \"inputs\", \"natural\", \"language\", \"computer\", \"information\", \"received\", \"user\", \"system\", \"follow\", \"based\", \"method\", \"second\", \"whether\", \"example\", \"question\", \"modifies\", \"identify\", \"aspects\", \"relevant\", \"changing\", \"therapeutic\", \"cardiovascular\", \"datasets\", \"apply\", \"rapid\", \"utilizes\", \"pressure\", \"prediction\", \"feature\", \"long\", \"autonomously\", \"extremely\", \"term\", \"collapse\", \"amount\", \"build\", \"estimate\", \"real\", \"high\", \"conditions\", \"invasive\", \"software\", \"employ\", \"large\", \"sms\", \"relationships\", \"offered\", \"value\", \"analytics\", \"correlations\", \"stored\", \"sentiment\", \"provider\", \"usage\", \"factors\", \"maintaining\", \"applying\", \"etc\", \"internet\", \"framework\", \"weighting\", \"video\", \"service\", \"metrics\", \"customer\", \"compound\", \"combinations\", \"performance\", \"defined\", \"metric\", \"different\", \"data\", \"services\", \"actions\", \"resource\", \"specific\", \"may\", \"plurality\", \"example\", \"particular\", \"using\", \"order\", \"corresponding\", \"determine\", \"question\", \"modifies\", \"aspects\", \"identify\", \"relevant\", \"changing\", \"therapeutic\", \"cardiovascular\", \"datasets\", \"apply\", \"rapid\", \"utilizes\", \"pressure\", \"prediction\", \"feature\", \"long\", \"autonomously\", \"extremely\", \"term\", \"collapse\", \"amount\", \"build\", \"estimate\", \"real\", \"high\", \"conditions\", \"invasive\", \"software\", \"employ\", \"large\", \"dehydration\", \"volume\", \"suppliers\", \"systems\", \"third\", \"voice\", \"actions\", \"activated\", \"application\", \"attempts\", \"attributes\", \"capable\", \"causing\", \"content\", \"corresponding\", \"data\", \"declared\", \"describe\", \"determined\", \"devices\", \"display\", \"supplied\", \"specific\", \"server\", \"places\", \"market\", \"model\", \"necessary\", \"network\", \"parsed\", \"question\", \"modifies\", \"aspects\", \"identify\", \"relevant\", \"changing\", \"therapeutic\", \"cardiovascular\", \"datasets\", \"apply\", \"rapid\", \"utilizes\", \"pressure\", \"prediction\", \"feature\", \"long\", \"autonomously\", \"extremely\", \"term\", \"collapse\", \"amount\", \"build\", \"estimate\", \"real\", \"high\", \"conditions\", \"invasive\", \"software\", \"employ\", \"large\", \"dehydration\", \"volume\", \"suppliers\", \"systems\", \"third\", \"voice\", \"actions\", \"activated\", \"application\", \"attempts\", \"attributes\", \"capable\", \"causing\", \"content\", \"corresponding\", \"data\", \"declared\", \"describe\", \"determined\", \"devices\", \"display\", \"supplied\", \"specific\", \"server\", \"places\", \"market\", \"model\", \"necessary\", \"network\", \"parsed\", \"question\", \"modifies\", \"aspects\", \"identify\", \"relevant\", \"changing\", \"therapeutic\", \"cardiovascular\", \"datasets\", \"apply\", \"rapid\", \"utilizes\", \"pressure\", \"prediction\", \"feature\", \"long\", \"autonomously\", \"extremely\", \"term\", \"collapse\", \"amount\", \"build\", \"estimate\", \"real\", \"high\", \"conditions\", \"invasive\", \"software\", \"employ\", \"large\", \"dehydration\", \"volume\", \"suppliers\", \"systems\", \"third\", \"voice\", \"actions\", \"activated\", \"application\", \"attempts\", \"attributes\", \"capable\", \"causing\", \"content\", \"corresponding\", \"data\", \"declared\", \"describe\", \"determined\", \"devices\", \"display\", \"supplied\", \"specific\", \"server\", \"places\", \"market\", \"model\", \"necessary\", \"network\", \"parsed\", \"question\", \"modifies\", \"aspects\", \"identify\", \"relevant\", \"changing\", \"therapeutic\", \"cardiovascular\", \"datasets\", \"apply\", \"rapid\", \"utilizes\", \"pressure\", \"prediction\", \"feature\", \"long\", \"autonomously\", \"extremely\", \"term\", \"collapse\", \"amount\", \"build\", \"estimate\", \"real\", \"high\", \"conditions\", \"invasive\", \"software\", \"employ\", \"large\", \"dehydration\", \"volume\", \"suppliers\", \"systems\", \"third\", \"voice\", \"actions\", \"activated\", \"application\", \"attempts\", \"attributes\", \"capable\", \"causing\", \"content\", \"corresponding\", \"data\", \"declared\", \"describe\", \"determined\", \"devices\", \"display\", \"supplied\", \"specific\", \"server\", \"places\", \"market\", \"model\", \"necessary\", \"network\", \"parsed\", \"question\", \"modifies\", \"aspects\", \"identify\", \"relevant\", \"changing\", \"therapeutic\", \"cardiovascular\", \"datasets\", \"apply\", \"rapid\", \"utilizes\", \"pressure\", \"prediction\", \"feature\", \"long\", \"autonomously\", \"extremely\", \"term\", \"collapse\", \"amount\", \"build\", \"estimate\", \"real\", \"high\", \"conditions\", \"invasive\", \"software\", \"employ\", \"large\", \"dehydration\", \"volume\", \"suppliers\", \"systems\", \"third\", \"voice\", \"actions\", \"activated\", \"application\", \"attempts\", \"attributes\", \"capable\", \"causing\", \"content\", \"corresponding\", \"data\", \"declared\", \"describe\", \"determined\", \"devices\", \"display\", \"supplied\", \"specific\", \"server\", \"places\", \"market\", \"model\", \"necessary\", \"network\", \"parsed\", \"question\", \"modifies\", \"aspects\", \"identify\", \"relevant\", \"changing\", \"therapeutic\", \"cardiovascular\", \"datasets\", \"apply\", \"rapid\", \"utilizes\", \"pressure\", \"prediction\", \"feature\", \"long\", \"autonomously\", \"extremely\", \"term\", \"collapse\", \"amount\", \"build\", \"estimate\", \"real\", \"high\", \"conditions\", \"invasive\", \"software\", \"employ\", \"large\", \"dehydration\", \"volume\", \"suppliers\", \"systems\", \"third\", \"voice\", \"actions\", \"activated\", \"application\", \"attempts\", \"attributes\", \"capable\", \"causing\", \"content\", \"corresponding\", \"data\", \"declared\", \"describe\", \"determined\", \"devices\", \"display\", \"supplied\", \"specific\", \"server\", \"places\", \"market\", \"model\", \"necessary\", \"network\", \"parsed\"], \"Total\": [13.0, 29.0, 32.0, 9.0, 9.0, 21.0, 9.0, 9.0, 8.0, 8.0, 8.0, 10.0, 6.0, 9.0, 6.0, 10.0, 5.0, 5.0, 5.0, 6.0, 6.0, 6.0, 10.0, 5.0, 5.0, 4.0, 6.0, 6.0, 6.0, 6.0, 9.554339408874512, 5.863533020019531, 5.8633832931518555, 5.8621296882629395, 4.93735933303833, 4.014015197753906, 4.009191989898682, 4.0114359855651855, 3.0921385288238525, 3.0911829471588135, 3.0890591144561768, 2.1680500507354736, 2.167933225631714, 2.167828321456909, 2.1675026416778564, 2.1672754287719727, 2.166579008102417, 2.1665022373199463, 2.1669604778289795, 2.164762496948242, 2.166653871536255, 2.166260242462158, 2.1662228107452393, 6.7215189933776855, 1.2444337606430054, 1.2442387342453003, 1.2441295385360718, 1.243575930595398, 1.2434669733047485, 1.2433851957321167, 4.869859218597412, 4.886011123657227, 6.674347400665283, 4.744774341583252, 4.821331024169922, 3.0324363708496094, 10.584253311157227, 13.673246383666992, 32.982933044433594, 29.41318130493164, 21.52068328857422, 10.81887435913086, 5.734236240386963, 9.342175483703613, 10.004711151123047, 8.304704666137695, 3.868981122970581, 2.9818520545959473, 2.0947067737579346, 2.094702959060669, 2.094693422317505, 2.094693422317505, 2.094681978225708, 2.0946762561798096, 2.0946760177612305, 2.094665288925171, 1.2075623273849487, 1.2075601816177368, 1.20755934715271, 1.2075594663619995, 1.2075564861297607, 1.207554578781128, 1.2075520753860474, 1.2075519561767578, 1.2075517177581787, 1.2075496912002563, 1.207549810409546, 1.207548975944519, 1.207548975944519, 1.2075484991073608, 1.207547664642334, 1.207547664642334, 1.207546591758728, 1.2075448036193848, 1.2075440883636475, 4.72914457321167, 2.8765385150909424, 2.9514801502227783, 2.951432704925537, 2.9683773517608643, 3.017669439315796, 5.581847667694092, 6.674347400665283, 3.827604055404663, 3.825389862060547, 32.982933044433594, 29.41318130493164, 5.734236240386963, 6.428627014160156, 10.004711151123047, 6.46699857711792, 21.52068328857422, 1.9893907308578491, 9.060999870300293, 8.179322242736816, 6.437134265899658, 4.690861225128174, 3.814854621887207, 2.94378662109375, 2.0685207843780518, 2.0685174465179443, 2.0674026012420654, 2.067706823348999, 1.1947685480117798, 1.1946965456008911, 1.1944096088409424, 1.1944326162338257, 1.194457769393921, 1.1944522857666016, 1.1944689750671387, 1.1946899890899658, 1.1943897008895874, 1.1943098306655884, 1.1940367221832275, 1.1943129301071167, 1.194095253944397, 1.1942389011383057, 1.193875789642334, 1.1937788724899292, 1.1934912204742432, 1.1938281059265137, 6.401044845581055, 2.9244744777679443, 2.991137981414795, 3.8027822971343994, 4.72914457321167, 21.52068328857422, 2.886141300201416, 3.731393337249756, 2.885784864425659, 2.0398173332214355, 2.0656685829162598, 9.858927726745605, 4.744774341583252, 5.553073406219482, 5.551285266876221, 4.677343845367432, 3.807295322418213, 3.807054281234741, 3.8068907260894775, 2.935372829437256, 2.933600902557373, 2.933030843734741, 2.064643621444702, 2.063697338104248, 2.063600540161133, 2.063441514968872, 2.063015937805176, 6.415442943572998, 1.1926823854446411, 1.1926625967025757, 1.1924880743026733, 1.192453384399414, 1.19232177734375, 1.1922203302383423, 1.1922047138214111, 1.1921894550323486, 1.192125678062439, 1.1920884847640991, 1.1920840740203857, 1.192063331604004, 1.192007303237915, 1.191841721534729, 1.1918210983276367, 10.004711151123047, 10.81887435913086, 32.982933044433594, 29.41318130493164, 5.4792704582214355, 5.484128475189209, 9.849479675292969, 3.7854015827178955, 3.7859110832214355, 2.9204330444335938, 2.918198347091675, 2.9193081855773926, 2.918808937072754, 2.0539183616638184, 2.0542285442352295, 2.052464485168457, 2.0533065795898438, 2.0535778999328613, 1.1871840953826904, 1.1868070363998413, 1.1868271827697754, 1.186752438545227, 1.1868102550506592, 1.1869187355041504, 1.1868313550949097, 1.1870046854019165, 1.1870653629302979, 1.1869313716888428, 1.1865389347076416, 1.1869046688079834, 6.428627014160156, 5.581847667694092, 3.827604055404663, 2.0608131885528564, 2.073822498321533, 29.41318130493164, 32.982933044433594, 2.8999078273773193, 6.895341396331787, 6.7215189933776855, 4.707908630371094, 6.46699857711792, 3.0324363708496094, 4.657437324523926, 2.922626495361328, 2.922626495361328, 2.922626495361328, 8.983819961547852, 2.0552210807800293, 2.0552210807800293, 2.0552210807800293, 6.3985395431518555, 1.18781578540802, 1.18781578540802, 1.18781578540802, 1.18781578540802, 1.18781578540802, 1.18781578540802, 1.18781578540802, 1.18781578540802, 1.18781578540802, 1.18781578540802, 1.18781578540802, 1.18781578540802, 1.18781578540802, 1.18781578540802, 1.18781578540802, 1.18781578540802, 1.18781578540802, 4.663663864135742, 3.845608949661255, 3.8454596996307373, 9.858927726745605, 6.46699857711792, 21.52068328857422, 3.8027822971343994, 32.982933044433594, 29.41318130493164, 10.584253311157227, 10.81887435913086, 2.0749528408050537, 6.415442943572998, 2.9179890155792236, 2.044616460800171, 2.890902519226074, 2.8907687664031982, 2.0340607166290283, 2.0340538024902344, 2.0340025424957275, 2.0338692665100098, 2.034104347229004, 2.0339159965515137, 1.1771939992904663, 1.1771736145019531, 1.177196979522705, 1.1772016286849976, 1.1772160530090332, 1.1771711111068726, 1.177170753479004, 1.1771283149719238, 1.1771137714385986, 1.177142858505249, 1.1771340370178223, 1.1772208213806152, 1.1772197484970093, 1.1771124601364136, 1.1772167682647705, 1.1772340536117554, 1.1771477460861206, 1.1771944761276245, 1.1772454977035522, 1.1772079467773438, 1.177173137664795, 1.1771836280822754, 3.777895450592041, 4.737250804901123, 2.8999078273773193, 21.52068328857422, 5.4792704582214355, 5.484128475189209, 6.401044845581055, 6.895341396331787, 29.41318130493164, 32.982933044433594, 2.044616460800171, 2.0510177612304688, 4.869859218597412, 2.0486536026000977, 2.8576571941375732, 2.8575754165649414, 2.857914447784424, 2.012308120727539, 2.012000322341919, 2.0120599269866943, 2.012150526046753, 2.0122833251953125, 1.1659412384033203, 1.1659919023513794, 1.1660511493682861, 1.166320562362671, 1.1661779880523682, 1.1661783456802368, 1.166082739830017, 1.1661205291748047, 1.1663507223129272, 1.1660923957824707, 1.1661014556884766, 1.1661795377731323, 1.166182279586792, 1.1662578582763672, 1.1660943031311035, 1.16623055934906, 1.1662670373916626, 1.1661319732666016, 1.1662095785140991, 1.1662801504135132, 1.1662663221359253, 1.1661275625228882, 3.731393337249756, 2.7937076091766357, 2.886141300201416, 2.885784864425659, 1.8840676546096802, 1.8840676546096802, 1.8840676546096802, 1.8840676546096802, 1.1022391319274902, 1.1022391319274902, 1.1022391319274902, 1.1022391319274902, 9.342175483703613, 13.673246383666992, 6.895341396331787, 1.9893907308578491, 2.025684356689453, 10.584253311157227, 2.7937076091766357, 2.8765385150909424, 4.744774341583252, 5.4792704582214355, 5.484128475189209, 10.81887435913086, 9.858927726745605, 10.004711151123047, 29.41318130493164, 1.1658638715744019, 1.1659141778945923, 1.1659412384033203, 1.1659919023513794, 1.166008710861206, 1.1660305261611938, 1.1660315990447998, 32.982933044433594, 3.825389862060547, 2.9244744777679443, 1.1772079467773438, 2.9179890155792236, 2.094702959060669, 2.044616460800171, 1.1022391319274902, 1.1022391319274902, 1.1022391319274902, 1.1022391319274902, 1.1865389347076416, 1.1868313550949097, 1.186752438545227, 1.1868102550506592, 1.1869313716888428, 1.1868070363998413, 1.1869187355041504, 1.1868271827697754, 1.1870046854019165, 1.1869046688079834, 1.1870653629302979, 1.1871840953826904, 1.1771124601364136, 1.1771137714385986, 1.1658638715744019, 1.1659141778945923, 1.1659412384033203, 1.1659919023513794, 1.166008710861206, 1.1771283149719238, 1.1660305261611938, 1.1660315990447998, 1.1660457849502563, 1.1660511493682861, 1.1660659313201904, 1.166082739830017, 1.1771340370178223, 1.177142858505249, 1.1771477460861206, 1.177173137664795, 1.177170753479004, 1.1771711111068726, 1.1771836280822754, 1.1771736145019531, 1.1771944761276245, 1.1771939992904663, 1.177196979522705, 9.849479675292969, 2.918198347091675, 2.052464485168457, 32.982933044433594, 29.41318130493164, 3.7854015827178955, 3.7859110832214355, 2.0533065795898438, 2.9193081855773926, 2.0535778999328613, 2.918808937072754, 2.9204330444335938, 2.0539183616638184, 6.428627014160156, 2.0542285442352295, 2.8999078273773193, 5.581847667694092, 3.827604055404663, 9.554339408874512, 6.7215189933776855, 5.8621296882629395, 5.863533020019531, 4.707908630371094, 4.737250804901123, 21.52068328857422, 6.46699857711792, 4.821331024169922, 3.0324363708496094, 4.93735933303833, 1.1934912204742432, 1.1938281059265137, 1.1937788724899292, 1.1022391319274902, 1.1022391319274902, 1.1022391319274902, 1.1022391319274902, 1.193875789642334, 1.1940367221832275, 1.1943897008895874, 1.1942389011383057, 1.1944096088409424, 1.194457769393921, 1.1943129301071167, 1.1944326162338257, 1.1946899890899658, 1.1943098306655884, 1.194095253944397, 1.1915501356124878, 1.1944522857666016, 1.1944689750671387, 1.1946965456008911, 1.1917716264724731, 1.1918210983276367, 1.1947685480117798, 1.1916455030441284, 1.1913315057754517, 1.1916110515594482, 1.1921894550323486, 1.192063331604004, 1.191803216934204, 1.191710352897644, 1.191542625427246, 1.192007303237915, 9.060999870300293, 8.179322242736816, 6.437134265899658, 2.0674026012420654, 4.690861225128174, 2.067706823348999, 3.814854621887207, 6.401044845581055, 2.0685174465179443, 2.0685207843780518, 6.415442943572998, 2.94378662109375, 2.991137981414795, 5.551285266876221, 5.553073406219482, 2.0656685829162598, 2.9244744777679443, 2.933600902557373, 21.52068328857422, 3.8068907260894775, 3.807295322418213, 3.807054281234741, 10.81887435913086, 4.72914457321167, 3.8027822971343994, 10.004711151123047, 2.935372829437256, 4.677343845367432, 2.933030843734741, 5.484128475189209, 1.1022391319274902, 1.1022391319274902, 1.1022391319274902, 1.1022391319274902, 1.194095253944397, 1.1943098306655884, 1.1934912204742432, 1.1944689750671387, 1.1944522857666016, 1.1947685480117798, 1.1946965456008911, 1.1940367221832275, 1.193875789642334, 1.1942389011383057, 1.1937788724899292, 1.1943129301071167, 1.1944326162338257, 1.1938281059265137, 1.194457769393921, 1.1946899890899658, 1.1944096088409424, 1.1943897008895874, 1.1869046688079834, 1.1868271827697754, 1.1868070363998413, 1.1865389347076416, 1.1871840953826904, 1.1869187355041504, 1.1870046854019165, 1.1870653629302979, 1.1868102550506592, 1.1869313716888428, 1.186752438545227, 1.1868313550949097, 8.179322242736816, 3.814854621887207, 6.401044845581055, 9.060999870300293, 6.437134265899658, 2.0685207843780518, 2.94378662109375, 29.41318130493164, 2.067706823348999, 2.0674026012420654, 4.690861225128174, 2.918808937072754, 32.982933044433594, 2.9244744777679443, 9.849479675292969, 2.0685174465179443, 3.7854015827178955, 3.8027822971343994, 3.7859110832214355, 4.707908630371094, 6.428627014160156, 21.52068328857422, 4.72914457321167, 2.9193081855773926, 2.991137981414795, 2.918198347091675, 2.9204330444335938, 5.581847667694092, 4.663663864135742, 1.1022391319274902, 1.1022391319274902, 1.1022391319274902, 1.1022391319274902, 1.1658638715744019, 1.1659141778945923, 1.1659412384033203, 1.1659919023513794, 1.166008710861206, 1.1660305261611938, 1.1660315990447998, 1.1660457849502563, 1.1660511493682861, 1.1660659313201904, 1.166082739830017, 1.1660923957824707, 1.1660927534103394, 1.1660943031311035, 1.1661012172698975, 1.1661014556884766, 1.1661131381988525, 1.1661205291748047, 1.1661239862442017, 1.1661275625228882, 1.166129469871521, 1.1661319732666016, 1.1661322116851807, 1.166136384010315, 1.1661587953567505, 1.1661629676818848, 1.2430760860443115, 1.2434195280075073, 1.2432550191879272, 1.2430028915405273, 1.2434568405151367, 1.2434669733047485, 1.243575930595398, 1.2433851957321167, 1.2431737184524536, 1.2441295385360718, 1.2442387342453003, 1.2444337606430054, 6.7215189933776855, 3.0890591144561768, 4.009191989898682, 2.164762496948242, 2.166260242462158, 29.41318130493164, 4.0114359855651855, 2.1662228107452393, 9.554339408874512, 13.673246383666992, 2.166653871536255, 4.869859218597412, 4.744774341583252, 5.8621296882629395, 4.93735933303833, 5.8633832931518555, 3.0324363708496094, 2.166579008102417, 21.52068328857422, 32.982933044433594, 6.674347400665283, 3.0911829471588135, 5.863533020019531, 5.734236240386963, 4.014015197753906, 10.81887435913086, 10.584253311157227, 9.342175483703613, 10.004711151123047, 4.886011123657227, 4.821331024169922, 1.1022391319274902, 1.1022391319274902, 1.1022391319274902, 1.1022391319274902, 1.1916074752807617, 1.1913315057754517, 1.1915619373321533, 1.191542625427246, 1.191841721534729, 1.1917800903320312, 1.1916110515594482, 1.19232177734375, 1.191710352897644, 1.1922203302383423, 1.1920840740203857, 1.1920884847640991, 1.1922047138214111, 1.1916455030441284, 1.191803216934204, 1.192007303237915, 1.192125678062439, 1.1915501356124878, 1.1918210983276367, 1.1917716264724731, 1.192063331604004, 1.192453384399414, 1.1921894550323486, 1.1924880743026733, 1.1926625967025757, 1.1926823854446411, 4.677343845367432, 2.933030843734741, 2.063015937805176, 6.415442943572998, 2.933600902557373, 5.551285266876221, 3.807054281234741, 3.8068907260894775, 3.807295322418213, 5.553073406219482, 2.063697338104248, 2.935372829437256, 2.063441514968872, 2.064643621444702, 2.063600540161133, 10.004711151123047, 10.81887435913086, 2.0656685829162598, 4.886011123657227, 2.114264488220215, 2.0486536026000977, 1.1022391319274902, 1.1022391319274902, 1.1022391319274902, 1.1022391319274902, 1.1658638715744019, 1.1659141778945923, 1.1659412384033203, 1.1659919023513794, 1.166008710861206, 1.1660305261611938, 1.1660315990447998, 1.1660457849502563, 1.1660511493682861, 1.1660659313201904, 1.166082739830017, 1.1660923957824707, 1.1660927534103394, 1.1660943031311035, 1.1661012172698975, 1.1661014556884766, 1.1661131381988525, 1.1661205291748047, 1.1661239862442017, 1.1661275625228882, 1.166129469871521, 1.1661319732666016, 1.1661322116851807, 1.166136384010315, 1.1661587953567505, 1.1661629676818848, 1.2431737184524536, 1.2433851957321167, 1.243575930595398, 1.2434669733047485, 1.2441295385360718, 1.2442387342453003, 1.2444337606430054, 9.554339408874512, 2.1665022373199463, 2.166579008102417, 4.93735933303833, 4.014015197753906, 2.167828321456909, 5.8621296882629395, 2.1672754287719727, 5.8633832931518555, 2.1675026416778564, 5.863533020019531, 2.1680500507354736, 3.0911829471588135, 2.167933225631714, 4.886011123657227, 3.0921385288238525, 4.821331024169922, 2.025684356689453, 4.737250804901123, 2.1310253143310547, 3.8454596996307373, 10.81887435913086, 5.734236240386963, 10.584253311157227, 32.982933044433594, 4.707908630371094, 29.41318130493164, 1.1022391319274902, 1.1022391319274902, 1.1022391319274902, 1.1022391319274902, 1.1658638715744019, 1.1659141778945923, 1.1659412384033203, 1.1659919023513794, 1.166008710861206, 1.1660305261611938, 1.1660315990447998, 1.1660457849502563, 1.1660511493682861, 1.1660659313201904, 1.166082739830017, 1.1660923957824707, 1.1660927534103394, 1.1660943031311035, 1.1661012172698975, 1.1661014556884766, 1.1661131381988525, 1.1661205291748047, 1.1661239862442017, 1.1661275625228882, 1.166129469871521, 1.1661319732666016, 1.1661322116851807, 1.166136384010315, 1.1661587953567505, 1.1661629676818848, 1.2430028915405273, 1.2430760860443115, 1.2432550191879272, 1.2434568405151367, 1.2434195280075073, 2.164762496948242, 4.009191989898682, 6.7215189933776855, 2.1662228107452393, 2.166653871536255, 2.1669604778289795, 4.0114359855651855, 32.982933044433594, 2.166260242462158, 4.869859218597412, 2.114264488220215, 3.0890591144561768, 13.673246383666992, 6.674347400665283, 4.744774341583252, 29.41318130493164, 3.0324363708496094, 21.52068328857422, 10.584253311157227, 9.342175483703613, 10.004711151123047, 5.734236240386963, 2.991137981414795, 10.81887435913086, 3.017669439315796, 3.845608949661255, 1.1022391319274902, 1.1022391319274902, 1.1022391319274902, 1.1022391319274902, 1.1658638715744019, 1.1659141778945923, 1.166008710861206, 1.1659412384033203, 1.1660315990447998, 1.1660457849502563, 1.1659919023513794, 1.1660305261611938, 1.1660659313201904, 1.1660511493682861, 1.1660927534103394, 1.1660943031311035, 1.1661131381988525, 1.1661014556884766, 1.166082739830017, 1.1660923957824707, 1.1661012172698975, 1.1661322116851807, 1.166136384010315, 1.1661239862442017, 1.166180968284607, 1.1661205291748047, 1.1661629676818848, 1.166129469871521, 1.1661275625228882, 1.1661587953567505, 1.1661319732666016, 1.1662259101867676, 1.1661795377731323, 1.1661869287490845, 2.8575754165649414, 2.8576571941375732, 2.857914447784424, 3.731393337249756, 2.012000322341919, 2.885784864425659, 2.0120599269866943, 2.7937076091766357, 2.012150526046753, 2.0122833251953125, 2.886141300201416, 2.0225088596343994, 2.012308120727539, 2.0398173332214355, 1.1022391319274902, 1.1022391319274902, 1.1022391319274902, 1.1022391319274902, 1.1658638715744019, 1.1659141778945923, 1.1659412384033203, 1.1659919023513794, 1.166008710861206, 1.1660305261611938, 1.1660315990447998, 1.1660457849502563, 1.1660511493682861, 1.1660659313201904, 1.166082739830017, 1.1660923957824707, 1.1660927534103394, 1.1660943031311035, 1.1661012172698975, 1.1661014556884766, 1.1661131381988525, 1.1661205291748047, 1.1661239862442017, 1.1661275625228882, 1.166129469871521, 1.1661319732666016, 1.1661322116851807, 1.166136384010315, 1.1661587953567505, 1.1661629676818848, 1.2434568405151367, 1.2430760860443115, 1.2430028915405273, 1.2434195280075073, 1.2432550191879272, 2.164762496948242, 6.7215189933776855, 4.009191989898682, 4.0114359855651855, 2.166260242462158, 2.1669604778289795, 3.0890591144561768, 2.166653871536255, 2.1662228107452393, 13.673246383666992, 21.52068328857422, 4.869859218597412, 3.0324363708496094, 29.41318130493164, 32.982933044433594, 5.734236240386963, 6.674347400665283, 4.744774341583252, 10.004711151123047, 10.584253311157227, 9.342175483703613, 10.81887435913086, 2.114264488220215, 3.017669439315796, 3.845608949661255, 2.991137981414795, 1.1022391319274902, 1.1022391319274902, 1.1022391319274902, 1.1022391319274902, 1.1658638715744019, 1.1659141778945923, 1.1659412384033203, 1.1659919023513794, 1.166008710861206, 1.1660305261611938, 1.1660315990447998, 1.1660457849502563, 1.1660511493682861, 1.1660659313201904, 1.166082739830017, 1.1660923957824707, 1.1660927534103394, 1.1660943031311035, 1.1661012172698975, 1.1661014556884766, 1.1661131381988525, 1.1661205291748047, 1.1661239862442017, 1.1661275625228882, 1.166129469871521, 1.1661319732666016, 1.1661322116851807, 1.166136384010315, 1.1661587953567505, 1.1661629676818848, 1.1943129301071167, 1.193875789642334, 1.1944326162338257, 1.194095253944397, 1.1944096088409424, 1.1946899890899658, 1.1944522857666016, 1.1944689750671387, 1.194457769393921, 1.1943098306655884, 1.1938281059265137, 1.1937788724899292, 1.1942389011383057, 1.1943897008895874, 1.1947685480117798, 1.1934912204742432, 1.1940367221832275, 1.1946965456008911, 8.179322242736816, 9.060999870300293, 4.690861225128174, 6.437134265899658, 2.0685207843780518, 3.814854621887207, 2.0674026012420654, 2.0685174465179443, 2.94378662109375, 6.401044845581055, 2.067706823348999, 2.9244744777679443, 2.081631660461426, 4.72914457321167, 21.52068328857422, 3.8027822971343994, 2.991137981414795, 4.821331024169922, 5.484128475189209, 2.0656685829162598, 2.9179890155792236, 2.0608131885528564, 1.1022391319274902, 1.1022391319274902, 1.1022391319274902, 1.1022391319274902, 1.1658638715744019, 1.1659141778945923, 1.1659412384033203, 1.1659919023513794, 1.166008710861206, 1.1660305261611938, 1.1660315990447998, 1.1660457849502563, 1.1660511493682861, 1.1660659313201904, 1.166082739830017, 1.1660923957824707, 1.1660927534103394, 1.1660943031311035, 1.1661012172698975, 1.1661014556884766, 1.1661131381988525, 1.1661205291748047, 1.1661239862442017, 1.1661275625228882, 1.166129469871521, 1.1661319732666016, 1.1661322116851807, 1.166136384010315, 1.1661587953567505, 1.1661629676818848, 1.1661795377731323, 1.1661783456802368, 1.2075594663619995, 2.951432704925537, 2.094702959060669, 3.825389862060547, 2.9244744777679443, 1.1772079467773438, 2.044616460800171, 1.1772509813308716, 1.1771124601364136, 1.1771736145019531, 1.1772340536117554, 2.0338692665100098, 2.9179890155792236, 6.401044845581055, 1.177170753479004, 1.1772016286849976, 1.1772335767745972, 1.177173137664795, 2.0340025424957275, 1.2075520753860474, 4.72914457321167, 2.0946762561798096, 1.207554578781128, 1.2075399160385132, 2.9818520545959473, 1.2075519561767578, 1.2075436115264893, 1.20755934715271, 1.1022391319274902, 1.1022391319274902, 1.1022391319274902, 1.1022391319274902, 1.1658638715744019, 1.1659141778945923, 1.1659412384033203, 1.1659919023513794, 1.166008710861206, 1.1660305261611938, 1.1660315990447998, 1.1660457849502563, 1.1660511493682861, 1.1660659313201904, 1.166082739830017, 1.1660923957824707, 1.1660927534103394, 1.1660943031311035, 1.1661012172698975, 1.1661014556884766, 1.1661131381988525, 1.1661205291748047, 1.1661239862442017, 1.1661275625228882, 1.166129469871521, 1.1661319732666016, 1.1661322116851807, 1.166136384010315, 1.1661587953567505, 1.1661629676818848, 1.1661795377731323, 1.1661783456802368, 1.2075594663619995, 2.951432704925537, 2.094702959060669, 3.825389862060547, 2.9244744777679443, 1.1772079467773438, 2.044616460800171, 1.1772509813308716, 1.1771124601364136, 1.1771736145019531, 1.1772340536117554, 2.0338692665100098, 2.9179890155792236, 6.401044845581055, 1.177170753479004, 1.1772016286849976, 1.1772335767745972, 1.177173137664795, 2.0340025424957275, 1.2075520753860474, 4.72914457321167, 2.0946762561798096, 1.207554578781128, 1.2075399160385132, 2.9818520545959473, 1.2075519561767578, 1.2075436115264893, 1.20755934715271, 1.1022391319274902, 1.1022391319274902, 1.1022391319274902, 1.1022391319274902, 1.1658638715744019, 1.1659141778945923, 1.1659412384033203, 1.1659919023513794, 1.166008710861206, 1.1660305261611938, 1.1660315990447998, 1.1660457849502563, 1.1660511493682861, 1.1660659313201904, 1.166082739830017, 1.1660923957824707, 1.1660927534103394, 1.1660943031311035, 1.1661012172698975, 1.1661014556884766, 1.1661131381988525, 1.1661205291748047, 1.1661239862442017, 1.1661275625228882, 1.166129469871521, 1.1661319732666016, 1.1661322116851807, 1.166136384010315, 1.1661587953567505, 1.1661629676818848, 1.1661795377731323, 1.1661783456802368, 1.2075594663619995, 2.951432704925537, 2.094702959060669, 3.825389862060547, 2.9244744777679443, 1.1772079467773438, 2.044616460800171, 1.1772509813308716, 1.1771124601364136, 1.1771736145019531, 1.1772340536117554, 2.0338692665100098, 2.9179890155792236, 6.401044845581055, 1.177170753479004, 1.1772016286849976, 1.1772335767745972, 1.177173137664795, 2.0340025424957275, 1.2075520753860474, 4.72914457321167, 2.0946762561798096, 1.207554578781128, 1.2075399160385132, 2.9818520545959473, 1.2075519561767578, 1.2075436115264893, 1.20755934715271, 1.1022391319274902, 1.1022391319274902, 1.1022391319274902, 1.1022391319274902, 1.1658638715744019, 1.1659141778945923, 1.1659412384033203, 1.1659919023513794, 1.166008710861206, 1.1660305261611938, 1.1660315990447998, 1.1660457849502563, 1.1660511493682861, 1.1660659313201904, 1.166082739830017, 1.1660923957824707, 1.1660927534103394, 1.1660943031311035, 1.1661012172698975, 1.1661014556884766, 1.1661131381988525, 1.1661205291748047, 1.1661239862442017, 1.1661275625228882, 1.166129469871521, 1.1661319732666016, 1.1661322116851807, 1.166136384010315, 1.1661587953567505, 1.1661629676818848, 1.1661795377731323, 1.1661783456802368, 1.2075594663619995, 2.951432704925537, 2.094702959060669, 3.825389862060547, 2.9244744777679443, 1.1772079467773438, 2.044616460800171, 1.1772509813308716, 1.1771124601364136, 1.1771736145019531, 1.1772340536117554, 2.0338692665100098, 2.9179890155792236, 6.401044845581055, 1.177170753479004, 1.1772016286849976, 1.1772335767745972, 1.177173137664795, 2.0340025424957275, 1.2075520753860474, 4.72914457321167, 2.0946762561798096, 1.207554578781128, 1.2075399160385132, 2.9818520545959473, 1.2075519561767578, 1.2075436115264893, 1.20755934715271, 1.1022391319274902, 1.1022391319274902, 1.1022391319274902, 1.1022391319274902, 1.1658638715744019, 1.1659141778945923, 1.1659412384033203, 1.1659919023513794, 1.166008710861206, 1.1660305261611938, 1.1660315990447998, 1.1660457849502563, 1.1660511493682861, 1.1660659313201904, 1.166082739830017, 1.1660923957824707, 1.1660927534103394, 1.1660943031311035, 1.1661012172698975, 1.1661014556884766, 1.1661131381988525, 1.1661205291748047, 1.1661239862442017, 1.1661275625228882, 1.166129469871521, 1.1661319732666016, 1.1661322116851807, 1.166136384010315, 1.1661587953567505, 1.1661629676818848, 1.1661795377731323, 1.1661783456802368, 1.2075594663619995, 2.951432704925537, 2.094702959060669, 3.825389862060547, 2.9244744777679443, 1.1772079467773438, 2.044616460800171, 1.1772509813308716, 1.1771124601364136, 1.1771736145019531, 1.1772340536117554, 2.0338692665100098, 2.9179890155792236, 6.401044845581055, 1.177170753479004, 1.1772016286849976, 1.1772335767745972, 1.177173137664795, 2.0340025424957275, 1.2075520753860474, 4.72914457321167, 2.0946762561798096, 1.207554578781128, 1.2075399160385132, 2.9818520545959473, 1.2075519561767578, 1.2075436115264893, 1.20755934715271, 1.1022391319274902, 1.1022391319274902, 1.1022391319274902, 1.1022391319274902, 1.1658638715744019, 1.1659141778945923, 1.1659412384033203, 1.1659919023513794, 1.166008710861206, 1.1660305261611938, 1.1660315990447998, 1.1660457849502563, 1.1660511493682861, 1.1660659313201904, 1.166082739830017, 1.1660923957824707, 1.1660927534103394, 1.1660943031311035, 1.1661012172698975, 1.1661014556884766, 1.1661131381988525, 1.1661205291748047, 1.1661239862442017, 1.1661275625228882, 1.166129469871521, 1.1661319732666016, 1.1661322116851807, 1.166136384010315, 1.1661587953567505, 1.1661629676818848, 1.1661795377731323, 1.1661783456802368, 1.2075594663619995, 2.951432704925537, 2.094702959060669, 3.825389862060547, 2.9244744777679443, 1.1772079467773438, 2.044616460800171, 1.1772509813308716, 1.1771124601364136, 1.1771736145019531, 1.1772340536117554, 2.0338692665100098, 2.9179890155792236, 6.401044845581055, 1.177170753479004, 1.1772016286849976, 1.1772335767745972, 1.177173137664795, 2.0340025424957275, 1.2075520753860474, 4.72914457321167, 2.0946762561798096, 1.207554578781128, 1.2075399160385132, 2.9818520545959473, 1.2075519561767578, 1.2075436115264893, 1.20755934715271], \"loglift\": [30.0, 29.0, 28.0, 27.0, 26.0, 25.0, 24.0, 23.0, 22.0, 21.0, 20.0, 19.0, 18.0, 17.0, 16.0, 15.0, 14.0, 13.0, 12.0, 11.0, 10.0, 9.0, 8.0, 7.0, 6.0, 5.0, 4.0, 3.0, 2.0, 1.0, 1.580199956893921, 1.5607999563217163, 1.5607999563217163, 1.5607999563217163, 1.551200032234192, 1.5370999574661255, 1.5355000495910645, 1.5351999998092651, 1.51419997215271, 1.51419997215271, 1.5126999616622925, 1.4702999591827393, 1.4702999591827393, 1.4702999591827393, 1.4701999425888062, 1.4701999425888062, 1.4701999425888062, 1.4701999425888062, 1.469099998474121, 1.4687999486923218, 1.4687000513076782, 1.4687000513076782, 1.4686000347137451, 1.4211000204086304, 1.3519999980926514, 1.3518999814987183, 1.3518999814987183, 1.351699948310852, 1.351699948310852, 1.351699948310852, 1.3422000408172607, 1.3407000303268433, 1.026900053024292, 1.0827000141143799, 1.069599986076355, 1.132200002670288, 0.7870000004768372, 0.7092000246047974, 0.33970001339912415, 0.34880000352859497, 0.41119998693466187, 0.5443999767303467, 0.8937000036239624, 0.40209999680519104, 0.33739998936653137, 2.0543999671936035, 2.0127999782562256, 1.9890999794006348, 1.9434000253677368, 1.9433000087738037, 1.9429999589920044, 1.9429999589920044, 1.9427000284194946, 1.9426000118255615, 1.9426000118255615, 1.9422999620437622, 1.8207000494003296, 1.8206000328063965, 1.8205000162124634, 1.8205000162124634, 1.8203999996185303, 1.8202999830245972, 1.820199966430664, 1.820199966430664, 1.820199966430664, 1.820099949836731, 1.820099949836731, 1.8200000524520874, 1.8200000524520874, 1.8200000524520874, 1.8199000358581543, 1.8199000358581543, 1.8199000358581543, 1.8198000192642212, 1.8198000192642212, 1.5276000499725342, 1.6262999773025513, 1.5999000072479248, 1.5993000268936157, 1.5944000482559204, 1.5778000354766846, 1.3619999885559082, 1.1828999519348145, 1.3408000469207764, 1.340499997138977, 0.4262000024318695, 0.20559999346733093, 0.9350000023841858, 0.8220999836921692, 0.37940001487731934, 0.14300000667572021, -1.059399962425232, 1.3214999437332153, 2.1545000076293945, 2.1507999897003174, 2.141200065612793, 2.1236000061035156, 2.1087000370025635, 2.084399938583374, 2.038100004196167, 2.037899971008301, 2.037899971008301, 2.037899971008301, 1.913599967956543, 1.913599967956543, 1.913599967956543, 1.9134999513626099, 1.9134999513626099, 1.9134999513626099, 1.9134999513626099, 1.9134999513626099, 1.9134999513626099, 1.9134999513626099, 1.9134999513626099, 1.9134000539779663, 1.9134000539779663, 1.9134000539779663, 1.9134000539779663, 1.9134000539779663, 1.9133000373840332, 1.9132000207901, 1.8121000528335571, 1.6912000179290771, 1.6690000295639038, 1.4287999868392944, 1.2106000185012817, 0.3790999948978424, 1.0360000133514404, 0.77920001745224, 1.035599946975708, 1.3801000118255615, 1.3659000396728516, -0.19709999859333038, 0.5340999960899353, 2.154099941253662, 2.1540000438690186, 2.1438000202178955, 2.1289000511169434, 2.1289000511169434, 2.1289000511169434, 2.1045000553131104, 2.1043999195098877, 2.1043999195098877, 2.058000087738037, 2.058000087738037, 2.058000087738037, 2.0578999519348145, 2.0578999519348145, 2.008699893951416, 1.9333000183105469, 1.9333000183105469, 1.9332000017166138, 1.9332000017166138, 1.9332000017166138, 1.9332000017166138, 1.9332000017166138, 1.9332000017166138, 1.9330999851226807, 1.9330999851226807, 1.9330999851226807, 1.9330999851226807, 1.9330999851226807, 1.9330999851226807, 1.9330999851226807, 1.3840999603271484, 0.7997000217437744, -1.3726999759674072, -1.260200023651123, 0.4081999957561493, 0.40720000863075256, 2.1951000690460205, 2.1458001136779785, 2.1454999446868896, 2.1215999126434326, 2.121299982070923, 2.1212000846862793, 2.120500087738037, 2.07450008392334, 2.07450008392334, 2.074399948120117, 2.0743000507354736, 2.0738000869750977, 1.9493999481201172, 1.9493999481201172, 1.9491000175476074, 1.9490000009536743, 1.9488999843597412, 1.9488999843597412, 1.948799967765808, 1.948699951171875, 1.9486000537872314, 1.9486000537872314, 1.9485000371932983, 1.9485000371932983, 1.8391000032424927, 1.4764000177383423, 1.4537999629974365, 1.3973000049591064, 1.3941999673843384, 1.2699999809265137, 1.1555999517440796, 1.0654000043869019, 0.19760000705718994, 0.21950000524520874, 0.5752999782562256, 0.2558000087738037, 1.0121999979019165, 2.1851000785827637, 2.1454999446868896, 2.1454999446868896, 2.1454999446868896, 2.1124000549316406, 2.0987000465393066, 2.0987000465393066, 2.0987000465393066, 2.0485000610351562, 1.9731999635696411, 1.9731999635696411, 1.9731999635696411, 1.9731999635696411, 1.9731999635696411, 1.9731999635696411, 1.9731999635696411, 1.9731999635696411, 1.9731999635696411, 1.9731999635696411, 1.9731999635696411, 1.9731999635696411, 1.9731999635696411, 1.9731999635696411, 1.9731999635696411, 1.9731999635696411, 1.9731999635696411, 1.9625999927520752, 1.871399998664856, 1.8710999488830566, 1.7694000005722046, 1.6360000371932983, 0.9898999929428101, 1.4833999872207642, -0.6733999848365784, -1.2281999588012695, -0.21119999885559082, -0.23430000245571136, 1.4154000282287598, 0.2865999937057495, 1.0744999647140503, 1.4300999641418457, 2.2636001110076904, 2.262399911880493, 2.2156999111175537, 2.2156999111175537, 2.21560001373291, 2.2155001163482666, 2.2153000831604004, 2.214900016784668, 2.089400053024292, 2.089400053024292, 2.0892999172210693, 2.0892999172210693, 2.0892999172210693, 2.089200019836426, 2.089200019836426, 2.089099884033203, 2.0889999866485596, 2.0889999866485596, 2.0889999866485596, 2.088900089263916, 2.088900089263916, 2.088900089263916, 2.0887999534606934, 2.0887999534606934, 2.0887999534606934, 2.08870005607605, 2.088599920272827, 2.0885000228881836, 2.088399887084961, 2.088399887084961, 1.9952000379562378, 1.7690000534057617, 1.8604999780654907, 0.7613999843597412, 1.2244000434875488, 1.2229000329971313, 1.0687999725341797, 0.9954000115394592, -0.0568000003695488, -0.17139999568462372, 1.537500023841858, 1.534000039100647, 0.6693000197410583, 1.5348999500274658, 2.3359999656677246, 2.3357999324798584, 2.33489990234375, 2.2883999347686768, 2.2881999015808105, 2.2880001068115234, 2.287899971008301, 2.2871999740600586, 2.160399913787842, 2.160099983215332, 2.160099983215332, 2.160099983215332, 2.159899950027466, 2.159899950027466, 2.159899950027466, 2.159899950027466, 2.159899950027466, 2.159899950027466, 2.1598000526428223, 2.1598000526428223, 2.1598000526428223, 2.1598000526428223, 2.1598000526428223, 2.1598000526428223, 2.1596999168395996, 2.1596999168395996, 2.1596999168395996, 2.1596999168395996, 2.1596999168395996, 2.1596999168395996, 2.069000005722046, 1.9598000049591064, 1.9264999628067017, 1.926300048828125, 2.6872000694274902, 2.6872000694274902, 2.6872000694274902, 2.6872000694274902, 2.549499988555908, 2.549499988555908, 2.549499988555908, 2.549499988555908, 2.4590001106262207, 2.3001999855041504, 2.0731000900268555, 1.9591000080108643, 1.940999984741211, 1.8664000034332275, 1.6195000410079956, 1.5902999639511108, 1.0911999940872192, 0.945900022983551, 0.9449999928474426, 0.9398999810218811, 0.35850000381469727, 0.3449000120162964, -0.7336999773979187, -0.7646999955177307, -0.7646999955177307, -0.7646999955177307, -0.7648000121116638, -0.7648000121116638, -0.7648000121116638, -0.7648000121116638, -0.8483999967575073, -1.9529000520706177, -1.6842999458312988, -0.774399995803833, -1.6821000576019287, -1.350600004196167, -1.3264000415802002, 0.8213000297546387, 0.8213000297546387, 0.8213000297546387, 0.8213000297546387, 0.7939000129699707, 0.7930999994277954, 0.7918000221252441, 0.788100004196167, 0.7853000164031982, 0.7849000096321106, 0.7847999930381775, 0.7838000059127808, 0.7817999720573425, 0.781000018119812, 0.7799999713897705, 0.7764999866485596, 0.7656000256538391, 0.765500009059906, 0.7652000188827515, 0.7652000188827515, 0.7652000188827515, 0.7651000022888184, 0.7651000022888184, 0.7651000022888184, 0.7651000022888184, 0.7651000022888184, 0.7651000022888184, 0.7651000022888184, 0.7651000022888184, 0.7649999856948853, 0.7649999856948853, 0.7646999955177307, 0.7645999789237976, 0.7639999985694885, 0.7638000249862671, 0.763700008392334, 0.763700008392334, 0.7635999917984009, 0.7631999850273132, 0.7630000114440918, 0.7628999948501587, -0.9279999732971191, -0.0027000000700354576, 0.29589998722076416, -2.1048998832702637, -2.0162999629974365, -0.2572000026702881, -0.2578999996185303, 0.2782000005245209, -0.03440000116825104, 0.267300009727478, -0.05260000005364418, -0.05480000004172325, 0.26260000467300415, -0.7998999953269958, 0.2483000010251999, -0.07689999788999557, -0.7032999992370605, -0.3449999988079071, -1.217900037765503, -0.9164999723434448, -0.7918999791145325, -0.7924000024795532, -0.5766000151634216, -0.5845000147819519, -2.0843000411987305, -0.8938999772071838, -0.6074000000953674, -0.14399999380111694, -0.6319000124931335, 0.8115000128746033, 0.8090000152587891, 0.8080000281333923, 0.8077999949455261, 0.8077999949455261, 0.8077999949455261, 0.8077999949455261, 0.8019999861717224, 0.8015000224113464, 0.7990999817848206, 0.7950000166893005, 0.7943999767303467, 0.791100025177002, 0.7896999716758728, 0.7886000275611877, 0.7860999703407288, 0.7858999967575073, 0.7847999930381775, 0.7843000292778015, 0.7828999757766724, 0.7825999855995178, 0.7821000218391418, 0.7804999947547913, 0.7788000106811523, 0.7784000039100647, 0.7766000032424927, 0.7750999927520752, 0.772599995136261, 0.7724999785423279, 0.7724000215530396, 0.7720000147819519, 0.7710000276565552, 0.7700999975204468, 0.7684999704360962, -0.7343000173568726, -0.6664999723434448, -0.519599974155426, 0.32820001244544983, -0.3368000090122223, 0.32100000977516174, -0.18559999763965607, -0.6391000151634216, 0.30979999899864197, 0.29089999198913574, -0.7401000261306763, -0.033799998462200165, -0.050599999725818634, -0.6158000230789185, -0.629800021648407, 0.2791999876499176, -0.04390000179409981, -0.0494999997317791, -1.9085999727249146, -0.2948000133037567, -0.30149999260902405, -0.3027999997138977, -1.2950999736785889, -0.5139999985694885, -0.30630001425743103, -1.2359000444412231, -0.06069999933242798, -0.510200023651123, -0.06270000338554382, -0.6930000185966492, 0.8205000162124634, 0.8205000162124634, 0.8205000162124634, 0.8205000162124634, 0.7932000160217285, 0.7871000170707703, 0.7870000004768372, 0.7853999733924866, 0.785099983215332, 0.7829999923706055, 0.7818999886512756, 0.7815999984741211, 0.781499981880188, 0.781499981880188, 0.7803000211715698, 0.7789000272750854, 0.7789000272750854, 0.7777000069618225, 0.7773000001907349, 0.7746000289916992, 0.7742999792098999, 0.7728000283241272, 0.7710000276565552, 0.7706000208854675, 0.7699999809265137, 0.7687000036239624, 0.7670999765396118, 0.7667999863624573, 0.7667999863624573, 0.7666000127792358, 0.7662000060081482, 0.7652999758720398, 0.7642999887466431, 0.760699987411499, -0.8205999732017517, -0.25040000677108765, -0.7160000205039978, -1.0327999591827393, -0.7304999828338623, 0.27410000562667847, -0.041999999433755875, -2.119999885559082, 0.2694000005722046, 0.2694000005722046, -0.48010000586509705, -0.05530000105500221, -2.3190999031066895, -0.06379999965429306, -1.2182999849319458, 0.2583000063896179, -0.3212999999523163, -0.32910001277923584, -0.3343999981880188, -0.5475000143051147, -0.8500000238418579, -2.0302000045776367, -0.5550000071525574, -0.08709999918937683, -0.11299999803304672, -0.09000000357627869, -0.09690000116825104, -0.7452999949455261, -0.5715000033378601, 0.8295999765396118, 0.8295999765396118, 0.8295999765396118, 0.8295999765396118, 0.7735000252723694, 0.7734000086784363, 0.7734000086784363, 0.7734000086784363, 0.7734000086784363, 0.7732999920845032, 0.7732999920845032, 0.7732999920845032, 0.7732999920845032, 0.7732999920845032, 0.7732999920845032, 0.7732999920845032, 0.7732999920845032, 0.7732999920845032, 0.7732999920845032, 0.7732999920845032, 0.7732999920845032, 0.7732999920845032, 0.7732999920845032, 0.7732999920845032, 0.7732999920845032, 0.7732999920845032, 0.7732999920845032, 0.7732999920845032, 0.7731999754905701, 0.7731999754905701, 0.7355999946594238, 0.7319999933242798, 0.7314000129699707, 0.7283999919891357, 0.7258999943733215, 0.7250999808311462, 0.722100019454956, 0.7218999862670898, 0.7218999862670898, 0.7197999954223633, 0.7190999984741211, 0.7170000076293945, -0.8339999914169312, -0.11940000206232071, -0.36169999837875366, 0.20250000059604645, 0.19910000264644623, -2.2474000453948975, -0.3831000030040741, 0.19380000233650208, -1.2072999477386475, -1.5561000108718872, 0.1899999976158142, -0.5835999846458435, -0.5615000128746033, -0.767799973487854, -0.6061999797821045, -0.7714999914169312, -0.14010000228881836, 0.18230000138282776, -2.0223000049591064, -2.43969988822937, -0.9018999934196472, -0.16089999675750732, -0.7851999998092651, -0.7645000219345093, -0.4163999855518341, -1.388100028038025, -1.368899941444397, -1.2493000030517578, -1.3209999799728394, -0.6144999861717224, -0.607699990272522, 0.8216999769210815, 0.8216999769210815, 0.8216999769210815, 0.8216999769210815, 0.8116999864578247, 0.8101999759674072, 0.8101000189781189, 0.8090000152587891, 0.8065999746322632, 0.8062000274658203, 0.8046000003814697, 0.8033000230789185, 0.8033000230789185, 0.8021000027656555, 0.8019999861717224, 0.801800012588501, 0.8004999756813049, 0.7997000217437744, 0.7996000051498413, 0.7971000075340271, 0.7961999773979187, 0.7947999835014343, 0.7922999858856201, 0.7921000123023987, 0.7915999889373779, 0.7896000146865845, 0.7878000140190125, 0.7878000140190125, 0.7856000065803528, 0.7833999991416931, -0.3093999922275543, 0.05290000140666962, 0.3190999925136566, -0.6115000247955322, 0.026799999177455902, -0.5181000232696533, -0.2070000022649765, -0.21060000360012054, -0.21400000154972076, -0.5457000136375427, 0.30720001459121704, -0.007300000172108412, 0.30320000648498535, 0.30000001192092896, 0.29919999837875366, -1.1527999639511108, -1.2878999710083008, 0.26089999079704285, -0.604200005531311, 0.23100000619888306, 0.26190000772476196, 0.8284000158309937, 0.8284000158309937, 0.8284000158309937, 0.8284000158309937, 0.7723000049591064, 0.7723000049591064, 0.7723000049591064, 0.7721999883651733, 0.7721999883651733, 0.7721999883651733, 0.7721999883651733, 0.7721999883651733, 0.7721999883651733, 0.7721999883651733, 0.7720999717712402, 0.7720999717712402, 0.7720999717712402, 0.7720999717712402, 0.7720999717712402, 0.7720999717712402, 0.7720999717712402, 0.7720999717712402, 0.7720999717712402, 0.7720999717712402, 0.7720999717712402, 0.7720999717712402, 0.7720999717712402, 0.7720999717712402, 0.7720999717712402, 0.7720999717712402, 0.7634000182151794, 0.7585999965667725, 0.7537000179290771, 0.7534000277519226, 0.7429999709129333, 0.7378000020980835, 0.734499990940094, -1.0016000270843506, 0.2476000040769577, 0.23960000276565552, -0.4790000021457672, -0.3107999861240387, 0.2295999974012375, -0.6474000215530396, 0.22750000655651093, -0.6620000004768372, 0.22300000488758087, -0.6639999747276306, 0.21940000355243683, -0.10000000149011612, 0.21709999442100525, -0.5178999900817871, -0.1111999973654747, -0.5407000184059143, 0.25940001010894775, -0.5519999861717224, 0.20389999449253082, -0.3621000051498413, -1.382099986076355, -0.7703999876976013, -1.3700000047683716, -2.501199960708618, -0.5810999870300293, -2.415299892425537, 0.8285999894142151, 0.8285999894142151, 0.8285999894142151, 0.8285999894142151, 0.7724999785423279, 0.7724000215530396, 0.7724000215530396, 0.7724000215530396, 0.7723000049591064, 0.7723000049591064, 0.7723000049591064, 0.7723000049591064, 0.7723000049591064, 0.7723000049591064, 0.7723000049591064, 0.7723000049591064, 0.7723000049591064, 0.7723000049591064, 0.7723000049591064, 0.7723000049591064, 0.7723000049591064, 0.7721999883651733, 0.7721999883651733, 0.7721999883651733, 0.7721999883651733, 0.7721999883651733, 0.7721999883651733, 0.7721999883651733, 0.7721999883651733, 0.7721999883651733, 0.7548999786376953, 0.7444999814033508, 0.7444999814033508, 0.7419999837875366, 0.7400000095367432, 0.24379999935626984, -0.29159998893737793, -0.767300009727478, 0.22609999775886536, 0.21819999814033508, 0.21729999780654907, -0.3375999927520752, -2.260499954223633, 0.21070000529289246, -0.5335999727249146, 0.22769999504089355, -0.121799997985363, -1.4997999668121338, -0.8345000147819519, -0.5256999731063843, -2.2258999347686768, -0.1143999993801117, -1.955399990081787, -1.312999963760376, -1.2044999599456787, -1.2776999473571777, -0.751800000667572, -0.12970000505447388, -1.3818999528884888, -0.14659999310970306, -0.38659998774528503, 0.8335999846458435, 0.8335999846458435, 0.8335999846458435, 0.8335999846458435, 0.8062000274658203, 0.8047999739646912, 0.8023999929428101, 0.8022000193595886, 0.8019999861717224, 0.8014000058174133, 0.8012999892234802, 0.8009999990463257, 0.8003000020980835, 0.8001000285148621, 0.7997000217437744, 0.7996000051498413, 0.7994999885559082, 0.7993999719619751, 0.7993000149726868, 0.7990999817848206, 0.7990999817848206, 0.7986999750137329, 0.7986999750137329, 0.7986000180244446, 0.7985000014305115, 0.7983999848365784, 0.79830002784729, 0.7982000112533569, 0.7980999946594238, 0.7979000210762024, 0.7976999878883362, 0.7972999811172485, 0.7968000173568726, 0.7967000007629395, -0.0560000017285347, -0.059700001031160355, -0.0617000013589859, -0.32910001277923584, 0.2694999873638153, -0.08529999852180481, 0.2678999900817871, -0.05530000105500221, 0.2653000056743622, 0.2637999951839447, -0.09290000051259995, 0.2587999999523163, 0.2590999901294708, 0.2410999983549118, 0.8343999981880188, 0.8343999981880188, 0.8343999981880188, 0.8343999981880188, 0.7782999873161316, 0.7781999707221985, 0.7781999707221985, 0.7781999707221985, 0.7781000137329102, 0.7781000137329102, 0.7781000137329102, 0.7781000137329102, 0.7781000137329102, 0.7781000137329102, 0.7781000137329102, 0.7781000137329102, 0.7781000137329102, 0.7781000137329102, 0.7781000137329102, 0.7781000137329102, 0.7781000137329102, 0.7781000137329102, 0.7781000137329102, 0.777999997138977, 0.777999997138977, 0.777999997138977, 0.777999997138977, 0.777999997138977, 0.777999997138977, 0.777999997138977, 0.7297999858856201, 0.7281000018119812, 0.727400004863739, 0.725600004196167, 0.7253999710083008, 0.19789999723434448, -0.8745999932289124, -0.3885999917984009, -0.3903000056743622, 0.19220000505447388, 0.1898999959230423, -0.1550000011920929, 0.18440000712871552, 0.18410000205039978, -1.5944000482559204, -2.0367000102996826, -0.6028000116348267, -0.14650000631809235, -2.352799892425537, -2.4876999855041504, -0.7753000259399414, -0.9259999990463257, -0.5929999947547913, -1.329300045967102, -1.385699987411499, -1.2659000158309937, -1.4218000173568726, 0.19429999589920044, -0.1581999957561493, -0.39959999918937683, -0.15209999680519104, 0.8352000117301941, 0.8352000117301941, 0.8352000117301941, 0.8352000117301941, 0.7791000008583069, 0.7789999842643738, 0.7789999842643738, 0.7789999842643738, 0.7789999842643738, 0.7789000272750854, 0.7789000272750854, 0.7789000272750854, 0.7789000272750854, 0.7789000272750854, 0.7789000272750854, 0.7789000272750854, 0.7789000272750854, 0.7789000272750854, 0.7789000272750854, 0.7789000272750854, 0.7789000272750854, 0.7789000272750854, 0.7789000272750854, 0.7789000272750854, 0.7789000272750854, 0.7788000106811523, 0.7788000106811523, 0.7788000106811523, 0.7788000106811523, 0.7788000106811523, 0.7699000239372253, 0.767799973487854, 0.767300009727478, 0.7670000195503235, 0.7664999961853027, 0.7663000226020813, 0.7663000226020813, 0.7656999826431274, 0.765500009059906, 0.765500009059906, 0.7656999826431274, 0.7656999826431274, 0.7639999985694885, 0.763700008392334, 0.7631999850273132, 0.7638999819755554, 0.7631999850273132, 0.7627999782562256, -1.0650999546051025, -1.1828999519348145, -0.5630999803543091, -0.8718000054359436, 0.22779999673366547, -0.36730000376701355, 0.22450000047683716, 0.22360000014305115, -0.11890000104904175, -0.880299985408783, 0.22360000014305115, -0.1168999969959259, 0.21359999477863312, -0.5989000201225281, -2.0994999408721924, -0.3846000134944916, -0.1462000012397766, -0.6269000172615051, -0.7563999891281128, 0.21950000524520874, -0.12610000371932983, 0.22100000083446503, 0.838100016117096, 0.838100016117096, 0.838100016117096, 0.838100016117096, 0.7820000052452087, 0.7818999886512756, 0.7818999886512756, 0.7818999886512756, 0.7817999720573425, 0.7817999720573425, 0.7817999720573425, 0.7817999720573425, 0.7817999720573425, 0.7817999720573425, 0.7817999720573425, 0.7817999720573425, 0.7817999720573425, 0.7817999720573425, 0.7817999720573425, 0.7817999720573425, 0.7817000150680542, 0.7817000150680542, 0.7817000150680542, 0.7817000150680542, 0.7817000150680542, 0.7817000150680542, 0.7817000150680542, 0.7817000150680542, 0.7817000150680542, 0.7817000150680542, 0.7817000150680542, 0.7817000150680542, 0.7468000054359436, -0.1468999981880188, 0.19599999487400055, -0.40619999170303345, -0.13770000636577606, 0.7723000049591064, 0.22020000219345093, 0.7721999883651733, 0.7724000215530396, 0.7723000049591064, 0.7723000049591064, 0.22550000250339508, -0.1354999989271164, -0.9210000038146973, 0.7723000049591064, 0.7723000049591064, 0.7723000049591064, 0.7723000049591064, 0.22540000081062317, 0.7468000054359436, -0.6183000206947327, 0.19599999487400055, 0.7468000054359436, 0.7468000054359436, -0.15710000693798065, 0.7468000054359436, 0.7468000054359436, 0.7468000054359436, 0.838100016117096, 0.838100016117096, 0.838100016117096, 0.838100016117096, 0.7820000052452087, 0.7818999886512756, 0.7818999886512756, 0.7818999886512756, 0.7817999720573425, 0.7817999720573425, 0.7817999720573425, 0.7817999720573425, 0.7817999720573425, 0.7817999720573425, 0.7817999720573425, 0.7817999720573425, 0.7817999720573425, 0.7817999720573425, 0.7817999720573425, 0.7817999720573425, 0.7817000150680542, 0.7817000150680542, 0.7817000150680542, 0.7817000150680542, 0.7817000150680542, 0.7817000150680542, 0.7817000150680542, 0.7817000150680542, 0.7817000150680542, 0.7817000150680542, 0.7817000150680542, 0.7817000150680542, 0.7468000054359436, -0.1468999981880188, 0.19599999487400055, -0.40619999170303345, -0.13770000636577606, 0.7723000049591064, 0.22020000219345093, 0.7721999883651733, 0.7724000215530396, 0.7723000049591064, 0.7723000049591064, 0.22550000250339508, -0.1354999989271164, -0.9210000038146973, 0.7723000049591064, 0.7723000049591064, 0.7723000049591064, 0.7723000049591064, 0.22540000081062317, 0.7468000054359436, -0.6183000206947327, 0.19599999487400055, 0.7468000054359436, 0.7468000054359436, -0.15710000693798065, 0.7468000054359436, 0.7468000054359436, 0.7468000054359436, 0.838100016117096, 0.838100016117096, 0.838100016117096, 0.838100016117096, 0.7820000052452087, 0.7818999886512756, 0.7818999886512756, 0.7818999886512756, 0.7817999720573425, 0.7817999720573425, 0.7817999720573425, 0.7817999720573425, 0.7817999720573425, 0.7817999720573425, 0.7817999720573425, 0.7817999720573425, 0.7817999720573425, 0.7817999720573425, 0.7817999720573425, 0.7817999720573425, 0.7817000150680542, 0.7817000150680542, 0.7817000150680542, 0.7817000150680542, 0.7817000150680542, 0.7817000150680542, 0.7817000150680542, 0.7817000150680542, 0.7817000150680542, 0.7817000150680542, 0.7817000150680542, 0.7817000150680542, 0.7468000054359436, -0.1468999981880188, 0.19599999487400055, -0.40619999170303345, -0.13770000636577606, 0.7723000049591064, 0.22020000219345093, 0.7721999883651733, 0.7724000215530396, 0.7723000049591064, 0.7723000049591064, 0.22550000250339508, -0.1354999989271164, -0.9210000038146973, 0.7723000049591064, 0.7723000049591064, 0.7723000049591064, 0.7723000049591064, 0.22540000081062317, 0.7468000054359436, -0.6183000206947327, 0.19599999487400055, 0.7468000054359436, 0.7468000054359436, -0.15710000693798065, 0.7468000054359436, 0.7468000054359436, 0.7468000054359436, 0.838100016117096, 0.838100016117096, 0.838100016117096, 0.838100016117096, 0.7820000052452087, 0.7818999886512756, 0.7818999886512756, 0.7818999886512756, 0.7817999720573425, 0.7817999720573425, 0.7817999720573425, 0.7817999720573425, 0.7817999720573425, 0.7817999720573425, 0.7817999720573425, 0.7817999720573425, 0.7817999720573425, 0.7817999720573425, 0.7817999720573425, 0.7817999720573425, 0.7817000150680542, 0.7817000150680542, 0.7817000150680542, 0.7817000150680542, 0.7817000150680542, 0.7817000150680542, 0.7817000150680542, 0.7817000150680542, 0.7817000150680542, 0.7817000150680542, 0.7817000150680542, 0.7817000150680542, 0.7468000054359436, -0.1468999981880188, 0.19599999487400055, -0.40619999170303345, -0.13770000636577606, 0.7723000049591064, 0.22020000219345093, 0.7721999883651733, 0.7724000215530396, 0.7723000049591064, 0.7723000049591064, 0.22550000250339508, -0.1354999989271164, -0.9210000038146973, 0.7723000049591064, 0.7723000049591064, 0.7723000049591064, 0.7723000049591064, 0.22540000081062317, 0.7468000054359436, -0.6183000206947327, 0.19599999487400055, 0.7468000054359436, 0.7468000054359436, -0.15710000693798065, 0.7468000054359436, 0.7468000054359436, 0.7468000054359436, 0.838100016117096, 0.838100016117096, 0.838100016117096, 0.838100016117096, 0.7820000052452087, 0.7818999886512756, 0.7818999886512756, 0.7818999886512756, 0.7817999720573425, 0.7817999720573425, 0.7817999720573425, 0.7817999720573425, 0.7817999720573425, 0.7817999720573425, 0.7817999720573425, 0.7817999720573425, 0.7817999720573425, 0.7817999720573425, 0.7817999720573425, 0.7817999720573425, 0.7817000150680542, 0.7817000150680542, 0.7817000150680542, 0.7817000150680542, 0.7817000150680542, 0.7817000150680542, 0.7817000150680542, 0.7817000150680542, 0.7817000150680542, 0.7817000150680542, 0.7817000150680542, 0.7817000150680542, 0.7468000054359436, -0.1468999981880188, 0.19599999487400055, -0.40619999170303345, -0.13770000636577606, 0.7723000049591064, 0.22020000219345093, 0.7721999883651733, 0.7724000215530396, 0.7723000049591064, 0.7723000049591064, 0.22550000250339508, -0.1354999989271164, -0.9210000038146973, 0.7723000049591064, 0.7723000049591064, 0.7723000049591064, 0.7723000049591064, 0.22540000081062317, 0.7468000054359436, -0.6183000206947327, 0.19599999487400055, 0.7468000054359436, 0.7468000054359436, -0.15710000693798065, 0.7468000054359436, 0.7468000054359436, 0.7468000054359436, 0.838100016117096, 0.838100016117096, 0.838100016117096, 0.838100016117096, 0.7820000052452087, 0.7818999886512756, 0.7818999886512756, 0.7818999886512756, 0.7817999720573425, 0.7817999720573425, 0.7817999720573425, 0.7817999720573425, 0.7817999720573425, 0.7817999720573425, 0.7817999720573425, 0.7817999720573425, 0.7817999720573425, 0.7817999720573425, 0.7817999720573425, 0.7817999720573425, 0.7817000150680542, 0.7817000150680542, 0.7817000150680542, 0.7817000150680542, 0.7817000150680542, 0.7817000150680542, 0.7817000150680542, 0.7817000150680542, 0.7817000150680542, 0.7817000150680542, 0.7817000150680542, 0.7817000150680542, 0.7468000054359436, -0.1468999981880188, 0.19599999487400055, -0.40619999170303345, -0.13770000636577606, 0.7723000049591064, 0.22020000219345093, 0.7721999883651733, 0.7724000215530396, 0.7723000049591064, 0.7723000049591064, 0.22550000250339508, -0.1354999989271164, -0.9210000038146973, 0.7723000049591064, 0.7723000049591064, 0.7723000049591064, 0.7723000049591064, 0.22540000081062317, 0.7468000054359436, -0.6183000206947327, 0.19599999487400055, 0.7468000054359436, 0.7468000054359436, -0.15710000693798065, 0.7468000054359436, 0.7468000054359436, 0.7468000054359436], \"logprob\": [30.0, 29.0, 28.0, 27.0, 26.0, 25.0, 24.0, 23.0, 22.0, 21.0, 20.0, 19.0, 18.0, 17.0, 16.0, 15.0, 14.0, 13.0, 12.0, 11.0, 10.0, 9.0, 8.0, 7.0, 6.0, 5.0, 4.0, 3.0, 2.0, 1.0, -2.9618000984191895, -3.4695000648498535, -3.4695000648498535, -3.4697000980377197, -3.6510000228881836, -3.8721001148223877, -3.8749001026153564, -3.874799966812134, -4.156000137329102, -4.156300067901611, -4.158400058746338, -4.554900169372559, -4.554999828338623, -4.555099964141846, -4.555200099945068, -4.5553998947143555, -4.555699825286865, -4.555799961090088, -4.556700229644775, -4.558000087738037, -4.55709981918335, -4.557400226593018, -4.557400226593018, -3.472599983215332, -5.228400230407715, -5.228600025177002, -5.228700160980225, -5.229300022125244, -5.229400157928467, -5.229499816894531, -3.873699903488159, -3.8719000816345215, -3.8738999366760254, -4.159299850463867, -4.156400203704834, -4.557499885559082, -3.6526999473571777, -3.4744999408721924, -2.963399887084961, -3.0687999725341797, -3.3187999725341797, -3.8733999729156494, -4.158899784088135, -4.162499904632568, -4.158599853515625, -2.6277999877929688, -3.433300018310547, -3.717400074005127, -4.116300106048584, -4.116399765014648, -4.116600036621094, -4.116600036621094, -4.1168999671936035, -4.117099761962891, -4.117099761962891, -4.117400169372559, -4.78980016708374, -4.789899826049805, -4.789899826049805, -4.789899826049805, -4.79010009765625, -4.790200233459473, -4.790299892425537, -4.790299892425537, -4.790299892425537, -4.79040002822876, -4.79040002822876, -4.79040002822876, -4.790500164031982, -4.790500164031982, -4.790500164031982, -4.790500164031982, -4.790599822998047, -4.7906999588012695, -4.7906999588012695, -3.7177999019622803, -4.116199970245361, -4.116799831390381, -4.117499828338623, -4.116700172424316, -4.116799831390381, -3.717600107192993, -3.717900037765503, -4.116000175476074, -4.116799831390381, -2.8768999576568604, -3.212100028991699, -4.117599964141846, -4.116199970245361, -4.116600036621094, -4.789400100708008, -4.789400100708008, -4.78980016708374, -2.4405999183654785, -2.546600103378296, -2.795799970626831, -3.1298999786376953, -3.3515000343322754, -3.6349000930786133, -4.03410005569458, -4.034299850463867, -4.034900188446045, -4.034800052642822, -4.707499980926514, -4.707600116729736, -4.707799911499023, -4.707900047302246, -4.707799911499023, -4.707900047302246, -4.707900047302246, -4.707699775695801, -4.708000183105469, -4.708000183105469, -4.7083001136779785, -4.708000183105469, -4.708199977874756, -4.708199977874756, -4.708499908447266, -4.708600044250488, -4.708899974822998, -4.708700180053711, -3.130500078201294, -4.034800052642822, -4.03439998626709, -4.0345001220703125, -4.0346999168396, -3.3510000705718994, -4.703100204467773, -4.703100204467773, -4.703700065612793, -4.706099987030029, -4.707699775695801, -4.707799911499023, -4.707900047302246, -2.9305999279022217, -2.930999994277954, -3.112499952316284, -3.333199977874756, -3.3333001136779785, -3.333400011062622, -3.6177000999450684, -3.6184000968933105, -3.6185998916625977, -4.01609992980957, -4.016600131988525, -4.016600131988525, -4.01669979095459, -4.017000198364258, -2.9316000938415527, -4.689499855041504, -4.689599990844727, -4.689799785614014, -4.689799785614014, -4.690000057220459, -4.690100193023682, -4.690100193023682, -4.690100193023682, -4.690199851989746, -4.690199851989746, -4.690199851989746, -4.690199851989746, -4.690299987792969, -4.690499782562256, -4.690499782562256, -3.1119000911712646, -3.6180999279022217, -4.67579984664917, -4.677800178527832, -4.689899921417236, -4.690000057220459, -2.3166000843048096, -3.3220999240875244, -3.322200059890747, -3.6057000160217285, -3.606800079345703, -3.6064999103546143, -3.6073999404907227, -4.004799842834473, -4.0046000480651855, -4.0055999755859375, -4.005300045013428, -4.0055999755859375, -4.678100109100342, -4.678400039672852, -4.678699970245361, -4.678800106048584, -4.678899765014648, -4.678800106048584, -4.678999900817871, -4.678899765014648, -4.678999900817871, -4.679100036621094, -4.679500102996826, -4.679200172424316, -3.0992000102996826, -3.603100061416626, -4.002999782562256, -4.678699970245361, -4.67549991607666, -2.147599935531616, -2.1475000381469727, -4.668900012969971, -4.6707000732421875, -4.674200057983398, -4.674499988555908, -4.676499843597412, -4.677499771118164, -3.075500011444092, -3.5810999870300293, -3.5810999870300293, -3.5810999870300293, -2.491300106048584, -3.9800000190734863, -3.9800000190734863, -3.9800000190734863, -2.8945000171661377, -4.65369987487793, -4.65369987487793, -4.65369987487793, -4.65369987487793, -4.65369987487793, -4.65369987487793, -4.65369987487793, -4.65369987487793, -4.65369987487793, -4.65369987487793, -4.65369987487793, -4.65369987487793, -4.65369987487793, -4.65369987487793, -4.65369987487793, -4.65369987487793, -4.65369987487793, -3.2967000007629395, -3.580699920654297, -3.5810999870300293, -2.741300106048584, -3.296299934387207, -2.7402000427246094, -3.9800000190734863, -3.9763998985290527, -4.645899772644043, -4.650899887084961, -4.6519999504089355, -4.65369987487793, -4.65369987487793, -4.65369987487793, -4.65369987487793, -3.473900079727173, -3.4751999378204346, -3.873300075531006, -3.8733999729156494, -3.8733999729156494, -3.8736000061035156, -3.873699903488159, -3.8742001056671143, -4.546500205993652, -4.546599864959717, -4.546599864959717, -4.546599864959717, -4.546599864959717, -4.5467000007629395, -4.5467000007629395, -4.546899795532227, -4.546999931335449, -4.546899795532227, -4.546999931335449, -4.546999931335449, -4.546999931335449, -4.547100067138672, -4.547100067138672, -4.547100067138672, -4.5472002029418945, -4.5472002029418945, -4.547299861907959, -4.547399997711182, -4.547500133514404, -4.547599792480469, -3.4746999740600586, -3.474600076675415, -3.8738999366760254, -2.9686999320983887, -3.873699903488159, -3.874300003051758, -3.873800039291382, -3.87280011177063, -3.474400043487549, -3.4744999408721924, -4.546299934387207, -4.5467000007629395, -4.5467000007629395, -4.546899795532227, -3.4130001068115234, -3.4131999015808105, -3.414099931716919, -3.8113999366760254, -3.811800003051758, -3.8118999004364014, -3.8118999004364014, -3.8125998973846436, -4.485099792480469, -4.485400199890137, -4.485400199890137, -4.485199928283691, -4.485400199890137, -4.485400199890137, -4.485499858856201, -4.485499858856201, -4.485300064086914, -4.485499858856201, -4.485599994659424, -4.485499858856201, -4.485499858856201, -4.485499858856201, -4.485599994659424, -4.485499858856201, -4.485499858856201, -4.485599994659424, -4.485599994659424, -4.485499858856201, -4.485499858856201, -4.4857001304626465, -3.413300037384033, -3.8118999004364014, -3.8125998973846436, -3.8129000663757324, -3.4783999919891357, -3.4783999919891357, -3.4783999919891357, -3.4783999919891357, -4.152200222015381, -4.152200222015381, -4.152200222015381, -4.152200222015381, -2.1054999828338623, -1.8833999633789062, -2.795099973678589, -4.152200222015381, -4.152200222015381, -2.5732998847961426, -4.152200222015381, -4.152200222015381, -4.1508002281188965, -4.152200222015381, -4.152200222015381, -3.4779000282287598, -4.152200222015381, -4.151100158691406, -4.151299953460693, -7.410299777984619, -7.410299777984619, -7.410299777984619, -7.410299777984619, -7.410299777984619, -7.410299777984619, -7.410299777984619, -4.151500225067139, -7.410299777984619, -7.410299777984619, -7.410299777984619, -7.410299777984619, -7.410299777984619, -7.410299777984619, -5.88040018081665, -5.88040018081665, -5.88040018081665, -5.88040018081665, -5.834099769592285, -5.834700107574463, -5.835999965667725, -5.839700222015381, -5.842400074005127, -5.842899799346924, -5.842899799346924, -5.843999862670898, -5.845900058746338, -5.846700191497803, -5.847499847412109, -5.85099983215332, -5.8703999519348145, -5.8703999519348145, -5.88040018081665, -5.88040018081665, -5.88040018081665, -5.88040018081665, -5.88040018081665, -5.8709001541137695, -5.88040018081665, -5.88040018081665, -5.88040018081665, -5.88040018081665, -5.88040018081665, -5.88040018081665, -5.870999813079834, -5.871300220489502, -5.871399879455566, -5.872000217437744, -5.872200012207031, -5.872200012207031, -5.872300148010254, -5.872300148010254, -5.872700214385986, -5.872900009155273, -5.873000144958496, -5.439599990844727, -5.730800151824951, -5.784200191497803, -5.407899856567383, -5.433899879455566, -5.725100040435791, -5.7256999015808105, -5.801400184631348, -5.7621002197265625, -5.81220006942749, -5.780399799346924, -5.782100200653076, -5.816699981689453, -5.7382001876831055, -5.830900192260742, -5.811200141906738, -5.782899856567383, -5.801799774169922, -5.760000228881836, -5.810200214385986, -5.822400093078613, -5.822700023651123, -5.826399803161621, -5.828100204467773, -5.814300060272217, -5.826200008392334, -5.833399772644043, -5.833700180053711, -5.834099769592285, -5.8105998039245605, -5.812900066375732, -5.814000129699707, -5.893899917602539, -5.893899917602539, -5.893899917602539, -5.893899917602539, -5.819900035858154, -5.820199966430664, -5.822299957275391, -5.826600074768066, -5.827000141143799, -5.8302998542785645, -5.8317999839782715, -5.832699775695801, -5.835100173950195, -5.835599899291992, -5.836900234222412, -5.8394999504089355, -5.838500022888184, -5.838699817657471, -5.839099884033203, -5.843100070953369, -5.844799995422363, -5.842700004577637, -5.8471999168396, -5.848800182342529, -5.851200103759766, -5.850800037384033, -5.85099983215332, -5.851600170135498, -5.852700233459473, -5.853700160980225, -5.854899883270264, -5.329400062561035, -5.363999843597412, -5.456500053405762, -5.744500160217285, -5.5903000831604, -5.751699924468994, -5.6458001136779785, -5.581699848175049, -5.762400150299072, -5.781400203704834, -5.680500030517578, -5.753200054168701, -5.754000186920166, -5.700900077819824, -5.7144999504089355, -5.794400215148926, -5.769899845123291, -5.772299766540527, -5.638599872589111, -5.756999969482422, -5.763700008392334, -5.764999866485596, -5.712800025939941, -5.759399890899658, -5.769599914550781, -5.731900215148926, -5.782899856567383, -5.766499996185303, -5.785699844360352, -5.790200233459473, -5.88129997253418, -5.88129997253418, -5.88129997253418, -5.88129997253418, -5.828499794006348, -5.834400177001953, -5.835100173950195, -5.835899829864502, -5.836299896240234, -5.838099956512451, -5.839300155639648, -5.840099811553955, -5.8403000831604, -5.840099811553955, -5.841599941253662, -5.842599868774414, -5.84250020980835, -5.844200134277344, -5.843999862670898, -5.84660005569458, -5.847099781036377, -5.848599910736084, -5.8566999435424805, -5.8572001457214355, -5.857800006866455, -5.859300136566162, -5.860400199890137, -5.860899925231934, -5.860799789428711, -5.860899925231934, -5.861599922180176, -5.862400054931641, -5.863500118255615, -5.867000102996826, -5.518099784851074, -5.7104997634887695, -5.658599853515625, -5.627900123596191, -5.667399883270264, -5.798099994659424, -5.761300086975098, -5.537600040435791, -5.803199768066406, -5.803299903869629, -5.733500003814697, -5.783199787139893, -5.622200012207031, -5.789700031280518, -5.729899883270264, -5.813899993896484, -5.7891998291015625, -5.792500019073486, -5.802199840545654, -5.797299861907959, -5.788300037384033, -5.760300159454346, -5.800300121307373, -5.814799785614014, -5.816400051116943, -5.8180999755859375, -5.8242998123168945, -5.824900150299072, -5.8308000564575195, -5.872099876403809, -5.872099876403809, -5.872099876403809, -5.872099876403809, -5.872099876403809, -5.872099876403809, -5.872099876403809, -5.872099876403809, -5.872099876403809, -5.872099876403809, -5.872099876403809, -5.872099876403809, -5.872099876403809, -5.872099876403809, -5.872099876403809, -5.872099876403809, -5.872099876403809, -5.872099876403809, -5.872099876403809, -5.872099876403809, -5.872099876403809, -5.872099876403809, -5.872099876403809, -5.872099876403809, -5.872099876403809, -5.872099876403809, -5.872099876403809, -5.872099876403809, -5.872099876403809, -5.872099876403809, -5.845900058746338, -5.8491997718811035, -5.849899768829346, -5.853099822998047, -5.855299949645996, -5.855999946594238, -5.859000205993652, -5.859300136566162, -5.859499931335449, -5.860799789428711, -5.861400127410889, -5.863399982452393, -5.727700233459473, -5.790599822998047, -5.772200107574463, -5.82420015335083, -5.827000141143799, -5.664999961853027, -5.793000221252441, -5.832300186157227, -5.749300003051758, -5.739699840545654, -5.835899829864502, -5.799600124359131, -5.803500175476074, -5.798299789428711, -5.8084001541137695, -5.801799774169922, -5.829800128936768, -5.843599796295166, -5.752399921417236, -5.742800235748291, -5.802700042724609, -5.831399917602539, -5.815499782562256, -5.8171000480651855, -5.825699806213379, -5.8059000968933105, -5.808499813079834, -5.813799858093262, -5.816999912261963, -5.827199935913086, -5.833799839019775, -5.880000114440918, -5.880000114440918, -5.880000114440918, -5.880000114440918, -5.812099933624268, -5.813799858093262, -5.813700199127197, -5.814799785614014, -5.81689977645874, -5.817399978637695, -5.8190999031066895, -5.819799900054932, -5.820400238037109, -5.821199893951416, -5.821400165557861, -5.821499824523926, -5.822700023651123, -5.823999881744385, -5.823999881744385, -5.826399803161621, -5.827099800109863, -5.828999996185303, -5.831299781799316, -5.831500053405762, -5.8317999839782715, -5.833499908447266, -5.835400104522705, -5.83519983291626, -5.837200164794922, -5.839399814605713, -5.565800189971924, -5.670199871063232, -5.755799770355225, -5.5518999099731445, -5.696100234985352, -5.603099822998047, -5.6691999435424805, -5.672800064086914, -5.676199913024902, -5.63040018081665, -5.767300128936768, -5.729499816894531, -5.771500110626221, -5.774099826812744, -5.775400161743164, -5.648799896240234, -5.705599784851074, -5.812699794769287, -5.81689977645874, -5.819399833679199, -5.819900035858154, -5.873300075531006, -5.873300075531006, -5.873300075531006, -5.873300075531006, -5.873300075531006, -5.873300075531006, -5.873300075531006, -5.873300075531006, -5.873300075531006, -5.873300075531006, -5.873300075531006, -5.873300075531006, -5.873300075531006, -5.873300075531006, -5.873300075531006, -5.873300075531006, -5.873300075531006, -5.873300075531006, -5.873300075531006, -5.873300075531006, -5.873300075531006, -5.873300075531006, -5.873300075531006, -5.873300075531006, -5.873300075531006, -5.873300075531006, -5.873300075531006, -5.873300075531006, -5.873300075531006, -5.873300075531006, -5.817999839782715, -5.8225998878479, -5.827400207519531, -5.8277997970581055, -5.837600231170654, -5.842800140380859, -5.845900058746338, -5.543600082397461, -5.778299808502197, -5.786300182342529, -5.68120002746582, -5.71999979019165, -5.79580020904541, -5.6778998374938965, -5.798099994659424, -5.692299842834473, -5.8024001121521, -5.694300174713135, -5.8059000968933105, -5.770500183105469, -5.808199882507324, -5.730599880218506, -5.781300067901611, -5.76669979095459, -5.833799839019775, -5.795599937438965, -5.838500022888184, -5.814199924468994, -5.799900054931641, -5.822999954223633, -5.809700012207031, -5.804299831390381, -5.830900192260742, -5.832900047302246, -5.8730998039245605, -5.8730998039245605, -5.8730998039245605, -5.8730998039245605, -5.8730998039245605, -5.8730998039245605, -5.8730998039245605, -5.8730998039245605, -5.8730998039245605, -5.8730998039245605, -5.8730998039245605, -5.8730998039245605, -5.8730998039245605, -5.8730998039245605, -5.8730998039245605, -5.8730998039245605, -5.8730998039245605, -5.8730998039245605, -5.8730998039245605, -5.8730998039245605, -5.8730998039245605, -5.8730998039245605, -5.8730998039245605, -5.8730998039245605, -5.8730998039245605, -5.8730998039245605, -5.8730998039245605, -5.8730998039245605, -5.8730998039245605, -5.8730998039245605, -5.826700210571289, -5.836900234222412, -5.836900234222412, -5.839099884033203, -5.841100215911865, -5.7829999923706055, -5.702099800109863, -5.661099910736084, -5.800000190734863, -5.807700157165527, -5.808499813079834, -5.747499942779541, -5.563600063323975, -5.815299987792969, -5.749599933624268, -5.822700023651123, -5.793000221252441, -5.6834001541137695, -5.735300064086914, -5.7677001953125, -5.643499851226807, -5.804100036621094, -5.685400009155273, -5.752699851989746, -5.769100189208984, -5.77370023727417, -5.8043999671936035, -5.833199977874756, -5.799699783325195, -5.84119987487793, -5.838699817657471, -5.868100166320801, -5.868100166320801, -5.868100166320801, -5.868100166320801, -5.839399814605713, -5.840700149536133, -5.843100070953369, -5.843299865722656, -5.843500137329102, -5.844099998474121, -5.844200134277344, -5.844399929046631, -5.845099925994873, -5.845300197601318, -5.845699787139893, -5.845799922943115, -5.845900058746338, -5.8460001945495605, -5.846099853515625, -5.84630012512207, -5.84630012512207, -5.84660005569458, -5.84660005569458, -5.846799850463867, -5.84689998626709, -5.8470001220703125, -5.847099781036377, -5.8471999168396, -5.847300052642822, -5.847400188446045, -5.847599983215332, -5.847899913787842, -5.848499774932861, -5.848599910736084, -5.805099964141846, -5.808800220489502, -5.810699939727783, -5.811299800872803, -5.83050012588501, -5.82450008392334, -5.831999778747559, -5.827000141143799, -5.83459997177124, -5.835899829864502, -5.831999778747559, -5.835899829864502, -5.840700149536133, -5.845099925994873, -5.867300033569336, -5.867300033569336, -5.867300033569336, -5.867300033569336, -5.867300033569336, -5.867300033569336, -5.867300033569336, -5.867300033569336, -5.867300033569336, -5.867300033569336, -5.867300033569336, -5.867300033569336, -5.867300033569336, -5.867300033569336, -5.867300033569336, -5.867300033569336, -5.867300033569336, -5.867300033569336, -5.867300033569336, -5.867300033569336, -5.867300033569336, -5.867300033569336, -5.867300033569336, -5.867300033569336, -5.867300033569336, -5.867300033569336, -5.867300033569336, -5.867300033569336, -5.867300033569336, -5.867300033569336, -5.851399898529053, -5.853300094604492, -5.8541998863220215, -5.855599880218506, -5.855999946594238, -5.828800201416016, -5.768400192260742, -5.799099922180176, -5.80019998550415, -5.833899974822998, -5.8358001708984375, -5.826200008392334, -5.8414998054504395, -5.8420000076293945, -5.7779998779296875, -5.7667999267578125, -5.81879997253418, -5.83620023727417, -5.770500183105469, -5.790800094604492, -5.827899932861328, -5.8267998695373535, -5.835100173950195, -5.825300216674805, -5.825399875640869, -5.830399990081787, -5.839600086212158, -5.855999946594238, -5.852700233459473, -5.851799964904785, -5.855500221252441, -5.866499900817871, -5.866499900817871, -5.866499900817871, -5.866499900817871, -5.866499900817871, -5.866499900817871, -5.866499900817871, -5.866499900817871, -5.866499900817871, -5.866499900817871, -5.866499900817871, -5.866499900817871, -5.866499900817871, -5.866499900817871, -5.866499900817871, -5.866499900817871, -5.866499900817871, -5.866499900817871, -5.866499900817871, -5.866499900817871, -5.866499900817871, -5.866499900817871, -5.866499900817871, -5.866499900817871, -5.866499900817871, -5.866499900817871, -5.866499900817871, -5.866499900817871, -5.866499900817871, -5.866499900817871, -5.851600170135498, -5.854000091552734, -5.854100227355957, -5.854700088500977, -5.854899883270264, -5.854899883270264, -5.855100154876709, -5.8557000160217285, -5.855899810791016, -5.855999946594238, -5.856200218200684, -5.856299877166748, -5.857600212097168, -5.857699871063232, -5.857900142669678, -5.85830020904541, -5.858500003814697, -5.858399868011475, -5.762599945068359, -5.7779998779296875, -5.816500186920166, -5.808800220489502, -5.8445000648498535, -5.827400207519531, -5.848299980163574, -5.848599910736084, -5.838200092315674, -5.82289981842041, -5.848999977111816, -5.842800140380859, -5.85230016708374, -5.844200134277344, -5.829500198364258, -5.847899913787842, -5.849599838256836, -5.85290002822876, -5.853600025177002, -5.854100227355957, -5.8541998863220215, -5.855000019073486, -5.86359977722168, -5.86359977722168, -5.86359977722168, -5.86359977722168, -5.86359977722168, -5.86359977722168, -5.86359977722168, -5.86359977722168, -5.86359977722168, -5.86359977722168, -5.86359977722168, -5.86359977722168, -5.86359977722168, -5.86359977722168, -5.86359977722168, -5.86359977722168, -5.86359977722168, -5.86359977722168, -5.86359977722168, -5.86359977722168, -5.86359977722168, -5.86359977722168, -5.86359977722168, -5.86359977722168, -5.86359977722168, -5.86359977722168, -5.86359977722168, -5.86359977722168, -5.86359977722168, -5.86359977722168, -5.86359977722168, -5.86359977722168, -5.86359977722168, -5.86359977722168, -5.86359977722168, -5.86359977722168, -5.86359977722168, -5.86359977722168, -5.86359977722168, -5.86359977722168, -5.86359977722168, -5.86359977722168, -5.86359977722168, -5.86359977722168, -5.86359977722168, -5.86359977722168, -5.86359977722168, -5.86359977722168, -5.86359977722168, -5.86359977722168, -5.86359977722168, -5.86359977722168, -5.86359977722168, -5.86359977722168, -5.86359977722168, -5.86359977722168, -5.86359977722168, -5.86359977722168, -5.86359977722168, -5.86359977722168, -5.86359977722168, -5.86359977722168, -5.86359977722168, -5.86359977722168, -5.86359977722168, -5.86359977722168, -5.86359977722168, -5.86359977722168, -5.86359977722168, -5.86359977722168, -5.86359977722168, -5.86359977722168, -5.86359977722168, -5.86359977722168, -5.86359977722168, -5.86359977722168, -5.86359977722168, -5.86359977722168, -5.86359977722168, -5.86359977722168, -5.86359977722168, -5.86359977722168, -5.86359977722168, -5.86359977722168, -5.86359977722168, -5.86359977722168, -5.86359977722168, -5.86359977722168, -5.86359977722168, -5.86359977722168, -5.86359977722168, -5.86359977722168, -5.86359977722168, -5.86359977722168, -5.86359977722168, -5.86359977722168, -5.86359977722168, -5.86359977722168, -5.86359977722168, -5.86359977722168, -5.86359977722168, -5.86359977722168, -5.86359977722168, -5.86359977722168, -5.86359977722168, -5.86359977722168, -5.86359977722168, -5.86359977722168, -5.86359977722168, -5.86359977722168, -5.86359977722168, -5.86359977722168, -5.86359977722168, -5.86359977722168, -5.86359977722168, -5.86359977722168, -5.86359977722168, -5.86359977722168, -5.86359977722168, -5.86359977722168, -5.86359977722168, -5.86359977722168, -5.86359977722168, -5.86359977722168, -5.86359977722168, -5.86359977722168, -5.86359977722168, -5.86359977722168, -5.86359977722168, -5.86359977722168, -5.86359977722168, -5.86359977722168, -5.86359977722168, -5.86359977722168, -5.86359977722168, -5.86359977722168, -5.86359977722168, -5.86359977722168, -5.86359977722168, -5.86359977722168, -5.86359977722168, -5.86359977722168, -5.86359977722168, -5.86359977722168, -5.86359977722168, -5.86359977722168, -5.86359977722168, -5.86359977722168, -5.86359977722168, -5.86359977722168, -5.86359977722168, -5.86359977722168, -5.86359977722168, -5.86359977722168, -5.86359977722168, -5.86359977722168, -5.86359977722168, -5.86359977722168, -5.86359977722168, -5.86359977722168, -5.86359977722168, -5.86359977722168, -5.86359977722168, -5.86359977722168, -5.86359977722168, -5.86359977722168, -5.86359977722168, -5.86359977722168, -5.86359977722168, -5.86359977722168, -5.86359977722168, -5.86359977722168, -5.86359977722168, -5.86359977722168, -5.86359977722168, -5.86359977722168, -5.86359977722168, -5.86359977722168, -5.86359977722168, -5.86359977722168, -5.86359977722168, -5.86359977722168, -5.86359977722168, -5.86359977722168, -5.86359977722168, -5.86359977722168, -5.86359977722168, -5.86359977722168, -5.86359977722168, -5.86359977722168, -5.86359977722168, -5.86359977722168, -5.86359977722168, -5.86359977722168, -5.86359977722168, -5.86359977722168, -5.86359977722168, -5.86359977722168, -5.86359977722168, -5.86359977722168, -5.86359977722168, -5.86359977722168, -5.86359977722168, -5.86359977722168, -5.86359977722168, -5.86359977722168, -5.86359977722168, -5.86359977722168, -5.86359977722168, -5.86359977722168, -5.86359977722168, -5.86359977722168, -5.86359977722168, -5.86359977722168, -5.86359977722168, -5.86359977722168, -5.86359977722168, -5.86359977722168, -5.86359977722168, -5.86359977722168, -5.86359977722168, -5.86359977722168, -5.86359977722168, -5.86359977722168, -5.86359977722168, -5.86359977722168, -5.86359977722168, -5.86359977722168, -5.86359977722168, -5.86359977722168, -5.86359977722168, -5.86359977722168, -5.86359977722168, -5.86359977722168, -5.86359977722168, -5.86359977722168, -5.86359977722168, -5.86359977722168, -5.86359977722168, -5.86359977722168, -5.86359977722168, -5.86359977722168, -5.86359977722168, -5.86359977722168, -5.86359977722168, -5.86359977722168, -5.86359977722168, -5.86359977722168, -5.86359977722168, -5.86359977722168, -5.86359977722168, -5.86359977722168, -5.86359977722168, -5.86359977722168, -5.86359977722168, -5.86359977722168, -5.86359977722168, -5.86359977722168, -5.86359977722168, -5.86359977722168, -5.86359977722168, -5.86359977722168, -5.86359977722168, -5.86359977722168, -5.86359977722168, -5.86359977722168, -5.86359977722168, -5.86359977722168, -5.86359977722168, -5.86359977722168, -5.86359977722168, -5.86359977722168, -5.86359977722168, -5.86359977722168, -5.86359977722168, -5.86359977722168, -5.86359977722168, -5.86359977722168, -5.86359977722168, -5.86359977722168, -5.86359977722168, -5.86359977722168, -5.86359977722168, -5.86359977722168, -5.86359977722168, -5.86359977722168, -5.86359977722168, -5.86359977722168, -5.86359977722168, -5.86359977722168, -5.86359977722168, -5.86359977722168, -5.86359977722168, -5.86359977722168, -5.86359977722168, -5.86359977722168, -5.86359977722168, -5.86359977722168, -5.86359977722168, -5.86359977722168, -5.86359977722168, -5.86359977722168, -5.86359977722168, -5.86359977722168, -5.86359977722168, -5.86359977722168, -5.86359977722168, -5.86359977722168, -5.86359977722168, -5.86359977722168, -5.86359977722168, -5.86359977722168, -5.86359977722168, -5.86359977722168, -5.86359977722168, -5.86359977722168, -5.86359977722168, -5.86359977722168, -5.86359977722168, -5.86359977722168, -5.86359977722168, -5.86359977722168, -5.86359977722168, -5.86359977722168, -5.86359977722168, -5.86359977722168, -5.86359977722168, -5.86359977722168, -5.86359977722168, -5.86359977722168, -5.86359977722168, -5.86359977722168, -5.86359977722168, -5.86359977722168, -5.86359977722168, -5.86359977722168, -5.86359977722168, -5.86359977722168, -5.86359977722168, -5.86359977722168, -5.86359977722168, -5.86359977722168, -5.86359977722168, -5.86359977722168, -5.86359977722168, -5.86359977722168, -5.86359977722168, -5.86359977722168, -5.86359977722168, -5.86359977722168, -5.86359977722168, -5.86359977722168, -5.86359977722168, -5.86359977722168, -5.86359977722168, -5.86359977722168, -5.86359977722168, -5.86359977722168, -5.86359977722168, -5.86359977722168]}, \"token.table\": {\"Topic\": [4, 1, 6, 3, 7, 7, 8, 1, 8, 2, 2, 6, 8, 3, 4, 2, 2, 9, 8, 6, 7, 8, 3, 6, 8, 2, 8, 9, 9, 5, 1, 2, 5, 6, 7, 7, 9, 8, 1, 2, 3, 4, 6, 9, 6, 8, 8, 2, 2, 7, 8, 3, 8, 7, 1, 8, 2, 8, 3, 2, 5, 2, 5, 5, 3, 6, 1, 3, 2, 1, 2, 4, 5, 8, 7, 2, 7, 2, 7, 8, 5, 3, 5, 3, 6, 7, 5, 1, 4, 3, 3, 7, 2, 8, 7, 3, 8, 1, 7, 1, 3, 5, 6, 7, 5, 2, 1, 3, 5, 7, 3, 6, 5, 7, 3, 7, 4, 4, 7, 1, 1, 7, 6, 7, 8, 1, 7, 6, 7, 6, 8, 3, 1, 3, 6, 8, 8, 2, 6, 3, 8, 4, 7, 1, 1, 1, 9, 3, 7, 5, 2, 1, 1, 9, 9, 2, 4, 4, 4, 4, 3, 7, 8, 6, 7, 4, 9, 1, 6, 1, 1, 4, 1, 2, 3, 6, 9, 7, 5, 2, 3, 2, 1, 1, 6, 1, 2, 1, 5, 1, 5, 4, 7, 2, 9, 1, 3, 1, 1, 8, 8, 1, 1, 2, 4, 5, 6, 7, 9, 8, 2, 3, 8, 1, 1, 4, 8, 8, 1, 3, 8, 3, 1, 4, 2, 5, 5, 7, 1, 2, 3, 6, 7, 4, 8, 1, 4, 6, 4, 4, 6, 7, 1, 4, 7, 8, 3, 3, 7, 2, 8, 9, 2, 5, 5, 7, 5, 5, 1, 2, 4, 5, 6, 7, 9, 2, 2, 4, 8, 5, 5, 3, 5, 6, 7, 9, 6, 6, 3, 4, 4, 1, 7, 2, 2, 2, 6, 6, 1, 3, 7, 2, 8, 3, 6, 5, 8, 7, 2, 3, 6, 4, 8, 2, 8, 1, 1, 4, 6, 7, 9, 6, 4, 1, 7, 3, 2, 2, 5, 1, 4, 1, 2, 9, 9, 1, 8, 4, 4, 8, 1, 3, 9, 6, 5, 2, 4, 3, 8, 5, 7, 7, 7, 7, 2, 3, 2, 1, 9, 1, 1, 2, 1, 4, 7, 1, 2, 4, 7, 3, 6, 4, 6, 2, 3, 3, 7, 7, 3, 4, 8, 2, 3, 8, 4, 4, 8, 8, 3, 6, 5, 5, 1, 1, 2, 2, 5, 4, 1, 4, 6, 9, 2, 7, 1, 3, 8, 8, 4, 8, 9, 4, 8, 2, 8, 4, 8, 4, 4, 8, 6, 4, 4, 1, 7, 6, 3, 1, 2, 4, 9, 5, 1, 3, 4, 7, 9, 8, 3, 6, 3, 4, 2, 3, 7, 8, 4, 3, 1, 6, 6, 5], \"Freq\": [0.8392000198364258, 0.9229517579078674, 0.8418813943862915, 0.683883547782898, 0.341941773891449, 0.8494675755500793, 0.8574998378753662, 0.9711694717407227, 0.8575020432472229, 0.954801619052887, 0.8281232118606567, 0.8418813943862915, 0.8575497269630432, 0.8372337222099304, 0.8389210104942322, 0.9547936320304871, 0.5026664733886719, 0.5026664733886719, 0.8574365377426147, 0.4890892803668976, 0.4890892803668976, 0.8576104640960693, 0.8373534083366394, 0.8418813943862915, 0.857397198677063, 0.8281237483024597, 0.7158945202827454, 0.3579472601413727, 0.9072441458702087, 0.9744383096694946, 0.15463124215602875, 0.15463124215602875, 0.15463124215602875, 0.618524968624115, 0.8494365215301514, 0.8495364785194397, 1.061532974243164, 0.8575646877288818, 0.36972424387931824, 0.09243106096982956, 0.09243106096982956, 0.2772931754589081, 0.09243106096982956, 0.18486212193965912, 0.8418813943862915, 0.8574370741844177, 0.8575443029403687, 0.9633094072341919, 0.8281160593032837, 0.8494923710823059, 0.8576388955116272, 0.346526175737381, 0.693052351474762, 0.8494487404823303, 0.8042096495628357, 0.8576960563659668, 0.828118622303009, 0.8575583100318909, 0.9668744802474976, 0.31110841035842896, 0.6222168207168579, 0.5225200653076172, 0.5225200653076172, 0.8425969481468201, 0.15628565847873688, 0.781428337097168, 0.9224879145622253, 0.9320917725563049, 0.8281246423721313, 0.523173451423645, 0.3487822711467743, 0.17439113557338715, 1.028031587600708, 0.8575358986854553, 0.9833473563194275, 0.6776261329650879, 0.33881306648254395, 0.2646976411342621, 0.7940928936004639, 0.8574954867362976, 0.7925183176994324, 0.837037205696106, 0.9739099740982056, 0.3427017629146576, 0.3427017629146576, 0.3427017629146576, 0.8423293232917786, 0.9232660531997681, 0.8390869498252869, 0.8527218699455261, 0.6248979568481445, 0.31244897842407227, 1.03386390209198, 0.8576264977455139, 0.849494457244873, 0.9673974514007568, 0.8575009107589722, 1.012687087059021, 0.849472165107727, 0.21240854263305664, 0.21240854263305664, 0.21240854263305664, 0.21240854263305664, 0.21240854263305664, 1.0272449254989624, 0.9548065066337585, 0.9232500791549683, 0.48524534702301025, 0.48524534702301025, 0.849449098110199, 0.21442368626594543, 0.8576947450637817, 1.0152820348739624, 0.8494927287101746, 1.0190956592559814, 0.9832829236984253, 0.8387711644172668, 0.4881254732608795, 0.4881254732608795, 0.8042337894439697, 0.8037042617797852, 0.8494851589202881, 0.8418813943862915, 0.8494776487350464, 0.8575161695480347, 0.9419803619384766, 1.0377862453460693, 0.8904898166656494, 0.11131122708320618, 0.9731312990188599, 0.8575417399406433, 0.8372476696968079, 0.33432093262672424, 0.6686418652534485, 0.8418813943862915, 0.8574269413948059, 0.8575635552406311, 0.8281266093254089, 0.8418813943862915, 0.8376415371894836, 0.857572078704834, 0.8392481803894043, 0.8494755029678345, 0.8037748336791992, 0.8045033812522888, 0.3211243450641632, 0.6422486901283264, 0.8378779888153076, 0.8494941592216492, 0.84257972240448, 0.8281237483024597, 0.8035783171653748, 0.4936603307723999, 0.4936603307723999, 1.061532974243164, 0.8281232714653015, 0.8385828137397766, 0.8392345905303955, 0.8391301035881042, 0.8384600877761841, 0.48756280541419983, 0.48756280541419983, 0.8575376868247986, 1.0264739990234375, 0.8494590520858765, 0.8387928605079651, 0.9072441458702087, 0.26004692912101746, 0.7801408171653748, 0.8044559955596924, 0.804256021976471, 0.8390809893608093, 0.10143090784549713, 0.10143090784549713, 0.10143090784549713, 0.6085854768753052, 0.10143090784549713, 0.8495250344276428, 1.027640700340271, 0.6737687587738037, 0.33688437938690186, 0.8281246423721313, 0.9965084195137024, 0.8043401837348938, 0.8418813943862915, 0.599309504032135, 0.44948214292526245, 0.8926553726196289, 0.1487758904695511, 0.6595357060432434, 0.3297678530216217, 0.8386071920394897, 1.0377382040023804, 0.6952800750732422, 0.3476400375366211, 0.8042030930519104, 0.8369821906089783, 0.9231142997741699, 0.9702023267745972, 0.8573750257492065, 0.857535719871521, 1.0235188007354736, 0.27286839485168457, 0.18191225826740265, 0.030318710952997208, 0.3335058093070984, 0.060637421905994415, 0.09095612913370132, 0.030318710952997208, 0.8575130701065063, 0.8281254172325134, 0.34648337960243225, 0.6929667592048645, 0.8043928146362305, 1.0232999324798584, 0.8393968939781189, 0.8575649857521057, 0.8574988842010498, 0.9231469631195068, 0.4902399778366089, 0.4902399778366089, 0.8376760482788086, 0.8186637163162231, 0.2046659290790558, 0.8281299471855164, 0.842582643032074, 0.34483855962753296, 0.6896771192550659, 0.2788015604019165, 0.046466924250125885, 0.18586769700050354, 0.2788015604019165, 0.18586769700050354, 1.0220166444778442, 0.9939613938331604, 0.9705022573471069, 1.050614595413208, 0.8418813943862915, 0.900402307510376, 0.7793694138526917, 0.1558738797903061, 0.9832581877708435, 0.47297772765159607, 0.47297772765159607, 0.4944353997707367, 0.4944353997707367, 0.9668760895729065, 0.9932678937911987, 0.8494772911071777, 1.0060861110687256, 0.8574787974357605, 0.9072441458702087, 0.5374564528465271, 0.5374564528465271, 0.8424566388130188, 0.8494582772254944, 0.9736015200614929, 0.9737485647201538, 0.2719869017601013, 0.13599345088005066, 0.033998362720012665, 0.3739819824695587, 0.033998362720012665, 0.101995088160038, 0.033998362720012665, 0.8281217217445374, 0.8281274437904358, 0.8390375971794128, 0.9938958287239075, 0.8425086736679077, 0.8426357507705688, 0.8372175693511963, 0.14502544701099396, 0.14502544701099396, 0.2900508940219879, 0.43507635593414307, 1.0264739990234375, 0.8588414192199707, 0.4841047525405884, 0.4841047525405884, 0.9691798090934753, 0.8041326403617859, 0.9832337498664856, 0.8281166553497314, 0.9547936320304871, 0.4819386601448059, 0.4819386601448059, 0.8418813943862915, 0.6222348213195801, 0.20741160213947296, 0.20741160213947296, 0.95478755235672, 1.0497164726257324, 1.0485327243804932, 0.8418813943862915, 0.8425276279449463, 0.9940061569213867, 0.8494611978530884, 0.8281199336051941, 0.5259307026863098, 0.5259307026863098, 1.050726294517517, 0.8575844168663025, 0.8281241059303284, 0.8575953245162964, 0.9238888621330261, 0.18250605463981628, 0.18250605463981628, 0.18250605463981628, 0.36501210927963257, 0.18250605463981628, 0.9731312990188599, 0.8384461998939514, 0.8213790059089661, 0.20534475147724152, 0.8371999859809875, 0.8281270861625671, 0.48220133781433105, 0.48220133781433105, 0.9977072477340698, 0.8386997580528259, 0.4692576825618744, 0.4692576825618744, 0.9072441458702087, 1.061532974243164, 0.9228176474571228, 0.8576096892356873, 0.8390520811080933, 0.9686901569366455, 0.8575391173362732, 0.6322745084762573, 0.21075817942619324, 0.21075817942619324, 0.8418813943862915, 0.9740386605262756, 0.9547988772392273, 0.8392025232315063, 0.8376080989837646, 0.8577330708503723, 0.7924116253852844, 0.8495209217071533, 0.8494405150413513, 0.8495110273361206, 0.8495145440101624, 0.4803923964500427, 0.4803923964500427, 0.8281146287918091, 0.43881312012672424, 0.5850841403007507, 0.9230823516845703, 0.9225822687149048, 0.8281219005584717, 0.9227209091186523, 1.0226340293884277, 0.9833247661590576, 0.33138155937194824, 0.6627631187438965, 0.900692343711853, 0.8495355248451233, 0.8371921181678772, 0.8418813943862915, 0.8391757607460022, 0.8418813943862915, 0.9548014998435974, 0.978076159954071, 0.9672551155090332, 0.8494617342948914, 0.9832547903060913, 0.83730149269104, 0.8551862239837646, 0.8575326204299927, 0.6343641877174377, 0.4229094684123993, 0.8574433326721191, 0.8388816118240356, 0.8388670086860657, 1.0498110055923462, 0.9940356016159058, 0.8372038006782532, 0.8418813943862915, 0.8425946831703186, 1.0278165340423584, 1.0232738256454468, 0.9971491694450378, 0.8281216621398926, 0.8281165957450867, 0.8425176739692688, 0.8387821316719055, 0.47239989042282104, 0.09447997808456421, 0.09447997808456421, 0.37791991233825684, 0.677636981010437, 0.3388184905052185, 0.922537624835968, 0.2679964005947113, 0.8039892315864563, 0.9938836097717285, 1.0228327512741089, 0.8575584888458252, 1.061532974243164, 0.9691343307495117, 0.8576761484146118, 0.9547893404960632, 0.8574668169021606, 0.8390647172927856, 1.049841046333313, 0.8388639092445374, 0.9692544937133789, 0.8574633598327637, 1.0264739990234375, 0.8392429351806641, 0.9694544672966003, 0.4221858084201813, 0.6332786679267883, 0.9731312990188599, 0.837303638458252, 0.2998587191104889, 0.19990582764148712, 0.39981165528297424, 0.09995291382074356, 0.8427873253822327, 0.18234437704086304, 0.18234437704086304, 0.18234437704086304, 0.3646887540817261, 0.18234437704086304, 0.8575992584228516, 0.8374541401863098, 0.8418813943862915, 0.8370326161384583, 0.838837742805481, 0.5228224992752075, 0.26141124963760376, 0.26141124963760376, 0.857501745223999, 1.0506811141967773, 0.8374952077865601, 0.260036826133728, 0.7801105380058289, 0.8418813943862915, 0.842413604259491], \"Term\": [\"able\", \"accessible\", \"according\", \"actions\", \"actions\", \"activated\", \"active\", \"adequate\", \"administer\", \"aided\", \"also\", \"among\", \"amount\", \"analytics\", \"analyzed\", \"analyzer\", \"analyzes\", \"analyzes\", \"another\", \"application\", \"application\", \"apply\", \"applying\", \"approach\", \"art\", \"artificial\", \"aspect\", \"aspect\", \"aspects\", \"assistant\", \"associated\", \"associated\", \"associated\", \"associated\", \"attempts\", \"attributes\", \"automated\", \"autonomously\", \"based\", \"based\", \"based\", \"based\", \"based\", \"based\", \"bayesian\", \"blood\", \"build\", \"cad\", \"capability\", \"capable\", \"cardiovascular\", \"cases\", \"cases\", \"causing\", \"certain\", \"changing\", \"cloud\", \"collapse\", \"combinations\", \"command\", \"command\", \"commands\", \"commands\", \"communicates\", \"communication\", \"communication\", \"component\", \"compound\", \"comprises\", \"computer\", \"computer\", \"computer\", \"computing\", \"conditions\", \"content\", \"context\", \"context\", \"contextual\", \"contextual\", \"continually\", \"control\", \"correlations\", \"correspond\", \"corresponding\", \"corresponding\", \"corresponding\", \"corresponds\", \"currently\", \"custom\", \"customer\", \"data\", \"data\", \"database\", \"datasets\", \"declared\", \"defined\", \"dehydration\", \"dependent\", \"describe\", \"described\", \"described\", \"described\", \"described\", \"described\", \"description\", \"design\", \"determination\", \"determine\", \"determine\", \"determined\", \"determining\", \"determining\", \"device\", \"devices\", \"different\", \"display\", \"displayed\", \"displaying\", \"displaying\", \"effectuated\", \"efficient\", \"electronic\", \"embodiment\", \"embodiments\", \"employ\", \"endpoint\", \"entities\", \"entity\", \"entity\", \"environment\", \"estimate\", \"etc\", \"example\", \"example\", \"executed\", \"extraction\", \"extremely\", \"facilitate\", \"facilitating\", \"factors\", \"feature\", \"feed\", \"file\", \"final\", \"first\", \"follow\", \"follow\", \"framework\", \"functionality\", \"functions\", \"generate\", \"generated\", \"generates\", \"generates\", \"generation\", \"generator\", \"group\", \"grouped\", \"groupings\", \"hashtags\", \"herein\", \"herein\", \"high\", \"identifiable\", \"identified\", \"identifiers\", \"identify\", \"identifying\", \"identifying\", \"implementations\", \"implemented\", \"improving\", \"include\", \"include\", \"include\", \"include\", \"include\", \"included\", \"includes\", \"including\", \"including\", \"increased\", \"independent\", \"indicates\", \"inference\", \"information\", \"information\", \"input\", \"input\", \"inputs\", \"inputs\", \"intelligently\", \"intent\", \"interface\", \"interface\", \"intermediate\", \"internet\", \"interpretation\", \"interprets\", \"intracranial\", \"invasive\", \"item\", \"language\", \"language\", \"language\", \"language\", \"language\", \"language\", \"language\", \"large\", \"larger\", \"learning\", \"learning\", \"likely\", \"linguistic\", \"logical\", \"long\", \"loss\", \"lu\", \"machine\", \"machine\", \"maintaining\", \"manner\", \"manner\", \"market\", \"matches\", \"matching\", \"matching\", \"may\", \"may\", \"may\", \"may\", \"may\", \"meaning\", \"measurement\", \"mechanism\", \"media\", \"memory\", \"message\", \"messages\", \"messages\", \"metadata\", \"method\", \"method\", \"methods\", \"methods\", \"metric\", \"metrics\", \"modal\", \"model\", \"models\", \"modifies\", \"module\", \"module\", \"monitors\", \"multi\", \"name\", \"names\", \"natural\", \"natural\", \"natural\", \"natural\", \"natural\", \"natural\", \"natural\", \"necessary\", \"network\", \"networking\", \"noninvasive\", \"notifies\", \"obtains\", \"offered\", \"one\", \"one\", \"one\", \"one\", \"online\", \"operation\", \"order\", \"order\", \"ordered\", \"originated\", \"output\", \"parsed\", \"parser\", \"parsing\", \"parsing\", \"participants\", \"particular\", \"particular\", \"particular\", \"party\", \"patient\", \"performance\", \"performs\", \"phrases\", \"physiological\", \"placed\", \"places\", \"plurality\", \"plurality\", \"posted\", \"prediction\", \"preferably\", \"pressure\", \"prior\", \"processing\", \"processing\", \"processing\", \"processing\", \"processing\", \"processor\", \"product\", \"provided\", \"provided\", \"provider\", \"providers\", \"provides\", \"provides\", \"providing\", \"punctuation\", \"query\", \"query\", \"question\", \"questions\", \"ranking\", \"rapid\", \"readability\", \"readable\", \"real\", \"received\", \"received\", \"received\", \"receiving\", \"record\", \"related\", \"relatedness\", \"relationships\", \"relevant\", \"remote\", \"rendered\", \"representing\", \"resolve\", \"resolving\", \"resource\", \"resource\", \"respond\", \"response\", \"response\", \"responses\", \"results\", \"retrieval\", \"scalable\", \"scanned\", \"screen\", \"second\", \"second\", \"segments\", \"selected\", \"sentiment\", \"sentiments\", \"separate\", \"sequential\", \"server\", \"service\", \"services\", \"similar\", \"slots\", \"sms\", \"social\", \"software\", \"specific\", \"specific\", \"speed\", \"split\", \"splitting\", \"state\", \"statistical\", \"stored\", \"storing\", \"string\", \"strings\", \"subsystem\", \"sufficient\", \"supplied\", \"suppliers\", \"supported\", \"symbols\", \"system\", \"system\", \"system\", \"system\", \"systems\", \"systems\", \"technique\", \"techniques\", \"techniques\", \"technology\", \"tenses\", \"term\", \"terms\", \"text\", \"therapeutic\", \"third\", \"time\", \"timestamps\", \"tools\", \"topic\", \"topics\", \"treatment\", \"unambiguously\", \"understandability\", \"understandable\", \"understanding\", \"understanding\", \"upon\", \"usage\", \"user\", \"user\", \"user\", \"user\", \"uses\", \"using\", \"using\", \"using\", \"using\", \"using\", \"utilizes\", \"value\", \"via\", \"video\", \"view\", \"voice\", \"voice\", \"voice\", \"volume\", \"website\", \"weighting\", \"whether\", \"whether\", \"within\", \"words\"]}, \"R\": 30, \"lambda.step\": 0.01, \"plot.opts\": {\"xlab\": \"PC1\", \"ylab\": \"PC2\"}, \"topic.order\": [4, 5, 8, 13, 3, 7, 11, 9, 15, 14, 18, 17, 16, 10, 1, 25, 24, 20, 23, 19, 12, 6, 21, 22, 2]};\n",
       "\n",
       "function LDAvis_load_lib(url, callback){\n",
       "  var s = document.createElement('script');\n",
       "  s.src = url;\n",
       "  s.async = true;\n",
       "  s.onreadystatechange = s.onload = callback;\n",
       "  s.onerror = function(){console.warn(\"failed to load library \" + url);};\n",
       "  document.getElementsByTagName(\"head\")[0].appendChild(s);\n",
       "}\n",
       "\n",
       "if(typeof(LDAvis) !== \"undefined\"){\n",
       "   // already loaded: just create the visualization\n",
       "   !function(LDAvis){\n",
       "       new LDAvis(\"#\" + \"ldavis_el349511124591560001107834946\", ldavis_el349511124591560001107834946_data);\n",
       "   }(LDAvis);\n",
       "}else if(typeof define === \"function\" && define.amd){\n",
       "   // require.js is available: use it to load d3/LDAvis\n",
       "   require.config({paths: {d3: \"https://cdnjs.cloudflare.com/ajax/libs/d3/3.5.5/d3.min\"}});\n",
       "   require([\"d3\"], function(d3){\n",
       "      window.d3 = d3;\n",
       "      LDAvis_load_lib(\"https://cdn.rawgit.com/bmabey/pyLDAvis/files/ldavis.v1.0.0.js\", function(){\n",
       "        new LDAvis(\"#\" + \"ldavis_el349511124591560001107834946\", ldavis_el349511124591560001107834946_data);\n",
       "      });\n",
       "    });\n",
       "}else{\n",
       "    // require.js not available: dynamically load d3 & LDAvis\n",
       "    LDAvis_load_lib(\"https://cdnjs.cloudflare.com/ajax/libs/d3/3.5.5/d3.min.js\", function(){\n",
       "         LDAvis_load_lib(\"https://cdn.rawgit.com/bmabey/pyLDAvis/files/ldavis.v1.0.0.js\", function(){\n",
       "                 new LDAvis(\"#\" + \"ldavis_el349511124591560001107834946\", ldavis_el349511124591560001107834946_data);\n",
       "            })\n",
       "         });\n",
       "}\n",
       "</script>"
      ],
      "text/plain": [
       "PreparedData(topic_coordinates=              x         y  topics  cluster       Freq\n",
       "topic                                                \n",
       "3     -0.224365  0.008295       1        1  19.980911\n",
       "4     -0.137569  0.054356       2        1  12.342148\n",
       "7      0.092745 -0.248328       3        1  11.225811\n",
       "12    -0.004663  0.160878       4        1  11.004402\n",
       "2     -0.184915  0.080390       5        1  10.783062\n",
       "6     -0.089538 -0.182812       6        1  10.556946\n",
       "10    -0.069518 -0.122808       7        1   9.328748\n",
       "8      0.269243  0.091253       8        1   8.661732\n",
       "14    -0.118603  0.041202       9        1   5.762587\n",
       "13     0.022359  0.009752      10        1   0.025664\n",
       "17     0.032978 -0.000070      11        1   0.023602\n",
       "16     0.028123  0.002724      12        1   0.023554\n",
       "15     0.026406  0.007912      13        1   0.023486\n",
       "9      0.030018  0.012946      14        1   0.022233\n",
       "0      0.027452  0.007791      15        1   0.022204\n",
       "24     0.025019  0.008006      16        1   0.022203\n",
       "23     0.032173  0.008316      17        1   0.022165\n",
       "19     0.028497  0.007728      18        1   0.022154\n",
       "22     0.030951  0.006083      19        1   0.022142\n",
       "18     0.030535  0.007731      20        1   0.020966\n",
       "11     0.030535  0.007731      21        1   0.020656\n",
       "5      0.030535  0.007731      22        1   0.020656\n",
       "20     0.030535  0.007731      23        1   0.020656\n",
       "21     0.030535  0.007731      24        1   0.020656\n",
       "1      0.030535  0.007731      25        1   0.020656, topic_info=     Category       Freq           Term      Total  loglift  logprob\n",
       "term                                                                \n",
       "25    Default  13.000000       response  13.000000  30.0000  30.0000\n",
       "20    Default  29.000000        natural  29.000000  29.0000  29.0000\n",
       "17    Default  32.000000       language  32.000000  28.0000  28.0000\n",
       "43    Default   9.000000         device   9.000000  27.0000  27.0000\n",
       "164   Default   9.000000       endpoint   9.000000  26.0000  26.0000\n",
       "18    Default  21.000000            may  21.000000  25.0000  25.0000\n",
       "205   Default   9.000000        metrics   9.000000  24.0000  24.0000\n",
       "11    Default   9.000000         follow   9.000000  23.0000  23.0000\n",
       "213   Default   8.000000        service   8.000000  22.0000  22.0000\n",
       "69    Default   8.000000            cad   8.000000  21.0000  21.0000\n",
       "134   Default   8.000000         entity   8.000000  20.0000  20.0000\n",
       "29    Default  10.000000         system  10.000000  19.0000  19.0000\n",
       "191   Default   6.000000       compound   6.000000  18.0000  18.0000\n",
       "82    Default   9.000000        include   9.000000  17.0000  17.0000\n",
       "15    Default   6.000000          input   6.000000  16.0000  16.0000\n",
       "30    Default  10.000000           user  10.000000  15.0000  15.0000\n",
       "174   Default   5.000000           item   5.000000  14.0000  14.0000\n",
       "176   Default   5.000000     linguistic   5.000000  13.0000  13.0000\n",
       "184   Default   5.000000      subsystem   5.000000  12.0000  12.0000\n",
       "14    Default   6.000000    information   6.000000  11.0000  11.0000\n",
       "233   Default   6.000000       messages   6.000000  10.0000  10.0000\n",
       "190   Default   6.000000  communication   6.000000   9.0000   9.0000\n",
       "3     Default  10.000000          based  10.000000   8.0000   8.0000\n",
       "272   Default   5.000000       segments   5.000000   7.0000   7.0000\n",
       "262   Default   5.000000        message   5.000000   6.0000   6.0000\n",
       "162   Default   4.000000      dependent   4.000000   5.0000   5.0000\n",
       "33    Default   6.000000        command   6.000000   4.0000   4.0000\n",
       "124   Default   6.000000           data   6.000000   3.0000   3.0000\n",
       "54    Default   6.000000            one   6.000000   2.0000   2.0000\n",
       "2     Default   6.000000     associated   6.000000   1.0000   1.0000\n",
       "...       ...        ...            ...        ...      ...      ...\n",
       "313   Topic25   0.000526    dehydration   1.166180   0.7817  -5.8636\n",
       "351   Topic25   0.000526         volume   1.166178   0.7817  -5.8636\n",
       "111   Topic25   0.000526      suppliers   1.207559   0.7468  -5.8636\n",
       "112   Topic25   0.000526        systems   2.951433  -0.1469  -5.8636\n",
       "113   Topic25   0.000526          third   2.094703   0.1960  -5.8636\n",
       "114   Topic25   0.000526          voice   3.825390  -0.4062  -5.8636\n",
       "115   Topic25   0.000526        actions   2.924474  -0.1377  -5.8636\n",
       "116   Topic25   0.000526      activated   1.177208   0.7723  -5.8636\n",
       "117   Topic25   0.000526    application   2.044616   0.2202  -5.8636\n",
       "118   Topic25   0.000526       attempts   1.177251   0.7722  -5.8636\n",
       "119   Topic25   0.000526     attributes   1.177112   0.7724  -5.8636\n",
       "120   Topic25   0.000526        capable   1.177174   0.7723  -5.8636\n",
       "121   Topic25   0.000526        causing   1.177234   0.7723  -5.8636\n",
       "122   Topic25   0.000526        content   2.033869   0.2255  -5.8636\n",
       "123   Topic25   0.000526  corresponding   2.917989  -0.1355  -5.8636\n",
       "124   Topic25   0.000526           data   6.401045  -0.9210  -5.8636\n",
       "125   Topic25   0.000526       declared   1.177171   0.7723  -5.8636\n",
       "126   Topic25   0.000526       describe   1.177202   0.7723  -5.8636\n",
       "127   Topic25   0.000526     determined   1.177234   0.7723  -5.8636\n",
       "128   Topic25   0.000526        devices   1.177173   0.7723  -5.8636\n",
       "129   Topic25   0.000526        display   2.034003   0.2254  -5.8636\n",
       "110   Topic25   0.000526       supplied   1.207552   0.7468  -5.8636\n",
       "109   Topic25   0.000526       specific   4.729145  -0.6183  -5.8636\n",
       "108   Topic25   0.000526         server   2.094676   0.1960  -5.8636\n",
       "97    Topic25   0.000526         places   1.207555   0.7468  -5.8636\n",
       "89    Topic25   0.000526         market   1.207540   0.7468  -5.8636\n",
       "90    Topic25   0.000526          model   2.981852  -0.1571  -5.8636\n",
       "91    Topic25   0.000526      necessary   1.207552   0.7468  -5.8636\n",
       "92    Topic25   0.000526        network   1.207544   0.7468  -5.8636\n",
       "93    Topic25   0.000526         parsed   1.207559   0.7468  -5.8636\n",
       "\n",
       "[1378 rows x 6 columns], token_table=      Topic      Freq            Term\n",
       "term                                 \n",
       "247       4  0.839200            able\n",
       "0         1  0.922952      accessible\n",
       "222       6  0.841881       according\n",
       "115       3  0.683884         actions\n",
       "115       7  0.341942         actions\n",
       "116       7  0.849468       activated\n",
       "296       8  0.857500          active\n",
       "1         1  0.971169        adequate\n",
       "297       8  0.857502      administer\n",
       "64        2  0.954802           aided\n",
       "65        2  0.828123            also\n",
       "223       6  0.841881           among\n",
       "298       8  0.857550          amount\n",
       "186       3  0.837234       analytics\n",
       "248       4  0.838921        analyzed\n",
       "66        2  0.954794        analyzer\n",
       "67        2  0.502666        analyzes\n",
       "67        9  0.502666        analyzes\n",
       "299       8  0.857437         another\n",
       "117       6  0.489089     application\n",
       "117       7  0.489089     application\n",
       "300       8  0.857610           apply\n",
       "187       3  0.837353        applying\n",
       "224       6  0.841881        approach\n",
       "301       8  0.857397             art\n",
       "68        2  0.828124      artificial\n",
       "287       8  0.715895          aspect\n",
       "287       9  0.357947          aspect\n",
       "288       9  0.907244         aspects\n",
       "32        5  0.974438       assistant\n",
       "...     ...       ...             ...\n",
       "284       4  0.969454  understandable\n",
       "159       1  0.422186   understanding\n",
       "159       7  0.633279   understanding\n",
       "244       6  0.973131            upon\n",
       "218       3  0.837304           usage\n",
       "30        1  0.299859            user\n",
       "30        2  0.199906            user\n",
       "30        4  0.399812            user\n",
       "30        9  0.099953            user\n",
       "62        5  0.842787            uses\n",
       "160       1  0.182344           using\n",
       "160       3  0.182344           using\n",
       "160       4  0.182344           using\n",
       "160       7  0.364689           using\n",
       "160       9  0.182344           using\n",
       "350       8  0.857599        utilizes\n",
       "219       3  0.837454           value\n",
       "245       6  0.841881             via\n",
       "220       3  0.837033           video\n",
       "285       4  0.838838            view\n",
       "114       2  0.522822           voice\n",
       "114       3  0.261411           voice\n",
       "114       7  0.261411           voice\n",
       "351       8  0.857502          volume\n",
       "286       4  1.050681         website\n",
       "221       3  0.837495       weighting\n",
       "31        1  0.260037         whether\n",
       "31        6  0.780111         whether\n",
       "246       6  0.841881          within\n",
       "63        5  0.842414           words\n",
       "\n",
       "[442 rows x 3 columns], R=30, lambda_step=0.01, plot_opts={'xlab': 'PC1', 'ylab': 'PC2'}, topic_order=[4, 5, 8, 13, 3, 7, 11, 9, 15, 14, 18, 17, 16, 10, 1, 25, 24, 20, 23, 19, 12, 6, 21, 22, 2])"
      ]
     },
     "execution_count": 85,
     "metadata": {},
     "output_type": "execute_result"
    }
   ],
   "source": [
    "# explore topics\n",
    "pyLDAvis.enable_notebook()\n",
    "viz_topics_1 = pyLDAvis.gensim.prepare(model_lda, corpus, id_to_word)\n",
    "viz_topics_1"
   ]
  },
  {
   "cell_type": "markdown",
   "metadata": {},
   "source": [
    "### Model 2-  Mallet model"
   ]
  },
  {
   "cell_type": "code",
   "execution_count": 92,
   "metadata": {},
   "outputs": [],
   "source": [
    "# uncomment to download Mallet topic model\n",
    "# !wget http://mallet.cs.umass.edu/dist/mallet-2.0.8.zip\n",
    "# update path\n",
    "path_mallet = '/Users/lee/Documents/techniche/techniche/data/mallet-2.0.8/bin/mallet'"
   ]
  },
  {
   "cell_type": "code",
   "execution_count": 93,
   "metadata": {},
   "outputs": [],
   "source": [
    "model_2 = gensim.models.wrappers.LdaMallet(path_mallet, corpus=corpus, num_topics=25, id2word=id_to_word)"
   ]
  },
  {
   "cell_type": "code",
   "execution_count": 94,
   "metadata": {},
   "outputs": [
    {
     "name": "stdout",
     "output_type": "stream",
     "text": [
      "[(20,\n",
      "  [('metrics', 0.25),\n",
      "   ('service', 0.225),\n",
      "   ('compound', 0.175),\n",
      "   ('customer', 0.125),\n",
      "   ('defined', 0.05),\n",
      "   ('final', 0.025),\n",
      "   ('correlations', 0.025),\n",
      "   ('maintaining', 0.025),\n",
      "   ('internet', 0.025),\n",
      "   ('plurality', 0.025)]),\n",
      " (5,\n",
      "  [('natural', 0.39622641509433965),\n",
      "   ('command', 0.1320754716981132),\n",
      "   ('module', 0.11320754716981132),\n",
      "   ('control', 0.07547169811320754),\n",
      "   ('language', 0.03773584905660377),\n",
      "   ('parser', 0.03773584905660377),\n",
      "   ('design', 0.03773584905660377),\n",
      "   ('related', 0.03773584905660377),\n",
      "   ('facilitate', 0.018867924528301886),\n",
      "   ('topic', 0.018867924528301886)]),\n",
      " (16,\n",
      "  [('processing', 0.21428571428571427),\n",
      "   ('online', 0.10714285714285714),\n",
      "   ('unambiguously', 0.10714285714285714),\n",
      "   ('output', 0.07142857142857142),\n",
      "   ('slots', 0.07142857142857142),\n",
      "   ('relationships', 0.03571428571428571),\n",
      "   ('inference', 0.03571428571428571),\n",
      "   ('facilitating', 0.03571428571428571),\n",
      "   ('understandability', 0.03571428571428571),\n",
      "   ('datasets', 0.03571428571428571)]),\n",
      " (17,\n",
      "  [('techniques', 0.1875),\n",
      "   ('tenses', 0.1875),\n",
      "   ('metric', 0.125),\n",
      "   ('machine', 0.0625),\n",
      "   ('analyzes', 0.0625),\n",
      "   ('prediction', 0.0625),\n",
      "   ('split', 0.0625),\n",
      "   ('query', 0.0625),\n",
      "   ('meaning', 0.0625),\n",
      "   ('intelligently', 0.0625)]),\n",
      " (18,\n",
      "  [('learning', 0.15789473684210525),\n",
      "   ('tools', 0.15789473684210525),\n",
      "   ('measurement', 0.10526315789473684),\n",
      "   ('high', 0.05263157894736842),\n",
      "   ('custom', 0.05263157894736842),\n",
      "   ('retrieves', 0.05263157894736842),\n",
      "   ('software', 0.05263157894736842),\n",
      "   ('representing', 0.05263157894736842),\n",
      "   ('electronic', 0.05263157894736842),\n",
      "   ('methods', 0.05263157894736842)]),\n",
      " (2,\n",
      "  [('data', 0.21212121212121213),\n",
      "   ('providing', 0.12121212121212122),\n",
      "   ('performance', 0.12121212121212122),\n",
      "   ('based', 0.09090909090909091),\n",
      "   ('actions', 0.09090909090909091),\n",
      "   ('cases', 0.06060606060606061),\n",
      "   ('combinations', 0.06060606060606061),\n",
      "   ('order', 0.030303030303030304),\n",
      "   ('separate', 0.030303030303030304),\n",
      "   ('services', 0.030303030303030304)]),\n",
      " (11,\n",
      "  [('matching', 0.23076923076923078),\n",
      "   ('entities', 0.23076923076923078),\n",
      "   ('describe', 0.07692307692307693),\n",
      "   ('phrases', 0.07692307692307693),\n",
      "   ('topics', 0.07692307692307693),\n",
      "   ('sequential', 0.07692307692307693),\n",
      "   ('enables', 0.07692307692307693),\n",
      "   ('resolving', 0.07692307692307693),\n",
      "   ('approach', 0.07692307692307693),\n",
      "   ('participants', 0.0)]),\n",
      " (7,\n",
      "  [('language', 0.7333333333333333),\n",
      "   ('prior', 0.044444444444444446),\n",
      "   ('analyzer', 0.044444444444444446),\n",
      "   ('collapse', 0.022222222222222223),\n",
      "   ('symbols', 0.022222222222222223),\n",
      "   ('sms', 0.022222222222222223),\n",
      "   ('method', 0.022222222222222223),\n",
      "   ('communicates', 0.022222222222222223),\n",
      "   ('includes', 0.022222222222222223),\n",
      "   ('application', 0.022222222222222223)]),\n",
      " (8,\n",
      "  [('posted', 0.16666666666666666),\n",
      "   ('text', 0.08333333333333333),\n",
      "   ('order', 0.041666666666666664),\n",
      "   ('extremely', 0.041666666666666664),\n",
      "   ('method', 0.041666666666666664),\n",
      "   ('analyzed', 0.041666666666666664),\n",
      "   ('logical', 0.041666666666666664),\n",
      "   ('real', 0.041666666666666664),\n",
      "   ('displaying', 0.041666666666666664),\n",
      "   ('words', 0.041666666666666664)]),\n",
      " (3,\n",
      "  [('contextual', 0.16666666666666666),\n",
      "   ('state', 0.125),\n",
      "   ('technology', 0.08333333333333333),\n",
      "   ('noninvasive', 0.08333333333333333),\n",
      "   ('large', 0.041666666666666664),\n",
      "   ('suppliers', 0.041666666666666664),\n",
      "   ('provider', 0.041666666666666664),\n",
      "   ('loss', 0.041666666666666664),\n",
      "   ('offered', 0.041666666666666664),\n",
      "   ('determine', 0.041666666666666664)])]\n"
     ]
    }
   ],
   "source": [
    "# topics\n",
    "pprint(model_2.show_topics(formatted=False))"
   ]
  },
  {
   "cell_type": "code",
   "execution_count": 98,
   "metadata": {},
   "outputs": [
    {
     "name": "stderr",
     "output_type": "stream",
     "text": [
      "/anaconda3/lib/python3.6/site-packages/gensim/topic_coherence/direct_confirmation_measure.py:193: RuntimeWarning: invalid value encountered in true_divide\n",
      "  numerator = (co_occur_count / num_docs) + EPSILON\n",
      "/anaconda3/lib/python3.6/site-packages/gensim/topic_coherence/direct_confirmation_measure.py:194: RuntimeWarning: invalid value encountered in true_divide\n",
      "  denominator = (w_prime_count / num_docs) * (w_star_count / num_docs)\n",
      "/anaconda3/lib/python3.6/site-packages/gensim/topic_coherence/direct_confirmation_measure.py:189: RuntimeWarning: invalid value encountered in true_divide\n",
      "  co_doc_prob = co_occur_count / num_docs\n"
     ]
    },
    {
     "name": "stdout",
     "output_type": "stream",
     "text": [
      "nan\n"
     ]
    }
   ],
   "source": [
    "# TODO (Lee) - calculate coherence metric\n",
    "coherence_2 = CoherenceModel(model=model_2, texts=data, dictionary=id_to_word, coherence='c_v')\n",
    "coherence_2 = coherence_2.get_coherence()\n",
    "print(coherence_2)"
   ]
  },
  {
   "cell_type": "code",
   "execution_count": null,
   "metadata": {},
   "outputs": [],
   "source": [
    "# TODO (Lee)\n",
    "# def compute_coherence_values(dictionary, corpus, texts, limit, start=2, step=3):\n",
    "#     \"\"\"\n",
    "#     Compute c_v coherence for various number of topics\n",
    "\n",
    "#     Parameters:\n",
    "#     ----------\n",
    "#     dictionary : Gensim dictionary\n",
    "#     corpus : Gensim corpus\n",
    "#     texts : List of input texts\n",
    "#     limit : Max num of topics\n",
    "\n",
    "#     Returns:\n",
    "#     -------\n",
    "#     model_list : List of LDA topic models\n",
    "#     coherence_values : Coherence values corresponding to the LDA model with respective number of topics\n",
    "#     \"\"\"\n",
    "#     coherence_values = []\n",
    "#     model_list = []\n",
    "#     for num_topics in range(start, limit, step):\n",
    "#         model = gensim.models.wrappers.LdaMallet(path_mallet, corpus=corpus, num_topics=num_topics, id2word=id2word)\n",
    "#         model_list.append(model)\n",
    "#         coherencemodel = CoherenceModel(model=model, texts=texts, dictionary=dictionary, coherence='c_v')\n",
    "#         coherence_values.append(coherencemodel.get_coherence())\n",
    "\n",
    "#     return model_list, coherence_values\n",
    "\n",
    "# model_list, coherence_values = compute_coherence_values(dictionary=id_to_word, corpus=corpus, texts=data, start=2, limit=40, step=6)"
   ]
  },
  {
   "cell_type": "markdown",
   "metadata": {},
   "source": [
    "### Model 3 - Author topic model"
   ]
  },
  {
   "cell_type": "code",
   "execution_count": null,
   "metadata": {},
   "outputs": [],
   "source": [
    "# construct inventor-to-doc mapping as df from nested inventors column in json api response\n",
    "df_inventors = json_normalize(results['patents'], record_path=['inventors'], meta=['patent_number', 'patent_date'])\n",
    "df_inventors = df_inventors[['inventor_id', 'patent_number', 'patent_date']]\n",
    "df_inventors.sort_values(by=['patent_date'])\n",
    "df_inventors.head(3)"
   ]
  },
  {
   "cell_type": "code",
   "execution_count": null,
   "metadata": {},
   "outputs": [],
   "source": [
    "df.head(3)"
   ]
  },
  {
   "cell_type": "code",
   "execution_count": null,
   "metadata": {},
   "outputs": [],
   "source": [
    "# TODO (Lee) - resolve workaround\n",
    "df_idx = df\n",
    "df_idx['idx'] = df.index\n",
    "df_idx\n",
    "df_idx_1 = df_idx[['patent_number', 'idx', 'inventors']]\n",
    "df_idx_2 = df_idx_1.set_index('patent_number')\n",
    "df_idx_2.pop('inventors')\n",
    "df_idx_2\n",
    "df_pat_idx = df_idx_2.T.to_dict('records')\n",
    "for i in df_pat_idx:\n",
    "    df_pat_idx = dict(i)\n",
    "df_pat_idx"
   ]
  },
  {
   "cell_type": "code",
   "execution_count": null,
   "metadata": {},
   "outputs": [],
   "source": [
    "df_pat_idx = df_idx_2.T.to_dict('records')\n",
    "for i in df_pat_idx:\n",
    "    df_pat_idx = dict(i)\n",
    "df_pat_idx"
   ]
  },
  {
   "cell_type": "code",
   "execution_count": null,
   "metadata": {},
   "outputs": [],
   "source": [
    "df_inv_test = json_normalize(results['patents'], record_path=['inventors'], meta=['patent_number', 'patent_date'])\n",
    "df_inv_test.head(3)"
   ]
  },
  {
   "cell_type": "code",
   "execution_count": null,
   "metadata": {},
   "outputs": [],
   "source": [
    "df_idx_pat_inv_map = df[['patent_number', 'inventors']]\n",
    "df_idx_pat_inv_map.head(3)"
   ]
  },
  {
   "cell_type": "code",
   "execution_count": null,
   "metadata": {},
   "outputs": [],
   "source": [
    "# TODO (Lee) - find out how to get list of patents_view_field names from API - I did it accidentally but need to replicate"
   ]
  },
  {
   "cell_type": "code",
   "execution_count": null,
   "metadata": {},
   "outputs": [],
   "source": [
    "df.patent_title_abstract[0]"
   ]
  },
  {
   "cell_type": "code",
   "execution_count": null,
   "metadata": {},
   "outputs": [],
   "source": [
    "df[:3]"
   ]
  },
  {
   "cell_type": "code",
   "execution_count": null,
   "metadata": {},
   "outputs": [],
   "source": [
    "df_inventors.set_index('inventor_id').T.to_dict('list')"
   ]
  },
  {
   "cell_type": "code",
   "execution_count": null,
   "metadata": {},
   "outputs": [],
   "source": [
    "# for k, v in pat2inv.items():\n",
    "#     name_dict[new_key] = name_dict.pop(k)\n",
    "#     time.sleep(4)\n",
    "\n",
    "# pprint.pprint(name_dict)\n",
    "\n",
    "# d = {'x':1, 'y':2, 'z':3}\n",
    "# d1 = {'x':'a', 'y':'b', 'z':'c'}\n",
    "\n",
    "# dict((d1[key], value) for (key, value) in d.items())\n",
    "# {'a': 1, 'b': 2, 'c': 3}"
   ]
  },
  {
   "cell_type": "code",
   "execution_count": null,
   "metadata": {},
   "outputs": [],
   "source": [
    "patdf2inv = dict((df_pat_idx[key], value) for (key, value) in pat2inv.items())\n",
    "patdf2inv"
   ]
  },
  {
   "cell_type": "code",
   "execution_count": null,
   "metadata": {},
   "outputs": [],
   "source": [
    "pat2inv = {k: list(v) for k,v in df_inventors.groupby(\"patent_number\")[\"inventor_id\"]}\n",
    "pat2inv"
   ]
  },
  {
   "cell_type": "code",
   "execution_count": null,
   "metadata": {},
   "outputs": [],
   "source": [
    "idx_pat_map = df.patent_number.to_dict()\n",
    "idx_pat_map = {str(key): value for key, value in idx_pat_map.items()}\n",
    "idx_pat_map"
   ]
  },
  {
   "cell_type": "markdown",
   "metadata": {},
   "source": [
    "#### Construct author-topic model"
   ]
  },
  {
   "cell_type": "code",
   "execution_count": null,
   "metadata": {},
   "outputs": [],
   "source": [
    "# construct author-topic model\n",
    "model_at = AuthorTopicModel(corpus=corpus,\n",
    "                         doc2author=patdf2inv,\n",
    "                         id2word=id_to_word, \n",
    "                         num_topics=25)"
   ]
  },
  {
   "cell_type": "code",
   "execution_count": null,
   "metadata": {},
   "outputs": [],
   "source": [
    "# construct vectors for authors\n",
    "author_vecs = [model_at.get_author_topics(author) for author in model_at.id2author.values()]\n",
    "author_vecs"
   ]
  },
  {
   "cell_type": "code",
   "execution_count": null,
   "metadata": {},
   "outputs": [],
   "source": [
    "# retrieve the topic distribution for an author using use model[name] syntax\n",
    "# each topic has a probability of being expressed given the particular author, but only the ones above a certain threshold are shown.\n",
    "\n",
    "model_at['7788103-1']"
   ]
  },
  {
   "cell_type": "code",
   "execution_count": null,
   "metadata": {},
   "outputs": [],
   "source": [
    "# def show_author(name):\n",
    "#     print('\\n%s' % name)\n",
    "#     print('Docs:', model.author2doc[name])\n",
    "#     print('Topics:')\n",
    "#     pprint([(topic_labels[topic[0]], topic[1]) for topic in model[name]])"
   ]
  },
  {
   "cell_type": "code",
   "execution_count": null,
   "metadata": {},
   "outputs": [],
   "source": [
    "# calculate per-word bound, which is a measure of the model's predictive performance (reconstruction error?)\n",
    "\n",
    "build doc2author dictionary\n",
    "\n",
    "doc2author = atmodel.construct_doc2author(model.corpus, model.author2doc)"
   ]
  },
  {
   "cell_type": "code",
   "execution_count": null,
   "metadata": {},
   "outputs": [],
   "source": [
    "from gensim.models import atmodel\n",
    "doc2author = atmodel.construct_doc2author(model.corpus, model.author2doc)"
   ]
  },
  {
   "cell_type": "code",
   "execution_count": null,
   "metadata": {},
   "outputs": [],
   "source": [
    "gensim.models.atmodel.construct_author2doc(doc2author)\n",
    "# construct mapping from author IDs to document IDs.\n",
    "\n",
    "Parameters:\tdoc2author (dict of (int, list of str)) – Mapping of document id to authors.\n",
    "Returns:\tMapping of authors to document ids.\n",
    "Return type:\tdict of (str, list of int)"
   ]
  },
  {
   "cell_type": "code",
   "execution_count": null,
   "metadata": {},
   "outputs": [],
   "source": [
    "gensim.models.atmodel.construct_doc2author(corpus, author2doc)\n",
    "construct mapping from document IDs to author IDs\n",
    "\n",
    "Parameters:\t\n",
    "corpus (iterable of list of (int, float)) – Corpus in BoW format.\n",
    "author2doc (dict of (str, list of int)) – Mapping of authors to documents.\n",
    "Returns:\t\n",
    "Document to Author mapping.\n",
    "\n",
    "Return type:\t\n",
    "dict of (int, list of str)"
   ]
  }
 ],
 "metadata": {
  "kernelspec": {
   "display_name": "Python 3",
   "language": "python",
   "name": "python3"
  },
  "language_info": {
   "codemirror_mode": {
    "name": "ipython",
    "version": 3
   },
   "file_extension": ".py",
   "mimetype": "text/x-python",
   "name": "python",
   "nbconvert_exporter": "python",
   "pygments_lexer": "ipython3",
   "version": "3.6.5"
  }
 },
 "nbformat": 4,
 "nbformat_minor": 2
}
