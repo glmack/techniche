{
 "cells": [
  {
   "cell_type": "markdown",
   "metadata": {},
   "source": [
    "## Build MySQL database from USPTO Patentsview API database files\n",
    "This notebook describes steps to build a MySQL database from the dump files of the USPTO PatentsView API database"
   ]
  },
  {
   "cell_type": "markdown",
   "metadata": {},
   "source": [
    "### Acquire files"
   ]
  },
  {
   "cell_type": "code",
   "execution_count": null,
   "metadata": {},
   "outputs": [],
   "source": [
    "# create directory for database files\n",
    "!mkdir db"
   ]
  },
  {
   "cell_type": "code",
   "execution_count": null,
   "metadata": {},
   "outputs": [],
   "source": [
    "# download zippped MySQL dump files of the USPTO PatentsView database\n",
    "!wget http://data.patentsview.org/20190312/export/PatentsView_20190312.zip"
   ]
  },
  {
   "cell_type": "code",
   "execution_count": null,
   "metadata": {},
   "outputs": [],
   "source": [
    "# unzip files\n",
    "!unzip PatentsView_20190312.zip"
   ]
  },
  {
   "cell_type": "code",
   "execution_count": null,
   "metadata": {},
   "outputs": [],
   "source": [
    "# change into directory containing unzipped files\n",
    "!cd PatentsView_20190312"
   ]
  },
  {
   "cell_type": "code",
   "execution_count": null,
   "metadata": {},
   "outputs": [],
   "source": [
    "# inspect number of unzipped files\n",
    "ls | wc -l\n",
    "# there are 1412 files that have been unzipeed"
   ]
  },
  {
   "cell_type": "code",
   "execution_count": null,
   "metadata": {},
   "outputs": [],
   "source": [
    "# inspect type of unzipped files\n",
    "# use vim or your preferred code editor to open README.md from unzipped files\n",
    "! vim README.md\n",
    "\n",
    "# files include: 1 mydumper metadata file, \n",
    "#                2 SQL files for each table in the database ( a schema & a data file)\n",
    "#                1 add-index.sql & 1 drop-index.sql file"
   ]
  },
  {
   "cell_type": "markdown",
   "metadata": {},
   "source": [
    "### Install MySQL"
   ]
  },
  {
   "cell_type": "code",
   "execution_count": null,
   "metadata": {},
   "outputs": [],
   "source": [
    "# documentation at https://dev.mysql.com/doc/mysql-getting-started/en/\n"
   ]
  },
  {
   "cell_type": "code",
   "execution_count": null,
   "metadata": {},
   "outputs": [],
   "source": [
    "# According to documentation, we first add the MySQL APT repository to system's software repository list. \n",
    "\n",
    "# Go to the download page for the MySQL APT repository at https://dev.mysql.com/downloads/repo/apt/.\n",
    "\n",
    "# Select and download the release package for your Linux distribution.\n",
    "\n",
    "# Install the downloaded release package with the following command, \n",
    "# replacing version-specific-package-name with the name of the downloaded package \n",
    "# (preceded by its path, if you are not running the command inside the folder where the package is):"
   ]
  },
  {
   "cell_type": "code",
   "execution_count": null,
   "metadata": {},
   "outputs": [],
   "source": [
    "# download\n",
    "# for Ubuntu\n",
    "https://dev.mysql.com/get/mysql-apt-config_0.8.13-1_all.deb"
   ]
  },
  {
   "cell_type": "code",
   "execution_count": null,
   "metadata": {},
   "outputs": [],
   "source": [
    "# This is after, the mysql menu asking about installation, but there is a prior step not documented here\n",
    "Which MySQL product do you wish to configure?                             │ \n",
    " │                                                                           │ \n",
    " │          MySQL Server & Cluster (Currently selected: mysql-8.0)           │ \n",
    " │          MySQL Tools & Connectors (Currently selected: Enabled)           │ \n",
    " │          MySQL Preview Packages (Currently selected: Disabled)            │ \n",
    " │          Ok"
   ]
  },
  {
   "cell_type": "code",
   "execution_count": null,
   "metadata": {},
   "outputs": [],
   "source": [
    "┌─────────────────────┤ Configuring mysql-apt-config ├──────────────────────┐\n",
    " │ This configuration program has determined that no MySQL Server is         │ \n",
    " │ configured on your system, and has highlighted the most appropriate       │ \n",
    " │ repository package. If you are not sure which version to install, do not  │ \n",
    " │ change the auto-selected version. Advanced users can always change the    │ \n",
    " │ version as needed later. Note that MySQL Cluster also contains MySQL      │ \n",
    " │ Server.                                                                   │ \n",
    " │                                                                           │ \n",
    " │ Which server version do you wish to receive?                              │ \n",
    " │                                                                           │ \n",
    " │                            mysql-5.7                                      │ \n",
    " │                            mysql-8.0                                      │ \n",
    " │                            mysql-cluster-7.5                              │ \n",
    " │                            mysql-cluster-7.6                              │ \n",
    " │                            mysql-cluster-8.0                              │ \n",
    " │                            None"
   ]
  },
  {
   "cell_type": "code",
   "execution_count": null,
   "metadata": {},
   "outputs": [],
   "source": [
    "Configuring mysql-apt-config ├──────────────────────┐\n",
    " │ MySQL APT Repo features MySQL Server along with a variety of MySQL        │ \n",
    " │ components. You may select the appropriate product to choose the version  │ \n",
    " │ that you wish to receive.                                                 │ \n",
    " │                                                                           │ \n",
    " │ Once you are satisfied with the configuration then select last option     │ \n",
    " │ 'Ok' to save the configuration, then run 'apt-get update' to load         │ \n",
    " │ package list. Advanced users can always change the configurations later,  │ \n",
    " │ depending on their own needs.                                             │ \n",
    " │                                                                           │ \n",
    " │ Which MySQL product do you wish to configure?                             │ \n",
    " │                                                                           │ \n",
    " │          MySQL Server & Cluster (Currently selected: mysql-8.0)           │ \n",
    " │          MySQL Tools & Connectors (Currently selected: Enabled)           │ \n",
    " │          MySQL Preview Packages (Currently selected: Disabled)            │ \n",
    " │          Ok                      "
   ]
  },
  {
   "cell_type": "code",
   "execution_count": null,
   "metadata": {},
   "outputs": [],
   "source": []
  },
  {
   "cell_type": "code",
   "execution_count": null,
   "metadata": {},
   "outputs": [],
   "source": []
  },
  {
   "cell_type": "code",
   "execution_count": null,
   "metadata": {},
   "outputs": [],
   "source": [
    "# Asked to set password\n",
    "Configuring mysql-community-server ├───────────────────┐\n",
    " │                                                                           │ \n",
    " │ MySQL 8 uses a new authentication based on improved SHA256-based            \n",
    " │ password methods. It is recommended that all new MySQL Server               \n",
    " │ installations use this method going forward. This new authentication        \n",
    " │ plugin requires new versions of connectors and clients, with support for    \n",
    " │ this new authentication method (caching_sha2_password). Currently MySQL     \n",
    " │ 8 Connectors and community drivers built with libmysqlclient21 support      \n",
    " │ this new method. Clients built with older versions of libmysqlclient may    \n",
    " │ not be able to connect to the new server.                                   \n",
    " │                                                                             \n",
    " │ To retain compatibility with older client software, the default             \n",
    " │ authentication plugin can be set to the legacy value                        \n",
    " │ (mysql_native_password) This should only be done if required third-party    \n",
    " │ software has not been updated to work with the new authentication           \n",
    " │ method. The change will be written to the file                              \n",
    " │                                                                             \n",
    " │                                  <Ok>    "
   ]
  },
  {
   "cell_type": "code",
   "execution_count": null,
   "metadata": {},
   "outputs": [],
   "source": [
    "Configuring mysql-community-server ├───────────────────┐\n",
    " │ Select default authentication plugin                                       │\n",
    " │                                                                            │\n",
    " │     Use Strong Password Encryption (RECOMMENDED)                           │\n",
    " │     Use Legacy Authentication Method (Retain MySQL 5.x Compatibility)      │\n",
    " │                                                                            │\n",
    " │                                                                            │\n",
    " │                                   <Ok>          "
   ]
  },
  {
   "cell_type": "code",
   "execution_count": null,
   "metadata": {},
   "outputs": [],
   "source": [
    "# Add user accounts\n",
    "# 6.2.8 Adding Accounts, Assigning Privileges, and Dropping Accounts"
   ]
  },
  {
   "cell_type": "code",
   "execution_count": null,
   "metadata": {},
   "outputs": [],
   "source": [
    "!sudo service mysql status"
   ]
  },
  {
   "cell_type": "markdown",
   "metadata": {},
   "source": [
    "### Build MySQL database\n",
    "Per the recommendation in the README.md, we will build the database using the mydumper\n",
    "tool, which accelerates the build process through multi-threading"
   ]
  },
  {
   "cell_type": "markdown",
   "metadata": {},
   "source": [
    "#### Install mydumper module"
   ]
  },
  {
   "cell_type": "code",
   "execution_count": null,
   "metadata": {},
   "outputs": [],
   "source": [
    "# the mydumper/myloader module is available here: https://github.com/maxbube/mydumper"
   ]
  },
  {
   "cell_type": "code",
   "execution_count": null,
   "metadata": {},
   "outputs": [],
   "source": [
    "# download my dumper from https://github.com/maxbube/mydumper\n",
    "# if on linux:\n",
    "# check version\n",
    "! wget https://github.com/maxbube/mydumper/releases/download/v0.9.5/mydumper_0.9.5-1.xenial_amd64.deb"
   ]
  },
  {
   "cell_type": "code",
   "execution_count": null,
   "metadata": {},
   "outputs": [],
   "source": [
    "# install using apt\n",
    "! sudo apt install mydumper"
   ]
  },
  {
   "cell_type": "markdown",
   "metadata": {},
   "source": [
    "#### Install tmux"
   ]
  },
  {
   "cell_type": "code",
   "execution_count": null,
   "metadata": {},
   "outputs": [],
   "source": [
    "# we install tmux, a tool that will allow mydumper to run processes in a terminal session\n",
    "# in the background, even if we end ssh session\n",
    "# for more info, see https://github.com/tmux/tmux/wiki"
   ]
  },
  {
   "cell_type": "code",
   "execution_count": null,
   "metadata": {},
   "outputs": [],
   "source": [
    "# install tmux\n",
    "sudo apt-get install tmux"
   ]
  },
  {
   "cell_type": "code",
   "execution_count": null,
   "metadata": {},
   "outputs": [],
   "source": [
    "# initiate tmux session in which we run mydumper\n",
    "tmux"
   ]
  },
  {
   "cell_type": "markdown",
   "metadata": {},
   "source": [
    "#### Restore database"
   ]
  },
  {
   "cell_type": "code",
   "execution_count": null,
   "metadata": {},
   "outputs": [],
   "source": [
    "## Steps in restoring\n",
    "### Option 1 (recommended)\n",
    "* Use myloader command (from mydumper) command with this directory path as input (`myloader --help` has other flags that can be used)\n",
    "        EG:`myloader -d /path/to/export/  -s PatentsView_20190312 -v 3 -t {no of parallel threads} -h {hostname} -u {username} -a`"
   ]
  },
  {
   "cell_type": "code",
   "execution_count": null,
   "metadata": {},
   "outputs": [],
   "source": [
    "myloader -d /path/to/export/  -s PatentsView_20190312 -v 3 -t 4 -h ip-172-31-8-196 -u ubunt -a"
   ]
  },
  {
   "cell_type": "code",
   "execution_count": null,
   "metadata": {},
   "outputs": [],
   "source": [
    "dpkg mydumper-0.9.5-2.el6.x86_64.rpm"
   ]
  },
  {
   "cell_type": "code",
   "execution_count": null,
   "metadata": {},
   "outputs": [],
   "source": [
    "# install development versions of required libaries (MySQL, GLib, ZLib, PCRE): \n",
    "4\n",
    "# for Ubuntu or Debian: \n",
    "!apt-get install libglib2.0-dev libmysqlclient15-dev zlib1g-dev libpcre3-dev libssl-dev"
   ]
  },
  {
   "cell_type": "code",
   "execution_count": null,
   "metadata": {},
   "outputs": [],
   "source": [
    "(base) ubuntu@ip-172-31-8-196:~$ apt-get install libglib2.0-dev libmysqlclient15-dev zlib1g-dev libpcre3-dev libssl-dev\n",
    "E: Could not open lock file /var/lib/dpkg/lock-frontend - open (13: Permission denied)\n",
    "E: Unable to acquire the dpkg frontend lock (/var/lib/dpkg/lock-frontend), are you root?\n",
    "(base) ubuntu@ip-172-31-8-196:~$ sudo apt-get install libglib2.0-dev libmysqlclient15-dev zlib1g-dev libpcre3-dev libssl-dev"
   ]
  },
  {
   "cell_type": "code",
   "execution_count": null,
   "metadata": {},
   "outputs": [],
   "source": []
  }
 ],
 "metadata": {
  "kernelspec": {
   "display_name": "Python 3",
   "language": "python",
   "name": "python3"
  },
  "language_info": {
   "codemirror_mode": {
    "name": "ipython",
    "version": 3
   },
   "file_extension": ".py",
   "mimetype": "text/x-python",
   "name": "python",
   "nbconvert_exporter": "python",
   "pygments_lexer": "ipython3",
   "version": "3.6.5"
  }
 },
 "nbformat": 4,
 "nbformat_minor": 2
}
